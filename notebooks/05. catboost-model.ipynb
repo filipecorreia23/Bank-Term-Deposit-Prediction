{
 "cells": [
  {
   "cell_type": "markdown",
   "id": "2606cde3-2a1f-41cb-9b38-db2d15c1754f",
   "metadata": {},
   "source": [
    "# Dependencies loading"
   ]
  },
  {
   "cell_type": "code",
   "execution_count": 1,
   "id": "3e6b3b9e-aca8-45f8-9225-fa354ae5537b",
   "metadata": {},
   "outputs": [],
   "source": [
    "import numpy as np\n",
    "import pandas as pd\n",
    "import matplotlib.pyplot as plt\n",
    "import seaborn as sns\n",
    "\n",
    "import numpy\n",
    "import numba\n",
    "from catboost import CatBoostClassifier, cv, Pool\n",
    "import optuna\n",
    "from sklearn.model_selection import RandomizedSearchCV, cross_val_score\n",
    "from sklearn.metrics import (accuracy_score, classification_report, confusion_matrix, \n",
    "                             roc_auc_score, roc_curve)\n",
    "\n",
    "import warnings\n",
    "warnings.filterwarnings('ignore')  # Suppress warning"
   ]
  },
  {
   "cell_type": "markdown",
   "id": "68878a85-e01b-4b6e-b73f-450e66fa624f",
   "metadata": {},
   "source": [
    "# Data loading"
   ]
  },
  {
   "cell_type": "code",
   "execution_count": 4,
   "id": "edc2b184-012b-4462-b377-73f533a7f291",
   "metadata": {},
   "outputs": [
    {
     "name": "stdout",
     "output_type": "stream",
     "text": [
      "(34554, 13) (8639, 13)\n",
      "(34554, 1) (8639, 1)\n"
     ]
    }
   ],
   "source": [
    "base_url = \"https://raw.githubusercontent.com/filipecorreia23/Bank-Term-Deposit-Prediction/main/output\"\n",
    "\n",
    "# importing datasets\n",
    "X_train = pd.read_csv(f\"{base_url}/X_train.csv\")\n",
    "X_test = pd.read_csv(f\"{base_url}/X_test.csv\")\n",
    "y_train = pd.read_csv(f\"{base_url}/y_train.csv\")\n",
    "y_test = pd.read_csv(f\"{base_url}/y_test.csv\")\n",
    "\n",
    "print(X_train.shape, X_test.shape)\n",
    "print(y_train.shape,y_test.shape)"
   ]
  },
  {
   "cell_type": "markdown",
   "id": "aa01e8ef-2b24-42b0-b426-f98f0ae9d4e1",
   "metadata": {},
   "source": [
    "# Model"
   ]
  },
  {
   "cell_type": "code",
   "execution_count": 7,
   "id": "ac9c7a86-53b0-42ca-975e-6f0eb36467a8",
   "metadata": {
    "scrolled": true
   },
   "outputs": [
    {
     "name": "stdout",
     "output_type": "stream",
     "text": [
      "Learning rate set to 0.04676\n",
      "0:\tlearn: 0.6430999\ttotal: 76.5ms\tremaining: 1m 16s\n",
      "10:\tlearn: 0.3580917\ttotal: 174ms\tremaining: 15.7s\n",
      "20:\tlearn: 0.2601439\ttotal: 272ms\tremaining: 12.7s\n",
      "30:\tlearn: 0.2268288\ttotal: 366ms\tremaining: 11.4s\n",
      "40:\tlearn: 0.2133716\ttotal: 469ms\tremaining: 11s\n",
      "50:\tlearn: 0.2065318\ttotal: 574ms\tremaining: 10.7s\n",
      "60:\tlearn: 0.2013623\ttotal: 687ms\tremaining: 10.6s\n",
      "70:\tlearn: 0.1987774\ttotal: 797ms\tremaining: 10.4s\n",
      "80:\tlearn: 0.1965978\ttotal: 894ms\tremaining: 10.1s\n",
      "90:\tlearn: 0.1945283\ttotal: 1s\tremaining: 10s\n",
      "100:\tlearn: 0.1930551\ttotal: 1.11s\tremaining: 9.85s\n",
      "110:\tlearn: 0.1920354\ttotal: 1.2s\tremaining: 9.65s\n",
      "120:\tlearn: 0.1911053\ttotal: 1.3s\tremaining: 9.46s\n",
      "130:\tlearn: 0.1901072\ttotal: 1.4s\tremaining: 9.27s\n",
      "140:\tlearn: 0.1895232\ttotal: 1.49s\tremaining: 9.07s\n",
      "150:\tlearn: 0.1887211\ttotal: 1.6s\tremaining: 9.02s\n",
      "160:\tlearn: 0.1881916\ttotal: 1.71s\tremaining: 8.91s\n",
      "170:\tlearn: 0.1873589\ttotal: 1.81s\tremaining: 8.8s\n",
      "180:\tlearn: 0.1870145\ttotal: 1.94s\tremaining: 8.78s\n",
      "190:\tlearn: 0.1864932\ttotal: 2.05s\tremaining: 8.69s\n",
      "200:\tlearn: 0.1856953\ttotal: 2.15s\tremaining: 8.56s\n",
      "210:\tlearn: 0.1851710\ttotal: 2.26s\tremaining: 8.45s\n",
      "220:\tlearn: 0.1847138\ttotal: 2.37s\tremaining: 8.37s\n",
      "230:\tlearn: 0.1840564\ttotal: 2.5s\tremaining: 8.32s\n",
      "240:\tlearn: 0.1835401\ttotal: 2.62s\tremaining: 8.23s\n",
      "250:\tlearn: 0.1831671\ttotal: 2.72s\tremaining: 8.13s\n",
      "260:\tlearn: 0.1826162\ttotal: 2.84s\tremaining: 8.04s\n",
      "270:\tlearn: 0.1819597\ttotal: 2.94s\tremaining: 7.92s\n",
      "280:\tlearn: 0.1815324\ttotal: 3.05s\tremaining: 7.81s\n",
      "290:\tlearn: 0.1809887\ttotal: 3.15s\tremaining: 7.68s\n",
      "300:\tlearn: 0.1807068\ttotal: 3.25s\tremaining: 7.54s\n",
      "310:\tlearn: 0.1802680\ttotal: 3.35s\tremaining: 7.42s\n",
      "320:\tlearn: 0.1797376\ttotal: 3.46s\tremaining: 7.31s\n",
      "330:\tlearn: 0.1791725\ttotal: 3.55s\tremaining: 7.18s\n",
      "340:\tlearn: 0.1787071\ttotal: 3.65s\tremaining: 7.06s\n",
      "350:\tlearn: 0.1783216\ttotal: 3.77s\tremaining: 6.96s\n",
      "360:\tlearn: 0.1778733\ttotal: 3.87s\tremaining: 6.84s\n",
      "370:\tlearn: 0.1775389\ttotal: 3.97s\tremaining: 6.73s\n",
      "380:\tlearn: 0.1770361\ttotal: 4.08s\tremaining: 6.63s\n",
      "390:\tlearn: 0.1766196\ttotal: 4.19s\tremaining: 6.52s\n",
      "400:\tlearn: 0.1762840\ttotal: 4.3s\tremaining: 6.42s\n",
      "410:\tlearn: 0.1759012\ttotal: 4.42s\tremaining: 6.33s\n",
      "420:\tlearn: 0.1754290\ttotal: 4.53s\tremaining: 6.22s\n",
      "430:\tlearn: 0.1750249\ttotal: 4.63s\tremaining: 6.11s\n",
      "440:\tlearn: 0.1744996\ttotal: 4.73s\tremaining: 6s\n",
      "450:\tlearn: 0.1740864\ttotal: 4.84s\tremaining: 5.89s\n",
      "460:\tlearn: 0.1736618\ttotal: 4.94s\tremaining: 5.77s\n",
      "470:\tlearn: 0.1733738\ttotal: 5.05s\tremaining: 5.67s\n",
      "480:\tlearn: 0.1730586\ttotal: 5.18s\tremaining: 5.58s\n",
      "490:\tlearn: 0.1726714\ttotal: 5.29s\tremaining: 5.49s\n",
      "500:\tlearn: 0.1722883\ttotal: 5.41s\tremaining: 5.39s\n",
      "510:\tlearn: 0.1718821\ttotal: 5.52s\tremaining: 5.28s\n",
      "520:\tlearn: 0.1714731\ttotal: 5.63s\tremaining: 5.17s\n",
      "530:\tlearn: 0.1711318\ttotal: 5.73s\tremaining: 5.06s\n",
      "540:\tlearn: 0.1707603\ttotal: 5.84s\tremaining: 4.96s\n",
      "550:\tlearn: 0.1703499\ttotal: 5.95s\tremaining: 4.85s\n",
      "560:\tlearn: 0.1699773\ttotal: 6.06s\tremaining: 4.74s\n",
      "570:\tlearn: 0.1695812\ttotal: 6.16s\tremaining: 4.63s\n",
      "580:\tlearn: 0.1692505\ttotal: 6.26s\tremaining: 4.52s\n",
      "590:\tlearn: 0.1689222\ttotal: 6.38s\tremaining: 4.41s\n",
      "600:\tlearn: 0.1684904\ttotal: 6.5s\tremaining: 4.32s\n",
      "610:\tlearn: 0.1681784\ttotal: 6.62s\tremaining: 4.21s\n",
      "620:\tlearn: 0.1678511\ttotal: 6.74s\tremaining: 4.11s\n",
      "630:\tlearn: 0.1675017\ttotal: 6.86s\tremaining: 4.01s\n",
      "640:\tlearn: 0.1672007\ttotal: 6.97s\tremaining: 3.9s\n",
      "650:\tlearn: 0.1668309\ttotal: 7.09s\tremaining: 3.8s\n",
      "660:\tlearn: 0.1664066\ttotal: 7.21s\tremaining: 3.7s\n",
      "670:\tlearn: 0.1660656\ttotal: 7.32s\tremaining: 3.59s\n",
      "680:\tlearn: 0.1657596\ttotal: 7.44s\tremaining: 3.48s\n",
      "690:\tlearn: 0.1654652\ttotal: 7.55s\tremaining: 3.37s\n",
      "700:\tlearn: 0.1652514\ttotal: 7.65s\tremaining: 3.26s\n",
      "710:\tlearn: 0.1648807\ttotal: 7.75s\tremaining: 3.15s\n",
      "720:\tlearn: 0.1645720\ttotal: 7.86s\tremaining: 3.04s\n",
      "730:\tlearn: 0.1642974\ttotal: 7.97s\tremaining: 2.93s\n",
      "740:\tlearn: 0.1639656\ttotal: 8.08s\tremaining: 2.82s\n",
      "750:\tlearn: 0.1635427\ttotal: 8.19s\tremaining: 2.71s\n",
      "760:\tlearn: 0.1632611\ttotal: 8.29s\tremaining: 2.6s\n",
      "770:\tlearn: 0.1628184\ttotal: 8.4s\tremaining: 2.49s\n",
      "780:\tlearn: 0.1626037\ttotal: 8.51s\tremaining: 2.39s\n",
      "790:\tlearn: 0.1622828\ttotal: 8.62s\tremaining: 2.28s\n",
      "800:\tlearn: 0.1619342\ttotal: 8.73s\tremaining: 2.17s\n",
      "810:\tlearn: 0.1617275\ttotal: 8.85s\tremaining: 2.06s\n",
      "820:\tlearn: 0.1613560\ttotal: 8.96s\tremaining: 1.95s\n",
      "830:\tlearn: 0.1611241\ttotal: 9.07s\tremaining: 1.84s\n",
      "840:\tlearn: 0.1608558\ttotal: 9.18s\tremaining: 1.74s\n",
      "850:\tlearn: 0.1605675\ttotal: 9.28s\tremaining: 1.63s\n",
      "860:\tlearn: 0.1603147\ttotal: 9.39s\tremaining: 1.51s\n",
      "870:\tlearn: 0.1600326\ttotal: 9.49s\tremaining: 1.41s\n",
      "880:\tlearn: 0.1596853\ttotal: 9.6s\tremaining: 1.3s\n",
      "890:\tlearn: 0.1594621\ttotal: 9.71s\tremaining: 1.19s\n",
      "900:\tlearn: 0.1591369\ttotal: 9.84s\tremaining: 1.08s\n",
      "910:\tlearn: 0.1588594\ttotal: 9.96s\tremaining: 973ms\n",
      "920:\tlearn: 0.1583659\ttotal: 10.1s\tremaining: 864ms\n",
      "930:\tlearn: 0.1581029\ttotal: 10.2s\tremaining: 756ms\n",
      "940:\tlearn: 0.1578331\ttotal: 10.3s\tremaining: 647ms\n",
      "950:\tlearn: 0.1576433\ttotal: 10.4s\tremaining: 537ms\n",
      "960:\tlearn: 0.1574515\ttotal: 10.6s\tremaining: 428ms\n",
      "970:\tlearn: 0.1570481\ttotal: 10.7s\tremaining: 319ms\n",
      "980:\tlearn: 0.1567418\ttotal: 10.8s\tremaining: 209ms\n",
      "990:\tlearn: 0.1564270\ttotal: 10.9s\tremaining: 99.1ms\n",
      "999:\tlearn: 0.1561155\ttotal: 11s\tremaining: 0us\n"
     ]
    },
    {
     "data": {
      "text/plain": [
       "<catboost.core.CatBoostClassifier at 0x17ef4d950>"
      ]
     },
     "execution_count": 7,
     "metadata": {},
     "output_type": "execute_result"
    }
   ],
   "source": [
    "category_cols = ['job', 'marital', 'education', 'contact', 'contact_date', 'poutcome']\n",
    "\n",
    "# initialize the model\n",
    "cat_model = CatBoostClassifier()\n",
    "\n",
    "# fit the model\n",
    "cat_model.fit(X_train, y_train,cat_features=category_cols, verbose=10)"
   ]
  },
  {
   "cell_type": "code",
   "execution_count": 9,
   "id": "5cf52c73-a1f1-45b8-bc3f-b978c5a82d1b",
   "metadata": {},
   "outputs": [],
   "source": [
    "# and make predictions\n",
    "y_pred = cat_model.predict(X_test)"
   ]
  },
  {
   "cell_type": "markdown",
   "id": "a8e5db56-0add-42bd-9c5c-187ce03d112d",
   "metadata": {},
   "source": [
    "## Model Evaluation"
   ]
  },
  {
   "cell_type": "markdown",
   "id": "6077e2b1-3fef-46ca-b037-39f4370f5a64",
   "metadata": {},
   "source": [
    "### Accuracy:"
   ]
  },
  {
   "cell_type": "code",
   "execution_count": 13,
   "id": "ae5b9e31-7493-429f-bb98-809960c7ce58",
   "metadata": {},
   "outputs": [
    {
     "data": {
      "text/plain": [
       "0.9106378053015395"
      ]
     },
     "execution_count": 13,
     "metadata": {},
     "output_type": "execute_result"
    }
   ],
   "source": [
    "# lets start with accuracy\n",
    "xgb_accuracy = accuracy_score(y_test, y_pred)\n",
    "xgb_accuracy"
   ]
  },
  {
   "cell_type": "markdown",
   "id": "33d5cbc5-48fb-4b68-9e52-bfa6c5e49e0f",
   "metadata": {},
   "source": [
    "The model did well with 91% accuracy, which is a great start. Next, we should look at other things like precision and recall, especially for the smaller class, to make sure it handles imbalances properly."
   ]
  },
  {
   "cell_type": "markdown",
   "id": "d4c760c3-ea9a-455f-a440-76835d1c89f4",
   "metadata": {},
   "source": [
    "### Classification Report:"
   ]
  },
  {
   "cell_type": "code",
   "execution_count": 17,
   "id": "59179c0b-3e29-486f-a34e-b9de63068018",
   "metadata": {},
   "outputs": [
    {
     "name": "stdout",
     "output_type": "stream",
     "text": [
      "              precision    recall  f1-score   support\n",
      "\n",
      "          No       0.94      0.97      0.95      7635\n",
      "         Yes       0.65      0.50      0.56      1004\n",
      "\n",
      "    accuracy                           0.91      8639\n",
      "   macro avg       0.79      0.73      0.76      8639\n",
      "weighted avg       0.90      0.91      0.91      8639\n",
      "\n"
     ]
    }
   ],
   "source": [
    "# prediction probabilities\n",
    "y_test_proba = cat_model.predict_proba(X_test)[:, 1]\n",
    "\n",
    "# classification report\n",
    "report = classification_report(y_test, y_pred, target_names=[\"No\", \"Yes\"])\n",
    "print(report)"
   ]
  },
  {
   "cell_type": "markdown",
   "id": "86ae8e01-50de-47b6-883e-55ead0351a56",
   "metadata": {},
   "source": [
    "The model performs strongly for non-subscribers (class 0), achieving high precision and recall. While it struggles with identifying subscribers (class 1), showing lower recall and F1-score, it still outperformed other models for the smaller class. Despite an overall accuracy of 91%, there’s room to further improve class 1 predictions for better balance."
   ]
  },
  {
   "cell_type": "markdown",
   "id": "a33f2e96-0705-411a-a350-600e56d22d67",
   "metadata": {},
   "source": [
    "### ROC AUC score:"
   ]
  },
  {
   "cell_type": "code",
   "execution_count": 21,
   "id": "cb960c31-ae06-46a8-a57a-41ce72658758",
   "metadata": {},
   "outputs": [
    {
     "name": "stdout",
     "output_type": "stream",
     "text": [
      "Test AUC: 0.9367\n"
     ]
    }
   ],
   "source": [
    "auc_score = roc_auc_score(y_test, y_test_proba)\n",
    "print(f\"Test AUC: {auc_score:.4f}\")"
   ]
  },
  {
   "cell_type": "markdown",
   "id": "1b93ee96-ccb0-479b-ad27-37c0da5b9ac1",
   "metadata": {},
   "source": [
    "The Test AUC score of 0.9367 shows that the model performs better than the other models in distinguishing between classes. While the other models also performed very well, this one demonstrated an even stronger ability to correctly rank positive and negative instances, reflecting outstanding overall performance."
   ]
  },
  {
   "cell_type": "markdown",
   "id": "ceeb9ff4-2f0b-4869-a0ff-2580cfe49916",
   "metadata": {},
   "source": [
    "### Consusion Matrix:"
   ]
  },
  {
   "cell_type": "code",
   "execution_count": 25,
   "id": "d7e98bd0-8f6c-4140-8494-f9b3d59d5f7e",
   "metadata": {},
   "outputs": [
    {
     "data": {
      "image/png": "[encoded data removed]",
      "text/plain": [
       "<Figure size 800x600 with 2 Axes>"
      ]
     },
     "metadata": {},
     "output_type": "display_data"
    }
   ],
   "source": [
    "cm = confusion_matrix(y_test, y_pred)\n",
    "\n",
    "# plot confusion matrix\n",
    "plt.figure(figsize=(8, 6))\n",
    "sns.heatmap(cm, annot=True, fmt='d', cmap='Blues', xticklabels=[\"0\", \"1\"], yticklabels=[\"0\", \"1\"])\n",
    "plt.xlabel('Predicted Labels')\n",
    "plt.ylabel('True Labels')\n",
    "plt.title('Confusion Matrix')\n",
    "plt.show()"
   ]
  },
  {
   "cell_type": "markdown",
   "id": "5bc47f35-4b10-472d-a864-d2f0abf8d120",
   "metadata": {},
   "source": [
    "The confusion matrix once again highlights that the model excels at predicting non-subscribers (class 0) but faces challenges when it comes to accurately identifying subscribers (class 1)."
   ]
  },
  {
   "cell_type": "markdown",
   "id": "b26cc6ee-c7cc-4e1a-9c92-4daad097e618",
   "metadata": {},
   "source": [
    "### ROC curve:"
   ]
  },
  {
   "cell_type": "code",
   "execution_count": 31,
   "id": "ba44a128-fa99-4c64-a16f-55b33ac2367a",
   "metadata": {},
   "outputs": [
    {
     "data": {
      "image/png": "[encoded data removed]",
      "text/plain": [
       "<Figure size 800x600 with 1 Axes>"
      ]
     },
     "metadata": {},
     "output_type": "display_data"
    }
   ],
   "source": [
    "fpr, tpr, _ = roc_curve(y_test, y_test_proba)\n",
    "\n",
    "# plot ROC Curve\n",
    "plt.figure(figsize=(8, 6))\n",
    "plt.plot(fpr, tpr, color='blue', lw=2, label=f'ROC curve (area = {auc_score:.4f})')\n",
    "plt.plot([0, 1], [0, 1], color='grey', lw=2, linestyle='--')\n",
    "plt.xlim([0.0, 1.0])\n",
    "plt.ylim([0.0, 1.05])\n",
    "plt.xlabel('False Positive Rate')\n",
    "plt.ylabel('True Positive Rate')\n",
    "plt.title('Receiver Operating Characteristic')\n",
    "plt.legend(loc=\"lower right\")\n",
    "plt.show()"
   ]
  },
  {
   "cell_type": "markdown",
   "id": "53077e8d-4a14-444e-b779-85bdb53ca528",
   "metadata": {},
   "source": [
    "The ROC curve shows the model performs well overall, with an AUC score of 0.9367, outperforming previous models even before hyperparameter tuning and feature selection, including for subscribers (the smaller class). However, it still struggles to fully capture subscribers due to the imbalance, favoring non-subscribers. Balancing the data or adjusting the learning process could further improve its performance."
   ]
  },
  {
   "cell_type": "markdown",
   "id": "8875b625-c10b-4612-8d19-7a367a925a73",
   "metadata": {},
   "source": [
    "## Hyperparameter tunning"
   ]
  },
  {
   "cell_type": "code",
   "execution_count": null,
   "id": "cc6f776a-6d2a-4468-a02f-d585aa3264c6",
   "metadata": {},
   "outputs": [],
   "source": []
  },
  {
   "cell_type": "code",
   "execution_count": 40,
   "id": "fbc339a4-7e15-4627-9b90-b45fa740a4fa",
   "metadata": {
    "scrolled": true
   },
   "outputs": [
    {
     "name": "stderr",
     "output_type": "stream",
     "text": [
      "[I 2025-01-01 20:50:00,603] A new study created in memory with name: no-name-6342257c-19ac-4c35-9b29-fb3216fe683f\n"
     ]
    },
    {
     "name": "stdout",
     "output_type": "stream",
     "text": [
      "0:\tlearn: 0.6449061\ttotal: 15.1ms\tremaining: 14.7s\n",
      "100:\tlearn: 0.7641612\ttotal: 933ms\tremaining: 8.11s\n",
      "200:\tlearn: 0.7812470\ttotal: 1.81s\tremaining: 7.01s\n",
      "300:\tlearn: 0.7937912\ttotal: 2.72s\tremaining: 6.12s\n",
      "400:\tlearn: 0.8041187\ttotal: 3.65s\tremaining: 5.25s\n",
      "500:\tlearn: 0.8136538\ttotal: 4.59s\tremaining: 4.38s\n",
      "600:\tlearn: 0.8199847\ttotal: 5.52s\tremaining: 3.47s\n",
      "700:\tlearn: 0.8290343\ttotal: 6.45s\tremaining: 2.56s\n",
      "800:\tlearn: 0.8360637\ttotal: 7.45s\tremaining: 1.65s\n",
      "900:\tlearn: 0.8428231\ttotal: 8.36s\tremaining: 724ms\n"
     ]
    },
    {
     "name": "stderr",
     "output_type": "stream",
     "text": [
      "[I 2025-01-01 20:50:09,896] Trial 0 finished with value: 0.84744438896316 and parameters: {'iterations': 979, 'learning_rate': 0.04605947516388781, 'depth': 7, 'subsample': 0.2473869844723251, 'colsample_bylevel': 0.5651149349871035, 'min_data_in_leaf': 310, 'scale_pos_weight': 2.6682891661394983}. Best is trial 0 with value: 0.84744438896316.\n"
     ]
    },
    {
     "name": "stdout",
     "output_type": "stream",
     "text": [
      "978:\tlearn: 0.8474444\ttotal: 9.09s\tremaining: 0us\n",
      "0:\tlearn: 0.7458052\ttotal: 7.28ms\tremaining: 6.97s\n",
      "100:\tlearn: 0.8379328\ttotal: 587ms\tremaining: 4.99s\n",
      "200:\tlearn: 0.8467999\ttotal: 1.18s\tremaining: 4.43s\n",
      "300:\tlearn: 0.8492083\ttotal: 1.78s\tremaining: 3.89s\n",
      "400:\tlearn: 0.8505795\ttotal: 2.38s\tremaining: 3.31s\n",
      "500:\tlearn: 0.8528964\ttotal: 2.98s\tremaining: 2.73s\n",
      "600:\tlearn: 0.8548937\ttotal: 3.57s\tremaining: 2.13s\n",
      "700:\tlearn: 0.8555071\ttotal: 4.2s\tremaining: 1.54s\n",
      "800:\tlearn: 0.8567762\ttotal: 4.86s\tremaining: 959ms\n",
      "900:\tlearn: 0.8582302\ttotal: 5.48s\tremaining: 353ms\n"
     ]
    },
    {
     "name": "stderr",
     "output_type": "stream",
     "text": [
      "[I 2025-01-01 20:50:15,811] Trial 1 finished with value: 0.8594122548342371 and parameters: {'iterations': 959, 'learning_rate': 0.012472914015936878, 'depth': 4, 'subsample': 0.34418028257645367, 'colsample_bylevel': 0.6607538984974978, 'min_data_in_leaf': 312, 'scale_pos_weight': 6.401307303001361}. Best is trial 1 with value: 0.8594122548342371.\n"
     ]
    },
    {
     "name": "stdout",
     "output_type": "stream",
     "text": [
      "958:\tlearn: 0.8594123\ttotal: 5.84s\tremaining: 0us\n",
      "0:\tlearn: 0.8555479\ttotal: 13.1ms\tremaining: 13.6s\n",
      "100:\tlearn: 0.9032574\ttotal: 1.08s\tremaining: 10s\n",
      "200:\tlearn: 0.9125129\ttotal: 2.21s\tremaining: 9.21s\n",
      "300:\tlearn: 0.9199195\ttotal: 3.37s\tremaining: 8.25s\n",
      "400:\tlearn: 0.9264796\ttotal: 4.56s\tremaining: 7.23s\n",
      "500:\tlearn: 0.9313333\ttotal: 5.74s\tremaining: 6.14s\n",
      "600:\tlearn: 0.9355312\ttotal: 6.9s\tremaining: 5s\n",
      "700:\tlearn: 0.9416660\ttotal: 8.1s\tremaining: 3.88s\n",
      "800:\tlearn: 0.9455587\ttotal: 9.26s\tremaining: 2.73s\n",
      "900:\tlearn: 0.9496084\ttotal: 10.4s\tremaining: 1.58s\n",
      "1000:\tlearn: 0.9540140\ttotal: 11.6s\tremaining: 418ms\n"
     ]
    },
    {
     "name": "stderr",
     "output_type": "stream",
     "text": [
      "[I 2025-01-01 20:50:27,990] Trial 2 finished with value: 0.9554858347128373 and parameters: {'iterations': 1037, 'learning_rate': 0.09067553508664124, 'depth': 8, 'subsample': 0.11909291904081973, 'colsample_bylevel': 0.6520131221271147, 'min_data_in_leaf': 443, 'scale_pos_weight': 9.41164117712672}. Best is trial 2 with value: 0.9554858347128373.\n"
     ]
    },
    {
     "name": "stdout",
     "output_type": "stream",
     "text": [
      "1036:\tlearn: 0.9554858\ttotal: 12s\tremaining: 0us\n",
      "0:\tlearn: 0.8311327\ttotal: 5.44ms\tremaining: 5.83s\n",
      "100:\tlearn: 0.8742115\ttotal: 428ms\tremaining: 4.12s\n",
      "200:\tlearn: 0.8800487\ttotal: 871ms\tremaining: 3.78s\n",
      "300:\tlearn: 0.8839006\ttotal: 1.33s\tremaining: 3.4s\n",
      "400:\tlearn: 0.8856953\ttotal: 1.77s\tremaining: 2.96s\n",
      "500:\tlearn: 0.8880430\ttotal: 2.22s\tremaining: 2.53s\n",
      "600:\tlearn: 0.8898674\ttotal: 2.68s\tremaining: 2.1s\n",
      "700:\tlearn: 0.8910267\ttotal: 3.17s\tremaining: 1.68s\n",
      "800:\tlearn: 0.8918075\ttotal: 3.62s\tremaining: 1.23s\n",
      "900:\tlearn: 0.8922086\ttotal: 4.08s\tremaining: 779ms\n",
      "1000:\tlearn: 0.8931688\ttotal: 4.54s\tremaining: 326ms\n"
     ]
    },
    {
     "name": "stderr",
     "output_type": "stream",
     "text": [
      "[I 2025-01-01 20:50:32,914] Trial 3 finished with value: 0.8934853526257382 and parameters: {'iterations': 1073, 'learning_rate': 0.08843172375345724, 'depth': 3, 'subsample': 0.07459783673756427, 'colsample_bylevel': 0.21297046784281243, 'min_data_in_leaf': 1034, 'scale_pos_weight': 9.00509577366528}. Best is trial 2 with value: 0.9554858347128373.\n"
     ]
    },
    {
     "name": "stdout",
     "output_type": "stream",
     "text": [
      "1072:\tlearn: 0.8932049\ttotal: 4.85s\tremaining: 0us\n",
      "0:\tlearn: 0.3053523\ttotal: 4.77ms\tremaining: 5.21s\n",
      "100:\tlearn: 0.8595258\ttotal: 539ms\tremaining: 5.29s\n",
      "200:\tlearn: 0.8601987\ttotal: 1.08s\tremaining: 4.79s\n",
      "300:\tlearn: 0.8616434\ttotal: 1.61s\tremaining: 4.24s\n",
      "400:\tlearn: 0.8620546\ttotal: 2.15s\tremaining: 3.7s\n",
      "500:\tlearn: 0.8634728\ttotal: 2.69s\tremaining: 3.18s\n",
      "600:\tlearn: 0.8635684\ttotal: 3.24s\tremaining: 2.65s\n",
      "700:\tlearn: 0.8638776\ttotal: 3.79s\tremaining: 2.12s\n",
      "800:\tlearn: 0.8644033\ttotal: 4.32s\tremaining: 1.57s\n",
      "900:\tlearn: 0.8647734\ttotal: 4.88s\tremaining: 1.04s\n",
      "1000:\tlearn: 0.8651236\ttotal: 5.4s\tremaining: 496ms\n"
     ]
    },
    {
     "name": "stderr",
     "output_type": "stream",
     "text": [
      "[I 2025-01-01 20:50:38,859] Trial 4 finished with value: 0.8656590182123493 and parameters: {'iterations': 1093, 'learning_rate': 0.0024357188698497043, 'depth': 5, 'subsample': 0.5280549228465284, 'colsample_bylevel': 0.16032894574451062, 'min_data_in_leaf': 603, 'scale_pos_weight': 8.057068696072783}. Best is trial 2 with value: 0.9554858347128373.\n"
     ]
    },
    {
     "name": "stdout",
     "output_type": "stream",
     "text": [
      "1092:\tlearn: 0.8654819\ttotal: 5.87s\tremaining: 0us\n",
      "0:\tlearn: 0.3047851\ttotal: 5.89ms\tremaining: 5.91s\n",
      "100:\tlearn: 0.8424374\ttotal: 742ms\tremaining: 6.64s\n",
      "200:\tlearn: 0.8453803\ttotal: 1.48s\tremaining: 5.94s\n",
      "300:\tlearn: 0.8466847\ttotal: 2.2s\tremaining: 5.14s\n",
      "400:\tlearn: 0.8476926\ttotal: 2.88s\tremaining: 4.33s\n",
      "500:\tlearn: 0.8498047\ttotal: 3.54s\tremaining: 3.56s\n",
      "600:\tlearn: 0.8508937\ttotal: 4.32s\tremaining: 2.9s\n",
      "700:\tlearn: 0.8517224\ttotal: 5.06s\tremaining: 2.19s\n",
      "800:\tlearn: 0.8520088\ttotal: 5.7s\tremaining: 1.45s\n",
      "900:\tlearn: 0.8522085\ttotal: 6.4s\tremaining: 739ms\n"
     ]
    },
    {
     "name": "stderr",
     "output_type": "stream",
     "text": [
      "[I 2025-01-01 20:50:46,151] Trial 5 finished with value: 0.8527318606717604 and parameters: {'iterations': 1005, 'learning_rate': 0.001141554358061976, 'depth': 8, 'subsample': 0.5366965690039777, 'colsample_bylevel': 0.12034390560940345, 'min_data_in_leaf': 149, 'scale_pos_weight': 6.856169575718536}. Best is trial 2 with value: 0.9554858347128373.\n"
     ]
    },
    {
     "name": "stdout",
     "output_type": "stream",
     "text": [
      "1000:\tlearn: 0.8525926\ttotal: 7.16s\tremaining: 28.6ms\n",
      "1004:\tlearn: 0.8525776\ttotal: 7.19s\tremaining: 0us\n",
      "0:\tlearn: 0.7740701\ttotal: 8.02ms\tremaining: 8.3s\n",
      "100:\tlearn: 0.8666532\ttotal: 757ms\tremaining: 7.01s\n",
      "200:\tlearn: 0.8682086\ttotal: 1.5s\tremaining: 6.23s\n",
      "300:\tlearn: 0.8704410\ttotal: 2.23s\tremaining: 5.46s\n",
      "400:\tlearn: 0.8715807\ttotal: 3.04s\tremaining: 4.81s\n",
      "500:\tlearn: 0.8732190\ttotal: 3.77s\tremaining: 4.03s\n",
      "600:\tlearn: 0.8743667\ttotal: 4.49s\tremaining: 3.25s\n",
      "700:\tlearn: 0.8748420\ttotal: 5.21s\tremaining: 2.49s\n",
      "800:\tlearn: 0.8746714\ttotal: 5.95s\tremaining: 1.74s\n",
      "900:\tlearn: 0.8758449\ttotal: 6.67s\tremaining: 999ms\n",
      "1000:\tlearn: 0.8762724\ttotal: 7.39s\tremaining: 258ms\n"
     ]
    },
    {
     "name": "stderr",
     "output_type": "stream",
     "text": [
      "[I 2025-01-01 20:50:53,893] Trial 6 finished with value: 0.8769901009878013 and parameters: {'iterations': 1036, 'learning_rate': 0.002264423704879161, 'depth': 5, 'subsample': 0.7015274824500891, 'colsample_bylevel': 0.5562152999190494, 'min_data_in_leaf': 745, 'scale_pos_weight': 8.76281637768193}. Best is trial 2 with value: 0.9554858347128373.\n"
     ]
    },
    {
     "name": "stdout",
     "output_type": "stream",
     "text": [
      "1035:\tlearn: 0.8769537\ttotal: 7.65s\tremaining: 0us\n",
      "0:\tlearn: 0.6547291\ttotal: 9.59ms\tremaining: 10.1s\n",
      "100:\tlearn: 0.7345523\ttotal: 799ms\tremaining: 7.51s\n",
      "200:\tlearn: 0.7406439\ttotal: 1.62s\tremaining: 6.84s\n",
      "300:\tlearn: 0.7479505\ttotal: 2.49s\tremaining: 6.2s\n",
      "400:\tlearn: 0.7534776\ttotal: 3.29s\tremaining: 5.33s\n",
      "500:\tlearn: 0.7568792\ttotal: 4.1s\tremaining: 4.49s\n",
      "600:\tlearn: 0.7610495\ttotal: 4.89s\tremaining: 3.66s\n",
      "700:\tlearn: 0.7632907\ttotal: 5.71s\tremaining: 2.84s\n",
      "800:\tlearn: 0.7644701\ttotal: 6.54s\tremaining: 2.03s\n",
      "900:\tlearn: 0.7667994\ttotal: 7.37s\tremaining: 1.22s\n",
      "1000:\tlearn: 0.7685798\ttotal: 8.19s\tremaining: 401ms\n"
     ]
    },
    {
     "name": "stderr",
     "output_type": "stream",
     "text": [
      "[I 2025-01-01 20:51:02,593] Trial 7 finished with value: 0.7690167421625228 and parameters: {'iterations': 1050, 'learning_rate': 0.0035888799947826687, 'depth': 6, 'subsample': 0.43257920240287134, 'colsample_bylevel': 0.5398148551448464, 'min_data_in_leaf': 28, 'scale_pos_weight': 2.9522691055802355}. Best is trial 2 with value: 0.9554858347128373.\n"
     ]
    },
    {
     "name": "stdout",
     "output_type": "stream",
     "text": [
      "1049:\tlearn: 0.7690167\ttotal: 8.6s\tremaining: 0us\n",
      "0:\tlearn: 0.8115542\ttotal: 8.8ms\tremaining: 9.63s\n",
      "100:\tlearn: 0.8487336\ttotal: 806ms\tremaining: 7.94s\n",
      "200:\tlearn: 0.8548565\ttotal: 1.66s\tremaining: 7.38s\n",
      "300:\tlearn: 0.8626382\ttotal: 2.63s\tremaining: 6.95s\n",
      "400:\tlearn: 0.8688069\ttotal: 3.49s\tremaining: 6.04s\n",
      "500:\tlearn: 0.8718041\ttotal: 4.37s\tremaining: 5.18s\n",
      "600:\tlearn: 0.8746941\ttotal: 5.22s\tremaining: 4.29s\n",
      "700:\tlearn: 0.8763386\ttotal: 6.04s\tremaining: 3.4s\n",
      "800:\tlearn: 0.8785677\ttotal: 6.9s\tremaining: 2.53s\n",
      "900:\tlearn: 0.8797444\ttotal: 7.8s\tremaining: 1.68s\n",
      "1000:\tlearn: 0.8820901\ttotal: 8.61s\tremaining: 809ms\n"
     ]
    },
    {
     "name": "stderr",
     "output_type": "stream",
     "text": [
      "[I 2025-01-01 20:51:12,147] Trial 8 finished with value: 0.8840725031715794 and parameters: {'iterations': 1095, 'learning_rate': 0.043135084475390766, 'depth': 5, 'subsample': 0.6627969843210948, 'colsample_bylevel': 0.7828702625846733, 'min_data_in_leaf': 399, 'scale_pos_weight': 6.041151358307566}. Best is trial 2 with value: 0.9554858347128373.\n"
     ]
    },
    {
     "name": "stdout",
     "output_type": "stream",
     "text": [
      "1094:\tlearn: 0.8839559\ttotal: 9.44s\tremaining: 0us\n",
      "0:\tlearn: 0.7438260\ttotal: 12.1ms\tremaining: 12s\n",
      "100:\tlearn: 0.8666542\ttotal: 821ms\tremaining: 7.25s\n",
      "200:\tlearn: 0.8774346\ttotal: 1.6s\tremaining: 6.33s\n",
      "300:\tlearn: 0.8862468\ttotal: 2.42s\tremaining: 5.58s\n",
      "400:\tlearn: 0.8925472\ttotal: 3.24s\tremaining: 4.78s\n",
      "500:\tlearn: 0.8980712\ttotal: 4.06s\tremaining: 3.98s\n",
      "600:\tlearn: 0.9020685\ttotal: 4.89s\tremaining: 3.19s\n",
      "700:\tlearn: 0.9062921\ttotal: 5.86s\tremaining: 2.44s\n",
      "800:\tlearn: 0.9096631\ttotal: 6.78s\tremaining: 1.63s\n",
      "900:\tlearn: 0.9129842\ttotal: 7.63s\tremaining: 780ms\n"
     ]
    },
    {
     "name": "stderr",
     "output_type": "stream",
     "text": [
      "[I 2025-01-01 20:51:20,714] Trial 9 finished with value: 0.9170770933982239 and parameters: {'iterations': 993, 'learning_rate': 0.06988886676997548, 'depth': 6, 'subsample': 0.4117308023956707, 'colsample_bylevel': 0.49041740755075464, 'min_data_in_leaf': 312, 'scale_pos_weight': 6.895573705900402}. Best is trial 2 with value: 0.9554858347128373.\n"
     ]
    },
    {
     "name": "stdout",
     "output_type": "stream",
     "text": [
      "992:\tlearn: 0.9170771\ttotal: 8.43s\tremaining: 0us\n",
      "0:\tlearn: 0.7541061\ttotal: 16.6ms\tremaining: 15s\n",
      "100:\tlearn: 0.8168186\ttotal: 3.04s\tremaining: 24.2s\n",
      "200:\tlearn: 0.8326261\ttotal: 6.36s\tremaining: 22.2s\n",
      "300:\tlearn: 0.8448804\ttotal: 9.6s\tremaining: 19.2s\n",
      "400:\tlearn: 0.8551728\ttotal: 12.7s\tremaining: 15.8s\n",
      "500:\tlearn: 0.8633799\ttotal: 15.6s\tremaining: 12.5s\n",
      "600:\tlearn: 0.8704773\ttotal: 18.8s\tremaining: 9.4s\n",
      "700:\tlearn: 0.8802405\ttotal: 22.3s\tremaining: 6.39s\n",
      "800:\tlearn: 0.8900350\ttotal: 25.9s\tremaining: 3.27s\n"
     ]
    },
    {
     "name": "stderr",
     "output_type": "stream",
     "text": [
      "[I 2025-01-01 20:51:50,386] Trial 10 finished with value: 0.9002550015722898 and parameters: {'iterations': 902, 'learning_rate': 0.016201991328895726, 'depth': 10, 'subsample': 0.9929195643209154, 'colsample_bylevel': 0.9947566274553193, 'min_data_in_leaf': 829, 'scale_pos_weight': 4.217930696257068}. Best is trial 2 with value: 0.9554858347128373.\n"
     ]
    },
    {
     "name": "stdout",
     "output_type": "stream",
     "text": [
      "900:\tlearn: 0.9002032\ttotal: 29.4s\tremaining: 32.6ms\n",
      "901:\tlearn: 0.9002550\ttotal: 29.5s\tremaining: 0us\n",
      "0:\tlearn: 0.6080426\ttotal: 4.53ms\tremaining: 4.57s\n",
      "100:\tlearn: 0.8732941\ttotal: 345ms\tremaining: 3.1s\n",
      "200:\tlearn: 0.8750510\ttotal: 683ms\tremaining: 2.75s\n",
      "300:\tlearn: 0.8764298\ttotal: 1s\tremaining: 2.37s\n",
      "400:\tlearn: 0.8777023\ttotal: 1.33s\tremaining: 2.03s\n",
      "500:\tlearn: 0.8786817\ttotal: 1.68s\tremaining: 1.71s\n",
      "600:\tlearn: 0.8790032\ttotal: 2s\tremaining: 1.36s\n",
      "700:\tlearn: 0.8800736\ttotal: 2.32s\tremaining: 1.03s\n",
      "800:\tlearn: 0.8794057\ttotal: 2.64s\tremaining: 692ms\n",
      "900:\tlearn: 0.8797165\ttotal: 2.96s\tremaining: 361ms\n"
     ]
    },
    {
     "name": "stderr",
     "output_type": "stream",
     "text": [
      "[I 2025-01-01 20:51:53,772] Trial 11 finished with value: 0.8801766942418668 and parameters: {'iterations': 1011, 'learning_rate': 0.08723635247110234, 'depth': 1, 'subsample': 0.08664989829939201, 'colsample_bylevel': 0.33834790709488693, 'min_data_in_leaf': 461, 'scale_pos_weight': 9.474251750204806}. Best is trial 2 with value: 0.9554858347128373.\n"
     ]
    },
    {
     "name": "stdout",
     "output_type": "stream",
     "text": [
      "1000:\tlearn: 0.8794392\ttotal: 3.29s\tremaining: 32.8ms\n",
      "1010:\tlearn: 0.8797501\ttotal: 3.32s\tremaining: 0us\n",
      "0:\tlearn: 0.8365276\ttotal: 9.41ms\tremaining: 8.9s\n",
      "100:\tlearn: 0.8802958\ttotal: 2.23s\tremaining: 18.7s\n",
      "200:\tlearn: 0.8934414\ttotal: 4.29s\tremaining: 15.9s\n",
      "300:\tlearn: 0.9026650\ttotal: 6.24s\tremaining: 13.4s\n",
      "400:\tlearn: 0.9138639\ttotal: 8.64s\tremaining: 11.8s\n",
      "500:\tlearn: 0.9223799\ttotal: 11.2s\tremaining: 10s\n",
      "600:\tlearn: 0.9308234\ttotal: 13.9s\tremaining: 8s\n",
      "700:\tlearn: 0.9384704\ttotal: 16.5s\tremaining: 5.78s\n",
      "800:\tlearn: 0.9447779\ttotal: 19.2s\tremaining: 3.49s\n",
      "900:\tlearn: 0.9493527\ttotal: 22s\tremaining: 1.12s\n"
     ]
    },
    {
     "name": "stderr",
     "output_type": "stream",
     "text": [
      "[I 2025-01-01 20:52:17,162] Trial 12 finished with value: 0.9519857751807493 and parameters: {'iterations': 947, 'learning_rate': 0.03137095895565932, 'depth': 10, 'subsample': 0.2556693870919864, 'colsample_bylevel': 0.357081943434602, 'min_data_in_leaf': 639, 'scale_pos_weight': 7.572039264839718}. Best is trial 2 with value: 0.9554858347128373.\n"
     ]
    },
    {
     "name": "stdout",
     "output_type": "stream",
     "text": [
      "946:\tlearn: 0.9518539\ttotal: 23.2s\tremaining: 0us\n",
      "0:\tlearn: 0.8430518\ttotal: 17.9ms\tremaining: 16.8s\n",
      "100:\tlearn: 0.8802566\ttotal: 2.23s\tremaining: 18.4s\n",
      "200:\tlearn: 0.8902698\ttotal: 4.33s\tremaining: 15.9s\n",
      "300:\tlearn: 0.8972956\ttotal: 6.3s\tremaining: 13.3s\n",
      "400:\tlearn: 0.9063365\ttotal: 8.44s\tremaining: 11.3s\n",
      "500:\tlearn: 0.9150803\ttotal: 11s\tremaining: 9.58s\n",
      "600:\tlearn: 0.9231096\ttotal: 13.6s\tremaining: 7.59s\n",
      "700:\tlearn: 0.9291559\ttotal: 16.2s\tremaining: 5.46s\n",
      "800:\tlearn: 0.9340652\ttotal: 18.8s\tremaining: 3.19s\n",
      "900:\tlearn: 0.9383133\ttotal: 21.4s\tremaining: 853ms\n"
     ]
    },
    {
     "name": "stderr",
     "output_type": "stream",
     "text": [
      "[I 2025-01-01 20:52:39,575] Trial 13 finished with value: 0.9396921798820782 and parameters: {'iterations': 937, 'learning_rate': 0.024960684878046622, 'depth': 10, 'subsample': 0.22344770831418492, 'colsample_bylevel': 0.3544508768912851, 'min_data_in_leaf': 608, 'scale_pos_weight': 7.796279575333729}. Best is trial 2 with value: 0.9554858347128373.\n"
     ]
    },
    {
     "name": "stdout",
     "output_type": "stream",
     "text": [
      "936:\tlearn: 0.9396485\ttotal: 22.2s\tremaining: 0us\n",
      "0:\tlearn: 0.8505934\ttotal: 9.86ms\tremaining: 9.12s\n",
      "100:\tlearn: 0.8950135\ttotal: 1.16s\tremaining: 9.46s\n",
      "200:\tlearn: 0.8998233\ttotal: 2.29s\tremaining: 8.28s\n",
      "300:\tlearn: 0.9040654\ttotal: 3.32s\tremaining: 6.9s\n",
      "400:\tlearn: 0.9072786\ttotal: 4.42s\tremaining: 5.79s\n",
      "500:\tlearn: 0.9123049\ttotal: 5.6s\tremaining: 4.75s\n",
      "600:\tlearn: 0.9160873\ttotal: 6.82s\tremaining: 3.69s\n",
      "700:\tlearn: 0.9193037\ttotal: 8.04s\tremaining: 2.58s\n",
      "800:\tlearn: 0.9218984\ttotal: 9.32s\tremaining: 1.45s\n",
      "900:\tlearn: 0.9243283\ttotal: 10.6s\tremaining: 293ms\n"
     ]
    },
    {
     "name": "stderr",
     "output_type": "stream",
     "text": [
      "[I 2025-01-01 20:52:50,572] Trial 14 finished with value: 0.9245707418814617 and parameters: {'iterations': 926, 'learning_rate': 0.02578136971024881, 'depth': 8, 'subsample': 0.20500044067495207, 'colsample_bylevel': 0.7884713778600548, 'min_data_in_leaf': 775, 'scale_pos_weight': 9.824906558515314}. Best is trial 2 with value: 0.9554858347128373.\n"
     ]
    },
    {
     "name": "stdout",
     "output_type": "stream",
     "text": [
      "925:\tlearn: 0.9244980\ttotal: 10.9s\tremaining: 0us\n",
      "0:\tlearn: 0.7271441\ttotal: 17.4ms\tremaining: 17.9s\n",
      "100:\tlearn: 0.8220094\ttotal: 1.5s\tremaining: 13.8s\n",
      "200:\tlearn: 0.8260456\ttotal: 2.99s\tremaining: 12.3s\n",
      "300:\tlearn: 0.8293222\ttotal: 4.47s\tremaining: 10.8s\n",
      "400:\tlearn: 0.8335374\ttotal: 5.89s\tremaining: 9.25s\n",
      "500:\tlearn: 0.8375034\ttotal: 7.4s\tremaining: 7.83s\n",
      "600:\tlearn: 0.8414030\ttotal: 8.88s\tremaining: 6.36s\n",
      "700:\tlearn: 0.8428629\ttotal: 10.3s\tremaining: 4.87s\n",
      "800:\tlearn: 0.8443654\ttotal: 11.9s\tremaining: 3.43s\n",
      "900:\tlearn: 0.8461908\ttotal: 13.6s\tremaining: 1.96s\n",
      "1000:\tlearn: 0.8484886\ttotal: 15.1s\tremaining: 454ms\n"
     ]
    },
    {
     "name": "stderr",
     "output_type": "stream",
     "text": [
      "[I 2025-01-01 20:53:06,323] Trial 15 finished with value: 0.8487567597874476 and parameters: {'iterations': 1031, 'learning_rate': 0.005269642442098032, 'depth': 9, 'subsample': 0.06202664871438546, 'colsample_bylevel': 0.3610542250830885, 'min_data_in_leaf': 975, 'scale_pos_weight': 4.8010603013149105}. Best is trial 2 with value: 0.9554858347128373.\n"
     ]
    },
    {
     "name": "stdout",
     "output_type": "stream",
     "text": [
      "1030:\tlearn: 0.8487139\ttotal: 15.6s\tremaining: 0us\n",
      "0:\tlearn: 0.4383158\ttotal: 12.6ms\tremaining: 12.1s\n",
      "100:\tlearn: 0.6158477\ttotal: 1.21s\tremaining: 10.4s\n",
      "200:\tlearn: 0.6502379\ttotal: 2.38s\tremaining: 9.03s\n",
      "300:\tlearn: 0.6812667\ttotal: 3.54s\tremaining: 7.81s\n",
      "400:\tlearn: 0.7070217\ttotal: 4.75s\tremaining: 6.67s\n",
      "500:\tlearn: 0.7291836\ttotal: 5.97s\tremaining: 5.51s\n",
      "600:\tlearn: 0.7499297\ttotal: 7.19s\tremaining: 4.34s\n",
      "700:\tlearn: 0.7666782\ttotal: 8.43s\tremaining: 3.16s\n",
      "800:\tlearn: 0.7823862\ttotal: 9.65s\tremaining: 1.96s\n",
      "900:\tlearn: 0.7958026\ttotal: 10.9s\tremaining: 764ms\n"
     ]
    },
    {
     "name": "stderr",
     "output_type": "stream",
     "text": [
      "[I 2025-01-01 20:53:18,233] Trial 16 finished with value: 0.8038940155174454 and parameters: {'iterations': 964, 'learning_rate': 0.04417539249099925, 'depth': 8, 'subsample': 0.28701054042747476, 'colsample_bylevel': 0.7327998791075522, 'min_data_in_leaf': 527, 'scale_pos_weight': 1.0816489659230708}. Best is trial 2 with value: 0.9554858347128373.\n"
     ]
    },
    {
     "name": "stdout",
     "output_type": "stream",
     "text": [
      "963:\tlearn: 0.8035249\ttotal: 11.8s\tremaining: 0us\n",
      "0:\tlearn: 0.8474410\ttotal: 21.5ms\tremaining: 22.7s\n",
      "100:\tlearn: 0.8615072\ttotal: 1.8s\tremaining: 17s\n",
      "200:\tlearn: 0.8715982\ttotal: 3.56s\tremaining: 15.2s\n",
      "300:\tlearn: 0.8786259\ttotal: 5.39s\tremaining: 13.6s\n",
      "400:\tlearn: 0.8828241\ttotal: 7.19s\tremaining: 11.8s\n",
      "500:\tlearn: 0.8856130\ttotal: 8.9s\tremaining: 9.92s\n",
      "600:\tlearn: 0.8873152\ttotal: 10.6s\tremaining: 8.1s\n",
      "700:\tlearn: 0.8888128\ttotal: 12.3s\tremaining: 6.3s\n",
      "800:\tlearn: 0.8917856\ttotal: 14.2s\tremaining: 4.57s\n",
      "900:\tlearn: 0.8941363\ttotal: 15.8s\tremaining: 2.77s\n",
      "1000:\tlearn: 0.8955816\ttotal: 17.5s\tremaining: 1.01s\n"
     ]
    },
    {
     "name": "stderr",
     "output_type": "stream",
     "text": [
      "[I 2025-01-01 20:53:36,902] Trial 17 finished with value: 0.8965656096442104 and parameters: {'iterations': 1059, 'learning_rate': 0.007549645911951112, 'depth': 9, 'subsample': 0.18073071819573938, 'colsample_bylevel': 0.9235799359349537, 'min_data_in_leaf': 704, 'scale_pos_weight': 7.86746684533319}. Best is trial 2 with value: 0.9554858347128373.\n"
     ]
    },
    {
     "name": "stdout",
     "output_type": "stream",
     "text": [
      "1058:\tlearn: 0.8965656\ttotal: 18.5s\tremaining: 0us\n",
      "0:\tlearn: 0.8411654\ttotal: 17.9ms\tremaining: 16.8s\n",
      "100:\tlearn: 0.8958861\ttotal: 2.06s\tremaining: 17.1s\n",
      "200:\tlearn: 0.9059090\ttotal: 4.35s\tremaining: 15.9s\n",
      "300:\tlearn: 0.9117682\ttotal: 6.4s\tremaining: 13.5s\n",
      "400:\tlearn: 0.9168396\ttotal: 8.48s\tremaining: 11.3s\n",
      "500:\tlearn: 0.9268571\ttotal: 11.3s\tremaining: 9.84s\n",
      "600:\tlearn: 0.9375043\ttotal: 14.2s\tremaining: 7.97s\n",
      "700:\tlearn: 0.9438211\ttotal: 17.2s\tremaining: 5.8s\n",
      "800:\tlearn: 0.9490683\ttotal: 20.1s\tremaining: 3.42s\n",
      "900:\tlearn: 0.9539469\ttotal: 23.1s\tremaining: 925ms\n"
     ]
    },
    {
     "name": "stderr",
     "output_type": "stream",
     "text": [
      "[I 2025-01-01 20:54:01,349] Trial 18 finished with value: 0.9554925803047397 and parameters: {'iterations': 937, 'learning_rate': 0.025311361416114436, 'depth': 10, 'subsample': 0.9491812284730312, 'colsample_bylevel': 0.4155370206456716, 'min_data_in_leaf': 918, 'scale_pos_weight': 9.951321780610213}. Best is trial 18 with value: 0.9554925803047397.\n"
     ]
    },
    {
     "name": "stdout",
     "output_type": "stream",
     "text": [
      "936:\tlearn: 0.9554926\ttotal: 24.3s\tremaining: 0us\n",
      "0:\tlearn: 0.8211157\ttotal: 11.9ms\tremaining: 10.7s\n",
      "100:\tlearn: 0.8876513\ttotal: 971ms\tremaining: 7.69s\n",
      "200:\tlearn: 0.8935149\ttotal: 2.09s\tremaining: 7.29s\n",
      "300:\tlearn: 0.8968242\ttotal: 3.14s\tremaining: 6.26s\n",
      "400:\tlearn: 0.8990598\ttotal: 4.2s\tremaining: 5.23s\n",
      "500:\tlearn: 0.9017456\ttotal: 5.16s\tremaining: 4.12s\n",
      "600:\tlearn: 0.9043739\ttotal: 6.09s\tremaining: 3.04s\n",
      "700:\tlearn: 0.9065673\ttotal: 7.16s\tremaining: 2.04s\n",
      "800:\tlearn: 0.9087048\ttotal: 8.16s\tremaining: 1.02s\n"
     ]
    },
    {
     "name": "stderr",
     "output_type": "stream",
     "text": [
      "[I 2025-01-01 20:54:10,638] Trial 19 finished with value: 0.9115421912604293 and parameters: {'iterations': 901, 'learning_rate': 0.0151259653123027, 'depth': 7, 'subsample': 0.9088507045946445, 'colsample_bylevel': 0.44175740067011154, 'min_data_in_leaf': 914, 'scale_pos_weight': 9.995617492875475}. Best is trial 18 with value: 0.9554925803047397.\n"
     ]
    },
    {
     "name": "stdout",
     "output_type": "stream",
     "text": [
      "900:\tlearn: 0.9115422\ttotal: 9.16s\tremaining: 0us\n",
      "0:\tlearn: 0.8149488\ttotal: 21ms\tremaining: 21.4s\n",
      "100:\tlearn: 0.8976004\ttotal: 1.77s\tremaining: 16.1s\n",
      "200:\tlearn: 0.9122749\ttotal: 3.56s\tremaining: 14.5s\n",
      "300:\tlearn: 0.9270257\ttotal: 5.59s\tremaining: 13.3s\n",
      "400:\tlearn: 0.9374582\ttotal: 7.57s\tremaining: 11.7s\n",
      "500:\tlearn: 0.9456972\ttotal: 9.58s\tremaining: 9.9s\n",
      "600:\tlearn: 0.9526390\ttotal: 11.7s\tremaining: 8.12s\n",
      "700:\tlearn: 0.9587279\ttotal: 13.8s\tremaining: 6.25s\n",
      "800:\tlearn: 0.9629885\ttotal: 15.8s\tremaining: 4.31s\n",
      "900:\tlearn: 0.9676210\ttotal: 17.9s\tremaining: 2.34s\n",
      "1000:\tlearn: 0.9725408\ttotal: 19.9s\tremaining: 358ms\n"
     ]
    },
    {
     "name": "stderr",
     "output_type": "stream",
     "text": [
      "[I 2025-01-01 20:54:31,128] Trial 20 finished with value: 0.9732393071240253 and parameters: {'iterations': 1019, 'learning_rate': 0.05776549116828566, 'depth': 9, 'subsample': 0.7757034432732098, 'colsample_bylevel': 0.6664127636909181, 'min_data_in_leaf': 1070, 'scale_pos_weight': 8.810543789472558}. Best is trial 20 with value: 0.9732393071240253.\n"
     ]
    },
    {
     "name": "stdout",
     "output_type": "stream",
     "text": [
      "1018:\tlearn: 0.9732393\ttotal: 20.3s\tremaining: 0us\n",
      "0:\tlearn: 0.8553903\ttotal: 17.2ms\tremaining: 16.9s\n",
      "100:\tlearn: 0.8943337\ttotal: 1.72s\tremaining: 15s\n",
      "200:\tlearn: 0.9109736\ttotal: 3.44s\tremaining: 13.4s\n",
      "300:\tlearn: 0.9267322\ttotal: 5.45s\tremaining: 12.4s\n",
      "400:\tlearn: 0.9386703\ttotal: 7.61s\tremaining: 11.1s\n",
      "500:\tlearn: 0.9464237\ttotal: 9.93s\tremaining: 9.59s\n",
      "600:\tlearn: 0.9546294\ttotal: 12.2s\tremaining: 7.82s\n",
      "700:\tlearn: 0.9621475\ttotal: 14.4s\tremaining: 5.85s\n",
      "800:\tlearn: 0.9679237\ttotal: 16.5s\tremaining: 3.79s\n",
      "900:\tlearn: 0.9724997\ttotal: 18.5s\tremaining: 1.73s\n"
     ]
    },
    {
     "name": "stderr",
     "output_type": "stream",
     "text": [
      "[I 2025-01-01 20:54:51,843] Trial 21 finished with value: 0.9759162291210444 and parameters: {'iterations': 985, 'learning_rate': 0.06200843231851065, 'depth': 9, 'subsample': 0.8308515350467673, 'colsample_bylevel': 0.6460681984227371, 'min_data_in_leaf': 1056, 'scale_pos_weight': 8.696124305513912}. Best is trial 21 with value: 0.9759162291210444.\n"
     ]
    },
    {
     "name": "stdout",
     "output_type": "stream",
     "text": [
      "984:\tlearn: 0.9759162\ttotal: 20.5s\tremaining: 0us\n",
      "0:\tlearn: 0.8561710\ttotal: 20.8ms\tremaining: 20.4s\n",
      "100:\tlearn: 0.8970716\ttotal: 1.86s\tremaining: 16.2s\n",
      "200:\tlearn: 0.9105939\ttotal: 3.73s\tremaining: 14.5s\n",
      "300:\tlearn: 0.9261964\ttotal: 6.08s\tremaining: 13.7s\n",
      "400:\tlearn: 0.9383358\ttotal: 8.13s\tremaining: 11.8s\n",
      "500:\tlearn: 0.9464103\ttotal: 10.2s\tremaining: 9.75s\n",
      "600:\tlearn: 0.9542159\ttotal: 12.2s\tremaining: 7.7s\n",
      "700:\tlearn: 0.9594791\ttotal: 14.3s\tremaining: 5.69s\n",
      "800:\tlearn: 0.9644639\ttotal: 16.3s\tremaining: 3.66s\n",
      "900:\tlearn: 0.9699728\ttotal: 18.3s\tremaining: 1.63s\n"
     ]
    },
    {
     "name": "stderr",
     "output_type": "stream",
     "text": [
      "[I 2025-01-01 20:55:12,040] Trial 22 finished with value: 0.9733495204312546 and parameters: {'iterations': 981, 'learning_rate': 0.059309783235653356, 'depth': 9, 'subsample': 0.8146791568647469, 'colsample_bylevel': 0.6524306107314126, 'min_data_in_leaf': 1069, 'scale_pos_weight': 8.776423753000216}. Best is trial 21 with value: 0.9759162291210444.\n"
     ]
    },
    {
     "name": "stdout",
     "output_type": "stream",
     "text": [
      "980:\tlearn: 0.9733495\ttotal: 20s\tremaining: 0us\n",
      "0:\tlearn: 0.8515468\ttotal: 18.7ms\tremaining: 18.4s\n",
      "100:\tlearn: 0.8951410\ttotal: 1.74s\tremaining: 15.2s\n",
      "200:\tlearn: 0.9087333\ttotal: 3.38s\tremaining: 13.2s\n",
      "300:\tlearn: 0.9236622\ttotal: 5.37s\tremaining: 12.2s\n",
      "400:\tlearn: 0.9336241\ttotal: 7.36s\tremaining: 10.7s\n",
      "500:\tlearn: 0.9413681\ttotal: 9.43s\tremaining: 9.09s\n",
      "600:\tlearn: 0.9473587\ttotal: 11.5s\tremaining: 7.32s\n",
      "700:\tlearn: 0.9564629\ttotal: 13.5s\tremaining: 5.46s\n",
      "800:\tlearn: 0.9627685\ttotal: 15.7s\tremaining: 3.58s\n",
      "900:\tlearn: 0.9678681\ttotal: 18.6s\tremaining: 1.72s\n"
     ]
    },
    {
     "name": "stderr",
     "output_type": "stream",
     "text": [
      "[I 2025-01-01 20:55:32,883] Trial 23 finished with value: 0.970858797835659 and parameters: {'iterations': 984, 'learning_rate': 0.057282884226237465, 'depth': 9, 'subsample': 0.8139955960938969, 'colsample_bylevel': 0.6499467569292042, 'min_data_in_leaf': 1082, 'scale_pos_weight': 8.319357566151032}. Best is trial 21 with value: 0.9759162291210444.\n"
     ]
    },
    {
     "name": "stdout",
     "output_type": "stream",
     "text": [
      "983:\tlearn: 0.9708588\ttotal: 20.6s\tremaining: 0us\n",
      "0:\tlearn: 0.8152852\ttotal: 16.2ms\tremaining: 16.5s\n",
      "100:\tlearn: 0.8861466\ttotal: 1.14s\tremaining: 10.4s\n",
      "200:\tlearn: 0.8921933\ttotal: 2.24s\tremaining: 9.13s\n",
      "300:\tlearn: 0.8971572\ttotal: 3.42s\tremaining: 8.17s\n",
      "400:\tlearn: 0.9036621\ttotal: 4.7s\tremaining: 7.24s\n",
      "500:\tlearn: 0.9089748\ttotal: 5.85s\tremaining: 6.05s\n",
      "600:\tlearn: 0.9123668\ttotal: 7.01s\tremaining: 4.88s\n",
      "700:\tlearn: 0.9171378\ttotal: 8.23s\tremaining: 3.73s\n",
      "800:\tlearn: 0.9206191\ttotal: 9.59s\tremaining: 2.61s\n",
      "900:\tlearn: 0.9234600\ttotal: 11s\tremaining: 1.44s\n",
      "1000:\tlearn: 0.9263233\ttotal: 12.3s\tremaining: 221ms\n"
     ]
    },
    {
     "name": "stderr",
     "output_type": "stream",
     "text": [
      "[I 2025-01-01 20:55:45,542] Trial 24 finished with value: 0.9265991684597028 and parameters: {'iterations': 1019, 'learning_rate': 0.03549655012560088, 'depth': 7, 'subsample': 0.8038145515492426, 'colsample_bylevel': 0.8457400926450678, 'min_data_in_leaf': 1049, 'scale_pos_weight': 8.874516867272238}. Best is trial 21 with value: 0.9759162291210444.\n"
     ]
    },
    {
     "name": "stdout",
     "output_type": "stream",
     "text": [
      "1018:\tlearn: 0.9265992\ttotal: 12.5s\tremaining: 0us\n",
      "0:\tlearn: 0.7631174\ttotal: 23ms\tremaining: 22.4s\n",
      "100:\tlearn: 0.8545792\ttotal: 2.04s\tremaining: 17.7s\n",
      "200:\tlearn: 0.8786923\ttotal: 3.83s\tremaining: 14.8s\n",
      "300:\tlearn: 0.9007021\ttotal: 6.2s\tremaining: 13.9s\n",
      "400:\tlearn: 0.9160979\ttotal: 8.31s\tremaining: 11.9s\n",
      "500:\tlearn: 0.9287071\ttotal: 10.3s\tremaining: 9.83s\n",
      "600:\tlearn: 0.9388590\ttotal: 12.4s\tremaining: 7.75s\n",
      "700:\tlearn: 0.9479605\ttotal: 14.5s\tremaining: 5.73s\n",
      "800:\tlearn: 0.9553434\ttotal: 16.6s\tremaining: 3.66s\n",
      "900:\tlearn: 0.9624634\ttotal: 18.8s\tremaining: 1.58s\n"
     ]
    },
    {
     "name": "stderr",
     "output_type": "stream",
     "text": [
      "[I 2025-01-01 20:56:06,059] Trial 25 finished with value: 0.9671463698591323 and parameters: {'iterations': 977, 'learning_rate': 0.06014509899349429, 'depth': 9, 'subsample': 0.6696254977983057, 'colsample_bylevel': 0.7007933223234866, 'min_data_in_leaf': 867, 'scale_pos_weight': 5.032035960594684}. Best is trial 21 with value: 0.9759162291210444.\n"
     ]
    },
    {
     "name": "stdout",
     "output_type": "stream",
     "text": [
      "976:\tlearn: 0.9671464\ttotal: 20.3s\tremaining: 0us\n",
      "0:\tlearn: 0.7565689\ttotal: 7.7ms\tremaining: 7.71s\n",
      "100:\tlearn: 0.8660441\ttotal: 1.79s\tremaining: 16s\n",
      "200:\tlearn: 0.8774884\ttotal: 3.89s\tremaining: 15.5s\n",
      "300:\tlearn: 0.8834316\ttotal: 5.64s\tremaining: 13.2s\n",
      "400:\tlearn: 0.8872192\ttotal: 8.23s\tremaining: 12.4s\n",
      "500:\tlearn: 0.8928932\ttotal: 10.1s\tremaining: 10.1s\n",
      "600:\tlearn: 0.8990674\ttotal: 13.2s\tremaining: 8.82s\n",
      "700:\tlearn: 0.9059478\ttotal: 16.1s\tremaining: 6.92s\n",
      "800:\tlearn: 0.9133184\ttotal: 19.2s\tremaining: 4.83s\n",
      "900:\tlearn: 0.9178383\ttotal: 22.2s\tremaining: 2.51s\n"
     ]
    },
    {
     "name": "stderr",
     "output_type": "stream",
     "text": [
      "[I 2025-01-01 20:56:31,575] Trial 26 finished with value: 0.922688842935416 and parameters: {'iterations': 1003, 'learning_rate': 0.019301467855304424, 'depth': 9, 'subsample': 0.8350495713706757, 'colsample_bylevel': 0.6069836357887751, 'min_data_in_leaf': 985, 'scale_pos_weight': 7.150387854802287}. Best is trial 21 with value: 0.9759162291210444.\n"
     ]
    },
    {
     "name": "stdout",
     "output_type": "stream",
     "text": [
      "1000:\tlearn: 0.9222075\ttotal: 25.2s\tremaining: 50.4ms\n",
      "1002:\tlearn: 0.9226888\ttotal: 25.3s\tremaining: 0us\n",
      "0:\tlearn: 0.7626938\ttotal: 5.62ms\tremaining: 5.72s\n",
      "100:\tlearn: 0.8040372\ttotal: 751ms\tremaining: 6.82s\n",
      "200:\tlearn: 0.8420605\ttotal: 1.25s\tremaining: 5.1s\n",
      "300:\tlearn: 0.8478175\ttotal: 1.92s\tremaining: 4.57s\n",
      "400:\tlearn: 0.8544446\ttotal: 2.6s\tremaining: 4.01s\n",
      "500:\tlearn: 0.8581537\ttotal: 3.09s\tremaining: 3.2s\n",
      "600:\tlearn: 0.8593035\ttotal: 3.76s\tremaining: 2.61s\n",
      "700:\tlearn: 0.8598086\ttotal: 4.24s\tremaining: 1.92s\n",
      "800:\tlearn: 0.8595627\ttotal: 4.88s\tremaining: 1.33s\n",
      "900:\tlearn: 0.8610628\ttotal: 5.54s\tremaining: 726ms\n",
      "1000:\tlearn: 0.8625009\ttotal: 6.08s\tremaining: 109ms\n"
     ]
    },
    {
     "name": "stderr",
     "output_type": "stream",
     "text": [
      "[I 2025-01-01 20:56:38,019] Trial 27 finished with value: 0.8626381680387893 and parameters: {'iterations': 1019, 'learning_rate': 0.009263727242063468, 'depth': 1, 'subsample': 0.7419776011133254, 'colsample_bylevel': 0.8580459525475654, 'min_data_in_leaf': 1074, 'scale_pos_weight': 8.52930863155175}. Best is trial 21 with value: 0.9759162291210444.\n"
     ]
    },
    {
     "name": "stdout",
     "output_type": "stream",
     "text": [
      "1018:\tlearn: 0.8626382\ttotal: 6.31s\tremaining: 0us\n",
      "0:\tlearn: 0.7628536\ttotal: 16.3ms\tremaining: 15.7s\n",
      "100:\tlearn: 0.8536067\ttotal: 1.6s\tremaining: 13.7s\n",
      "200:\tlearn: 0.8658295\ttotal: 3.27s\tremaining: 12.4s\n",
      "300:\tlearn: 0.8797940\ttotal: 5.11s\tremaining: 11.3s\n",
      "400:\tlearn: 0.8880230\ttotal: 6.74s\tremaining: 9.47s\n",
      "500:\tlearn: 0.8948668\ttotal: 8.6s\tremaining: 7.96s\n",
      "600:\tlearn: 0.9028610\ttotal: 10.5s\tremaining: 6.35s\n",
      "700:\tlearn: 0.9084462\ttotal: 12.2s\tremaining: 4.6s\n",
      "800:\tlearn: 0.9131187\ttotal: 13.4s\tremaining: 2.75s\n",
      "900:\tlearn: 0.9181361\ttotal: 14.6s\tremaining: 1.04s\n"
     ]
    },
    {
     "name": "stderr",
     "output_type": "stream",
     "text": [
      "[I 2025-01-01 20:56:53,673] Trial 28 finished with value: 0.9208351720181793 and parameters: {'iterations': 965, 'learning_rate': 0.05616961128308391, 'depth': 7, 'subsample': 0.8921118172646993, 'colsample_bylevel': 0.7424888002737712, 'min_data_in_leaf': 963, 'scale_pos_weight': 5.793163251476351}. Best is trial 21 with value: 0.9759162291210444.\n"
     ]
    },
    {
     "name": "stdout",
     "output_type": "stream",
     "text": [
      "964:\tlearn: 0.9208160\ttotal: 15.4s\tremaining: 0us\n",
      "0:\tlearn: 0.7923924\ttotal: 13.9ms\tremaining: 13.7s\n",
      "100:\tlearn: 0.8720819\ttotal: 1.26s\tremaining: 11.1s\n",
      "200:\tlearn: 0.8823539\ttotal: 2.4s\tremaining: 9.39s\n",
      "300:\tlearn: 0.8926019\ttotal: 3.69s\tremaining: 8.41s\n",
      "400:\tlearn: 0.9019886\ttotal: 5.01s\tremaining: 7.34s\n",
      "500:\tlearn: 0.9091795\ttotal: 6.34s\tremaining: 6.17s\n",
      "600:\tlearn: 0.9158370\ttotal: 7.61s\tremaining: 4.9s\n",
      "700:\tlearn: 0.9204234\ttotal: 8.88s\tremaining: 3.64s\n",
      "800:\tlearn: 0.9261879\ttotal: 10.2s\tremaining: 2.37s\n",
      "900:\tlearn: 0.9303972\ttotal: 11.6s\tremaining: 1.12s\n"
     ]
    },
    {
     "name": "stderr",
     "output_type": "stream",
     "text": [
      "[I 2025-01-01 20:57:06,726] Trial 29 finished with value: 0.9345963535452801 and parameters: {'iterations': 988, 'learning_rate': 0.038772028610152755, 'depth': 8, 'subsample': 0.62417636563094, 'colsample_bylevel': 0.5899149228016018, 'min_data_in_leaf': 843, 'scale_pos_weight': 7.304617905649573}. Best is trial 21 with value: 0.9759162291210444.\n"
     ]
    },
    {
     "name": "stdout",
     "output_type": "stream",
     "text": [
      "987:\tlearn: 0.9345656\ttotal: 12.9s\tremaining: 0us\n",
      "0:\tlearn: 0.6724256\ttotal: 6.42ms\tremaining: 6.25s\n",
      "100:\tlearn: 0.7939828\ttotal: 824ms\tremaining: 7.13s\n",
      "200:\tlearn: 0.8089353\ttotal: 1.65s\tremaining: 6.37s\n",
      "300:\tlearn: 0.8216357\ttotal: 2.5s\tremaining: 5.59s\n",
      "400:\tlearn: 0.8301020\ttotal: 3.42s\tremaining: 4.89s\n",
      "500:\tlearn: 0.8383047\ttotal: 4.5s\tremaining: 4.25s\n",
      "600:\tlearn: 0.8468145\ttotal: 5.51s\tremaining: 3.43s\n",
      "700:\tlearn: 0.8551070\ttotal: 6.62s\tremaining: 2.59s\n",
      "800:\tlearn: 0.8617550\ttotal: 7.49s\tremaining: 1.63s\n",
      "900:\tlearn: 0.8666581\ttotal: 8.35s\tremaining: 686ms\n"
     ]
    },
    {
     "name": "stderr",
     "output_type": "stream",
     "text": [
      "[I 2025-01-01 20:57:15,853] Trial 30 finished with value: 0.8707206215202646 and parameters: {'iterations': 975, 'learning_rate': 0.07302418833503829, 'depth': 6, 'subsample': 0.5949634605687847, 'colsample_bylevel': 0.4639599045192616, 'min_data_in_leaf': 1086, 'scale_pos_weight': 3.365593309874381}. Best is trial 21 with value: 0.9759162291210444.\n"
     ]
    },
    {
     "name": "stdout",
     "output_type": "stream",
     "text": [
      "974:\tlearn: 0.8707206\ttotal: 8.99s\tremaining: 0us\n",
      "0:\tlearn: 0.8358935\ttotal: 21.1ms\tremaining: 20.7s\n",
      "100:\tlearn: 0.8904479\ttotal: 1.85s\tremaining: 16.1s\n",
      "200:\tlearn: 0.9022430\ttotal: 3.63s\tremaining: 14.1s\n",
      "300:\tlearn: 0.9201350\ttotal: 5.71s\tremaining: 12.9s\n",
      "400:\tlearn: 0.9309652\ttotal: 7.83s\tremaining: 11.3s\n",
      "500:\tlearn: 0.9405129\ttotal: 9.82s\tremaining: 9.42s\n",
      "600:\tlearn: 0.9481382\ttotal: 11.8s\tremaining: 7.5s\n",
      "700:\tlearn: 0.9542485\ttotal: 14s\tremaining: 5.6s\n",
      "800:\tlearn: 0.9600027\ttotal: 16.3s\tremaining: 3.68s\n",
      "900:\tlearn: 0.9646383\ttotal: 18.6s\tremaining: 1.67s\n"
     ]
    },
    {
     "name": "stderr",
     "output_type": "stream",
     "text": [
      "[I 2025-01-01 20:57:36,638] Trial 31 finished with value: 0.9678773689375142 and parameters: {'iterations': 982, 'learning_rate': 0.05206390354884131, 'depth': 9, 'subsample': 0.7727236862360164, 'colsample_bylevel': 0.6281152756284438, 'min_data_in_leaf': 1095, 'scale_pos_weight': 8.28406182098247}. Best is trial 21 with value: 0.9759162291210444.\n"
     ]
    },
    {
     "name": "stdout",
     "output_type": "stream",
     "text": [
      "981:\tlearn: 0.9678490\ttotal: 20.6s\tremaining: 0us\n",
      "0:\tlearn: 0.8478268\ttotal: 20.4ms\tremaining: 20.3s\n",
      "100:\tlearn: 0.9004102\ttotal: 1.9s\tremaining: 16.9s\n",
      "200:\tlearn: 0.9167235\ttotal: 3.74s\tremaining: 14.8s\n",
      "300:\tlearn: 0.9324582\ttotal: 5.97s\tremaining: 13.8s\n",
      "400:\tlearn: 0.9429253\ttotal: 8.07s\tremaining: 12s\n",
      "500:\tlearn: 0.9505182\ttotal: 10.5s\tremaining: 10.3s\n",
      "600:\tlearn: 0.9569530\ttotal: 12.6s\tremaining: 8.28s\n",
      "700:\tlearn: 0.9639738\ttotal: 14.8s\tremaining: 6.19s\n",
      "800:\tlearn: 0.9681472\ttotal: 17.2s\tremaining: 4.16s\n",
      "900:\tlearn: 0.9713093\ttotal: 20.5s\tremaining: 2.13s\n"
     ]
    },
    {
     "name": "stderr",
     "output_type": "stream",
     "text": [
      "[I 2025-01-01 20:57:59,688] Trial 32 finished with value: 0.9743461743670485 and parameters: {'iterations': 995, 'learning_rate': 0.06090873623810705, 'depth': 9, 'subsample': 0.8693538296081262, 'colsample_bylevel': 0.6800215929029411, 'min_data_in_leaf': 992, 'scale_pos_weight': 9.175698834397698}. Best is trial 21 with value: 0.9759162291210444.\n"
     ]
    },
    {
     "name": "stdout",
     "output_type": "stream",
     "text": [
      "994:\tlearn: 0.9743204\ttotal: 22.8s\tremaining: 0us\n",
      "0:\tlearn: 0.8615128\ttotal: 34.3ms\tremaining: 34.1s\n",
      "100:\tlearn: 0.9149535\ttotal: 2.94s\tremaining: 26s\n",
      "200:\tlearn: 0.9459883\ttotal: 6.21s\tremaining: 24.5s\n",
      "300:\tlearn: 0.9638391\ttotal: 9.83s\tremaining: 22.7s\n",
      "400:\tlearn: 0.9730391\ttotal: 13.2s\tremaining: 19.6s\n",
      "500:\tlearn: 0.9808322\ttotal: 16.8s\tremaining: 16.6s\n",
      "600:\tlearn: 0.9862891\ttotal: 20.7s\tremaining: 13.6s\n",
      "700:\tlearn: 0.9902315\ttotal: 24s\tremaining: 10.1s\n",
      "800:\tlearn: 0.9926885\ttotal: 27.3s\tremaining: 6.62s\n",
      "900:\tlearn: 0.9946312\ttotal: 30.4s\tremaining: 3.18s\n"
     ]
    },
    {
     "name": "stderr",
     "output_type": "stream",
     "text": [
      "[I 2025-01-01 20:58:34,447] Trial 33 finished with value: 0.9961592731583533 and parameters: {'iterations': 995, 'learning_rate': 0.09649165745828965, 'depth': 10, 'subsample': 0.8499823652512103, 'colsample_bylevel': 0.6899418365907177, 'min_data_in_leaf': 967, 'scale_pos_weight': 9.36227798676794}. Best is trial 33 with value: 0.9961592731583533.\n"
     ]
    },
    {
     "name": "stdout",
     "output_type": "stream",
     "text": [
      "994:\tlearn: 0.9961593\ttotal: 34.5s\tremaining: 0us\n",
      "0:\tlearn: 0.8506736\ttotal: 21ms\tremaining: 21s\n",
      "100:\tlearn: 0.9136631\ttotal: 3.27s\tremaining: 29.1s\n",
      "200:\tlearn: 0.9478133\ttotal: 6.56s\tremaining: 26.1s\n",
      "300:\tlearn: 0.9631658\ttotal: 9.89s\tremaining: 22.9s\n",
      "400:\tlearn: 0.9749397\ttotal: 13.2s\tremaining: 19.7s\n",
      "500:\tlearn: 0.9814963\ttotal: 16.5s\tremaining: 16.4s\n",
      "600:\tlearn: 0.9868999\ttotal: 19.9s\tremaining: 13.2s\n",
      "700:\tlearn: 0.9906245\ttotal: 23.5s\tremaining: 10s\n",
      "800:\tlearn: 0.9933474\ttotal: 27s\tremaining: 6.68s\n",
      "900:\tlearn: 0.9954624\ttotal: 30.5s\tremaining: 3.31s\n"
     ]
    },
    {
     "name": "stderr",
     "output_type": "stream",
     "text": [
      "[I 2025-01-01 20:59:08,359] Trial 34 finished with value: 0.9968684690235506 and parameters: {'iterations': 999, 'learning_rate': 0.09926909248438512, 'depth': 10, 'subsample': 0.8748582592492055, 'colsample_bylevel': 0.8222321060804392, 'min_data_in_leaf': 1006, 'scale_pos_weight': 9.311447145725271}. Best is trial 34 with value: 0.9968684690235506.\n"
     ]
    },
    {
     "name": "stdout",
     "output_type": "stream",
     "text": [
      "998:\tlearn: 0.9968552\ttotal: 33.7s\tremaining: 0us\n",
      "0:\tlearn: 0.8368936\ttotal: 10.5ms\tremaining: 10.4s\n",
      "100:\tlearn: 0.9115067\ttotal: 2.56s\tremaining: 22.8s\n",
      "200:\tlearn: 0.9379084\ttotal: 5.88s\tremaining: 23.3s\n",
      "300:\tlearn: 0.9581084\ttotal: 9.23s\tremaining: 21.4s\n",
      "400:\tlearn: 0.9695520\ttotal: 12.7s\tremaining: 18.9s\n",
      "500:\tlearn: 0.9771912\ttotal: 16s\tremaining: 15.8s\n",
      "600:\tlearn: 0.9832231\ttotal: 19.5s\tremaining: 12.8s\n",
      "700:\tlearn: 0.9865412\ttotal: 22.9s\tremaining: 9.67s\n",
      "800:\tlearn: 0.9898983\ttotal: 26.3s\tremaining: 6.43s\n",
      "900:\tlearn: 0.9925132\ttotal: 29.7s\tremaining: 3.17s\n"
     ]
    },
    {
     "name": "stderr",
     "output_type": "stream",
     "text": [
      "[I 2025-01-01 20:59:41,562] Trial 35 finished with value: 0.9944868625823501 and parameters: {'iterations': 997, 'learning_rate': 0.08760454774917498, 'depth': 10, 'subsample': 0.869521924693899, 'colsample_bylevel': 0.8354902462737457, 'min_data_in_leaf': 905, 'scale_pos_weight': 9.025981866624228}. Best is trial 34 with value: 0.9968684690235506.\n"
     ]
    },
    {
     "name": "stdout",
     "output_type": "stream",
     "text": [
      "996:\tlearn: 0.9944869\ttotal: 33s\tremaining: 0us\n",
      "0:\tlearn: 0.8191868\ttotal: 10ms\tremaining: 9.55s\n",
      "100:\tlearn: 0.9128208\ttotal: 2.8s\tremaining: 23.7s\n",
      "200:\tlearn: 0.9419190\ttotal: 6.33s\tremaining: 23.8s\n",
      "300:\tlearn: 0.9570247\ttotal: 9.74s\tremaining: 21.2s\n",
      "400:\tlearn: 0.9685590\ttotal: 13.4s\tremaining: 18.5s\n",
      "500:\tlearn: 0.9763857\ttotal: 17.2s\tremaining: 15.6s\n",
      "600:\tlearn: 0.9831348\ttotal: 21s\tremaining: 12.4s\n",
      "700:\tlearn: 0.9878544\ttotal: 24.9s\tremaining: 9.01s\n",
      "800:\tlearn: 0.9903038\ttotal: 28.4s\tremaining: 5.46s\n",
      "900:\tlearn: 0.9922721\ttotal: 32.1s\tremaining: 1.92s\n"
     ]
    },
    {
     "name": "stderr",
     "output_type": "stream",
     "text": [
      "[I 2025-01-01 21:00:15,820] Trial 36 finished with value: 0.9933501864528973 and parameters: {'iterations': 955, 'learning_rate': 0.09107283942769849, 'depth': 10, 'subsample': 0.9798582345097145, 'colsample_bylevel': 0.8732032841217756, 'min_data_in_leaf': 903, 'scale_pos_weight': 9.445496155530773}. Best is trial 34 with value: 0.9968684690235506.\n"
     ]
    },
    {
     "name": "stdout",
     "output_type": "stream",
     "text": [
      "954:\tlearn: 0.9933372\ttotal: 34s\tremaining: 0us\n",
      "0:\tlearn: 0.8497546\ttotal: 16.5ms\tremaining: 15.7s\n",
      "100:\tlearn: 0.9133370\ttotal: 2.96s\tremaining: 25s\n",
      "200:\tlearn: 0.9429502\ttotal: 6.7s\tremaining: 25.1s\n",
      "300:\tlearn: 0.9583893\ttotal: 11.9s\tremaining: 25.8s\n",
      "400:\tlearn: 0.9694699\ttotal: 16.3s\tremaining: 22.4s\n",
      "500:\tlearn: 0.9781681\ttotal: 21.4s\tremaining: 19.4s\n",
      "600:\tlearn: 0.9834072\ttotal: 26.5s\tremaining: 15.6s\n",
      "700:\tlearn: 0.9870402\ttotal: 31.6s\tremaining: 11.4s\n",
      "800:\tlearn: 0.9900545\ttotal: 36.9s\tremaining: 7.04s\n",
      "900:\tlearn: 0.9924231\ttotal: 41.4s\tremaining: 2.43s\n"
     ]
    },
    {
     "name": "stderr",
     "output_type": "stream",
     "text": [
      "[I 2025-01-01 21:00:59,283] Trial 37 finished with value: 0.9932056513405585 and parameters: {'iterations': 954, 'learning_rate': 0.09194757935424124, 'depth': 10, 'subsample': 0.9962239933116837, 'colsample_bylevel': 0.9121907183168607, 'min_data_in_leaf': 901, 'scale_pos_weight': 9.406976729884793}. Best is trial 34 with value: 0.9968684690235506.\n"
     ]
    },
    {
     "name": "stdout",
     "output_type": "stream",
     "text": [
      "953:\tlearn: 0.9932057\ttotal: 43.2s\tremaining: 0us\n",
      "0:\tlearn: 0.7572701\ttotal: 8.08ms\tremaining: 7.42s\n",
      "100:\tlearn: 0.8861801\ttotal: 636ms\tremaining: 5.16s\n",
      "200:\tlearn: 0.8918447\ttotal: 1.28s\tremaining: 4.58s\n",
      "300:\tlearn: 0.8947986\ttotal: 1.94s\tremaining: 3.98s\n",
      "400:\tlearn: 0.8976657\ttotal: 2.56s\tremaining: 3.31s\n",
      "500:\tlearn: 0.8992781\ttotal: 3.22s\tremaining: 2.69s\n",
      "600:\tlearn: 0.9008037\ttotal: 3.89s\tremaining: 2.06s\n",
      "700:\tlearn: 0.9020467\ttotal: 4.62s\tremaining: 1.44s\n",
      "800:\tlearn: 0.9027706\ttotal: 5.39s\tremaining: 801ms\n"
     ]
    },
    {
     "name": "stderr",
     "output_type": "stream",
     "text": [
      "[I 2025-01-01 21:01:05,550] Trial 38 finished with value: 0.9049867204472624 and parameters: {'iterations': 920, 'learning_rate': 0.0987278225085797, 'depth': 3, 'subsample': 0.9418113072115573, 'colsample_bylevel': 0.8488139110687438, 'min_data_in_leaf': 770, 'scale_pos_weight': 9.276594594283829}. Best is trial 34 with value: 0.9968684690235506.\n"
     ]
    },
    {
     "name": "stdout",
     "output_type": "stream",
     "text": [
      "900:\tlearn: 0.9043751\ttotal: 6.06s\tremaining: 128ms\n",
      "919:\tlearn: 0.9047693\ttotal: 6.17s\tremaining: 0us\n",
      "0:\tlearn: 0.8233484\ttotal: 13.4ms\tremaining: 13s\n",
      "100:\tlearn: 0.8905790\ttotal: 2.81s\tremaining: 24.1s\n",
      "200:\tlearn: 0.9240295\ttotal: 6.07s\tremaining: 23.2s\n",
      "300:\tlearn: 0.9460946\ttotal: 9.45s\tremaining: 21s\n",
      "400:\tlearn: 0.9607162\ttotal: 13s\tremaining: 18.4s\n",
      "500:\tlearn: 0.9706198\ttotal: 16.9s\tremaining: 15.8s\n",
      "600:\tlearn: 0.9812071\ttotal: 20.3s\tremaining: 12.4s\n",
      "700:\tlearn: 0.9865572\ttotal: 23.7s\tremaining: 9.07s\n",
      "800:\tlearn: 0.9905235\ttotal: 28.6s\tremaining: 6s\n",
      "900:\tlearn: 0.9937427\ttotal: 33.6s\tremaining: 2.53s\n"
     ]
    },
    {
     "name": "stderr",
     "output_type": "stream",
     "text": [
      "[I 2025-01-01 21:01:42,662] Trial 39 finished with value: 0.9951644122271288 and parameters: {'iterations': 969, 'learning_rate': 0.0798383719815302, 'depth': 10, 'subsample': 0.7258593633340109, 'colsample_bylevel': 0.9946211876624186, 'min_data_in_leaf': 689, 'scale_pos_weight': 6.495185971772668}. Best is trial 34 with value: 0.9968684690235506.\n"
     ]
    },
    {
     "name": "stdout",
     "output_type": "stream",
     "text": [
      "968:\tlearn: 0.9951644\ttotal: 36.9s\tremaining: 0us\n",
      "0:\tlearn: 0.8294075\ttotal: 39.9ms\tremaining: 38.6s\n",
      "100:\tlearn: 0.8875162\ttotal: 4.03s\tremaining: 34.7s\n",
      "200:\tlearn: 0.9218614\ttotal: 8.39s\tremaining: 32.1s\n",
      "300:\tlearn: 0.9442750\ttotal: 13.6s\tremaining: 30.2s\n",
      "400:\tlearn: 0.9596895\ttotal: 19.1s\tremaining: 27.1s\n",
      "500:\tlearn: 0.9696313\ttotal: 22.8s\tremaining: 21.3s\n",
      "600:\tlearn: 0.9762270\ttotal: 26.4s\tremaining: 16.2s\n",
      "700:\tlearn: 0.9829200\ttotal: 29.7s\tremaining: 11.4s\n",
      "800:\tlearn: 0.9878418\ttotal: 33.1s\tremaining: 6.95s\n",
      "900:\tlearn: 0.9909421\ttotal: 37.9s\tremaining: 2.86s\n"
     ]
    },
    {
     "name": "stderr",
     "output_type": "stream",
     "text": [
      "[I 2025-01-01 21:02:23,641] Trial 40 finished with value: 0.9928521494845287 and parameters: {'iterations': 969, 'learning_rate': 0.07441978668307965, 'depth': 10, 'subsample': 0.731203847765312, 'colsample_bylevel': 0.971450607256545, 'min_data_in_leaf': 694, 'scale_pos_weight': 6.669616055004225}. Best is trial 34 with value: 0.9968684690235506.\n"
     ]
    },
    {
     "name": "stdout",
     "output_type": "stream",
     "text": [
      "968:\tlearn: 0.9928521\ttotal: 40.7s\tremaining: 0us\n",
      "0:\tlearn: 0.8212231\ttotal: 13.2ms\tremaining: 12.6s\n",
      "100:\tlearn: 0.8946331\ttotal: 3.33s\tremaining: 28s\n",
      "200:\tlearn: 0.9293673\ttotal: 8.14s\tremaining: 30.4s\n",
      "300:\tlearn: 0.9529813\ttotal: 13s\tremaining: 28.1s\n",
      "400:\tlearn: 0.9685871\ttotal: 17.8s\tremaining: 24.4s\n",
      "500:\tlearn: 0.9799231\ttotal: 21.7s\tremaining: 19.6s\n",
      "600:\tlearn: 0.9868776\ttotal: 25.5s\tremaining: 14.9s\n",
      "700:\tlearn: 0.9920323\ttotal: 29.2s\tremaining: 10.4s\n",
      "800:\tlearn: 0.9949877\ttotal: 32.8s\tremaining: 6.19s\n",
      "900:\tlearn: 0.9969021\ttotal: 36.4s\tremaining: 2.06s\n"
     ]
    },
    {
     "name": "stderr",
     "output_type": "stream",
     "text": [
      "[I 2025-01-01 21:03:02,150] Trial 41 finished with value: 0.9978194980706964 and parameters: {'iterations': 952, 'learning_rate': 0.0965581640112365, 'depth': 10, 'subsample': 0.9383863162306643, 'colsample_bylevel': 0.9154019651972712, 'min_data_in_leaf': 817, 'scale_pos_weight': 6.2085498224559625}. Best is trial 41 with value: 0.9978194980706964.\n"
     ]
    },
    {
     "name": "stdout",
     "output_type": "stream",
     "text": [
      "951:\tlearn: 0.9978195\ttotal: 38.2s\tremaining: 0us\n",
      "0:\tlearn: 0.8165349\ttotal: 34.3ms\tremaining: 34.3s\n",
      "100:\tlearn: 0.8907818\ttotal: 2.81s\tremaining: 25s\n",
      "200:\tlearn: 0.9253378\ttotal: 5.8s\tremaining: 23.1s\n",
      "300:\tlearn: 0.9490197\ttotal: 9.13s\tremaining: 21.2s\n",
      "400:\tlearn: 0.9638570\ttotal: 12.5s\tremaining: 18.7s\n",
      "500:\tlearn: 0.9746301\ttotal: 15.9s\tremaining: 15.8s\n",
      "600:\tlearn: 0.9823280\ttotal: 19.3s\tremaining: 12.8s\n",
      "700:\tlearn: 0.9875133\ttotal: 22.7s\tremaining: 9.69s\n",
      "800:\tlearn: 0.9913103\ttotal: 26.2s\tremaining: 6.51s\n",
      "900:\tlearn: 0.9941555\ttotal: 29.6s\tremaining: 3.25s\n"
     ]
    },
    {
     "name": "stderr",
     "output_type": "stream",
     "text": [
      "[I 2025-01-01 21:03:35,300] Trial 42 finished with value: 0.9965172332600993 and parameters: {'iterations': 1000, 'learning_rate': 0.08097500254678476, 'depth': 10, 'subsample': 0.8723906442798305, 'colsample_bylevel': 0.8016032268490267, 'min_data_in_leaf': 815, 'scale_pos_weight': 6.339406476180894}. Best is trial 41 with value: 0.9978194980706964.\n"
     ]
    },
    {
     "name": "stdout",
     "output_type": "stream",
     "text": [
      "999:\tlearn: 0.9965172\ttotal: 32.9s\tremaining: 0us\n",
      "0:\tlearn: 0.8141085\ttotal: 15.5ms\tremaining: 15.6s\n",
      "100:\tlearn: 0.8710110\ttotal: 1.31s\tremaining: 11.8s\n",
      "200:\tlearn: 0.8909555\ttotal: 2.69s\tremaining: 10.8s\n",
      "300:\tlearn: 0.9052605\ttotal: 4.13s\tremaining: 9.71s\n",
      "400:\tlearn: 0.9161438\ttotal: 5.6s\tremaining: 8.48s\n",
      "500:\tlearn: 0.9262009\ttotal: 7.1s\tremaining: 7.18s\n",
      "600:\tlearn: 0.9350209\ttotal: 8.65s\tremaining: 5.86s\n",
      "700:\tlearn: 0.9430338\ttotal: 10.2s\tremaining: 4.45s\n",
      "800:\tlearn: 0.9483535\ttotal: 11.7s\tremaining: 3.02s\n",
      "900:\tlearn: 0.9533481\ttotal: 13.3s\tremaining: 1.57s\n"
     ]
    },
    {
     "name": "stderr",
     "output_type": "stream",
     "text": [
      "[I 2025-01-01 21:03:50,458] Trial 43 finished with value: 0.9590938877874701 and parameters: {'iterations': 1008, 'learning_rate': 0.07404942343031226, 'depth': 8, 'subsample': 0.9294869993637283, 'colsample_bylevel': 0.946146729731868, 'min_data_in_leaf': 809, 'scale_pos_weight': 6.306800611215014}. Best is trial 41 with value: 0.9978194980706964.\n"
     ]
    },
    {
     "name": "stdout",
     "output_type": "stream",
     "text": [
      "1000:\tlearn: 0.9589648\ttotal: 14.9s\tremaining: 104ms\n",
      "1007:\tlearn: 0.9590173\ttotal: 15s\tremaining: 0us\n",
      "0:\tlearn: 0.8090411\ttotal: 32.7ms\tremaining: 33.6s\n",
      "100:\tlearn: 0.8880624\ttotal: 3.02s\tremaining: 27.8s\n",
      "200:\tlearn: 0.9281041\ttotal: 6.3s\tremaining: 25.9s\n",
      "300:\tlearn: 0.9547504\ttotal: 9.79s\tremaining: 23.7s\n",
      "400:\tlearn: 0.9714105\ttotal: 13.6s\tremaining: 21.4s\n",
      "500:\tlearn: 0.9830924\ttotal: 17s\tremaining: 17.9s\n",
      "600:\tlearn: 0.9889845\ttotal: 20.4s\tremaining: 14.5s\n",
      "700:\tlearn: 0.9939224\ttotal: 23.8s\tremaining: 11.1s\n",
      "800:\tlearn: 0.9965881\ttotal: 27.7s\tremaining: 7.88s\n",
      "900:\tlearn: 0.9985217\ttotal: 31.1s\tremaining: 4.41s\n",
      "1000:\tlearn: 0.9993065\ttotal: 35.1s\tremaining: 981ms\n"
     ]
    },
    {
     "name": "stderr",
     "output_type": "stream",
     "text": [
      "[I 2025-01-01 21:04:26,746] Trial 44 finished with value: 0.9993989290260216 and parameters: {'iterations': 1029, 'learning_rate': 0.09950799585447971, 'depth': 10, 'subsample': 0.8774931888951394, 'colsample_bylevel': 0.7919072766207891, 'min_data_in_leaf': 689, 'scale_pos_weight': 5.380896663515153}. Best is trial 44 with value: 0.9993989290260216.\n"
     ]
    },
    {
     "name": "stdout",
     "output_type": "stream",
     "text": [
      "1028:\tlearn: 0.9993758\ttotal: 36s\tremaining: 0us\n",
      "0:\tlearn: 0.7441797\ttotal: 8.3ms\tremaining: 8.72s\n",
      "100:\tlearn: 0.8315148\ttotal: 743ms\tremaining: 7s\n",
      "200:\tlearn: 0.8386327\ttotal: 1.49s\tremaining: 6.3s\n",
      "300:\tlearn: 0.8449191\ttotal: 2.23s\tremaining: 5.55s\n",
      "400:\tlearn: 0.8502538\ttotal: 2.96s\tremaining: 4.8s\n",
      "500:\tlearn: 0.8538457\ttotal: 3.7s\tremaining: 4.07s\n",
      "600:\tlearn: 0.8564459\ttotal: 4.45s\tremaining: 3.34s\n",
      "700:\tlearn: 0.8574680\ttotal: 5.29s\tremaining: 2.65s\n",
      "800:\tlearn: 0.8600413\ttotal: 6.07s\tremaining: 1.9s\n",
      "900:\tlearn: 0.8616106\ttotal: 6.84s\tremaining: 1.15s\n",
      "1000:\tlearn: 0.8642377\ttotal: 7.61s\tremaining: 388ms\n"
     ]
    },
    {
     "name": "stderr",
     "output_type": "stream",
     "text": [
      "[I 2025-01-01 21:04:34,850] Trial 45 finished with value: 0.8648254588620446 and parameters: {'iterations': 1052, 'learning_rate': 0.04631714535109355, 'depth': 4, 'subsample': 0.8638283655894202, 'colsample_bylevel': 0.7874640776000505, 'min_data_in_leaf': 547, 'scale_pos_weight': 5.321652714302129}. Best is trial 44 with value: 0.9993989290260216.\n"
     ]
    },
    {
     "name": "stdout",
     "output_type": "stream",
     "text": [
      "1051:\tlearn: 0.8645514\ttotal: 8s\tremaining: 0us\n",
      "0:\tlearn: 0.7802943\ttotal: 31.7ms\tremaining: 32.6s\n",
      "100:\tlearn: 0.8613019\ttotal: 2.46s\tremaining: 22.6s\n",
      "200:\tlearn: 0.9169089\ttotal: 5.86s\tremaining: 24.2s\n",
      "300:\tlearn: 0.9487044\ttotal: 9.34s\tremaining: 22.6s\n",
      "400:\tlearn: 0.9650518\ttotal: 12.8s\tremaining: 20.1s\n",
      "500:\tlearn: 0.9779412\ttotal: 16.1s\tremaining: 17s\n",
      "600:\tlearn: 0.9885748\ttotal: 19.2s\tremaining: 13.7s\n",
      "700:\tlearn: 0.9942431\ttotal: 23.4s\tremaining: 11s\n",
      "800:\tlearn: 0.9969519\ttotal: 26.7s\tremaining: 7.63s\n",
      "900:\tlearn: 0.9985945\ttotal: 29.9s\tremaining: 4.28s\n",
      "1000:\tlearn: 0.9993553\ttotal: 33.3s\tremaining: 965ms\n"
     ]
    },
    {
     "name": "stderr",
     "output_type": "stream",
     "text": [
      "[I 2025-01-01 21:05:09,339] Trial 46 finished with value: 0.9994724783078085 and parameters: {'iterations': 1030, 'learning_rate': 0.09665323375455996, 'depth': 10, 'subsample': 0.4551315826813087, 'colsample_bylevel': 0.7394221906572205, 'min_data_in_leaf': 642, 'scale_pos_weight': 4.244936427222929}. Best is trial 46 with value: 0.9994724783078085.\n"
     ]
    },
    {
     "name": "stdout",
     "output_type": "stream",
     "text": [
      "1029:\tlearn: 0.9994725\ttotal: 34.2s\tremaining: 0us\n",
      "0:\tlearn: 0.0000000\ttotal: 3.8ms\tremaining: 4.11s\n",
      "100:\tlearn: 0.0347230\ttotal: 401ms\tremaining: 3.9s\n",
      "200:\tlearn: 0.0805125\ttotal: 797ms\tremaining: 3.5s\n",
      "300:\tlearn: 0.1797841\ttotal: 1.2s\tremaining: 3.12s\n",
      "400:\tlearn: 0.1962370\ttotal: 1.64s\tremaining: 2.78s\n",
      "500:\tlearn: 0.2261318\ttotal: 2.11s\tremaining: 2.45s\n",
      "600:\tlearn: 0.2512633\ttotal: 2.55s\tremaining: 2.05s\n",
      "700:\tlearn: 0.2784122\ttotal: 3.07s\tremaining: 1.67s\n",
      "800:\tlearn: 0.3028085\ttotal: 3.51s\tremaining: 1.24s\n",
      "900:\tlearn: 0.3319419\ttotal: 3.92s\tremaining: 792ms\n",
      "1000:\tlearn: 0.3529786\ttotal: 4.32s\tremaining: 354ms\n"
     ]
    },
    {
     "name": "stderr",
     "output_type": "stream",
     "text": [
      "[I 2025-01-01 21:05:14,145] Trial 47 finished with value: 0.3691017033962072 and parameters: {'iterations': 1083, 'learning_rate': 0.0014814021468569998, 'depth': 8, 'subsample': 0.46715878905612823, 'colsample_bylevel': 0.05531703153924472, 'min_data_in_leaf': 733, 'scale_pos_weight': 3.9655524882568978}. Best is trial 46 with value: 0.9994724783078085.\n"
     ]
    },
    {
     "name": "stdout",
     "output_type": "stream",
     "text": [
      "1082:\tlearn: 0.3681181\ttotal: 4.66s\tremaining: 0us\n",
      "0:\tlearn: 0.7812852\ttotal: 45ms\tremaining: 46.2s\n",
      "100:\tlearn: 0.8349997\ttotal: 3.46s\tremaining: 31.8s\n",
      "200:\tlearn: 0.8555311\ttotal: 6.64s\tremaining: 27.3s\n",
      "300:\tlearn: 0.8691124\ttotal: 9.36s\tremaining: 22.6s\n",
      "400:\tlearn: 0.8884585\ttotal: 12.6s\tremaining: 19.7s\n",
      "500:\tlearn: 0.9070622\ttotal: 15.6s\tremaining: 16.4s\n",
      "600:\tlearn: 0.9197719\ttotal: 18.9s\tremaining: 13.4s\n",
      "700:\tlearn: 0.9318100\ttotal: 22.8s\tremaining: 10.7s\n",
      "800:\tlearn: 0.9410848\ttotal: 26.9s\tremaining: 7.66s\n",
      "900:\tlearn: 0.9488591\ttotal: 30.2s\tremaining: 4.28s\n",
      "1000:\tlearn: 0.9572407\ttotal: 33.8s\tremaining: 945ms\n"
     ]
    },
    {
     "name": "stderr",
     "output_type": "stream",
     "text": [
      "[I 2025-01-01 21:05:49,136] Trial 48 finished with value: 0.9584456408595718 and parameters: {'iterations': 1029, 'learning_rate': 0.0318329163622622, 'depth': 10, 'subsample': 0.5629485254166159, 'colsample_bylevel': 0.8020081669841024, 'min_data_in_leaf': 639, 'scale_pos_weight': 4.393356622578946}. Best is trial 46 with value: 0.9994724783078085.\n"
     ]
    },
    {
     "name": "stdout",
     "output_type": "stream",
     "text": [
      "1028:\tlearn: 0.9584456\ttotal: 34.7s\tremaining: 0us\n",
      "0:\tlearn: 0.6148857\ttotal: 31.8ms\tremaining: 33.3s\n",
      "100:\tlearn: 0.7739310\ttotal: 3.12s\tremaining: 29.2s\n",
      "200:\tlearn: 0.8072129\ttotal: 5.89s\tremaining: 24.8s\n",
      "300:\tlearn: 0.8486823\ttotal: 9.15s\tremaining: 22.7s\n",
      "400:\tlearn: 0.8774990\ttotal: 12.3s\tremaining: 19.9s\n",
      "500:\tlearn: 0.9009511\ttotal: 15.8s\tremaining: 17.2s\n",
      "600:\tlearn: 0.9243195\ttotal: 19s\tremaining: 14.1s\n",
      "700:\tlearn: 0.9390699\ttotal: 22.3s\tremaining: 11s\n",
      "800:\tlearn: 0.9491854\ttotal: 25.5s\tremaining: 7.86s\n",
      "900:\tlearn: 0.9590958\ttotal: 28.8s\tremaining: 4.69s\n",
      "1000:\tlearn: 0.9675638\ttotal: 32.1s\tremaining: 1.51s\n"
     ]
    },
    {
     "name": "stderr",
     "output_type": "stream",
     "text": [
      "[I 2025-01-01 21:06:23,006] Trial 49 finished with value: 0.9703619216755797 and parameters: {'iterations': 1048, 'learning_rate': 0.0454625060325663, 'depth': 10, 'subsample': 0.4522186701827926, 'colsample_bylevel': 0.8967208815866725, 'min_data_in_leaf': 434, 'scale_pos_weight': 2.204923683647113}. Best is trial 46 with value: 0.9994724783078085.\n"
     ]
    },
    {
     "name": "stdout",
     "output_type": "stream",
     "text": [
      "1047:\tlearn: 0.9703619\ttotal: 33.6s\tremaining: 0us\n",
      "0:\tlearn: 0.8088920\ttotal: 13.3ms\tremaining: 13.8s\n",
      "100:\tlearn: 0.8591933\ttotal: 1.28s\tremaining: 11.9s\n",
      "200:\tlearn: 0.8769866\ttotal: 2.6s\tremaining: 10.8s\n",
      "300:\tlearn: 0.8919479\ttotal: 4.79s\tremaining: 11.7s\n",
      "400:\tlearn: 0.9051635\ttotal: 6.19s\tremaining: 9.85s\n",
      "500:\tlearn: 0.9167300\ttotal: 7.52s\tremaining: 8.08s\n",
      "600:\tlearn: 0.9248776\ttotal: 8.96s\tremaining: 6.53s\n",
      "700:\tlearn: 0.9329613\ttotal: 10.4s\tremaining: 5s\n",
      "800:\tlearn: 0.9417446\ttotal: 11.7s\tremaining: 3.48s\n",
      "900:\tlearn: 0.9479022\ttotal: 13.1s\tremaining: 2.01s\n",
      "1000:\tlearn: 0.9539917\ttotal: 14.7s\tremaining: 559ms\n"
     ]
    },
    {
     "name": "stderr",
     "output_type": "stream",
     "text": [
      "[I 2025-01-01 21:06:38,587] Trial 50 finished with value: 0.9568735904900014 and parameters: {'iterations': 1039, 'learning_rate': 0.06967192851974079, 'depth': 8, 'subsample': 0.5019030820557816, 'colsample_bylevel': 0.7458922046587239, 'min_data_in_leaf': 507, 'scale_pos_weight': 5.55510801315213}. Best is trial 46 with value: 0.9994724783078085.\n"
     ]
    },
    {
     "name": "stdout",
     "output_type": "stream",
     "text": [
      "1038:\tlearn: 0.9568736\ttotal: 15.3s\tremaining: 0us\n",
      "0:\tlearn: 0.8113084\ttotal: 38.3ms\tremaining: 40.8s\n",
      "100:\tlearn: 0.8939250\ttotal: 2.92s\tremaining: 27.9s\n",
      "200:\tlearn: 0.9307007\ttotal: 6.05s\tremaining: 26s\n",
      "300:\tlearn: 0.9530870\ttotal: 9.12s\tremaining: 23.2s\n",
      "400:\tlearn: 0.9686013\ttotal: 12.2s\tremaining: 20.3s\n",
      "500:\tlearn: 0.9786504\ttotal: 15.4s\tremaining: 17.4s\n",
      "600:\tlearn: 0.9865326\ttotal: 19.1s\tremaining: 14.8s\n",
      "700:\tlearn: 0.9921489\ttotal: 22.2s\tremaining: 11.6s\n",
      "800:\tlearn: 0.9949070\ttotal: 25.7s\tremaining: 8.5s\n",
      "900:\tlearn: 0.9967069\ttotal: 29s\tremaining: 5.32s\n",
      "1000:\tlearn: 0.9982694\ttotal: 32.1s\tremaining: 2.08s\n"
     ]
    },
    {
     "name": "stderr",
     "output_type": "stream",
     "text": [
      "[I 2025-01-01 21:07:13,037] Trial 51 finished with value: 0.9988184948269263 and parameters: {'iterations': 1066, 'learning_rate': 0.09989098755866396, 'depth': 10, 'subsample': 0.39063878016902615, 'colsample_bylevel': 0.8212895899657117, 'min_data_in_leaf': 800, 'scale_pos_weight': 6.103052412214961}. Best is trial 46 with value: 0.9994724783078085.\n"
     ]
    },
    {
     "name": "stdout",
     "output_type": "stream",
     "text": [
      "1065:\tlearn: 0.9988185\ttotal: 34.2s\tremaining: 0us\n",
      "0:\tlearn: 0.8093493\ttotal: 31.4ms\tremaining: 33.5s\n",
      "100:\tlearn: 0.8939441\ttotal: 2.56s\tremaining: 24.5s\n",
      "200:\tlearn: 0.9290843\ttotal: 5.82s\tremaining: 25s\n",
      "300:\tlearn: 0.9521405\ttotal: 9.37s\tremaining: 23.8s\n",
      "400:\tlearn: 0.9677763\ttotal: 12.8s\tremaining: 21.2s\n",
      "500:\tlearn: 0.9795789\ttotal: 16.5s\tremaining: 18.6s\n",
      "600:\tlearn: 0.9870510\ttotal: 19.7s\tremaining: 15.2s\n",
      "700:\tlearn: 0.9915282\ttotal: 23s\tremaining: 12s\n",
      "800:\tlearn: 0.9946579\ttotal: 26.4s\tremaining: 8.73s\n",
      "900:\tlearn: 0.9967426\ttotal: 29.4s\tremaining: 5.39s\n",
      "1000:\tlearn: 0.9979466\ttotal: 32.5s\tremaining: 2.11s\n"
     ]
    },
    {
     "name": "stderr",
     "output_type": "stream",
     "text": [
      "[I 2025-01-01 21:07:47,779] Trial 52 finished with value: 0.9985094355733665 and parameters: {'iterations': 1066, 'learning_rate': 0.09829880289466675, 'depth': 10, 'subsample': 0.37810242447245473, 'colsample_bylevel': 0.8127944845512831, 'min_data_in_leaf': 605, 'scale_pos_weight': 6.170229466810133}. Best is trial 46 with value: 0.9994724783078085.\n"
     ]
    },
    {
     "name": "stdout",
     "output_type": "stream",
     "text": [
      "1065:\tlearn: 0.9985094\ttotal: 34.5s\tremaining: 0us\n",
      "0:\tlearn: 0.8170186\ttotal: 31.9ms\tremaining: 34.2s\n",
      "100:\tlearn: 0.8941258\ttotal: 2.83s\tremaining: 27.3s\n",
      "200:\tlearn: 0.9303699\ttotal: 5.83s\tremaining: 25.3s\n",
      "300:\tlearn: 0.9499504\ttotal: 8.89s\tremaining: 22.8s\n",
      "400:\tlearn: 0.9684178\ttotal: 11.9s\tremaining: 19.9s\n",
      "500:\tlearn: 0.9794603\ttotal: 14.9s\tremaining: 17s\n",
      "600:\tlearn: 0.9864884\ttotal: 17.9s\tremaining: 14.1s\n",
      "700:\tlearn: 0.9919215\ttotal: 21s\tremaining: 11.1s\n",
      "800:\tlearn: 0.9944468\ttotal: 24s\tremaining: 8.14s\n",
      "900:\tlearn: 0.9966895\ttotal: 26.9s\tremaining: 5.14s\n",
      "1000:\tlearn: 0.9981628\ttotal: 29.9s\tremaining: 2.15s\n"
     ]
    },
    {
     "name": "stderr",
     "output_type": "stream",
     "text": [
      "[I 2025-01-01 21:08:20,190] Trial 53 finished with value: 0.9988377554747887 and parameters: {'iterations': 1073, 'learning_rate': 0.09954855423744019, 'depth': 10, 'subsample': 0.36501855977483827, 'colsample_bylevel': 0.7450705068714988, 'min_data_in_leaf': 599, 'scale_pos_weight': 5.883398976587074}. Best is trial 46 with value: 0.9994724783078085.\n"
     ]
    },
    {
     "name": "stdout",
     "output_type": "stream",
     "text": [
      "1072:\tlearn: 0.9987955\ttotal: 32.1s\tremaining: 0us\n",
      "0:\tlearn: 0.8131805\ttotal: 21ms\tremaining: 22.4s\n",
      "100:\tlearn: 0.8743888\ttotal: 1.81s\tremaining: 17.4s\n",
      "200:\tlearn: 0.8981763\ttotal: 3.73s\tremaining: 16.1s\n",
      "300:\tlearn: 0.9158106\ttotal: 5.66s\tremaining: 14.4s\n",
      "400:\tlearn: 0.9293526\ttotal: 7.91s\tremaining: 13.2s\n",
      "500:\tlearn: 0.9405880\ttotal: 10.1s\tremaining: 11.5s\n",
      "600:\tlearn: 0.9486602\ttotal: 12.6s\tremaining: 9.77s\n",
      "700:\tlearn: 0.9576677\ttotal: 14.7s\tremaining: 7.69s\n",
      "800:\tlearn: 0.9648034\ttotal: 16.7s\tremaining: 5.56s\n",
      "900:\tlearn: 0.9705715\ttotal: 18.7s\tremaining: 3.46s\n",
      "1000:\tlearn: 0.9762706\ttotal: 20.6s\tremaining: 1.38s\n"
     ]
    },
    {
     "name": "stderr",
     "output_type": "stream",
     "text": [
      "[I 2025-01-01 21:08:42,321] Trial 54 finished with value: 0.9791069652285134 and parameters: {'iterations': 1068, 'learning_rate': 0.07008406643386847, 'depth': 9, 'subsample': 0.3632191163891586, 'colsample_bylevel': 0.755775723179898, 'min_data_in_leaf': 585, 'scale_pos_weight': 5.9436585571059615}. Best is trial 46 with value: 0.9994724783078085.\n"
     ]
    },
    {
     "name": "stdout",
     "output_type": "stream",
     "text": [
      "1067:\tlearn: 0.9791070\ttotal: 21.9s\tremaining: 0us\n",
      "0:\tlearn: 0.7932105\ttotal: 19.9ms\tremaining: 21.6s\n",
      "100:\tlearn: 0.8477402\ttotal: 1.9s\tremaining: 18.6s\n",
      "200:\tlearn: 0.8664362\ttotal: 3.85s\tremaining: 17s\n",
      "300:\tlearn: 0.8849844\ttotal: 6.38s\tremaining: 16.6s\n",
      "400:\tlearn: 0.8996577\ttotal: 8.79s\tremaining: 15s\n",
      "500:\tlearn: 0.9118247\ttotal: 11.3s\tremaining: 13.2s\n",
      "600:\tlearn: 0.9249413\ttotal: 13.6s\tremaining: 11s\n",
      "700:\tlearn: 0.9344923\ttotal: 15.8s\tremaining: 8.68s\n",
      "800:\tlearn: 0.9431536\ttotal: 18s\tremaining: 6.4s\n",
      "900:\tlearn: 0.9504187\ttotal: 20.1s\tremaining: 4.12s\n",
      "1000:\tlearn: 0.9562930\ttotal: 22.3s\tremaining: 1.89s\n"
     ]
    },
    {
     "name": "stderr",
     "output_type": "stream",
     "text": [
      "[I 2025-01-01 21:09:06,601] Trial 55 finished with value: 0.9619163828161651 and parameters: {'iterations': 1086, 'learning_rate': 0.049382618289372786, 'depth': 9, 'subsample': 0.37433448256743906, 'colsample_bylevel': 0.8880014913546382, 'min_data_in_leaf': 660, 'scale_pos_weight': 4.753195216498786}. Best is trial 46 with value: 0.9994724783078085.\n"
     ]
    },
    {
     "name": "stdout",
     "output_type": "stream",
     "text": [
      "1085:\tlearn: 0.9619164\ttotal: 24s\tremaining: 0us\n",
      "0:\tlearn: 0.8133569\ttotal: 30.3ms\tremaining: 32.4s\n",
      "100:\tlearn: 0.8204055\ttotal: 2.17s\tremaining: 20.9s\n",
      "200:\tlearn: 0.8269035\ttotal: 4.53s\tremaining: 19.6s\n",
      "300:\tlearn: 0.8358226\ttotal: 7.43s\tremaining: 19s\n",
      "400:\tlearn: 0.8370381\ttotal: 10.2s\tremaining: 17.1s\n",
      "500:\tlearn: 0.8407444\ttotal: 13.1s\tremaining: 14.9s\n",
      "600:\tlearn: 0.8432195\ttotal: 15.9s\tremaining: 12.4s\n",
      "700:\tlearn: 0.8452339\ttotal: 18.7s\tremaining: 9.85s\n",
      "800:\tlearn: 0.8486961\ttotal: 21.6s\tremaining: 7.3s\n",
      "900:\tlearn: 0.8509046\ttotal: 24.6s\tremaining: 4.65s\n",
      "1000:\tlearn: 0.8528978\ttotal: 27.2s\tremaining: 1.9s\n"
     ]
    },
    {
     "name": "stderr",
     "output_type": "stream",
     "text": [
      "[I 2025-01-01 21:09:36,148] Trial 56 finished with value: 0.8538932732380031 and parameters: {'iterations': 1071, 'learning_rate': 0.0026374472820952593, 'depth': 10, 'subsample': 0.3098700390572352, 'colsample_bylevel': 0.7125476509138177, 'min_data_in_leaf': 575, 'scale_pos_weight': 5.393080992904211}. Best is trial 46 with value: 0.9994724783078085.\n"
     ]
    },
    {
     "name": "stdout",
     "output_type": "stream",
     "text": [
      "1070:\tlearn: 0.8538887\ttotal: 29.3s\tremaining: 0us\n",
      "0:\tlearn: 0.8247440\ttotal: 23.1ms\tremaining: 24.5s\n",
      "100:\tlearn: 0.8308786\ttotal: 2.54s\tremaining: 24.1s\n",
      "200:\tlearn: 0.8413990\ttotal: 5.35s\tremaining: 22.9s\n",
      "300:\tlearn: 0.8470307\ttotal: 8.41s\tremaining: 21.3s\n",
      "400:\tlearn: 0.8514854\ttotal: 11.2s\tremaining: 18.5s\n",
      "500:\tlearn: 0.8575386\ttotal: 14.2s\tremaining: 15.9s\n",
      "600:\tlearn: 0.8614246\ttotal: 17.1s\tremaining: 13.1s\n",
      "700:\tlearn: 0.8648813\ttotal: 19.7s\tremaining: 10.2s\n",
      "800:\tlearn: 0.8680923\ttotal: 22.4s\tremaining: 7.29s\n",
      "900:\tlearn: 0.8703735\ttotal: 25.1s\tremaining: 4.48s\n",
      "1000:\tlearn: 0.8724805\ttotal: 27.6s\tremaining: 1.68s\n"
     ]
    },
    {
     "name": "stderr",
     "output_type": "stream",
     "text": [
      "[I 2025-01-01 21:10:05,359] Trial 57 finished with value: 0.8734173800335933 and parameters: {'iterations': 1062, 'learning_rate': 0.005031479701717062, 'depth': 10, 'subsample': 0.40485984509788403, 'colsample_bylevel': 0.9466858282811986, 'min_data_in_leaf': 737, 'scale_pos_weight': 5.758067977606623}. Best is trial 46 with value: 0.9994724783078085.\n"
     ]
    },
    {
     "name": "stdout",
     "output_type": "stream",
     "text": [
      "1061:\tlearn: 0.8734174\ttotal: 29s\tremaining: 0us\n",
      "0:\tlearn: 0.8128267\ttotal: 11.4ms\tremaining: 12.3s\n",
      "100:\tlearn: 0.8748718\ttotal: 1.69s\tremaining: 16.4s\n",
      "200:\tlearn: 0.9030297\ttotal: 3.74s\tremaining: 16.4s\n",
      "300:\tlearn: 0.9205581\ttotal: 5.67s\tremaining: 14.7s\n",
      "400:\tlearn: 0.9345578\ttotal: 7.74s\tremaining: 13.1s\n",
      "500:\tlearn: 0.9456991\ttotal: 9.83s\tremaining: 11.4s\n",
      "600:\tlearn: 0.9538828\ttotal: 11.9s\tremaining: 9.52s\n",
      "700:\tlearn: 0.9622134\ttotal: 14s\tremaining: 7.61s\n",
      "800:\tlearn: 0.9705537\ttotal: 16.2s\tremaining: 5.65s\n",
      "900:\tlearn: 0.9755950\ttotal: 18.2s\tremaining: 3.64s\n",
      "1000:\tlearn: 0.9801643\ttotal: 20.3s\tremaining: 1.62s\n"
     ]
    },
    {
     "name": "stderr",
     "output_type": "stream",
     "text": [
      "[I 2025-01-01 21:10:27,571] Trial 58 finished with value: 0.9829056823388399 and parameters: {'iterations': 1081, 'learning_rate': 0.08095754854649254, 'depth': 9, 'subsample': 0.3245086835533506, 'colsample_bylevel': 0.7723459709768403, 'min_data_in_leaf': 263, 'scale_pos_weight': 6.131796875613493}. Best is trial 46 with value: 0.9994724783078085.\n"
     ]
    },
    {
     "name": "stdout",
     "output_type": "stream",
     "text": [
      "1080:\tlearn: 0.9828664\ttotal: 22s\tremaining: 0us\n",
      "0:\tlearn: 0.7023951\ttotal: 12.3ms\tremaining: 13.4s\n",
      "100:\tlearn: 0.8253444\ttotal: 1.25s\tremaining: 12.3s\n",
      "200:\tlearn: 0.8465282\ttotal: 2.49s\tremaining: 11.1s\n",
      "300:\tlearn: 0.8619604\ttotal: 3.78s\tremaining: 9.96s\n",
      "400:\tlearn: 0.8753119\ttotal: 4.98s\tremaining: 8.6s\n",
      "500:\tlearn: 0.8887869\ttotal: 6.2s\tremaining: 7.34s\n",
      "600:\tlearn: 0.8990967\ttotal: 7.49s\tremaining: 6.14s\n",
      "700:\tlearn: 0.9075555\ttotal: 8.78s\tremaining: 4.92s\n",
      "800:\tlearn: 0.9168093\ttotal: 10.2s\tremaining: 3.73s\n",
      "900:\tlearn: 0.9220435\ttotal: 11.6s\tremaining: 2.49s\n",
      "1000:\tlearn: 0.9317227\ttotal: 13.1s\tremaining: 1.22s\n"
     ]
    },
    {
     "name": "stderr",
     "output_type": "stream",
     "text": [
      "[I 2025-01-01 21:10:42,168] Trial 59 finished with value: 0.9376564270031389 and parameters: {'iterations': 1094, 'learning_rate': 0.06719660276765743, 'depth': 8, 'subsample': 0.271974654850604, 'colsample_bylevel': 0.713870564081931, 'min_data_in_leaf': 512, 'scale_pos_weight': 3.8439987603795407}. Best is trial 46 with value: 0.9994724783078085.\n"
     ]
    },
    {
     "name": "stdout",
     "output_type": "stream",
     "text": [
      "1093:\tlearn: 0.9376564\ttotal: 14.4s\tremaining: 0us\n",
      "0:\tlearn: 0.8041458\ttotal: 30.4ms\tremaining: 31.7s\n",
      "100:\tlearn: 0.8758322\ttotal: 2.41s\tremaining: 22.5s\n",
      "200:\tlearn: 0.9196919\ttotal: 5.3s\tremaining: 22.2s\n",
      "300:\tlearn: 0.9511697\ttotal: 8.3s\tremaining: 20.5s\n",
      "400:\tlearn: 0.9706197\ttotal: 11.3s\tremaining: 18.2s\n",
      "500:\tlearn: 0.9829048\ttotal: 14.3s\tremaining: 15.5s\n",
      "600:\tlearn: 0.9900631\ttotal: 17.3s\tremaining: 12.8s\n",
      "700:\tlearn: 0.9944051\ttotal: 20.4s\tremaining: 9.97s\n",
      "800:\tlearn: 0.9970720\ttotal: 23.3s\tremaining: 7.07s\n",
      "900:\tlearn: 0.9984866\ttotal: 26.1s\tremaining: 4.14s\n",
      "1000:\tlearn: 0.9991207\ttotal: 29s\tremaining: 1.24s\n"
     ]
    },
    {
     "name": "stderr",
     "output_type": "stream",
     "text": [
      "[I 2025-01-01 21:11:12,687] Trial 60 finished with value: 0.9993647882383941 and parameters: {'iterations': 1044, 'learning_rate': 0.09939016884464752, 'depth': 10, 'subsample': 0.49343548017386196, 'colsample_bylevel': 0.5320808418976103, 'min_data_in_leaf': 618, 'scale_pos_weight': 5.091515260720343}. Best is trial 46 with value: 0.9994724783078085.\n"
     ]
    },
    {
     "name": "stdout",
     "output_type": "stream",
     "text": [
      "1043:\tlearn: 0.9993648\ttotal: 30.3s\tremaining: 0us\n",
      "0:\tlearn: 0.7126259\ttotal: 5.24ms\tremaining: 5.47s\n",
      "100:\tlearn: 0.8157892\ttotal: 410ms\tremaining: 3.83s\n",
      "200:\tlearn: 0.8264959\ttotal: 823ms\tremaining: 3.46s\n",
      "300:\tlearn: 0.8293303\ttotal: 1.25s\tremaining: 3.08s\n",
      "400:\tlearn: 0.8313747\ttotal: 1.66s\tremaining: 2.67s\n",
      "500:\tlearn: 0.8325503\ttotal: 2.08s\tremaining: 2.26s\n",
      "600:\tlearn: 0.8343429\ttotal: 2.51s\tremaining: 1.85s\n",
      "700:\tlearn: 0.8353264\ttotal: 2.94s\tremaining: 1.44s\n",
      "800:\tlearn: 0.8375739\ttotal: 3.37s\tremaining: 1.02s\n",
      "900:\tlearn: 0.8395537\ttotal: 3.78s\tremaining: 604ms\n",
      "1000:\tlearn: 0.8401804\ttotal: 4.22s\tremaining: 186ms\n",
      "1044:\tlearn: 0.8413082\ttotal: 4.41s\tremaining: 0us\n"
     ]
    },
    {
     "name": "stderr",
     "output_type": "stream",
     "text": [
      "[I 2025-01-01 21:11:17,181] Trial 61 finished with value: 0.8413727811252659 and parameters: {'iterations': 1045, 'learning_rate': 0.09969303970878106, 'depth': 2, 'subsample': 0.5084476861843633, 'colsample_bylevel': 0.5695922486430225, 'min_data_in_leaf': 618, 'scale_pos_weight': 4.767787780501331}. Best is trial 46 with value: 0.9994724783078085.\n"
     ]
    },
    {
     "name": "stdout",
     "output_type": "stream",
     "text": [
      "0:\tlearn: 0.7098598\ttotal: 8.34ms\tremaining: 8.81s\n",
      "100:\tlearn: 0.8649338\ttotal: 2.12s\tremaining: 20.1s\n",
      "200:\tlearn: 0.9017802\ttotal: 4.47s\tremaining: 19.1s\n",
      "300:\tlearn: 0.9300293\ttotal: 7.04s\tremaining: 17.7s\n",
      "400:\tlearn: 0.9494655\ttotal: 9.57s\tremaining: 15.7s\n",
      "500:\tlearn: 0.9622052\ttotal: 12.3s\tremaining: 13.7s\n",
      "600:\tlearn: 0.9769644\ttotal: 14.8s\tremaining: 11.3s\n",
      "700:\tlearn: 0.9842487\ttotal: 17.5s\tremaining: 8.89s\n",
      "800:\tlearn: 0.9892530\ttotal: 20.1s\tremaining: 6.44s\n",
      "900:\tlearn: 0.9932395\ttotal: 22.9s\tremaining: 3.97s\n",
      "1000:\tlearn: 0.9959840\ttotal: 25.7s\tremaining: 1.44s\n"
     ]
    },
    {
     "name": "stderr",
     "output_type": "stream",
     "text": [
      "[I 2025-01-01 21:11:44,895] Trial 62 finished with value: 0.9968469810227717 and parameters: {'iterations': 1057, 'learning_rate': 0.07856729723007977, 'depth': 10, 'subsample': 0.40850828614578255, 'colsample_bylevel': 0.2738373446440945, 'min_data_in_leaf': 675, 'scale_pos_weight': 5.155150966317846}. Best is trial 46 with value: 0.9994724783078085.\n"
     ]
    },
    {
     "name": "stdout",
     "output_type": "stream",
     "text": [
      "1056:\tlearn: 0.9968230\ttotal: 27.4s\tremaining: 0us\n",
      "0:\tlearn: 0.8210508\ttotal: 26.6ms\tremaining: 28.6s\n",
      "100:\tlearn: 0.8863935\ttotal: 1.83s\tremaining: 17.7s\n",
      "200:\tlearn: 0.9115055\ttotal: 4.51s\tremaining: 19.7s\n",
      "300:\tlearn: 0.9322816\ttotal: 7.52s\tremaining: 19.4s\n",
      "400:\tlearn: 0.9431833\ttotal: 9.91s\tremaining: 16.7s\n",
      "500:\tlearn: 0.9532019\ttotal: 12.2s\tremaining: 14.1s\n",
      "600:\tlearn: 0.9623001\ttotal: 14.5s\tremaining: 11.5s\n",
      "700:\tlearn: 0.9703047\ttotal: 16.8s\tremaining: 9.02s\n",
      "800:\tlearn: 0.9758559\ttotal: 18.9s\tremaining: 6.53s\n",
      "900:\tlearn: 0.9815494\ttotal: 21.1s\tremaining: 4.13s\n",
      "1000:\tlearn: 0.9848581\ttotal: 23.3s\tremaining: 1.77s\n"
     ]
    },
    {
     "name": "stderr",
     "output_type": "stream",
     "text": [
      "[I 2025-01-01 21:12:10,096] Trial 63 finished with value: 0.9877535056142204 and parameters: {'iterations': 1077, 'learning_rate': 0.08621523018850265, 'depth': 9, 'subsample': 0.4805862882278092, 'colsample_bylevel': 0.8181105046908854, 'min_data_in_leaf': 779, 'scale_pos_weight': 6.775415627277363}. Best is trial 46 with value: 0.9994724783078085.\n"
     ]
    },
    {
     "name": "stdout",
     "output_type": "stream",
     "text": [
      "1076:\tlearn: 0.9877535\ttotal: 24.9s\tremaining: 0us\n",
      "0:\tlearn: 0.7786096\ttotal: 31.8ms\tremaining: 32.6s\n",
      "100:\tlearn: 0.8398344\ttotal: 2.42s\tremaining: 22.2s\n",
      "200:\tlearn: 0.8600159\ttotal: 4.88s\tremaining: 20.1s\n",
      "300:\tlearn: 0.8799629\ttotal: 7.67s\tremaining: 18.5s\n",
      "400:\tlearn: 0.9039973\ttotal: 10.7s\tremaining: 16.7s\n",
      "500:\tlearn: 0.9214372\ttotal: 13.9s\tremaining: 14.6s\n",
      "600:\tlearn: 0.9335088\ttotal: 17s\tremaining: 12s\n",
      "700:\tlearn: 0.9439602\ttotal: 19.9s\tremaining: 9.27s\n",
      "800:\tlearn: 0.9533227\ttotal: 23s\tremaining: 6.49s\n",
      "900:\tlearn: 0.9632756\ttotal: 25.9s\tremaining: 3.63s\n",
      "1000:\tlearn: 0.9705935\ttotal: 28.9s\tremaining: 752ms\n"
     ]
    },
    {
     "name": "stderr",
     "output_type": "stream",
     "text": [
      "[I 2025-01-01 21:12:40,102] Trial 64 finished with value: 0.9718010022029782 and parameters: {'iterations': 1027, 'learning_rate': 0.03966964558853673, 'depth': 10, 'subsample': 0.5555213143858337, 'colsample_bylevel': 0.5281929056902703, 'min_data_in_leaf': 376, 'scale_pos_weight': 4.470454886953283}. Best is trial 46 with value: 0.9994724783078085.\n"
     ]
    },
    {
     "name": "stdout",
     "output_type": "stream",
     "text": [
      "1026:\tlearn: 0.9717743\ttotal: 29.7s\tremaining: 0us\n",
      "0:\tlearn: 0.7845859\ttotal: 52ms\tremaining: 54.1s\n",
      "100:\tlearn: 0.8761265\ttotal: 2.84s\tremaining: 26.4s\n",
      "200:\tlearn: 0.9005511\ttotal: 6.55s\tremaining: 27.3s\n",
      "300:\tlearn: 0.9253112\ttotal: 10.2s\tremaining: 25.1s\n",
      "400:\tlearn: 0.9414269\ttotal: 13.4s\tremaining: 21.3s\n",
      "500:\tlearn: 0.9515508\ttotal: 16.6s\tremaining: 17.8s\n",
      "600:\tlearn: 0.9656520\ttotal: 19.7s\tremaining: 14.4s\n",
      "700:\tlearn: 0.9740318\ttotal: 22.8s\tremaining: 11s\n",
      "800:\tlearn: 0.9806160\ttotal: 26s\tremaining: 7.77s\n",
      "900:\tlearn: 0.9850813\ttotal: 29.2s\tremaining: 4.5s\n",
      "1000:\tlearn: 0.9891399\ttotal: 32.2s\tremaining: 1.26s\n"
     ]
    },
    {
     "name": "stderr",
     "output_type": "stream",
     "text": [
      "[I 2025-01-01 21:13:13,825] Trial 65 finished with value: 0.9902721995322352 and parameters: {'iterations': 1040, 'learning_rate': 0.06291750747125872, 'depth': 10, 'subsample': 0.36678299971486183, 'colsample_bylevel': 0.9268827419757171, 'min_data_in_leaf': 632, 'scale_pos_weight': 5.571716224789554}. Best is trial 46 with value: 0.9994724783078085.\n"
     ]
    },
    {
     "name": "stdout",
     "output_type": "stream",
     "text": [
      "1039:\tlearn: 0.9902722\ttotal: 33.5s\tremaining: 0us\n",
      "0:\tlearn: 0.8013124\ttotal: 21.5ms\tremaining: 22.9s\n",
      "100:\tlearn: 0.8802549\ttotal: 1.54s\tremaining: 14.7s\n",
      "200:\tlearn: 0.8950144\ttotal: 3.04s\tremaining: 13.1s\n",
      "300:\tlearn: 0.9089993\ttotal: 4.79s\tremaining: 12.1s\n",
      "400:\tlearn: 0.9177721\ttotal: 6.66s\tremaining: 11s\n",
      "500:\tlearn: 0.9258456\ttotal: 8.5s\tremaining: 9.57s\n",
      "600:\tlearn: 0.9322981\ttotal: 10.3s\tremaining: 7.93s\n",
      "700:\tlearn: 0.9407165\ttotal: 12s\tremaining: 6.25s\n",
      "800:\tlearn: 0.9456748\ttotal: 13.9s\tremaining: 4.58s\n",
      "900:\tlearn: 0.9508681\ttotal: 15.7s\tremaining: 2.86s\n",
      "1000:\tlearn: 0.9558659\ttotal: 17.5s\tremaining: 1.12s\n"
     ]
    },
    {
     "name": "stderr",
     "output_type": "stream",
     "text": [
      "[I 2025-01-01 21:13:32,645] Trial 66 finished with value: 0.9590605133442017 and parameters: {'iterations': 1065, 'learning_rate': 0.05326983746123046, 'depth': 9, 'subsample': 0.23308506685094676, 'colsample_bylevel': 0.503138058076408, 'min_data_in_leaf': 724, 'scale_pos_weight': 7.144772444603952}. Best is trial 46 with value: 0.9994724783078085.\n"
     ]
    },
    {
     "name": "stdout",
     "output_type": "stream",
     "text": [
      "1064:\tlearn: 0.9590605\ttotal: 18.6s\tremaining: 0us\n",
      "0:\tlearn: 0.7985674\ttotal: 29.5ms\tremaining: 31.1s\n",
      "100:\tlearn: 0.8789841\ttotal: 3.03s\tremaining: 28.6s\n",
      "200:\tlearn: 0.9073332\ttotal: 5.91s\tremaining: 25.1s\n",
      "300:\tlearn: 0.9272165\ttotal: 8.81s\tremaining: 22.1s\n",
      "400:\tlearn: 0.9426591\ttotal: 11.7s\tremaining: 19.1s\n",
      "500:\tlearn: 0.9566034\ttotal: 14.6s\tremaining: 16.2s\n",
      "600:\tlearn: 0.9698278\ttotal: 18.1s\tremaining: 13.7s\n",
      "700:\tlearn: 0.9774758\ttotal: 22.4s\tremaining: 11.3s\n",
      "800:\tlearn: 0.9850440\ttotal: 26.6s\tremaining: 8.45s\n",
      "900:\tlearn: 0.9910324\ttotal: 30.7s\tremaining: 5.24s\n",
      "1000:\tlearn: 0.9936232\ttotal: 35s\tremaining: 1.89s\n",
      "1054:\tlearn: 0.9944106\ttotal: 37.4s\tremaining: 0us\n"
     ]
    },
    {
     "name": "stderr",
     "output_type": "stream",
     "text": [
      "[I 2025-01-01 21:14:10,460] Trial 67 finished with value: 0.9944595113867474 and parameters: {'iterations': 1055, 'learning_rate': 0.08387293775539437, 'depth': 10, 'subsample': 0.16210214709643025, 'colsample_bylevel': 0.8714009398533448, 'min_data_in_leaf': 465, 'scale_pos_weight': 5.032730539186012}. Best is trial 46 with value: 0.9994724783078085.\n"
     ]
    },
    {
     "name": "stdout",
     "output_type": "stream",
     "text": [
      "0:\tlearn: 0.8146762\ttotal: 38.2ms\tremaining: 42s\n",
      "100:\tlearn: 0.8689834\ttotal: 2.53s\tremaining: 25s\n",
      "200:\tlearn: 0.8921867\ttotal: 5.13s\tremaining: 23s\n",
      "300:\tlearn: 0.9140123\ttotal: 8.04s\tremaining: 21.3s\n",
      "400:\tlearn: 0.9288563\ttotal: 11.1s\tremaining: 19.3s\n",
      "500:\tlearn: 0.9411125\ttotal: 14.4s\tremaining: 17.2s\n",
      "600:\tlearn: 0.9486432\ttotal: 17.4s\tremaining: 14.4s\n",
      "700:\tlearn: 0.9574481\ttotal: 19.9s\tremaining: 11.3s\n",
      "800:\tlearn: 0.9652399\ttotal: 22.4s\tremaining: 8.36s\n",
      "900:\tlearn: 0.9717573\ttotal: 24.6s\tremaining: 5.43s\n",
      "1000:\tlearn: 0.9765657\ttotal: 26.9s\tremaining: 2.66s\n"
     ]
    },
    {
     "name": "stderr",
     "output_type": "stream",
     "text": [
      "[I 2025-01-01 21:14:40,071] Trial 68 finished with value: 0.9814101579803408 and parameters: {'iterations': 1100, 'learning_rate': 0.06662801793455161, 'depth': 9, 'subsample': 0.4316520088577751, 'colsample_bylevel': 0.7250931870509739, 'min_data_in_leaf': 568, 'scale_pos_weight': 6.0905269490582725}. Best is trial 46 with value: 0.9994724783078085.\n"
     ]
    },
    {
     "name": "stdout",
     "output_type": "stream",
     "text": [
      "1099:\tlearn: 0.9813904\ttotal: 29.2s\tremaining: 0us\n",
      "0:\tlearn: 0.7777432\ttotal: 35.7ms\tremaining: 38.4s\n",
      "100:\tlearn: 0.8742981\ttotal: 1.95s\tremaining: 18.8s\n",
      "200:\tlearn: 0.9061476\ttotal: 4.02s\tremaining: 17.5s\n",
      "300:\tlearn: 0.9256486\ttotal: 6.02s\tremaining: 15.5s\n",
      "400:\tlearn: 0.9427922\ttotal: 7.96s\tremaining: 13.4s\n",
      "500:\tlearn: 0.9540546\ttotal: 10s\tremaining: 11.5s\n",
      "600:\tlearn: 0.9627159\ttotal: 11.9s\tremaining: 9.4s\n",
      "700:\tlearn: 0.9722648\ttotal: 13.9s\tremaining: 7.42s\n",
      "800:\tlearn: 0.9792531\ttotal: 15.9s\tremaining: 5.43s\n",
      "900:\tlearn: 0.9848192\ttotal: 17.8s\tremaining: 3.44s\n",
      "1000:\tlearn: 0.9888833\ttotal: 19.9s\tremaining: 1.47s\n"
     ]
    },
    {
     "name": "stderr",
     "output_type": "stream",
     "text": [
      "[I 2025-01-01 21:15:01,834] Trial 69 finished with value: 0.9908336840802616 and parameters: {'iterations': 1075, 'learning_rate': 0.09893501059464367, 'depth': 9, 'subsample': 0.3356087696635368, 'colsample_bylevel': 0.6210838231705063, 'min_data_in_leaf': 778, 'scale_pos_weight': 5.75093504575177}. Best is trial 46 with value: 0.9994724783078085.\n"
     ]
    },
    {
     "name": "stdout",
     "output_type": "stream",
     "text": [
      "1074:\tlearn: 0.9908337\ttotal: 21.5s\tremaining: 0us\n",
      "0:\tlearn: 0.7572344\ttotal: 36.9ms\tremaining: 38.2s\n",
      "100:\tlearn: 0.7747838\ttotal: 2.62s\tremaining: 24.2s\n",
      "200:\tlearn: 0.7942362\ttotal: 5.4s\tremaining: 22.4s\n",
      "300:\tlearn: 0.8054812\ttotal: 8.1s\tremaining: 19.7s\n",
      "400:\tlearn: 0.8154137\ttotal: 10.9s\tremaining: 17.2s\n",
      "500:\tlearn: 0.8237541\ttotal: 13.6s\tremaining: 14.5s\n",
      "600:\tlearn: 0.8297139\ttotal: 16.3s\tremaining: 11.8s\n",
      "700:\tlearn: 0.8361680\ttotal: 18.9s\tremaining: 8.99s\n",
      "800:\tlearn: 0.8422920\ttotal: 21.4s\tremaining: 6.25s\n",
      "900:\tlearn: 0.8489694\ttotal: 24.1s\tremaining: 3.58s\n",
      "1000:\tlearn: 0.8563817\ttotal: 27.3s\tremaining: 929ms\n"
     ]
    },
    {
     "name": "stderr",
     "output_type": "stream",
     "text": [
      "[I 2025-01-01 21:15:30,550] Trial 70 finished with value: 0.8588528651354501 and parameters: {'iterations': 1035, 'learning_rate': 0.01100484227621101, 'depth': 10, 'subsample': 0.3935965022149863, 'colsample_bylevel': 0.7711863181828464, 'min_data_in_leaf': 662, 'scale_pos_weight': 3.1519975012601136}. Best is trial 46 with value: 0.9994724783078085.\n"
     ]
    },
    {
     "name": "stdout",
     "output_type": "stream",
     "text": [
      "1034:\tlearn: 0.8587862\ttotal: 28.5s\tremaining: 0us\n",
      "0:\tlearn: 0.7097565\ttotal: 21.1ms\tremaining: 21.3s\n",
      "100:\tlearn: 0.8645293\ttotal: 2.75s\tremaining: 24.8s\n",
      "200:\tlearn: 0.9159442\ttotal: 5.84s\tremaining: 23.6s\n",
      "300:\tlearn: 0.9445443\ttotal: 8.96s\tremaining: 21.2s\n",
      "400:\tlearn: 0.9630939\ttotal: 12s\tremaining: 18.3s\n",
      "500:\tlearn: 0.9799146\ttotal: 15.2s\tremaining: 15.6s\n",
      "600:\tlearn: 0.9890970\ttotal: 18.4s\tremaining: 12.7s\n",
      "700:\tlearn: 0.9941873\ttotal: 21.8s\tremaining: 9.73s\n",
      "800:\tlearn: 0.9972593\ttotal: 25.1s\tremaining: 6.68s\n",
      "900:\tlearn: 0.9987712\ttotal: 28.4s\tremaining: 3.56s\n",
      "1000:\tlearn: 0.9994625\ttotal: 31.6s\tremaining: 411ms\n"
     ]
    },
    {
     "name": "stderr",
     "output_type": "stream",
     "text": [
      "[I 2025-01-01 21:16:02,821] Trial 71 finished with value: 0.9995256628954461 and parameters: {'iterations': 1014, 'learning_rate': 0.09797395515751256, 'depth': 10, 'subsample': 0.5327713242138981, 'colsample_bylevel': 0.813390872468894, 'min_data_in_leaf': 859, 'scale_pos_weight': 3.9342891350306544}. Best is trial 71 with value: 0.9995256628954461.\n"
     ]
    },
    {
     "name": "stdout",
     "output_type": "stream",
     "text": [
      "1013:\tlearn: 0.9994941\ttotal: 32s\tremaining: 0us\n",
      "0:\tlearn: 0.7665199\ttotal: 14.4ms\tremaining: 14.6s\n",
      "100:\tlearn: 0.8486813\ttotal: 2.54s\tremaining: 23s\n",
      "200:\tlearn: 0.8982827\ttotal: 5.54s\tremaining: 22.4s\n",
      "300:\tlearn: 0.9294072\ttotal: 8.56s\tremaining: 20.3s\n",
      "400:\tlearn: 0.9525312\ttotal: 11.6s\tremaining: 17.7s\n",
      "500:\tlearn: 0.9661711\ttotal: 14.7s\tremaining: 15s\n",
      "600:\tlearn: 0.9800809\ttotal: 17.8s\tremaining: 12.2s\n",
      "700:\tlearn: 0.9883543\ttotal: 20.8s\tremaining: 9.31s\n",
      "800:\tlearn: 0.9931987\ttotal: 23.9s\tremaining: 6.36s\n",
      "900:\tlearn: 0.9963054\ttotal: 27s\tremaining: 3.38s\n",
      "1000:\tlearn: 0.9981648\ttotal: 30.1s\tremaining: 392ms\n"
     ]
    },
    {
     "name": "stderr",
     "output_type": "stream",
     "text": [
      "[I 2025-01-01 21:16:33,659] Trial 72 finished with value: 0.9982596501319434 and parameters: {'iterations': 1014, 'learning_rate': 0.0826649624260379, 'depth': 10, 'subsample': 0.43879267307905795, 'colsample_bylevel': 0.8198530756771767, 'min_data_in_leaf': 850, 'scale_pos_weight': 3.9222139771211157}. Best is trial 71 with value: 0.9995256628954461.\n"
     ]
    },
    {
     "name": "stdout",
     "output_type": "stream",
     "text": [
      "1013:\tlearn: 0.9982597\ttotal: 30.6s\tremaining: 0us\n",
      "0:\tlearn: 0.7310683\ttotal: 14.5ms\tremaining: 14.8s\n",
      "100:\tlearn: 0.8473007\ttotal: 2.71s\tremaining: 24.7s\n",
      "200:\tlearn: 0.8934833\ttotal: 6.17s\tremaining: 25.2s\n",
      "300:\tlearn: 0.9263777\ttotal: 9.47s\tremaining: 22.6s\n",
      "400:\tlearn: 0.9522215\ttotal: 12.7s\tremaining: 19.6s\n",
      "500:\tlearn: 0.9667880\ttotal: 15.9s\tremaining: 16.5s\n",
      "600:\tlearn: 0.9802705\ttotal: 19.2s\tremaining: 13.4s\n",
      "700:\tlearn: 0.9879366\ttotal: 22.4s\tremaining: 10.2s\n",
      "800:\tlearn: 0.9936814\ttotal: 25.6s\tremaining: 7s\n",
      "900:\tlearn: 0.9967938\ttotal: 28.8s\tremaining: 3.81s\n",
      "1000:\tlearn: 0.9982475\ttotal: 32.1s\tremaining: 609ms\n"
     ]
    },
    {
     "name": "stderr",
     "output_type": "stream",
     "text": [
      "[I 2025-01-01 21:17:06,613] Trial 73 finished with value: 0.9984380504955891 and parameters: {'iterations': 1020, 'learning_rate': 0.08182639032801191, 'depth': 10, 'subsample': 0.4482710691991524, 'colsample_bylevel': 0.8268472701439207, 'min_data_in_leaf': 607, 'scale_pos_weight': 3.7661051662707874}. Best is trial 71 with value: 0.9995256628954461.\n"
     ]
    },
    {
     "name": "stdout",
     "output_type": "stream",
     "text": [
      "1019:\tlearn: 0.9984381\ttotal: 32.7s\tremaining: 0us\n",
      "0:\tlearn: 0.6385042\ttotal: 25ms\tremaining: 25.5s\n",
      "100:\tlearn: 0.7845546\ttotal: 1.86s\tremaining: 17s\n",
      "200:\tlearn: 0.8195048\ttotal: 3.73s\tremaining: 15.2s\n",
      "300:\tlearn: 0.8495440\ttotal: 5.75s\tremaining: 13.7s\n",
      "400:\tlearn: 0.8725470\ttotal: 7.96s\tremaining: 12.3s\n",
      "500:\tlearn: 0.8943748\ttotal: 9.96s\tremaining: 10.3s\n",
      "600:\tlearn: 0.9102203\ttotal: 12s\tremaining: 8.36s\n",
      "700:\tlearn: 0.9240216\ttotal: 14s\tremaining: 6.38s\n",
      "800:\tlearn: 0.9355343\ttotal: 16s\tremaining: 4.39s\n",
      "900:\tlearn: 0.9481433\ttotal: 17.9s\tremaining: 2.39s\n",
      "1000:\tlearn: 0.9563642\ttotal: 20s\tremaining: 400ms\n"
     ]
    },
    {
     "name": "stderr",
     "output_type": "stream",
     "text": [
      "[I 2025-01-01 21:17:27,257] Trial 74 finished with value: 0.9578151967618279 and parameters: {'iterations': 1021, 'learning_rate': 0.0667373252943649, 'depth': 9, 'subsample': 0.2982252664992549, 'colsample_bylevel': 0.7624318374155562, 'min_data_in_leaf': 542, 'scale_pos_weight': 2.456675190245833}. Best is trial 71 with value: 0.9995256628954461.\n"
     ]
    },
    {
     "name": "stdout",
     "output_type": "stream",
     "text": [
      "1020:\tlearn: 0.9578152\ttotal: 20.4s\tremaining: 0us\n",
      "0:\tlearn: 0.6727528\ttotal: 10.2ms\tremaining: 10.7s\n",
      "100:\tlearn: 0.8427335\ttotal: 2.9s\tremaining: 27.1s\n",
      "200:\tlearn: 0.8853182\ttotal: 5.88s\tremaining: 24.7s\n",
      "300:\tlearn: 0.9226220\ttotal: 9.03s\tremaining: 22.3s\n",
      "400:\tlearn: 0.9462590\ttotal: 12.1s\tremaining: 19.4s\n",
      "500:\tlearn: 0.9620205\ttotal: 15.2s\tremaining: 16.4s\n",
      "600:\tlearn: 0.9744400\ttotal: 18.4s\tremaining: 13.6s\n",
      "700:\tlearn: 0.9856082\ttotal: 21.7s\tremaining: 10.6s\n",
      "800:\tlearn: 0.9928421\ttotal: 25.2s\tremaining: 7.64s\n",
      "900:\tlearn: 0.9960465\ttotal: 28.4s\tremaining: 4.51s\n",
      "1000:\tlearn: 0.9979418\ttotal: 31.8s\tremaining: 1.37s\n"
     ]
    },
    {
     "name": "stderr",
     "output_type": "stream",
     "text": [
      "[I 2025-01-01 21:18:00,769] Trial 75 finished with value: 0.9985756746649167 and parameters: {'iterations': 1044, 'learning_rate': 0.07540894999413543, 'depth': 10, 'subsample': 0.5267778819370126, 'colsample_bylevel': 0.8397549599879851, 'min_data_in_leaf': 482, 'scale_pos_weight': 3.549962499639846}. Best is trial 71 with value: 0.9995256628954461.\n"
     ]
    },
    {
     "name": "stdout",
     "output_type": "stream",
     "text": [
      "1043:\tlearn: 0.9985407\ttotal: 33.3s\tremaining: 0us\n",
      "0:\tlearn: 0.7066293\ttotal: 24.4ms\tremaining: 25.4s\n",
      "100:\tlearn: 0.8192060\ttotal: 2.07s\tremaining: 19.3s\n",
      "200:\tlearn: 0.8434765\ttotal: 4.03s\tremaining: 16.9s\n",
      "300:\tlearn: 0.8692256\ttotal: 6.4s\tremaining: 15.8s\n",
      "400:\tlearn: 0.8879407\ttotal: 8.76s\tremaining: 14s\n",
      "500:\tlearn: 0.9042807\ttotal: 10.8s\tremaining: 11.7s\n",
      "600:\tlearn: 0.9186566\ttotal: 12.9s\tremaining: 9.46s\n",
      "700:\tlearn: 0.9305628\ttotal: 15s\tremaining: 7.28s\n",
      "800:\tlearn: 0.9426208\ttotal: 17.2s\tremaining: 5.19s\n",
      "900:\tlearn: 0.9511090\ttotal: 19.4s\tremaining: 3.04s\n",
      "1000:\tlearn: 0.9572517\ttotal: 21.5s\tremaining: 881ms\n"
     ]
    },
    {
     "name": "stderr",
     "output_type": "stream",
     "text": [
      "[I 2025-01-01 21:18:23,372] Trial 76 finished with value: 0.9606842631876078 and parameters: {'iterations': 1042, 'learning_rate': 0.052250477906349804, 'depth': 9, 'subsample': 0.5979622776507031, 'colsample_bylevel': 0.866106144110849, 'min_data_in_leaf': 478, 'scale_pos_weight': 3.573451772913775}. Best is trial 71 with value: 0.9995256628954461.\n"
     ]
    },
    {
     "name": "stdout",
     "output_type": "stream",
     "text": [
      "1041:\tlearn: 0.9606843\ttotal: 22.4s\tremaining: 0us\n",
      "0:\tlearn: 0.6457623\ttotal: 9.18ms\tremaining: 9.49s\n",
      "100:\tlearn: 0.7698424\ttotal: 833ms\tremaining: 7.7s\n",
      "200:\tlearn: 0.7839905\ttotal: 1.6s\tremaining: 6.65s\n",
      "300:\tlearn: 0.7915371\ttotal: 2.42s\tremaining: 5.91s\n",
      "400:\tlearn: 0.7987124\ttotal: 3.21s\tremaining: 5.07s\n",
      "500:\tlearn: 0.8040390\ttotal: 4.2s\tremaining: 4.48s\n",
      "600:\tlearn: 0.8084235\ttotal: 5s\tremaining: 3.61s\n",
      "700:\tlearn: 0.8146996\ttotal: 5.79s\tremaining: 2.76s\n",
      "800:\tlearn: 0.8202486\ttotal: 6.58s\tremaining: 1.92s\n",
      "900:\tlearn: 0.8235504\ttotal: 7.37s\tremaining: 1.09s\n",
      "1000:\tlearn: 0.8293911\ttotal: 8.18s\tremaining: 278ms\n"
     ]
    },
    {
     "name": "stderr",
     "output_type": "stream",
     "text": [
      "[I 2025-01-01 21:18:31,951] Trial 77 finished with value: 0.8316410402856592 and parameters: {'iterations': 1035, 'learning_rate': 0.07382609956276276, 'depth': 5, 'subsample': 0.6420461363485067, 'colsample_bylevel': 0.6787505002847034, 'min_data_in_leaf': 715, 'scale_pos_weight': 2.7909573588213172}. Best is trial 71 with value: 0.9995256628954461.\n"
     ]
    },
    {
     "name": "stdout",
     "output_type": "stream",
     "text": [
      "1034:\tlearn: 0.8314942\ttotal: 8.45s\tremaining: 0us\n",
      "0:\tlearn: 0.7344248\ttotal: 27ms\tremaining: 27.6s\n",
      "100:\tlearn: 0.8374567\ttotal: 2.04s\tremaining: 18.7s\n",
      "200:\tlearn: 0.8633773\ttotal: 4.05s\tremaining: 16.6s\n",
      "300:\tlearn: 0.8974789\ttotal: 6.41s\tremaining: 15.4s\n",
      "400:\tlearn: 0.9197275\ttotal: 8.81s\tremaining: 13.7s\n",
      "500:\tlearn: 0.9369619\ttotal: 11.1s\tremaining: 11.7s\n",
      "600:\tlearn: 0.9512656\ttotal: 13.6s\tremaining: 9.64s\n",
      "700:\tlearn: 0.9628247\ttotal: 16.2s\tremaining: 7.5s\n",
      "800:\tlearn: 0.9734052\ttotal: 18.8s\tremaining: 5.28s\n",
      "900:\tlearn: 0.9811727\ttotal: 21.2s\tremaining: 2.94s\n",
      "1000:\tlearn: 0.9856839\ttotal: 23.7s\tremaining: 592ms\n"
     ]
    },
    {
     "name": "stderr",
     "output_type": "stream",
     "text": [
      "[I 2025-01-01 21:18:56,495] Trial 78 finished with value: 0.9868629000997279 and parameters: {'iterations': 1026, 'learning_rate': 0.05864029009616941, 'depth': 10, 'subsample': 0.5359115700314014, 'colsample_bylevel': 0.21158702528262568, 'min_data_in_leaf': 405, 'scale_pos_weight': 4.202974502162907}. Best is trial 71 with value: 0.9995256628954461.\n"
     ]
    },
    {
     "name": "stdout",
     "output_type": "stream",
     "text": [
      "1025:\tlearn: 0.9868629\ttotal: 24.3s\tremaining: 0us\n",
      "0:\tlearn: 0.7797628\ttotal: 31.7ms\tremaining: 33.3s\n",
      "100:\tlearn: 0.8213940\ttotal: 3.02s\tremaining: 28.4s\n",
      "200:\tlearn: 0.8393067\ttotal: 5.81s\tremaining: 24.6s\n",
      "300:\tlearn: 0.8517913\ttotal: 8.43s\tremaining: 21s\n",
      "400:\tlearn: 0.8622027\ttotal: 10.9s\tremaining: 17.7s\n",
      "500:\tlearn: 0.8733302\ttotal: 13.5s\tremaining: 14.8s\n",
      "600:\tlearn: 0.8848516\ttotal: 16.6s\tremaining: 12.4s\n",
      "700:\tlearn: 0.8983009\ttotal: 19.6s\tremaining: 9.77s\n",
      "800:\tlearn: 0.9092866\ttotal: 22.6s\tremaining: 7.05s\n",
      "900:\tlearn: 0.9188795\ttotal: 25.7s\tremaining: 4.27s\n",
      "1000:\tlearn: 0.9254943\ttotal: 29.7s\tremaining: 1.48s\n"
     ]
    },
    {
     "name": "stderr",
     "output_type": "stream",
     "text": [
      "[I 2025-01-01 21:19:28,562] Trial 79 finished with value: 0.9291980666444928 and parameters: {'iterations': 1051, 'learning_rate': 0.020813923820412642, 'depth': 10, 'subsample': 0.49562768914284283, 'colsample_bylevel': 0.7347853077272785, 'min_data_in_leaf': 592, 'scale_pos_weight': 4.219298184346698}. Best is trial 71 with value: 0.9995256628954461.\n"
     ]
    },
    {
     "name": "stdout",
     "output_type": "stream",
     "text": [
      "1050:\tlearn: 0.9291444\ttotal: 31.8s\tremaining: 0us\n",
      "0:\tlearn: 0.7021307\ttotal: 35ms\tremaining: 38s\n",
      "100:\tlearn: 0.8559480\ttotal: 2.09s\tremaining: 20.4s\n",
      "200:\tlearn: 0.8908655\ttotal: 4.82s\tremaining: 21.3s\n",
      "300:\tlearn: 0.9139028\ttotal: 7.29s\tremaining: 19.1s\n",
      "400:\tlearn: 0.9336677\ttotal: 9.94s\tremaining: 17s\n",
      "500:\tlearn: 0.9489769\ttotal: 12.5s\tremaining: 14.7s\n",
      "600:\tlearn: 0.9612195\ttotal: 14.9s\tremaining: 12s\n",
      "700:\tlearn: 0.9722713\ttotal: 17.1s\tremaining: 9.46s\n",
      "800:\tlearn: 0.9809895\ttotal: 19.3s\tremaining: 6.92s\n",
      "900:\tlearn: 0.9865944\ttotal: 21.7s\tremaining: 4.5s\n",
      "1000:\tlearn: 0.9907846\ttotal: 24s\tremaining: 2.08s\n"
     ]
    },
    {
     "name": "stderr",
     "output_type": "stream",
     "text": [
      "[I 2025-01-01 21:19:54,825] Trial 80 finished with value: 0.9927084204583076 and parameters: {'iterations': 1088, 'learning_rate': 0.09010058342297392, 'depth': 9, 'subsample': 0.5718972560346167, 'colsample_bylevel': 0.3969587465893426, 'min_data_in_leaf': 345, 'scale_pos_weight': 4.637151944271634}. Best is trial 71 with value: 0.9995256628954461.\n"
     ]
    },
    {
     "name": "stdout",
     "output_type": "stream",
     "text": [
      "1087:\tlearn: 0.9926819\ttotal: 26s\tremaining: 0us\n",
      "0:\tlearn: 0.6725200\ttotal: 16.6ms\tremaining: 16.8s\n",
      "100:\tlearn: 0.8470323\ttotal: 3.46s\tremaining: 31.3s\n",
      "200:\tlearn: 0.8974576\ttotal: 7.16s\tremaining: 29s\n",
      "300:\tlearn: 0.9286637\ttotal: 11.2s\tremaining: 26.7s\n",
      "400:\tlearn: 0.9548730\ttotal: 15s\tremaining: 23s\n",
      "500:\tlearn: 0.9686869\ttotal: 18.5s\tremaining: 19.1s\n",
      "600:\tlearn: 0.9826728\ttotal: 21.8s\tremaining: 15s\n",
      "700:\tlearn: 0.9902309\ttotal: 25s\tremaining: 11.2s\n",
      "800:\tlearn: 0.9951410\ttotal: 28.1s\tremaining: 7.54s\n",
      "900:\tlearn: 0.9977434\ttotal: 31.2s\tremaining: 3.99s\n",
      "1000:\tlearn: 0.9991730\ttotal: 34.4s\tremaining: 515ms\n"
     ]
    },
    {
     "name": "stderr",
     "output_type": "stream",
     "text": [
      "[I 2025-01-01 21:20:29,908] Trial 81 finished with value: 0.9991729938289011 and parameters: {'iterations': 1016, 'learning_rate': 0.08652816445818025, 'depth': 10, 'subsample': 0.463259139175591, 'colsample_bylevel': 0.8385995372358664, 'min_data_in_leaf': 648, 'scale_pos_weight': 3.5410692072262764}. Best is trial 71 with value: 0.9995256628954461.\n"
     ]
    },
    {
     "name": "stdout",
     "output_type": "stream",
     "text": [
      "1015:\tlearn: 0.9990485\ttotal: 34.8s\tremaining: 0us\n",
      "0:\tlearn: 0.7583061\ttotal: 31.1ms\tremaining: 31.3s\n",
      "100:\tlearn: 0.8410996\ttotal: 2.68s\tremaining: 24.1s\n",
      "200:\tlearn: 0.9020679\ttotal: 5.69s\tremaining: 22.9s\n",
      "300:\tlearn: 0.9356416\ttotal: 8.94s\tremaining: 21.1s\n",
      "400:\tlearn: 0.9598329\ttotal: 12s\tremaining: 18.2s\n",
      "500:\tlearn: 0.9725973\ttotal: 15.1s\tremaining: 15.3s\n",
      "600:\tlearn: 0.9838859\ttotal: 18.7s\tremaining: 12.7s\n",
      "700:\tlearn: 0.9914962\ttotal: 21.8s\tremaining: 9.61s\n",
      "800:\tlearn: 0.9963268\ttotal: 24.9s\tremaining: 6.51s\n",
      "900:\tlearn: 0.9981002\ttotal: 28.1s\tremaining: 3.4s\n",
      "1000:\tlearn: 0.9992302\ttotal: 31.7s\tremaining: 285ms\n"
     ]
    },
    {
     "name": "stderr",
     "output_type": "stream",
     "text": [
      "[I 2025-01-01 21:21:02,112] Trial 82 finished with value: 0.9992673976018079 and parameters: {'iterations': 1010, 'learning_rate': 0.08750624080633437, 'depth': 10, 'subsample': 0.520508759712955, 'colsample_bylevel': 0.7966058386252001, 'min_data_in_leaf': 490, 'scale_pos_weight': 3.3443867560550813}. Best is trial 71 with value: 0.9995256628954461.\n"
     ]
    },
    {
     "name": "stdout",
     "output_type": "stream",
     "text": [
      "1009:\tlearn: 0.9992674\ttotal: 32s\tremaining: 0us\n",
      "0:\tlearn: 0.7566141\ttotal: 30.7ms\tremaining: 30.9s\n",
      "100:\tlearn: 0.8384401\ttotal: 3.16s\tremaining: 28.4s\n",
      "200:\tlearn: 0.8837944\ttotal: 6.08s\tremaining: 24.4s\n",
      "300:\tlearn: 0.9209109\ttotal: 9.26s\tremaining: 21.8s\n",
      "400:\tlearn: 0.9423439\ttotal: 12.4s\tremaining: 18.8s\n",
      "500:\tlearn: 0.9590098\ttotal: 15.6s\tremaining: 15.8s\n",
      "600:\tlearn: 0.9734104\ttotal: 19s\tremaining: 12.9s\n",
      "700:\tlearn: 0.9824579\ttotal: 22.2s\tremaining: 9.71s\n",
      "800:\tlearn: 0.9894762\ttotal: 25.3s\tremaining: 6.54s\n",
      "900:\tlearn: 0.9935979\ttotal: 28.4s\tremaining: 3.38s\n",
      "1000:\tlearn: 0.9969904\ttotal: 31.7s\tremaining: 221ms\n"
     ]
    },
    {
     "name": "stderr",
     "output_type": "stream",
     "text": [
      "[I 2025-01-01 21:21:34,252] Trial 83 finished with value: 0.9971026582663488 and parameters: {'iterations': 1008, 'learning_rate': 0.0750609986225849, 'depth': 10, 'subsample': 0.5299463072659056, 'colsample_bylevel': 0.7920350962389768, 'min_data_in_leaf': 479, 'scale_pos_weight': 3.312029814453623}. Best is trial 71 with value: 0.9995256628954461.\n"
     ]
    },
    {
     "name": "stdout",
     "output_type": "stream",
     "text": [
      "1007:\tlearn: 0.9971027\ttotal: 31.9s\tremaining: 0us\n",
      "0:\tlearn: 0.5923252\ttotal: 35.6ms\tremaining: 36.1s\n",
      "100:\tlearn: 0.7929115\ttotal: 2.96s\tremaining: 26.8s\n",
      "200:\tlearn: 0.8578782\ttotal: 6.6s\tremaining: 26.7s\n",
      "300:\tlearn: 0.9046488\ttotal: 9.96s\tremaining: 23.6s\n",
      "400:\tlearn: 0.9377542\ttotal: 13.3s\tremaining: 20.3s\n",
      "500:\tlearn: 0.9598011\ttotal: 16.5s\tremaining: 17s\n",
      "600:\tlearn: 0.9714966\ttotal: 19.9s\tremaining: 13.7s\n",
      "700:\tlearn: 0.9818434\ttotal: 23.2s\tremaining: 10.4s\n",
      "800:\tlearn: 0.9885587\ttotal: 27.5s\tremaining: 7.34s\n",
      "900:\tlearn: 0.9932970\ttotal: 31.6s\tremaining: 3.99s\n",
      "1000:\tlearn: 0.9961261\ttotal: 35.4s\tremaining: 496ms\n"
     ]
    },
    {
     "name": "stderr",
     "output_type": "stream",
     "text": [
      "[I 2025-01-01 21:22:10,480] Trial 84 finished with value: 0.9966274447244329 and parameters: {'iterations': 1015, 'learning_rate': 0.08440713077524968, 'depth': 10, 'subsample': 0.4818065853288093, 'colsample_bylevel': 0.8842134941003926, 'min_data_in_leaf': 517, 'scale_pos_weight': 1.9785686912175606}. Best is trial 71 with value: 0.9995256628954461.\n"
     ]
    },
    {
     "name": "stdout",
     "output_type": "stream",
     "text": [
      "1014:\tlearn: 0.9966274\ttotal: 35.9s\tremaining: 0us\n",
      "0:\tlearn: 0.7597725\ttotal: 42.3ms\tremaining: 43.2s\n",
      "100:\tlearn: 0.8350360\ttotal: 3.49s\tremaining: 31.9s\n",
      "200:\tlearn: 0.8718686\ttotal: 7.15s\tremaining: 29.3s\n",
      "300:\tlearn: 0.9040794\ttotal: 10.9s\tremaining: 26.2s\n",
      "400:\tlearn: 0.9283743\ttotal: 14.2s\tremaining: 22.1s\n",
      "500:\tlearn: 0.9466979\ttotal: 17.4s\tremaining: 18.1s\n",
      "600:\tlearn: 0.9597785\ttotal: 20.6s\tremaining: 14.5s\n",
      "700:\tlearn: 0.9713711\ttotal: 23.8s\tremaining: 11s\n",
      "800:\tlearn: 0.9790748\ttotal: 27.1s\tremaining: 7.54s\n",
      "900:\tlearn: 0.9870109\ttotal: 30.3s\tremaining: 4.14s\n",
      "1000:\tlearn: 0.9920252\ttotal: 33.8s\tremaining: 777ms\n"
     ]
    },
    {
     "name": "stderr",
     "output_type": "stream",
     "text": [
      "[I 2025-01-01 21:22:45,301] Trial 85 finished with value: 0.9934320658987816 and parameters: {'iterations': 1024, 'learning_rate': 0.06318477814301714, 'depth': 10, 'subsample': 0.5873190137413937, 'colsample_bylevel': 0.8579143958841293, 'min_data_in_leaf': 759, 'scale_pos_weight': 3.4684512964563847}. Best is trial 71 with value: 0.9995256628954461.\n"
     ]
    },
    {
     "name": "stdout",
     "output_type": "stream",
     "text": [
      "1023:\tlearn: 0.9934321\ttotal: 34.5s\tremaining: 0us\n",
      "0:\tlearn: 0.6410870\ttotal: 13.2ms\tremaining: 13.3s\n",
      "100:\tlearn: 0.8189911\ttotal: 2.12s\tremaining: 19.1s\n",
      "200:\tlearn: 0.8621307\ttotal: 4.16s\tremaining: 16.8s\n",
      "300:\tlearn: 0.8928671\ttotal: 6.31s\tremaining: 14.9s\n",
      "400:\tlearn: 0.9163607\ttotal: 8.47s\tremaining: 12.9s\n",
      "500:\tlearn: 0.9391111\ttotal: 10.5s\tremaining: 10.7s\n",
      "600:\tlearn: 0.9543259\ttotal: 12.8s\tremaining: 8.72s\n",
      "700:\tlearn: 0.9642422\ttotal: 14.9s\tremaining: 6.6s\n",
      "800:\tlearn: 0.9738783\ttotal: 17s\tremaining: 4.47s\n",
      "900:\tlearn: 0.9812463\ttotal: 19s\tremaining: 2.34s\n",
      "1000:\tlearn: 0.9877651\ttotal: 21.5s\tremaining: 236ms\n"
     ]
    },
    {
     "name": "stderr",
     "output_type": "stream",
     "text": [
      "[I 2025-01-01 21:23:07,256] Trial 86 finished with value: 0.9885295216308086 and parameters: {'iterations': 1012, 'learning_rate': 0.09100872654729525, 'depth': 9, 'subsample': 0.4176874576444268, 'colsample_bylevel': 0.8369963667352882, 'min_data_in_leaf': 433, 'scale_pos_weight': 2.880413960202885}. Best is trial 71 with value: 0.9995256628954461.\n"
     ]
    },
    {
     "name": "stdout",
     "output_type": "stream",
     "text": [
      "1011:\tlearn: 0.9885295\ttotal: 21.7s\tremaining: 0us\n",
      "0:\tlearn: 0.6795264\ttotal: 8.61ms\tremaining: 8.63s\n",
      "100:\tlearn: 0.7757848\ttotal: 667ms\tremaining: 5.96s\n",
      "200:\tlearn: 0.7883320\ttotal: 1.37s\tremaining: 5.47s\n",
      "300:\tlearn: 0.7954327\ttotal: 2.1s\tremaining: 4.9s\n",
      "400:\tlearn: 0.7995800\ttotal: 2.79s\tremaining: 4.2s\n",
      "500:\tlearn: 0.8015526\ttotal: 3.47s\tremaining: 3.48s\n",
      "600:\tlearn: 0.8057590\ttotal: 4.16s\tremaining: 2.79s\n",
      "700:\tlearn: 0.8090400\ttotal: 5.06s\tremaining: 2.19s\n",
      "800:\tlearn: 0.8124842\ttotal: 5.9s\tremaining: 1.49s\n",
      "900:\tlearn: 0.8154093\ttotal: 6.61s\tremaining: 756ms\n"
     ]
    },
    {
     "name": "stderr",
     "output_type": "stream",
     "text": [
      "[I 2025-01-01 21:23:14,714] Trial 87 finished with value: 0.8201806170407993 and parameters: {'iterations': 1004, 'learning_rate': 0.07344323150739784, 'depth': 4, 'subsample': 0.51441956315522, 'colsample_bylevel': 0.7928066487195791, 'min_data_in_leaf': 645, 'scale_pos_weight': 3.091283007283878}. Best is trial 71 with value: 0.9995256628954461.\n"
     ]
    },
    {
     "name": "stdout",
     "output_type": "stream",
     "text": [
      "1000:\tlearn: 0.8199566\ttotal: 7.32s\tremaining: 21.9ms\n",
      "1003:\tlearn: 0.8199891\ttotal: 7.34s\tremaining: 0us\n",
      "0:\tlearn: 0.6496700\ttotal: 31.1ms\tremaining: 32.1s\n",
      "100:\tlearn: 0.8181436\ttotal: 2.96s\tremaining: 27.3s\n",
      "200:\tlearn: 0.8775861\ttotal: 5.93s\tremaining: 24.5s\n",
      "300:\tlearn: 0.9189667\ttotal: 9.07s\tremaining: 22.1s\n",
      "400:\tlearn: 0.9499860\ttotal: 12.3s\tremaining: 19.4s\n",
      "500:\tlearn: 0.9677413\ttotal: 15.8s\tremaining: 16.7s\n",
      "600:\tlearn: 0.9810735\ttotal: 19.2s\tremaining: 13.8s\n",
      "700:\tlearn: 0.9885964\ttotal: 22.3s\tremaining: 10.6s\n",
      "800:\tlearn: 0.9929315\ttotal: 25.5s\tremaining: 7.38s\n",
      "900:\tlearn: 0.9970297\ttotal: 28.6s\tremaining: 4.19s\n",
      "1000:\tlearn: 0.9986131\ttotal: 31.6s\tremaining: 1.01s\n"
     ]
    },
    {
     "name": "stderr",
     "output_type": "stream",
     "text": [
      "[I 2025-01-01 21:23:47,591] Trial 88 finished with value: 0.9991821508951584 and parameters: {'iterations': 1033, 'learning_rate': 0.08643069464447521, 'depth': 10, 'subsample': 0.6830795055864264, 'colsample_bylevel': 0.6994508873680335, 'min_data_in_leaf': 555, 'scale_pos_weight': 2.5513576920244274}. Best is trial 71 with value: 0.9995256628954461.\n"
     ]
    },
    {
     "name": "stdout",
     "output_type": "stream",
     "text": [
      "1032:\tlearn: 0.9991822\ttotal: 32.6s\tremaining: 0us\n",
      "0:\tlearn: 0.4966630\ttotal: 10.9ms\tremaining: 11.2s\n",
      "100:\tlearn: 0.7076112\ttotal: 2.67s\tremaining: 24.5s\n",
      "200:\tlearn: 0.7740232\ttotal: 5.88s\tremaining: 24.2s\n",
      "300:\tlearn: 0.8264966\ttotal: 8.89s\tremaining: 21.5s\n",
      "400:\tlearn: 0.8578973\ttotal: 12.1s\tremaining: 19s\n",
      "500:\tlearn: 0.8904833\ttotal: 15.2s\tremaining: 16s\n",
      "600:\tlearn: 0.9141807\ttotal: 18.3s\tremaining: 13.1s\n",
      "700:\tlearn: 0.9304698\ttotal: 21.3s\tremaining: 9.98s\n",
      "800:\tlearn: 0.9461404\ttotal: 24.3s\tremaining: 6.95s\n",
      "900:\tlearn: 0.9533025\ttotal: 27.3s\tremaining: 3.91s\n",
      "1000:\tlearn: 0.9616731\ttotal: 30.4s\tremaining: 880ms\n"
     ]
    },
    {
     "name": "stderr",
     "output_type": "stream",
     "text": [
      "[I 2025-01-01 21:24:19,064] Trial 89 finished with value: 0.9628986289016825 and parameters: {'iterations': 1030, 'learning_rate': 0.05707017423864333, 'depth': 10, 'subsample': 0.4649813933931849, 'colsample_bylevel': 0.6967476614042597, 'min_data_in_leaf': 18, 'scale_pos_weight': 1.2827814279299847}. Best is trial 71 with value: 0.9995256628954461.\n"
     ]
    },
    {
     "name": "stdout",
     "output_type": "stream",
     "text": [
      "1029:\tlearn: 0.9628986\ttotal: 31.2s\tremaining: 0us\n",
      "0:\tlearn: 0.5863748\ttotal: 9.68ms\tremaining: 9.57s\n",
      "100:\tlearn: 0.6975284\ttotal: 880ms\tremaining: 7.75s\n",
      "200:\tlearn: 0.7162502\ttotal: 1.78s\tremaining: 7s\n",
      "300:\tlearn: 0.7286608\ttotal: 2.7s\tremaining: 6.18s\n",
      "400:\tlearn: 0.7379096\ttotal: 3.64s\tremaining: 5.34s\n",
      "500:\tlearn: 0.7475859\ttotal: 4.55s\tremaining: 4.44s\n",
      "600:\tlearn: 0.7542292\ttotal: 5.48s\tremaining: 3.55s\n",
      "700:\tlearn: 0.7618891\ttotal: 6.41s\tremaining: 2.64s\n",
      "800:\tlearn: 0.7688115\ttotal: 7.32s\tremaining: 1.73s\n",
      "900:\tlearn: 0.7765217\ttotal: 8.24s\tremaining: 814ms\n"
     ]
    },
    {
     "name": "stderr",
     "output_type": "stream",
     "text": [
      "[I 2025-01-01 21:24:28,240] Trial 90 finished with value: 0.7818103076355283 and parameters: {'iterations': 990, 'learning_rate': 0.04096573152325655, 'depth': 6, 'subsample': 0.6941726242917471, 'colsample_bylevel': 0.6611609389540507, 'min_data_in_leaf': 551, 'scale_pos_weight': 1.8388686510742667}. Best is trial 71 with value: 0.9995256628954461.\n"
     ]
    },
    {
     "name": "stdout",
     "output_type": "stream",
     "text": [
      "989:\tlearn: 0.7818103\ttotal: 9.05s\tremaining: 0us\n",
      "0:\tlearn: 0.7670057\ttotal: 18.6ms\tremaining: 19.2s\n",
      "100:\tlearn: 0.8460778\ttotal: 2.4s\tremaining: 22.1s\n",
      "200:\tlearn: 0.8981714\ttotal: 5.35s\tremaining: 22.2s\n",
      "300:\tlearn: 0.9355452\ttotal: 8.27s\tremaining: 20.1s\n",
      "400:\tlearn: 0.9560626\ttotal: 11.2s\tremaining: 17.7s\n",
      "500:\tlearn: 0.9729914\ttotal: 14.1s\tremaining: 15s\n",
      "600:\tlearn: 0.9819855\ttotal: 17.1s\tremaining: 12.3s\n",
      "700:\tlearn: 0.9896973\ttotal: 20.4s\tremaining: 9.67s\n",
      "800:\tlearn: 0.9945925\ttotal: 23.5s\tremaining: 6.8s\n",
      "900:\tlearn: 0.9976383\ttotal: 26.7s\tremaining: 3.91s\n",
      "1000:\tlearn: 0.9989490\ttotal: 29.6s\tremaining: 947ms\n"
     ]
    },
    {
     "name": "stderr",
     "output_type": "stream",
     "text": [
      "[I 2025-01-01 21:24:59,060] Trial 91 finished with value: 0.9991547610675784 and parameters: {'iterations': 1033, 'learning_rate': 0.09253207119024842, 'depth': 10, 'subsample': 0.34650617218056257, 'colsample_bylevel': 0.7511284053902374, 'min_data_in_leaf': 499, 'scale_pos_weight': 3.6239997618820383}. Best is trial 71 with value: 0.9995256628954461.\n"
     ]
    },
    {
     "name": "stdout",
     "output_type": "stream",
     "text": [
      "1032:\tlearn: 0.9991548\ttotal: 30.6s\tremaining: 0us\n",
      "0:\tlearn: 0.7643777\ttotal: 31.2ms\tremaining: 32.2s\n",
      "100:\tlearn: 0.8609184\ttotal: 2.58s\tremaining: 23.9s\n",
      "200:\tlearn: 0.9064429\ttotal: 5.56s\tremaining: 23s\n",
      "300:\tlearn: 0.9375422\ttotal: 8.75s\tremaining: 21.3s\n",
      "400:\tlearn: 0.9560327\ttotal: 11.9s\tremaining: 18.7s\n",
      "500:\tlearn: 0.9729846\ttotal: 15.3s\tremaining: 16.3s\n",
      "600:\tlearn: 0.9828440\ttotal: 18.3s\tremaining: 13.2s\n",
      "700:\tlearn: 0.9897571\ttotal: 21.4s\tremaining: 10.2s\n",
      "800:\tlearn: 0.9947678\ttotal: 24.5s\tremaining: 7.13s\n",
      "900:\tlearn: 0.9972750\ttotal: 27.9s\tremaining: 4.12s\n",
      "1000:\tlearn: 0.9985050\ttotal: 31.5s\tremaining: 1.04s\n"
     ]
    },
    {
     "name": "stderr",
     "output_type": "stream",
     "text": [
      "[I 2025-01-01 21:25:32,140] Trial 92 finished with value: 0.998743077340829 and parameters: {'iterations': 1034, 'learning_rate': 0.09016192998220071, 'depth': 10, 'subsample': 0.38969751738500047, 'colsample_bylevel': 0.7590085135655856, 'min_data_in_leaf': 876, 'scale_pos_weight': 4.172015220494639}. Best is trial 71 with value: 0.9995256628954461.\n"
     ]
    },
    {
     "name": "stdout",
     "output_type": "stream",
     "text": [
      "1033:\tlearn: 0.9987133\ttotal: 32.8s\tremaining: 0us\n",
      "0:\tlearn: 0.6541544\ttotal: 40.2ms\tremaining: 41.1s\n",
      "100:\tlearn: 0.8267574\ttotal: 3.4s\tremaining: 31s\n",
      "200:\tlearn: 0.8816769\ttotal: 6.85s\tremaining: 28s\n",
      "300:\tlearn: 0.9212660\ttotal: 10.6s\tremaining: 25.3s\n",
      "400:\tlearn: 0.9484727\ttotal: 13.5s\tremaining: 21s\n",
      "500:\tlearn: 0.9678512\ttotal: 16.4s\tremaining: 17.1s\n",
      "600:\tlearn: 0.9806075\ttotal: 19.4s\tremaining: 13.7s\n",
      "700:\tlearn: 0.9883320\ttotal: 22.9s\tremaining: 10.5s\n",
      "800:\tlearn: 0.9935038\ttotal: 25.9s\tremaining: 7.17s\n",
      "900:\tlearn: 0.9967218\ttotal: 28.8s\tremaining: 3.9s\n",
      "1000:\tlearn: 0.9986645\ttotal: 31.8s\tremaining: 699ms\n"
     ]
    },
    {
     "name": "stderr",
     "output_type": "stream",
     "text": [
      "[I 2025-01-01 21:26:04,950] Trial 93 finished with value: 0.9988355395458824 and parameters: {'iterations': 1023, 'learning_rate': 0.08663239807515119, 'depth': 10, 'subsample': 0.35038185063496036, 'colsample_bylevel': 0.7469176611050192, 'min_data_in_leaf': 689, 'scale_pos_weight': 2.684810372006545}. Best is trial 71 with value: 0.9995256628954461.\n"
     ]
    },
    {
     "name": "stdout",
     "output_type": "stream",
     "text": [
      "1022:\tlearn: 0.9988355\ttotal: 32.5s\tremaining: 0us\n",
      "0:\tlearn: 0.6559770\ttotal: 32.1ms\tremaining: 32.8s\n",
      "100:\tlearn: 0.8255224\ttotal: 2.85s\tremaining: 26s\n",
      "200:\tlearn: 0.8808380\ttotal: 5.76s\tremaining: 23.5s\n",
      "300:\tlearn: 0.9171572\ttotal: 8.69s\tremaining: 20.8s\n",
      "400:\tlearn: 0.9474878\ttotal: 11.7s\tremaining: 18.1s\n",
      "500:\tlearn: 0.9637244\ttotal: 14.9s\tremaining: 15.5s\n",
      "600:\tlearn: 0.9771222\ttotal: 17.9s\tremaining: 12.5s\n",
      "700:\tlearn: 0.9892930\ttotal: 20.9s\tremaining: 9.59s\n",
      "800:\tlearn: 0.9935424\ttotal: 24s\tremaining: 6.61s\n",
      "900:\tlearn: 0.9962372\ttotal: 27.1s\tremaining: 3.64s\n",
      "1000:\tlearn: 0.9979847\ttotal: 30.2s\tremaining: 634ms\n"
     ]
    },
    {
     "name": "stderr",
     "output_type": "stream",
     "text": [
      "[I 2025-01-01 21:26:36,089] Trial 94 finished with value: 0.9982802302525742 and parameters: {'iterations': 1022, 'learning_rate': 0.08770464466067879, 'depth': 10, 'subsample': 0.34489640892180323, 'colsample_bylevel': 0.7453061559699672, 'min_data_in_leaf': 678, 'scale_pos_weight': 2.703026713674688}. Best is trial 71 with value: 0.9995256628954461.\n"
     ]
    },
    {
     "name": "stdout",
     "output_type": "stream",
     "text": [
      "1021:\tlearn: 0.9981555\ttotal: 30.9s\tremaining: 0us\n",
      "0:\tlearn: 0.6449846\ttotal: 21.4ms\tremaining: 21.7s\n",
      "100:\tlearn: 0.7879291\ttotal: 1.92s\tremaining: 17.3s\n",
      "200:\tlearn: 0.8202081\ttotal: 3.74s\tremaining: 15.1s\n",
      "300:\tlearn: 0.8533492\ttotal: 5.73s\tremaining: 13.6s\n",
      "400:\tlearn: 0.8769884\ttotal: 7.68s\tremaining: 11.7s\n",
      "500:\tlearn: 0.9001203\ttotal: 9.97s\tremaining: 10.2s\n",
      "600:\tlearn: 0.9185589\ttotal: 12.1s\tremaining: 8.33s\n",
      "700:\tlearn: 0.9332986\ttotal: 14.2s\tremaining: 6.35s\n",
      "800:\tlearn: 0.9452587\ttotal: 16.4s\tremaining: 4.36s\n",
      "900:\tlearn: 0.9556476\ttotal: 18.6s\tremaining: 2.33s\n",
      "1000:\tlearn: 0.9681627\ttotal: 20.7s\tremaining: 269ms\n"
     ]
    },
    {
     "name": "stderr",
     "output_type": "stream",
     "text": [
      "[I 2025-01-01 21:26:57,337] Trial 95 finished with value: 0.9694716008180341 and parameters: {'iterations': 1014, 'learning_rate': 0.06671517178076501, 'depth': 9, 'subsample': 0.4244571555528026, 'colsample_bylevel': 0.7163815634640491, 'min_data_in_leaf': 564, 'scale_pos_weight': 2.447993565813362}. Best is trial 71 with value: 0.9995256628954461.\n"
     ]
    },
    {
     "name": "stdout",
     "output_type": "stream",
     "text": [
      "1013:\tlearn: 0.9694220\ttotal: 21s\tremaining: 0us\n",
      "0:\tlearn: 0.7336649\ttotal: 31.9ms\tremaining: 32.8s\n",
      "100:\tlearn: 0.8124651\ttotal: 2.84s\tremaining: 26.1s\n",
      "200:\tlearn: 0.8409661\ttotal: 5.49s\tremaining: 22.6s\n",
      "300:\tlearn: 0.8736665\ttotal: 8.52s\tremaining: 20.7s\n",
      "400:\tlearn: 0.9027406\ttotal: 11.5s\tremaining: 18.1s\n",
      "500:\tlearn: 0.9241338\ttotal: 14.7s\tremaining: 15.5s\n",
      "600:\tlearn: 0.9408200\ttotal: 17.8s\tremaining: 12.7s\n",
      "700:\tlearn: 0.9536176\ttotal: 20.9s\tremaining: 9.84s\n",
      "800:\tlearn: 0.9641481\ttotal: 24s\tremaining: 6.9s\n",
      "900:\tlearn: 0.9728794\ttotal: 27.1s\tremaining: 3.91s\n",
      "1000:\tlearn: 0.9803300\ttotal: 30.1s\tremaining: 902ms\n"
     ]
    },
    {
     "name": "stderr",
     "output_type": "stream",
     "text": [
      "[I 2025-01-01 21:27:28,644] Trial 96 finished with value: 0.9819537120145003 and parameters: {'iterations': 1031, 'learning_rate': 0.0488031524941566, 'depth': 10, 'subsample': 0.6252287601981218, 'colsample_bylevel': 0.6358086483670506, 'min_data_in_leaf': 58, 'scale_pos_weight': 3.1158160409169886}. Best is trial 71 with value: 0.9995256628954461.\n"
     ]
    },
    {
     "name": "stdout",
     "output_type": "stream",
     "text": [
      "1030:\tlearn: 0.9819537\ttotal: 31.1s\tremaining: 0us\n",
      "0:\tlearn: 0.7430552\ttotal: 20.8ms\tremaining: 20.9s\n",
      "100:\tlearn: 0.8327949\ttotal: 1.73s\tremaining: 15.5s\n",
      "200:\tlearn: 0.8609209\ttotal: 3.5s\tremaining: 14.1s\n",
      "300:\tlearn: 0.8850554\ttotal: 5.56s\tremaining: 13s\n",
      "400:\tlearn: 0.9051315\ttotal: 7.67s\tremaining: 11.6s\n",
      "500:\tlearn: 0.9194627\ttotal: 9.81s\tremaining: 9.91s\n",
      "600:\tlearn: 0.9346090\ttotal: 11.7s\tremaining: 7.94s\n",
      "700:\tlearn: 0.9480456\ttotal: 13.7s\tremaining: 5.97s\n",
      "800:\tlearn: 0.9583731\ttotal: 15.7s\tremaining: 4.05s\n",
      "900:\tlearn: 0.9653528\ttotal: 17.7s\tremaining: 2.08s\n",
      "1000:\tlearn: 0.9740187\ttotal: 19.6s\tremaining: 118ms\n",
      "1006:\tlearn: 0.9741455\ttotal: 19.8s\tremaining: 0us\n"
     ]
    },
    {
     "name": "stderr",
     "output_type": "stream",
     "text": [
      "[I 2025-01-01 21:27:48,608] Trial 97 finished with value: 0.9741454637218067 and parameters: {'iterations': 1007, 'learning_rate': 0.07822719818224204, 'depth': 9, 'subsample': 0.26122298059885596, 'colsample_bylevel': 0.7791723813940233, 'min_data_in_leaf': 526, 'scale_pos_weight': 3.7028760382513464}. Best is trial 71 with value: 0.9995256628954461.\n"
     ]
    },
    {
     "name": "stdout",
     "output_type": "stream",
     "text": [
      "0:\tlearn: 0.7204068\ttotal: 30.3ms\tremaining: 31s\n",
      "100:\tlearn: 0.8552139\ttotal: 2.53s\tremaining: 23.1s\n",
      "200:\tlearn: 0.9048411\ttotal: 5.56s\tremaining: 22.8s\n",
      "300:\tlearn: 0.9360312\ttotal: 8.69s\tremaining: 20.9s\n",
      "400:\tlearn: 0.9599014\ttotal: 11.8s\tremaining: 18.4s\n",
      "500:\tlearn: 0.9772938\ttotal: 14.9s\tremaining: 15.6s\n",
      "600:\tlearn: 0.9869138\ttotal: 18s\tremaining: 12.7s\n",
      "700:\tlearn: 0.9923525\ttotal: 20.9s\tremaining: 9.68s\n",
      "800:\tlearn: 0.9955101\ttotal: 23.9s\tremaining: 6.68s\n",
      "900:\tlearn: 0.9978353\ttotal: 26.8s\tremaining: 3.68s\n",
      "1000:\tlearn: 0.9986869\ttotal: 29.9s\tremaining: 716ms\n"
     ]
    },
    {
     "name": "stderr",
     "output_type": "stream",
     "text": [
      "[I 2025-01-01 21:28:19,440] Trial 98 finished with value: 0.9990245428104555 and parameters: {'iterations': 1025, 'learning_rate': 0.08776367935942338, 'depth': 10, 'subsample': 0.5510879052469371, 'colsample_bylevel': 0.581211981930088, 'min_data_in_leaf': 626, 'scale_pos_weight': 4.07930404167665}. Best is trial 71 with value: 0.9995256628954461.\n"
     ]
    },
    {
     "name": "stdout",
     "output_type": "stream",
     "text": [
      "1024:\tlearn: 0.9990245\ttotal: 30.6s\tremaining: 0us\n",
      "0:\tlearn: 0.7277492\ttotal: 29ms\tremaining: 30.1s\n",
      "100:\tlearn: 0.8521298\ttotal: 2.44s\tremaining: 22.7s\n",
      "200:\tlearn: 0.8823139\ttotal: 5s\tremaining: 20.8s\n",
      "300:\tlearn: 0.9159613\ttotal: 8.04s\tremaining: 19.7s\n",
      "400:\tlearn: 0.9362268\ttotal: 11s\tremaining: 17.5s\n",
      "500:\tlearn: 0.9513264\ttotal: 14s\tremaining: 15s\n",
      "600:\tlearn: 0.9625933\ttotal: 17s\tremaining: 12.3s\n",
      "700:\tlearn: 0.9714756\ttotal: 20s\tremaining: 9.6s\n",
      "800:\tlearn: 0.9803851\ttotal: 23s\tremaining: 6.82s\n",
      "900:\tlearn: 0.9868743\ttotal: 26s\tremaining: 3.95s\n",
      "1000:\tlearn: 0.9907655\ttotal: 29s\tremaining: 1.07s\n"
     ]
    },
    {
     "name": "stderr",
     "output_type": "stream",
     "text": [
      "[I 2025-01-01 21:28:49,755] Trial 99 finished with value: 0.9921701081943997 and parameters: {'iterations': 1038, 'learning_rate': 0.06171171461232263, 'depth': 10, 'subsample': 0.5440379176974753, 'colsample_bylevel': 0.5788798661089372, 'min_data_in_leaf': 497, 'scale_pos_weight': 4.460029413347801}. Best is trial 71 with value: 0.9995256628954461.\n"
     ]
    },
    {
     "name": "stdout",
     "output_type": "stream",
     "text": [
      "1037:\tlearn: 0.9921701\ttotal: 30.1s\tremaining: 0us\n",
      "0:\tlearn: 0.6796730\ttotal: 15.5ms\tremaining: 15.7s\n",
      "100:\tlearn: 0.7903623\ttotal: 1.58s\tremaining: 14.3s\n",
      "200:\tlearn: 0.7895080\ttotal: 3.15s\tremaining: 12.8s\n",
      "300:\tlearn: 0.7918704\ttotal: 4.72s\tremaining: 11.2s\n",
      "400:\tlearn: 0.7930430\ttotal: 6.39s\tremaining: 9.8s\n",
      "500:\tlearn: 0.7941769\ttotal: 8.09s\tremaining: 8.32s\n",
      "600:\tlearn: 0.7980535\ttotal: 9.8s\tremaining: 6.77s\n",
      "700:\tlearn: 0.8004697\ttotal: 11.6s\tremaining: 5.19s\n",
      "800:\tlearn: 0.8022670\ttotal: 13.3s\tremaining: 3.56s\n",
      "900:\tlearn: 0.8033652\ttotal: 15.2s\tremaining: 1.94s\n",
      "1000:\tlearn: 0.8035064\ttotal: 17.1s\tremaining: 256ms\n"
     ]
    },
    {
     "name": "stderr",
     "output_type": "stream",
     "text": [
      "[I 2025-01-01 21:29:07,240] Trial 100 finished with value: 0.8042642135184986 and parameters: {'iterations': 1016, 'learning_rate': 0.0011335354632897282, 'depth': 9, 'subsample': 0.7775222394391511, 'colsample_bylevel': 0.5925610423615499, 'min_data_in_leaf': 619, 'scale_pos_weight': 4.080244605581073}. Best is trial 71 with value: 0.9995256628954461.\n"
     ]
    },
    {
     "name": "stdout",
     "output_type": "stream",
     "text": [
      "1015:\tlearn: 0.8042642\ttotal: 17.3s\tremaining: 0us\n",
      "0:\tlearn: 0.6446658\ttotal: 28.8ms\tremaining: 29.5s\n",
      "100:\tlearn: 0.8135534\ttotal: 2.35s\tremaining: 21.4s\n",
      "200:\tlearn: 0.8818590\ttotal: 5.21s\tremaining: 21.3s\n",
      "300:\tlearn: 0.9220264\ttotal: 8.24s\tremaining: 19.8s\n",
      "400:\tlearn: 0.9479898\ttotal: 11.1s\tremaining: 17.2s\n",
      "500:\tlearn: 0.9691443\ttotal: 14s\tremaining: 14.6s\n",
      "600:\tlearn: 0.9829093\ttotal: 17.1s\tremaining: 12s\n",
      "700:\tlearn: 0.9907159\ttotal: 20.1s\tremaining: 9.28s\n",
      "800:\tlearn: 0.9962844\ttotal: 23.1s\tremaining: 6.42s\n",
      "900:\tlearn: 0.9980954\ttotal: 25.9s\tremaining: 3.53s\n",
      "1000:\tlearn: 0.9993078\ttotal: 28.7s\tremaining: 660ms\n"
     ]
    },
    {
     "name": "stderr",
     "output_type": "stream",
     "text": [
      "[I 2025-01-01 21:29:36,854] Trial 101 finished with value: 0.9995293918710564 and parameters: {'iterations': 1024, 'learning_rate': 0.08583693772572978, 'depth': 10, 'subsample': 0.4861375578780348, 'colsample_bylevel': 0.47537000101374777, 'min_data_in_leaf': 700, 'scale_pos_weight': 2.5646914306641113}. Best is trial 101 with value: 0.9995293918710564.\n"
     ]
    },
    {
     "name": "stdout",
     "output_type": "stream",
     "text": [
      "1023:\tlearn: 0.9995294\ttotal: 29.4s\tremaining: 0us\n",
      "0:\tlearn: 0.7515822\ttotal: 31.2ms\tremaining: 32s\n",
      "100:\tlearn: 0.8411072\ttotal: 2.56s\tremaining: 23.5s\n",
      "200:\tlearn: 0.9007125\ttotal: 5.37s\tremaining: 22.1s\n",
      "300:\tlearn: 0.9338250\ttotal: 8.28s\tremaining: 20s\n",
      "400:\tlearn: 0.9574958\ttotal: 11.1s\tremaining: 17.3s\n",
      "500:\tlearn: 0.9743628\ttotal: 14.1s\tremaining: 14.8s\n",
      "600:\tlearn: 0.9850520\ttotal: 17.2s\tremaining: 12.2s\n",
      "700:\tlearn: 0.9909518\ttotal: 20.1s\tremaining: 9.36s\n",
      "800:\tlearn: 0.9953944\ttotal: 23.1s\tremaining: 6.52s\n",
      "900:\tlearn: 0.9976460\ttotal: 26.1s\tremaining: 3.64s\n",
      "1000:\tlearn: 0.9994266\ttotal: 29s\tremaining: 753ms\n"
     ]
    },
    {
     "name": "stderr",
     "output_type": "stream",
     "text": [
      "[I 2025-01-01 21:30:06,827] Trial 102 finished with value: 0.9995388234132254 and parameters: {'iterations': 1027, 'learning_rate': 0.09126489527231603, 'depth': 10, 'subsample': 0.4881260344301989, 'colsample_bylevel': 0.5500911019979364, 'min_data_in_leaf': 645, 'scale_pos_weight': 3.3260905712030424}. Best is trial 102 with value: 0.9995388234132254.\n"
     ]
    },
    {
     "name": "stdout",
     "output_type": "stream",
     "text": [
      "1026:\tlearn: 0.9995014\ttotal: 29.7s\tremaining: 0us\n",
      "0:\tlearn: 0.6495374\ttotal: 30.3ms\tremaining: 31.3s\n",
      "100:\tlearn: 0.7993525\ttotal: 2.6s\tremaining: 24s\n",
      "200:\tlearn: 0.8550568\ttotal: 5.37s\tremaining: 22.2s\n",
      "300:\tlearn: 0.8945059\ttotal: 8.2s\tremaining: 19.9s\n",
      "400:\tlearn: 0.9266200\ttotal: 11.1s\tremaining: 17.5s\n",
      "500:\tlearn: 0.9495187\ttotal: 13.8s\tremaining: 14.7s\n",
      "600:\tlearn: 0.9642800\ttotal: 16.9s\tremaining: 12.1s\n",
      "700:\tlearn: 0.9751922\ttotal: 19.9s\tremaining: 9.4s\n",
      "800:\tlearn: 0.9834288\ttotal: 22.7s\tremaining: 6.59s\n",
      "900:\tlearn: 0.9899060\ttotal: 25.7s\tremaining: 3.77s\n",
      "1000:\tlearn: 0.9932022\ttotal: 28.6s\tremaining: 915ms\n"
     ]
    },
    {
     "name": "stderr",
     "output_type": "stream",
     "text": [
      "[I 2025-01-01 21:30:36,645] Trial 103 finished with value: 0.994311052408639 and parameters: {'iterations': 1033, 'learning_rate': 0.07149998883781537, 'depth': 10, 'subsample': 0.48693421293727024, 'colsample_bylevel': 0.551385034238737, 'min_data_in_leaf': 656, 'scale_pos_weight': 2.407227961048702}. Best is trial 102 with value: 0.9995388234132254.\n"
     ]
    },
    {
     "name": "stdout",
     "output_type": "stream",
     "text": [
      "1032:\tlearn: 0.9943111\ttotal: 29.6s\tremaining: 0us\n",
      "0:\tlearn: 0.6764097\ttotal: 28.6ms\tremaining: 29.4s\n",
      "100:\tlearn: 0.8357106\ttotal: 2.53s\tremaining: 23.3s\n",
      "200:\tlearn: 0.8910286\ttotal: 5.33s\tremaining: 22s\n",
      "300:\tlearn: 0.9312500\ttotal: 8.18s\tremaining: 19.8s\n",
      "400:\tlearn: 0.9557401\ttotal: 11s\tremaining: 17.2s\n",
      "500:\tlearn: 0.9716674\ttotal: 13.7s\tremaining: 14.5s\n",
      "600:\tlearn: 0.9835347\ttotal: 16.6s\tremaining: 11.8s\n",
      "700:\tlearn: 0.9918901\ttotal: 19.5s\tremaining: 9.13s\n",
      "800:\tlearn: 0.9961763\ttotal: 22.4s\tremaining: 6.37s\n",
      "900:\tlearn: 0.9984626\ttotal: 25.3s\tremaining: 3.6s\n",
      "1000:\tlearn: 0.9995846\ttotal: 28.2s\tremaining: 790ms\n"
     ]
    },
    {
     "name": "stderr",
     "output_type": "stream",
     "text": [
      "[I 2025-01-01 21:31:05,901] Trial 104 finished with value: 0.9996261724715382 and parameters: {'iterations': 1029, 'learning_rate': 0.09027097684818189, 'depth': 10, 'subsample': 0.45700855964217313, 'colsample_bylevel': 0.48740286592030385, 'min_data_in_leaf': 935, 'scale_pos_weight': 2.99115335448863}. Best is trial 104 with value: 0.9996261724715382.\n"
     ]
    },
    {
     "name": "stdout",
     "output_type": "stream",
     "text": [
      "1028:\tlearn: 0.9996262\ttotal: 29.1s\tremaining: 0us\n",
      "0:\tlearn: 0.6691510\ttotal: 5.58ms\tremaining: 5.74s\n",
      "100:\tlearn: 0.7629167\ttotal: 2.02s\tremaining: 18.6s\n",
      "200:\tlearn: 0.7768687\ttotal: 4.33s\tremaining: 17.9s\n",
      "300:\tlearn: 0.7918178\ttotal: 6.97s\tremaining: 16.9s\n",
      "400:\tlearn: 0.8003709\ttotal: 9.46s\tremaining: 14.8s\n",
      "500:\tlearn: 0.8064604\ttotal: 11.9s\tremaining: 12.6s\n",
      "600:\tlearn: 0.8135623\ttotal: 14.4s\tremaining: 10.3s\n",
      "700:\tlearn: 0.8181497\ttotal: 16.9s\tremaining: 7.89s\n",
      "800:\tlearn: 0.8230312\ttotal: 19.4s\tremaining: 5.52s\n",
      "900:\tlearn: 0.8274320\ttotal: 21.9s\tremaining: 3.11s\n",
      "1000:\tlearn: 0.8300087\ttotal: 24.4s\tremaining: 684ms\n"
     ]
    },
    {
     "name": "stderr",
     "output_type": "stream",
     "text": [
      "[I 2025-01-01 21:31:31,230] Trial 105 finished with value: 0.831188505614948 and parameters: {'iterations': 1029, 'learning_rate': 0.006388319443291757, 'depth': 10, 'subsample': 0.467030025897619, 'colsample_bylevel': 0.48881555965949536, 'min_data_in_leaf': 937, 'scale_pos_weight': 3.286547716607111}. Best is trial 104 with value: 0.9996261724715382.\n"
     ]
    },
    {
     "name": "stdout",
     "output_type": "stream",
     "text": [
      "1028:\tlearn: 0.8310145\ttotal: 25.1s\tremaining: 0us\n",
      "0:\tlearn: 0.6553260\ttotal: 6.09ms\tremaining: 6.19s\n",
      "100:\tlearn: 0.8119799\ttotal: 1.63s\tremaining: 14.8s\n",
      "200:\tlearn: 0.8487781\ttotal: 3.32s\tremaining: 13.5s\n",
      "300:\tlearn: 0.8816641\ttotal: 5.13s\tremaining: 12.2s\n",
      "400:\tlearn: 0.9060679\ttotal: 6.95s\tremaining: 10.7s\n",
      "500:\tlearn: 0.9248059\ttotal: 8.83s\tremaining: 9.11s\n",
      "600:\tlearn: 0.9438279\ttotal: 10.7s\tremaining: 7.41s\n",
      "700:\tlearn: 0.9576824\ttotal: 12.5s\tremaining: 5.66s\n",
      "800:\tlearn: 0.9692442\ttotal: 14.4s\tremaining: 3.9s\n",
      "900:\tlearn: 0.9764685\ttotal: 16.2s\tremaining: 2.11s\n",
      "1000:\tlearn: 0.9831547\ttotal: 18.1s\tremaining: 307ms\n"
     ]
    },
    {
     "name": "stderr",
     "output_type": "stream",
     "text": [
      "[I 2025-01-01 21:31:49,808] Trial 106 finished with value: 0.9836059853580348 and parameters: {'iterations': 1018, 'learning_rate': 0.07910334046180884, 'depth': 9, 'subsample': 0.5134796716981438, 'colsample_bylevel': 0.4618693191191549, 'min_data_in_leaf': 702, 'scale_pos_weight': 2.9830450021528403}. Best is trial 104 with value: 0.9996261724715382.\n"
     ]
    },
    {
     "name": "stdout",
     "output_type": "stream",
     "text": [
      "1017:\tlearn: 0.9835239\ttotal: 18.4s\tremaining: 0us\n",
      "0:\tlearn: 0.6000349\ttotal: 30.3ms\tremaining: 31.7s\n",
      "100:\tlearn: 0.7918258\ttotal: 2.5s\tremaining: 23.4s\n",
      "200:\tlearn: 0.8678613\ttotal: 5.34s\tremaining: 22.4s\n",
      "300:\tlearn: 0.9177678\ttotal: 8.3s\tremaining: 20.5s\n",
      "400:\tlearn: 0.9486219\ttotal: 11.2s\tremaining: 18s\n",
      "500:\tlearn: 0.9688269\ttotal: 14.1s\tremaining: 15.3s\n",
      "600:\tlearn: 0.9811758\ttotal: 16.9s\tremaining: 12.5s\n",
      "700:\tlearn: 0.9896329\ttotal: 19.7s\tremaining: 9.7s\n",
      "800:\tlearn: 0.9941778\ttotal: 22.8s\tremaining: 6.99s\n",
      "900:\tlearn: 0.9963135\ttotal: 26.1s\tremaining: 4.2s\n",
      "1000:\tlearn: 0.9986289\ttotal: 29.6s\tremaining: 1.33s\n"
     ]
    },
    {
     "name": "stderr",
     "output_type": "stream",
     "text": [
      "[I 2025-01-01 21:32:21,257] Trial 107 finished with value: 0.9987537387836491 and parameters: {'iterations': 1046, 'learning_rate': 0.0915465276082762, 'depth': 10, 'subsample': 0.5786292999268613, 'colsample_bylevel': 0.4052021612900304, 'min_data_in_leaf': 1011, 'scale_pos_weight': 1.9742073235995814}. Best is trial 104 with value: 0.9996261724715382.\n"
     ]
    },
    {
     "name": "stdout",
     "output_type": "stream",
     "text": [
      "1045:\tlearn: 0.9987537\ttotal: 31.2s\tremaining: 0us\n",
      "0:\tlearn: 0.6765964\ttotal: 12.1ms\tremaining: 12.2s\n",
      "100:\tlearn: 0.8008113\ttotal: 1.12s\tremaining: 10.1s\n",
      "200:\tlearn: 0.8172136\ttotal: 2.12s\tremaining: 8.55s\n",
      "300:\tlearn: 0.8339230\ttotal: 3.08s\tremaining: 7.25s\n",
      "400:\tlearn: 0.8488384\ttotal: 4.02s\tremaining: 6.11s\n",
      "500:\tlearn: 0.8586163\ttotal: 4.97s\tremaining: 5.06s\n",
      "600:\tlearn: 0.8678190\ttotal: 5.95s\tremaining: 4.06s\n",
      "700:\tlearn: 0.8760661\ttotal: 6.95s\tremaining: 3.08s\n",
      "800:\tlearn: 0.8837764\ttotal: 7.96s\tremaining: 2.09s\n",
      "900:\tlearn: 0.8918112\ttotal: 8.96s\tremaining: 1.09s\n"
     ]
    },
    {
     "name": "stderr",
     "output_type": "stream",
     "text": [
      "[I 2025-01-01 21:32:31,484] Trial 108 finished with value: 0.8998234570873753 and parameters: {'iterations': 1011, 'learning_rate': 0.06577431236572583, 'depth': 7, 'subsample': 0.60479380757046, 'colsample_bylevel': 0.43578539731376564, 'min_data_in_leaf': 751, 'scale_pos_weight': 3.3569084775420954}. Best is trial 104 with value: 0.9996261724715382.\n"
     ]
    },
    {
     "name": "stdout",
     "output_type": "stream",
     "text": [
      "1000:\tlearn: 0.8993246\ttotal: 9.95s\tremaining: 99.4ms\n",
      "1010:\tlearn: 0.8997544\ttotal: 10.1s\tremaining: 0us\n",
      "0:\tlearn: 0.7002193\ttotal: 31.6ms\tremaining: 32.8s\n",
      "100:\tlearn: 0.8416622\ttotal: 2.66s\tremaining: 24.7s\n",
      "200:\tlearn: 0.8925679\ttotal: 5.63s\tremaining: 23.5s\n",
      "300:\tlearn: 0.9271663\ttotal: 9.41s\tremaining: 23.1s\n",
      "400:\tlearn: 0.9487237\ttotal: 12.6s\tremaining: 20s\n",
      "500:\tlearn: 0.9671743\ttotal: 15.4s\tremaining: 16.6s\n",
      "600:\tlearn: 0.9798082\ttotal: 18.3s\tremaining: 13.4s\n",
      "700:\tlearn: 0.9874904\ttotal: 21.2s\tremaining: 10.2s\n",
      "800:\tlearn: 0.9931436\ttotal: 24.3s\tremaining: 7.21s\n",
      "900:\tlearn: 0.9957295\ttotal: 27.1s\tremaining: 4.16s\n",
      "1000:\tlearn: 0.9984237\ttotal: 30s\tremaining: 1.14s\n"
     ]
    },
    {
     "name": "stderr",
     "output_type": "stream",
     "text": [
      "[I 2025-01-01 21:33:02,879] Trial 109 finished with value: 0.9989191688720962 and parameters: {'iterations': 1039, 'learning_rate': 0.0796239186853517, 'depth': 10, 'subsample': 0.4508077658707267, 'colsample_bylevel': 0.5055531409514861, 'min_data_in_leaf': 542, 'scale_pos_weight': 3.681210436936766}. Best is trial 104 with value: 0.9996261724715382.\n"
     ]
    },
    {
     "name": "stdout",
     "output_type": "stream",
     "text": [
      "1038:\tlearn: 0.9988180\ttotal: 31.1s\tremaining: 0us\n",
      "0:\tlearn: 0.6639557\ttotal: 30.1ms\tremaining: 30.9s\n",
      "100:\tlearn: 0.8123638\ttotal: 2.66s\tremaining: 24.4s\n",
      "200:\tlearn: 0.8486772\ttotal: 5.38s\tremaining: 22.1s\n",
      "300:\tlearn: 0.8847945\ttotal: 8.22s\tremaining: 19.9s\n",
      "400:\tlearn: 0.9111624\ttotal: 11.1s\tremaining: 17.3s\n",
      "500:\tlearn: 0.9321791\ttotal: 14s\tremaining: 14.7s\n",
      "600:\tlearn: 0.9473437\ttotal: 17.1s\tremaining: 12.1s\n",
      "700:\tlearn: 0.9594999\ttotal: 20.2s\tremaining: 9.42s\n",
      "800:\tlearn: 0.9705793\ttotal: 23.2s\tremaining: 6.57s\n",
      "900:\tlearn: 0.9764630\ttotal: 26.1s\tremaining: 3.68s\n",
      "1000:\tlearn: 0.9841321\ttotal: 29.1s\tremaining: 785ms\n"
     ]
    },
    {
     "name": "stderr",
     "output_type": "stream",
     "text": [
      "[I 2025-01-01 21:33:33,032] Trial 110 finished with value: 0.9857669850430575 and parameters: {'iterations': 1028, 'learning_rate': 0.05475589978413448, 'depth': 10, 'subsample': 0.4657761772367833, 'colsample_bylevel': 0.537719168317435, 'min_data_in_leaf': 452, 'scale_pos_weight': 2.950382520823407}. Best is trial 104 with value: 0.9996261724715382.\n"
     ]
    },
    {
     "name": "stdout",
     "output_type": "stream",
     "text": [
      "1027:\tlearn: 0.9857670\ttotal: 29.9s\tremaining: 0us\n",
      "0:\tlearn: 0.6960058\ttotal: 5.74ms\tremaining: 5.89s\n",
      "100:\tlearn: 0.8607765\ttotal: 2.44s\tremaining: 22.4s\n",
      "200:\tlearn: 0.9067977\ttotal: 5.37s\tremaining: 22s\n",
      "300:\tlearn: 0.9383188\ttotal: 8.21s\tremaining: 19.8s\n",
      "400:\tlearn: 0.9621539\ttotal: 11.1s\tremaining: 17.3s\n",
      "500:\tlearn: 0.9783087\ttotal: 14s\tremaining: 14.7s\n",
      "600:\tlearn: 0.9878839\ttotal: 17s\tremaining: 12s\n",
      "700:\tlearn: 0.9929644\ttotal: 20.2s\tremaining: 9.35s\n",
      "800:\tlearn: 0.9968924\ttotal: 23.2s\tremaining: 6.51s\n",
      "900:\tlearn: 0.9985810\ttotal: 26.1s\tremaining: 3.62s\n",
      "1000:\tlearn: 0.9993210\ttotal: 28.9s\tremaining: 723ms\n"
     ]
    },
    {
     "name": "stderr",
     "output_type": "stream",
     "text": [
      "[I 2025-01-01 21:34:02,931] Trial 111 finished with value: 0.9994762424207924 and parameters: {'iterations': 1026, 'learning_rate': 0.09198106389126788, 'depth': 10, 'subsample': 0.5604297954007852, 'colsample_bylevel': 0.46900758132056364, 'min_data_in_leaf': 629, 'scale_pos_weight': 4.037934181476001}. Best is trial 104 with value: 0.9996261724715382.\n"
     ]
    },
    {
     "name": "stdout",
     "output_type": "stream",
     "text": [
      "1025:\tlearn: 0.9994762\ttotal: 29.7s\tremaining: 0us\n",
      "0:\tlearn: 0.6770002\ttotal: 5.67ms\tremaining: 5.84s\n",
      "100:\tlearn: 0.8507986\ttotal: 2.37s\tremaining: 21.9s\n",
      "200:\tlearn: 0.9067075\ttotal: 5.21s\tremaining: 21.6s\n",
      "300:\tlearn: 0.9424107\ttotal: 8.03s\tremaining: 19.5s\n",
      "400:\tlearn: 0.9636845\ttotal: 10.8s\tremaining: 17.1s\n",
      "500:\tlearn: 0.9822942\ttotal: 13.9s\tremaining: 14.8s\n",
      "600:\tlearn: 0.9905738\ttotal: 16.8s\tremaining: 12s\n",
      "700:\tlearn: 0.9958493\ttotal: 19.8s\tremaining: 9.37s\n",
      "800:\tlearn: 0.9983053\ttotal: 22.9s\tremaining: 6.61s\n",
      "900:\tlearn: 0.9992680\ttotal: 25.8s\tremaining: 3.75s\n",
      "1000:\tlearn: 0.9997140\ttotal: 28.7s\tremaining: 890ms\n"
     ]
    },
    {
     "name": "stderr",
     "output_type": "stream",
     "text": [
      "[I 2025-01-01 21:34:32,806] Trial 112 finished with value: 0.9997497762512914 and parameters: {'iterations': 1032, 'learning_rate': 0.09990300859207805, 'depth': 10, 'subsample': 0.49751604974646696, 'colsample_bylevel': 0.4824351183630512, 'min_data_in_leaf': 575, 'scale_pos_weight': 3.481200297366359}. Best is trial 112 with value: 0.9997497762512914.\n"
     ]
    },
    {
     "name": "stdout",
     "output_type": "stream",
     "text": [
      "1031:\tlearn: 0.9997140\ttotal: 29.6s\tremaining: 0us\n",
      "0:\tlearn: 0.5471051\ttotal: 6ms\tremaining: 6s\n",
      "100:\tlearn: 0.8056353\ttotal: 2.44s\tremaining: 21.7s\n",
      "200:\tlearn: 0.8753498\ttotal: 5.2s\tremaining: 20.7s\n",
      "300:\tlearn: 0.9218969\ttotal: 8.08s\tremaining: 18.8s\n",
      "400:\tlearn: 0.9534937\ttotal: 11s\tremaining: 16.4s\n",
      "500:\tlearn: 0.9704064\ttotal: 13.8s\tremaining: 13.8s\n",
      "600:\tlearn: 0.9816461\ttotal: 16.7s\tremaining: 11.1s\n",
      "700:\tlearn: 0.9918349\ttotal: 19.5s\tremaining: 8.35s\n",
      "800:\tlearn: 0.9961935\ttotal: 22.5s\tremaining: 5.61s\n",
      "900:\tlearn: 0.9977805\ttotal: 25.4s\tremaining: 2.82s\n"
     ]
    },
    {
     "name": "stderr",
     "output_type": "stream",
     "text": [
      "[I 2025-01-01 21:35:01,197] Trial 113 finished with value: 0.9988785046728972 and parameters: {'iterations': 1001, 'learning_rate': 0.09814735058587201, 'depth': 10, 'subsample': 0.5004147791651018, 'colsample_bylevel': 0.473001674075384, 'min_data_in_leaf': 642, 'scale_pos_weight': 2.222292153344231}. Best is trial 112 with value: 0.9997497762512914.\n"
     ]
    },
    {
     "name": "stdout",
     "output_type": "stream",
     "text": [
      "1000:\tlearn: 0.9988785\ttotal: 28.2s\tremaining: 0us\n",
      "0:\tlearn: 0.7021951\ttotal: 27.9ms\tremaining: 28.4s\n",
      "100:\tlearn: 0.8445153\ttotal: 2.4s\tremaining: 21.8s\n",
      "200:\tlearn: 0.8795452\ttotal: 4.96s\tremaining: 20.2s\n",
      "300:\tlearn: 0.9187339\ttotal: 7.74s\tremaining: 18.4s\n",
      "400:\tlearn: 0.9415029\ttotal: 10.3s\tremaining: 15.9s\n",
      "500:\tlearn: 0.9598220\ttotal: 13.1s\tremaining: 13.5s\n",
      "600:\tlearn: 0.9704429\ttotal: 15.9s\tremaining: 11s\n",
      "700:\tlearn: 0.9806586\ttotal: 18.8s\tremaining: 8.51s\n",
      "800:\tlearn: 0.9879346\ttotal: 21.6s\tremaining: 5.85s\n",
      "900:\tlearn: 0.9923683\ttotal: 24.4s\tremaining: 3.17s\n",
      "1000:\tlearn: 0.9958291\ttotal: 27.4s\tremaining: 466ms\n"
     ]
    },
    {
     "name": "stderr",
     "output_type": "stream",
     "text": [
      "[I 2025-01-01 21:35:29,325] Trial 114 finished with value: 0.996372327974971 and parameters: {'iterations': 1018, 'learning_rate': 0.07044582221022319, 'depth': 10, 'subsample': 0.48394155742597444, 'colsample_bylevel': 0.37900533076751364, 'min_data_in_leaf': 588, 'scale_pos_weight': 3.8406865565292376}. Best is trial 112 with value: 0.9997497762512914.\n"
     ]
    },
    {
     "name": "stdout",
     "output_type": "stream",
     "text": [
      "1017:\tlearn: 0.9963401\ttotal: 27.9s\tremaining: 0us\n",
      "0:\tlearn: 0.7865648\ttotal: 20.8ms\tremaining: 21.6s\n",
      "100:\tlearn: 0.8447773\ttotal: 1.56s\tremaining: 14.5s\n",
      "200:\tlearn: 0.8823437\ttotal: 3.49s\tremaining: 14.6s\n",
      "300:\tlearn: 0.9120247\ttotal: 5.52s\tremaining: 13.6s\n",
      "400:\tlearn: 0.9300618\ttotal: 7.47s\tremaining: 11.9s\n",
      "500:\tlearn: 0.9435903\ttotal: 9.36s\tremaining: 10.1s\n",
      "600:\tlearn: 0.9565511\ttotal: 11.2s\tremaining: 8.16s\n",
      "700:\tlearn: 0.9666258\ttotal: 12.9s\tremaining: 6.28s\n",
      "800:\tlearn: 0.9745547\ttotal: 14.9s\tremaining: 4.47s\n",
      "900:\tlearn: 0.9820212\ttotal: 16.7s\tremaining: 2.6s\n",
      "1000:\tlearn: 0.9872510\ttotal: 18.5s\tremaining: 741ms\n"
     ]
    },
    {
     "name": "stderr",
     "output_type": "stream",
     "text": [
      "[I 2025-01-01 21:35:48,807] Trial 115 finished with value: 0.9890388771531249 and parameters: {'iterations': 1041, 'learning_rate': 0.0819575685849165, 'depth': 9, 'subsample': 0.674828804294561, 'colsample_bylevel': 0.4349655508564734, 'min_data_in_leaf': 713, 'scale_pos_weight': 4.362528970182419}. Best is trial 112 with value: 0.9997497762512914.\n"
     ]
    },
    {
     "name": "stdout",
     "output_type": "stream",
     "text": [
      "1040:\tlearn: 0.9890389\ttotal: 19.3s\tremaining: 0us\n",
      "0:\tlearn: 0.6937170\ttotal: 30.7ms\tremaining: 31.4s\n",
      "100:\tlearn: 0.8446314\ttotal: 2.69s\tremaining: 24.5s\n",
      "200:\tlearn: 0.9005335\ttotal: 5.5s\tremaining: 22.5s\n",
      "300:\tlearn: 0.9352636\ttotal: 8.47s\tremaining: 20.3s\n",
      "400:\tlearn: 0.9584307\ttotal: 11.5s\tremaining: 17.9s\n",
      "500:\tlearn: 0.9753256\ttotal: 14.3s\tremaining: 15s\n",
      "600:\tlearn: 0.9857252\ttotal: 17.4s\tremaining: 12.2s\n",
      "700:\tlearn: 0.9936587\ttotal: 20.4s\tremaining: 9.4s\n",
      "800:\tlearn: 0.9969661\ttotal: 23.4s\tremaining: 6.53s\n",
      "900:\tlearn: 0.9984894\ttotal: 26.4s\tremaining: 3.6s\n",
      "1000:\tlearn: 0.9994351\ttotal: 29.4s\tremaining: 675ms\n"
     ]
    },
    {
     "name": "stderr",
     "output_type": "stream",
     "text": [
      "[I 2025-01-01 21:36:19,105] Trial 116 finished with value: 0.9994717468544346 and parameters: {'iterations': 1024, 'learning_rate': 0.09154836744515876, 'depth': 10, 'subsample': 0.5192390846687854, 'colsample_bylevel': 0.5062918230386797, 'min_data_in_leaf': 953, 'scale_pos_weight': 3.3896510416446852}. Best is trial 112 with value: 0.9997497762512914.\n"
     ]
    },
    {
     "name": "stdout",
     "output_type": "stream",
     "text": [
      "1023:\tlearn: 0.9994717\ttotal: 30.1s\tremaining: 0us\n",
      "0:\tlearn: 0.6868683\ttotal: 19.5ms\tremaining: 20s\n",
      "100:\tlearn: 0.8174203\ttotal: 1.71s\tremaining: 15.7s\n",
      "200:\tlearn: 0.8542646\ttotal: 3.46s\tremaining: 14.2s\n",
      "300:\tlearn: 0.8859442\ttotal: 5.28s\tremaining: 12.7s\n",
      "400:\tlearn: 0.9076022\ttotal: 7.13s\tremaining: 11.1s\n",
      "500:\tlearn: 0.9242320\ttotal: 8.99s\tremaining: 9.42s\n",
      "600:\tlearn: 0.9405050\ttotal: 10.9s\tremaining: 7.69s\n",
      "700:\tlearn: 0.9544472\ttotal: 12.9s\tremaining: 5.96s\n",
      "800:\tlearn: 0.9650546\ttotal: 14.8s\tremaining: 4.15s\n",
      "900:\tlearn: 0.9736891\ttotal: 16.6s\tremaining: 2.31s\n",
      "1000:\tlearn: 0.9798833\ttotal: 18.6s\tremaining: 464ms\n"
     ]
    },
    {
     "name": "stderr",
     "output_type": "stream",
     "text": [
      "[I 2025-01-01 21:36:38,353] Trial 117 finished with value: 0.9815608056594667 and parameters: {'iterations': 1026, 'learning_rate': 0.07513986790799738, 'depth': 9, 'subsample': 0.51521202941319, 'colsample_bylevel': 0.510931937496169, 'min_data_in_leaf': 927, 'scale_pos_weight': 3.2300491664942266}. Best is trial 112 with value: 0.9997497762512914.\n"
     ]
    },
    {
     "name": "stdout",
     "output_type": "stream",
     "text": [
      "1025:\tlearn: 0.9813966\ttotal: 19.1s\tremaining: 0us\n",
      "0:\tlearn: 0.7194376\ttotal: 5.66ms\tremaining: 5.71s\n",
      "100:\tlearn: 0.8712482\ttotal: 2.35s\tremaining: 21.1s\n",
      "200:\tlearn: 0.9120137\ttotal: 5.15s\tremaining: 20.7s\n",
      "300:\tlearn: 0.9451314\ttotal: 8.1s\tremaining: 19.1s\n",
      "400:\tlearn: 0.9651755\ttotal: 11.1s\tremaining: 16.9s\n",
      "500:\tlearn: 0.9775650\ttotal: 14s\tremaining: 14.3s\n",
      "600:\tlearn: 0.9873819\ttotal: 17s\tremaining: 11.5s\n",
      "700:\tlearn: 0.9931164\ttotal: 19.8s\tremaining: 8.75s\n",
      "800:\tlearn: 0.9958995\ttotal: 22.8s\tremaining: 5.96s\n",
      "900:\tlearn: 0.9977460\ttotal: 25.8s\tremaining: 3.12s\n",
      "1000:\tlearn: 0.9988966\ttotal: 28.9s\tremaining: 260ms\n"
     ]
    },
    {
     "name": "stderr",
     "output_type": "stream",
     "text": [
      "[I 2025-01-01 21:37:07,760] Trial 118 finished with value: 0.9989216041613534 and parameters: {'iterations': 1010, 'learning_rate': 0.091679551958758, 'depth': 10, 'subsample': 0.563266493316159, 'colsample_bylevel': 0.4830720292190297, 'min_data_in_leaf': 954, 'scale_pos_weight': 4.957809339502887}. Best is trial 112 with value: 0.9997497762512914.\n"
     ]
    },
    {
     "name": "stdout",
     "output_type": "stream",
     "text": [
      "1009:\tlearn: 0.9989216\ttotal: 29.2s\tremaining: 0us\n",
      "0:\tlearn: 0.5871598\ttotal: 12.5ms\tremaining: 12.9s\n",
      "100:\tlearn: 0.7430951\ttotal: 2.3s\tremaining: 21.3s\n",
      "200:\tlearn: 0.7673722\ttotal: 4.87s\tremaining: 20.3s\n",
      "300:\tlearn: 0.7829516\ttotal: 7.33s\tremaining: 17.9s\n",
      "400:\tlearn: 0.7971349\ttotal: 9.98s\tremaining: 15.8s\n",
      "500:\tlearn: 0.8055093\ttotal: 12.4s\tremaining: 13.2s\n",
      "600:\tlearn: 0.8169340\ttotal: 15.1s\tremaining: 10.9s\n",
      "700:\tlearn: 0.8276015\ttotal: 17.8s\tremaining: 8.5s\n",
      "800:\tlearn: 0.8390509\ttotal: 20.9s\tremaining: 6.12s\n",
      "900:\tlearn: 0.8496765\ttotal: 23.8s\tremaining: 3.56s\n",
      "1000:\tlearn: 0.8599914\ttotal: 26.7s\tremaining: 934ms\n"
     ]
    },
    {
     "name": "stderr",
     "output_type": "stream",
     "text": [
      "[I 2025-01-01 21:37:35,739] Trial 119 finished with value: 0.8628683701987564 and parameters: {'iterations': 1036, 'learning_rate': 0.014608654857143442, 'depth': 10, 'subsample': 0.6167509838403504, 'colsample_bylevel': 0.4495026822632232, 'min_data_in_leaf': 1029, 'scale_pos_weight': 2.519981729217138}. Best is trial 112 with value: 0.9997497762512914.\n"
     ]
    },
    {
     "name": "stdout",
     "output_type": "stream",
     "text": [
      "1035:\tlearn: 0.8625853\ttotal: 27.7s\tremaining: 0us\n",
      "0:\tlearn: 0.7087467\ttotal: 7.04ms\tremaining: 7.37s\n",
      "100:\tlearn: 0.8185110\ttotal: 620ms\tremaining: 5.82s\n",
      "200:\tlearn: 0.8282635\ttotal: 1.27s\tremaining: 5.34s\n",
      "300:\tlearn: 0.8331021\ttotal: 1.8s\tremaining: 4.47s\n",
      "400:\tlearn: 0.8362074\ttotal: 2.38s\tremaining: 3.85s\n",
      "500:\tlearn: 0.8392101\ttotal: 2.97s\tremaining: 3.25s\n",
      "600:\tlearn: 0.8409094\ttotal: 3.67s\tremaining: 2.73s\n",
      "700:\tlearn: 0.8444443\ttotal: 4.28s\tremaining: 2.12s\n",
      "800:\tlearn: 0.8481047\ttotal: 4.84s\tremaining: 1.49s\n",
      "900:\tlearn: 0.8500372\ttotal: 5.4s\tremaining: 881ms\n",
      "1000:\tlearn: 0.8526354\ttotal: 5.97s\tremaining: 280ms\n"
     ]
    },
    {
     "name": "stderr",
     "output_type": "stream",
     "text": [
      "[I 2025-01-01 21:37:42,151] Trial 120 finished with value: 0.8539405591776765 and parameters: {'iterations': 1048, 'learning_rate': 0.09949618912695503, 'depth': 3, 'subsample': 0.5386587258429676, 'colsample_bylevel': 0.5510873527302158, 'min_data_in_leaf': 864, 'scale_pos_weight': 4.58397038632666}. Best is trial 112 with value: 0.9997497762512914.\n"
     ]
    },
    {
     "name": "stdout",
     "output_type": "stream",
     "text": [
      "1047:\tlearn: 0.8537569\ttotal: 6.29s\tremaining: 0us\n",
      "0:\tlearn: 0.7550879\ttotal: 30.5ms\tremaining: 31.1s\n",
      "100:\tlearn: 0.8454459\ttotal: 2.69s\tremaining: 24.5s\n",
      "200:\tlearn: 0.8905677\ttotal: 5.58s\tremaining: 22.8s\n",
      "300:\tlearn: 0.9278853\ttotal: 8.5s\tremaining: 20.3s\n",
      "400:\tlearn: 0.9519839\ttotal: 11.5s\tremaining: 17.8s\n",
      "500:\tlearn: 0.9683189\ttotal: 14.4s\tremaining: 15s\n",
      "600:\tlearn: 0.9812492\ttotal: 17.4s\tremaining: 12.2s\n",
      "700:\tlearn: 0.9888499\ttotal: 20.4s\tremaining: 9.3s\n",
      "800:\tlearn: 0.9942918\ttotal: 23.3s\tremaining: 6.41s\n",
      "900:\tlearn: 0.9969740\ttotal: 26.3s\tremaining: 3.5s\n",
      "1000:\tlearn: 0.9986577\ttotal: 29.2s\tremaining: 583ms\n"
     ]
    },
    {
     "name": "stderr",
     "output_type": "stream",
     "text": [
      "[I 2025-01-01 21:38:12,161] Trial 121 finished with value: 0.9988015582166779 and parameters: {'iterations': 1021, 'learning_rate': 0.0844888109052461, 'depth': 10, 'subsample': 0.42727682600772343, 'colsample_bylevel': 0.5219604323076502, 'min_data_in_leaf': 571, 'scale_pos_weight': 3.457340115482471}. Best is trial 112 with value: 0.9997497762512914.\n"
     ]
    },
    {
     "name": "stdout",
     "output_type": "stream",
     "text": [
      "1020:\tlearn: 0.9987656\ttotal: 29.7s\tremaining: 0us\n",
      "0:\tlearn: 0.6572533\ttotal: 6.06ms\tremaining: 6.09s\n",
      "100:\tlearn: 0.8232469\ttotal: 2.48s\tremaining: 22.2s\n",
      "200:\tlearn: 0.8665399\ttotal: 5.04s\tremaining: 20.2s\n",
      "300:\tlearn: 0.9057593\ttotal: 7.81s\tremaining: 18.3s\n",
      "400:\tlearn: 0.9336361\ttotal: 10.6s\tremaining: 16s\n",
      "500:\tlearn: 0.9512127\ttotal: 13.5s\tremaining: 13.6s\n",
      "600:\tlearn: 0.9640340\ttotal: 16.4s\tremaining: 11s\n",
      "700:\tlearn: 0.9762039\ttotal: 19.2s\tremaining: 8.35s\n",
      "800:\tlearn: 0.9854934\ttotal: 22.1s\tremaining: 5.63s\n",
      "900:\tlearn: 0.9919901\ttotal: 25s\tremaining: 2.88s\n",
      "1000:\tlearn: 0.9953344\ttotal: 27.8s\tremaining: 111ms\n",
      "1004:\tlearn: 0.9952934\ttotal: 28s\tremaining: 0us\n"
     ]
    },
    {
     "name": "stderr",
     "output_type": "stream",
     "text": [
      "[I 2025-01-01 21:38:40,345] Trial 122 finished with value: 0.9953753373744275 and parameters: {'iterations': 1005, 'learning_rate': 0.07027934336112761, 'depth': 10, 'subsample': 0.45751100191926347, 'colsample_bylevel': 0.4634744663078961, 'min_data_in_leaf': 663, 'scale_pos_weight': 3.024413944078266}. Best is trial 112 with value: 0.9997497762512914.\n"
     ]
    },
    {
     "name": "stdout",
     "output_type": "stream",
     "text": [
      "0:\tlearn: 0.7195916\ttotal: 26.7ms\tremaining: 27.5s\n",
      "100:\tlearn: 0.8561810\ttotal: 2.25s\tremaining: 20.7s\n",
      "200:\tlearn: 0.9067374\ttotal: 4.93s\tremaining: 20.3s\n",
      "300:\tlearn: 0.9375461\ttotal: 7.62s\tremaining: 18.5s\n",
      "400:\tlearn: 0.9584691\ttotal: 10.4s\tremaining: 16.3s\n",
      "500:\tlearn: 0.9753694\ttotal: 13s\tremaining: 13.8s\n",
      "600:\tlearn: 0.9857617\ttotal: 15.8s\tremaining: 11.3s\n",
      "700:\tlearn: 0.9920957\ttotal: 18.4s\tremaining: 8.64s\n",
      "800:\tlearn: 0.9957100\ttotal: 21s\tremaining: 6.01s\n",
      "900:\tlearn: 0.9977721\ttotal: 23.7s\tremaining: 3.39s\n",
      "1000:\tlearn: 0.9987442\ttotal: 26.4s\tremaining: 763ms\n"
     ]
    },
    {
     "name": "stderr",
     "output_type": "stream",
     "text": [
      "[I 2025-01-01 21:39:07,706] Trial 123 finished with value: 0.9990884981241057 and parameters: {'iterations': 1030, 'learning_rate': 0.09154602941828173, 'depth': 10, 'subsample': 0.49242481598539284, 'colsample_bylevel': 0.31129957581580203, 'min_data_in_leaf': 602, 'scale_pos_weight': 3.9565127485006917}. Best is trial 112 with value: 0.9997497762512914.\n"
     ]
    },
    {
     "name": "stdout",
     "output_type": "stream",
     "text": [
      "1029:\tlearn: 0.9990885\ttotal: 27.1s\tremaining: 0us\n",
      "0:\tlearn: 0.6766599\ttotal: 13.3ms\tremaining: 13.6s\n",
      "100:\tlearn: 0.8166544\ttotal: 2.52s\tremaining: 23s\n",
      "200:\tlearn: 0.8760878\ttotal: 5.38s\tremaining: 22s\n",
      "300:\tlearn: 0.9127497\ttotal: 8.21s\tremaining: 19.7s\n",
      "400:\tlearn: 0.9406508\ttotal: 11.1s\tremaining: 17.3s\n",
      "500:\tlearn: 0.9629450\ttotal: 14s\tremaining: 14.6s\n",
      "600:\tlearn: 0.9777192\ttotal: 16.9s\tremaining: 11.9s\n",
      "700:\tlearn: 0.9864142\ttotal: 19.8s\tremaining: 9.14s\n",
      "800:\tlearn: 0.9931474\ttotal: 22.9s\tremaining: 6.38s\n",
      "900:\tlearn: 0.9960909\ttotal: 25.9s\tremaining: 3.54s\n",
      "1000:\tlearn: 0.9980938\ttotal: 28.9s\tremaining: 663ms\n"
     ]
    },
    {
     "name": "stderr",
     "output_type": "stream",
     "text": [
      "[I 2025-01-01 21:39:37,522] Trial 124 finished with value: 0.9982185242255541 and parameters: {'iterations': 1024, 'learning_rate': 0.07909092085157393, 'depth': 10, 'subsample': 0.5253059397827217, 'colsample_bylevel': 0.4954506213667577, 'min_data_in_leaf': 893, 'scale_pos_weight': 2.8270975096838065}. Best is trial 112 with value: 0.9997497762512914.\n"
     ]
    },
    {
     "name": "stdout",
     "output_type": "stream",
     "text": [
      "1023:\tlearn: 0.9982185\ttotal: 29.6s\tremaining: 0us\n",
      "0:\tlearn: 0.7006413\ttotal: 31.9ms\tremaining: 32.5s\n",
      "100:\tlearn: 0.8416115\ttotal: 2.41s\tremaining: 21.9s\n",
      "200:\tlearn: 0.8868346\ttotal: 5.2s\tremaining: 21.1s\n",
      "300:\tlearn: 0.9209274\ttotal: 8s\tremaining: 19.1s\n",
      "400:\tlearn: 0.9482904\ttotal: 10.7s\tremaining: 16.5s\n",
      "500:\tlearn: 0.9652620\ttotal: 13.5s\tremaining: 13.9s\n",
      "600:\tlearn: 0.9799395\ttotal: 16.3s\tremaining: 11.3s\n",
      "700:\tlearn: 0.9880723\ttotal: 19.2s\tremaining: 8.67s\n",
      "800:\tlearn: 0.9927853\ttotal: 21.9s\tremaining: 5.94s\n",
      "900:\tlearn: 0.9967622\ttotal: 24.8s\tremaining: 3.22s\n",
      "1000:\tlearn: 0.9987101\ttotal: 27.5s\tremaining: 468ms\n"
     ]
    },
    {
     "name": "stderr",
     "output_type": "stream",
     "text": [
      "[I 2025-01-01 21:40:05,805] Trial 125 finished with value: 0.9987818532644694 and parameters: {'iterations': 1018, 'learning_rate': 0.08413105596295148, 'depth': 10, 'subsample': 0.44009807681246765, 'colsample_bylevel': 0.426466477983371, 'min_data_in_leaf': 620, 'scale_pos_weight': 3.464359605774961}. Best is trial 112 with value: 0.9997497762512914.\n"
     ]
    },
    {
     "name": "stdout",
     "output_type": "stream",
     "text": [
      "1017:\tlearn: 0.9987460\ttotal: 28s\tremaining: 0us\n",
      "0:\tlearn: 0.6917018\ttotal: 30.2ms\tremaining: 31.8s\n",
      "100:\tlearn: 0.8255487\ttotal: 2.56s\tremaining: 24.2s\n",
      "200:\tlearn: 0.8662479\ttotal: 5.27s\tremaining: 22.4s\n",
      "300:\tlearn: 0.9044789\ttotal: 8.13s\tremaining: 20.3s\n",
      "400:\tlearn: 0.9318986\ttotal: 11.3s\tremaining: 18.4s\n",
      "500:\tlearn: 0.9491725\ttotal: 14.2s\tremaining: 15.7s\n",
      "600:\tlearn: 0.9668682\ttotal: 17.1s\tremaining: 12.9s\n",
      "700:\tlearn: 0.9765073\ttotal: 20s\tremaining: 10.1s\n",
      "800:\tlearn: 0.9855726\ttotal: 23s\tremaining: 7.25s\n",
      "900:\tlearn: 0.9903738\ttotal: 26s\tremaining: 4.42s\n",
      "1000:\tlearn: 0.9947224\ttotal: 29.2s\tremaining: 1.55s\n"
     ]
    },
    {
     "name": "stderr",
     "output_type": "stream",
     "text": [
      "[I 2025-01-01 21:40:36,848] Trial 126 finished with value: 0.9957110600763824 and parameters: {'iterations': 1054, 'learning_rate': 0.06359067776793136, 'depth': 10, 'subsample': 0.5045215402312189, 'colsample_bylevel': 0.5342027833205044, 'min_data_in_leaf': 667, 'scale_pos_weight': 3.1833165754628507}. Best is trial 112 with value: 0.9997497762512914.\n"
     ]
    },
    {
     "name": "stdout",
     "output_type": "stream",
     "text": [
      "1053:\tlearn: 0.9957111\ttotal: 30.8s\tremaining: 0us\n",
      "0:\tlearn: 0.7263978\ttotal: 11.6ms\tremaining: 12.1s\n",
      "100:\tlearn: 0.8842941\ttotal: 2.42s\tremaining: 22.5s\n",
      "200:\tlearn: 0.9259907\ttotal: 5.15s\tremaining: 21.6s\n",
      "300:\tlearn: 0.9526211\ttotal: 7.95s\tremaining: 19.6s\n",
      "400:\tlearn: 0.9711383\ttotal: 10.8s\tremaining: 17.3s\n",
      "500:\tlearn: 0.9818674\ttotal: 13.7s\tremaining: 14.8s\n",
      "600:\tlearn: 0.9882709\ttotal: 16.8s\tremaining: 12.3s\n",
      "700:\tlearn: 0.9938383\ttotal: 19.9s\tremaining: 9.69s\n",
      "800:\tlearn: 0.9964849\ttotal: 23.1s\tremaining: 6.94s\n",
      "900:\tlearn: 0.9981714\ttotal: 26.1s\tremaining: 4.09s\n",
      "1000:\tlearn: 0.9989543\ttotal: 29.3s\tremaining: 1.2s\n"
     ]
    },
    {
     "name": "stderr",
     "output_type": "stream",
     "text": [
      "[I 2025-01-01 21:41:07,693] Trial 127 finished with value: 0.9992392547166762 and parameters: {'iterations': 1042, 'learning_rate': 0.09894737981207062, 'depth': 10, 'subsample': 0.4755481754226365, 'colsample_bylevel': 0.5155057596359133, 'min_data_in_leaf': 794, 'scale_pos_weight': 5.23176666336816}. Best is trial 112 with value: 0.9997497762512914.\n"
     ]
    },
    {
     "name": "stdout",
     "output_type": "stream",
     "text": [
      "1041:\tlearn: 0.9992155\ttotal: 30.6s\tremaining: 0us\n",
      "0:\tlearn: 0.7142138\ttotal: 11.5ms\tremaining: 11.9s\n",
      "100:\tlearn: 0.8687128\ttotal: 1.73s\tremaining: 16.1s\n",
      "200:\tlearn: 0.9071051\ttotal: 3.59s\tremaining: 15s\n",
      "300:\tlearn: 0.9308466\ttotal: 5.78s\tremaining: 14.2s\n",
      "400:\tlearn: 0.9452071\ttotal: 7.97s\tremaining: 12.7s\n",
      "500:\tlearn: 0.9598753\ttotal: 10.2s\tremaining: 11s\n",
      "600:\tlearn: 0.9715638\ttotal: 12.6s\tremaining: 9.23s\n",
      "700:\tlearn: 0.9800363\ttotal: 14.5s\tremaining: 7.06s\n",
      "800:\tlearn: 0.9854357\ttotal: 16.5s\tremaining: 4.97s\n",
      "900:\tlearn: 0.9893948\ttotal: 18.6s\tremaining: 2.91s\n",
      "1000:\tlearn: 0.9925190\ttotal: 20.7s\tremaining: 849ms\n"
     ]
    },
    {
     "name": "stderr",
     "output_type": "stream",
     "text": [
      "[I 2025-01-01 21:41:29,494] Trial 128 finished with value: 0.9937327591421875 and parameters: {'iterations': 1042, 'learning_rate': 0.09998621490966811, 'depth': 9, 'subsample': 0.6482472686977925, 'colsample_bylevel': 0.5602759825836612, 'min_data_in_leaf': 830, 'scale_pos_weight': 5.221681179861988}. Best is trial 112 with value: 0.9997497762512914.\n"
     ]
    },
    {
     "name": "stdout",
     "output_type": "stream",
     "text": [
      "1041:\tlearn: 0.9937328\ttotal: 21.6s\tremaining: 0us\n",
      "0:\tlearn: 0.7989549\ttotal: 32.4ms\tremaining: 33.5s\n",
      "100:\tlearn: 0.8782886\ttotal: 2.53s\tremaining: 23.4s\n",
      "200:\tlearn: 0.9254870\ttotal: 5.7s\tremaining: 23.7s\n",
      "300:\tlearn: 0.9543752\ttotal: 9.09s\tremaining: 22.2s\n",
      "400:\tlearn: 0.9720374\ttotal: 12.1s\tremaining: 19.1s\n",
      "500:\tlearn: 0.9846041\ttotal: 15s\tremaining: 16s\n",
      "600:\tlearn: 0.9902963\ttotal: 18s\tremaining: 13s\n",
      "700:\tlearn: 0.9949748\ttotal: 21s\tremaining: 10s\n",
      "800:\tlearn: 0.9969629\ttotal: 24.1s\tremaining: 7.07s\n",
      "900:\tlearn: 0.9987070\ttotal: 27.1s\tremaining: 4.07s\n",
      "1000:\tlearn: 0.9993911\ttotal: 30.1s\tremaining: 1.05s\n"
     ]
    },
    {
     "name": "stderr",
     "output_type": "stream",
     "text": [
      "[I 2025-01-01 21:42:00,870] Trial 129 finished with value: 0.9994925402898243 and parameters: {'iterations': 1036, 'learning_rate': 0.09991749281332407, 'depth': 10, 'subsample': 0.5532909622599668, 'colsample_bylevel': 0.6071607766223102, 'min_data_in_leaf': 790, 'scale_pos_weight': 4.903161110105882}. Best is trial 112 with value: 0.9997497762512914.\n"
     ]
    },
    {
     "name": "stdout",
     "output_type": "stream",
     "text": [
      "1035:\tlearn: 0.9994418\ttotal: 31.1s\tremaining: 0us\n",
      "0:\tlearn: 0.7938409\ttotal: 31ms\tremaining: 32.9s\n",
      "100:\tlearn: 0.8121924\ttotal: 1.97s\tremaining: 18.7s\n",
      "200:\tlearn: 0.8209465\ttotal: 4.25s\tremaining: 18.1s\n",
      "300:\tlearn: 0.8277096\ttotal: 6.7s\tremaining: 16.9s\n",
      "400:\tlearn: 0.8332618\ttotal: 9.35s\tremaining: 15.4s\n",
      "500:\tlearn: 0.8358718\ttotal: 12s\tremaining: 13.4s\n",
      "600:\tlearn: 0.8385969\ttotal: 14.5s\tremaining: 11s\n",
      "700:\tlearn: 0.8419163\ttotal: 17.1s\tremaining: 8.74s\n",
      "800:\tlearn: 0.8443457\ttotal: 19.6s\tremaining: 6.32s\n",
      "900:\tlearn: 0.8469064\ttotal: 22.2s\tremaining: 3.91s\n",
      "1000:\tlearn: 0.8486344\ttotal: 24.7s\tremaining: 1.45s\n"
     ]
    },
    {
     "name": "stderr",
     "output_type": "stream",
     "text": [
      "[I 2025-01-01 21:42:27,249] Trial 130 finished with value: 0.8507833218599344 and parameters: {'iterations': 1060, 'learning_rate': 0.003421112740771979, 'depth': 10, 'subsample': 0.5602135663076082, 'colsample_bylevel': 0.5110462738712059, 'min_data_in_leaf': 783, 'scale_pos_weight': 4.940879960451366}. Best is trial 112 with value: 0.9997497762512914.\n"
     ]
    },
    {
     "name": "stdout",
     "output_type": "stream",
     "text": [
      "1059:\tlearn: 0.8507833\ttotal: 26.2s\tremaining: 0us\n",
      "0:\tlearn: 0.8112769\ttotal: 29.7ms\tremaining: 30.8s\n",
      "100:\tlearn: 0.8844634\ttotal: 2.45s\tremaining: 22.7s\n",
      "200:\tlearn: 0.9236149\ttotal: 5.44s\tremaining: 22.6s\n",
      "300:\tlearn: 0.9500288\ttotal: 8.36s\tremaining: 20.5s\n",
      "400:\tlearn: 0.9667020\ttotal: 11.3s\tremaining: 17.9s\n",
      "500:\tlearn: 0.9788871\ttotal: 14.3s\tremaining: 15.3s\n",
      "600:\tlearn: 0.9871826\ttotal: 17.4s\tremaining: 12.7s\n",
      "700:\tlearn: 0.9913959\ttotal: 20.6s\tremaining: 9.89s\n",
      "800:\tlearn: 0.9947141\ttotal: 23.7s\tremaining: 7.02s\n",
      "900:\tlearn: 0.9966195\ttotal: 26.8s\tremaining: 4.07s\n",
      "1000:\tlearn: 0.9981717\ttotal: 29.9s\tremaining: 1.1s\n"
     ]
    },
    {
     "name": "stderr",
     "output_type": "stream",
     "text": [
      "[I 2025-01-01 21:42:58,451] Trial 131 finished with value: 0.9985774195191981 and parameters: {'iterations': 1038, 'learning_rate': 0.09246018635743647, 'depth': 10, 'subsample': 0.4831480156405877, 'colsample_bylevel': 0.6083209100492941, 'min_data_in_leaf': 737, 'scale_pos_weight': 5.504445932536194}. Best is trial 112 with value: 0.9997497762512914.\n"
     ]
    },
    {
     "name": "stdout",
     "output_type": "stream",
     "text": [
      "1037:\tlearn: 0.9985774\ttotal: 31s\tremaining: 0us\n",
      "0:\tlearn: 0.7065719\ttotal: 9.68ms\tremaining: 9.98s\n",
      "100:\tlearn: 0.8666424\ttotal: 2.35s\tremaining: 21.7s\n",
      "200:\tlearn: 0.9080042\ttotal: 4.91s\tremaining: 20.3s\n",
      "300:\tlearn: 0.9340517\ttotal: 7.83s\tremaining: 19s\n",
      "400:\tlearn: 0.9537432\ttotal: 10.6s\tremaining: 16.7s\n",
      "500:\tlearn: 0.9641825\ttotal: 13.5s\tremaining: 14.3s\n",
      "600:\tlearn: 0.9774955\ttotal: 16.4s\tremaining: 11.8s\n",
      "700:\tlearn: 0.9852183\ttotal: 19.3s\tremaining: 9.13s\n",
      "800:\tlearn: 0.9902233\ttotal: 22.3s\tremaining: 6.44s\n",
      "900:\tlearn: 0.9940427\ttotal: 25.2s\tremaining: 3.67s\n",
      "1000:\tlearn: 0.9964694\ttotal: 28.2s\tremaining: 874ms\n"
     ]
    },
    {
     "name": "stderr",
     "output_type": "stream",
     "text": [
      "[I 2025-01-01 21:43:27,845] Trial 132 finished with value: 0.996999810367996 and parameters: {'iterations': 1032, 'learning_rate': 0.07570432344971943, 'depth': 10, 'subsample': 0.5345757718934123, 'colsample_bylevel': 0.48291809212728426, 'min_data_in_leaf': 796, 'scale_pos_weight': 5.129041550099537}. Best is trial 112 with value: 0.9997497762512914.\n"
     ]
    },
    {
     "name": "stdout",
     "output_type": "stream",
     "text": [
      "1031:\tlearn: 0.9969998\ttotal: 29.1s\tremaining: 0us\n",
      "0:\tlearn: 0.7164568\ttotal: 6.58ms\tremaining: 6.87s\n",
      "100:\tlearn: 0.8698040\ttotal: 2.25s\tremaining: 21s\n",
      "200:\tlearn: 0.9188315\ttotal: 5.1s\tremaining: 21.4s\n",
      "300:\tlearn: 0.9450381\ttotal: 8.04s\tremaining: 19.9s\n",
      "400:\tlearn: 0.9644648\ttotal: 11.1s\tremaining: 17.8s\n",
      "500:\tlearn: 0.9790253\ttotal: 14s\tremaining: 15.2s\n",
      "600:\tlearn: 0.9895429\ttotal: 17.3s\tremaining: 12.8s\n",
      "700:\tlearn: 0.9942829\ttotal: 20.5s\tremaining: 10.1s\n",
      "800:\tlearn: 0.9966887\ttotal: 23.6s\tremaining: 7.18s\n",
      "900:\tlearn: 0.9984836\ttotal: 26.6s\tremaining: 4.25s\n",
      "1000:\tlearn: 0.9992520\ttotal: 29.6s\tremaining: 1.3s\n"
     ]
    },
    {
     "name": "stderr",
     "output_type": "stream",
     "text": [
      "[I 2025-01-01 21:43:59,005] Trial 133 finished with value: 0.9995097961427852 and parameters: {'iterations': 1045, 'learning_rate': 0.09872025759107003, 'depth': 10, 'subsample': 0.5188645314045528, 'colsample_bylevel': 0.45477311635146367, 'min_data_in_leaf': 849, 'scale_pos_weight': 4.82205449717695}. Best is trial 112 with value: 0.9997497762512914.\n"
     ]
    },
    {
     "name": "stdout",
     "output_type": "stream",
     "text": [
      "1044:\tlearn: 0.9995098\ttotal: 30.9s\tremaining: 0us\n",
      "0:\tlearn: 0.7403813\ttotal: 34.8ms\tremaining: 36.5s\n",
      "100:\tlearn: 0.8790361\ttotal: 2.41s\tremaining: 22.7s\n",
      "200:\tlearn: 0.9217559\ttotal: 5.33s\tremaining: 22.6s\n",
      "300:\tlearn: 0.9515797\ttotal: 8.37s\tremaining: 20.9s\n",
      "400:\tlearn: 0.9702749\ttotal: 11.5s\tremaining: 18.6s\n",
      "500:\tlearn: 0.9814781\ttotal: 14.7s\tremaining: 16.2s\n",
      "600:\tlearn: 0.9881643\ttotal: 17.9s\tremaining: 13.4s\n",
      "700:\tlearn: 0.9933712\ttotal: 20.8s\tremaining: 10.4s\n",
      "800:\tlearn: 0.9964950\ttotal: 23.8s\tremaining: 7.41s\n",
      "900:\tlearn: 0.9980445\ttotal: 26.6s\tremaining: 4.42s\n",
      "1000:\tlearn: 0.9990095\ttotal: 29.4s\tremaining: 1.47s\n"
     ]
    },
    {
     "name": "stderr",
     "output_type": "stream",
     "text": [
      "[I 2025-01-01 21:44:30,118] Trial 134 finished with value: 0.9993394705057004 and parameters: {'iterations': 1051, 'learning_rate': 0.09955575077747683, 'depth': 10, 'subsample': 0.5188135913937421, 'colsample_bylevel': 0.4511072753666902, 'min_data_in_leaf': 827, 'scale_pos_weight': 5.27286981704673}. Best is trial 112 with value: 0.9997497762512914.\n"
     ]
    },
    {
     "name": "stdout",
     "output_type": "stream",
     "text": [
      "1050:\tlearn: 0.9993395\ttotal: 30.8s\tremaining: 0us\n",
      "0:\tlearn: 0.7141913\ttotal: 6.5ms\tremaining: 6.82s\n",
      "100:\tlearn: 0.8589953\ttotal: 2.38s\tremaining: 22.3s\n",
      "200:\tlearn: 0.9016781\ttotal: 5.42s\tremaining: 22.9s\n",
      "300:\tlearn: 0.9325455\ttotal: 8.39s\tremaining: 20.8s\n",
      "400:\tlearn: 0.9547197\ttotal: 11.2s\tremaining: 18s\n",
      "500:\tlearn: 0.9694082\ttotal: 14s\tremaining: 15.3s\n",
      "600:\tlearn: 0.9797063\ttotal: 17s\tremaining: 12.7s\n",
      "700:\tlearn: 0.9874360\ttotal: 20.1s\tremaining: 9.99s\n",
      "800:\tlearn: 0.9921512\ttotal: 23.2s\tremaining: 7.18s\n",
      "900:\tlearn: 0.9956628\ttotal: 26.3s\tremaining: 4.31s\n",
      "1000:\tlearn: 0.9974830\ttotal: 29.2s\tremaining: 1.4s\n"
     ]
    },
    {
     "name": "stderr",
     "output_type": "stream",
     "text": [
      "[I 2025-01-01 21:45:01,027] Trial 135 finished with value: 0.9981916992705034 and parameters: {'iterations': 1049, 'learning_rate': 0.07827351010961872, 'depth': 10, 'subsample': 0.5807763952941427, 'colsample_bylevel': 0.4544446742545163, 'min_data_in_leaf': 877, 'scale_pos_weight': 4.723043767877567}. Best is trial 112 with value: 0.9997497762512914.\n"
     ]
    },
    {
     "name": "stdout",
     "output_type": "stream",
     "text": [
      "1048:\tlearn: 0.9981917\ttotal: 30.7s\tremaining: 0us\n",
      "0:\tlearn: 0.6997505\ttotal: 30.2ms\tremaining: 31.6s\n",
      "100:\tlearn: 0.8590903\ttotal: 2.3s\tremaining: 21.5s\n",
      "200:\tlearn: 0.9100396\ttotal: 5.33s\tremaining: 22.4s\n",
      "300:\tlearn: 0.9416548\ttotal: 8.38s\tremaining: 20.7s\n",
      "400:\tlearn: 0.9611383\ttotal: 11.1s\tremaining: 17.9s\n",
      "500:\tlearn: 0.9755121\ttotal: 13.9s\tremaining: 15.1s\n",
      "600:\tlearn: 0.9843744\ttotal: 16.7s\tremaining: 12.3s\n",
      "700:\tlearn: 0.9924701\ttotal: 19.6s\tremaining: 9.6s\n",
      "800:\tlearn: 0.9956206\ttotal: 22.4s\tremaining: 6.81s\n",
      "900:\tlearn: 0.9980803\ttotal: 25.2s\tremaining: 4.02s\n",
      "1000:\tlearn: 0.9991306\ttotal: 28s\tremaining: 1.23s\n"
     ]
    },
    {
     "name": "stderr",
     "output_type": "stream",
     "text": [
      "[I 2025-01-01 21:45:30,477] Trial 136 finished with value: 0.9993043224907863 and parameters: {'iterations': 1045, 'learning_rate': 0.09048189941812536, 'depth': 10, 'subsample': 0.5112409214678598, 'colsample_bylevel': 0.4223188439020753, 'min_data_in_leaf': 818, 'scale_pos_weight': 4.291105732584174}. Best is trial 112 with value: 0.9997497762512914.\n"
     ]
    },
    {
     "name": "stdout",
     "output_type": "stream",
     "text": [
      "1044:\tlearn: 0.9993043\ttotal: 29.2s\tremaining: 0us\n",
      "0:\tlearn: 0.7065012\ttotal: 17.1ms\tremaining: 18s\n",
      "100:\tlearn: 0.8508121\ttotal: 1.44s\tremaining: 13.6s\n",
      "200:\tlearn: 0.8801651\ttotal: 2.95s\tremaining: 12.5s\n",
      "300:\tlearn: 0.9047384\ttotal: 4.64s\tremaining: 11.6s\n",
      "400:\tlearn: 0.9221088\ttotal: 6.38s\tremaining: 10.4s\n",
      "500:\tlearn: 0.9355154\ttotal: 8.09s\tremaining: 8.91s\n",
      "600:\tlearn: 0.9480117\ttotal: 9.77s\tremaining: 7.35s\n",
      "700:\tlearn: 0.9581468\ttotal: 11.5s\tremaining: 5.77s\n",
      "800:\tlearn: 0.9663605\ttotal: 13.2s\tremaining: 4.15s\n",
      "900:\tlearn: 0.9746942\ttotal: 14.9s\tremaining: 2.52s\n",
      "1000:\tlearn: 0.9794220\ttotal: 16.6s\tremaining: 863ms\n"
     ]
    },
    {
     "name": "stderr",
     "output_type": "stream",
     "text": [
      "[I 2025-01-01 21:45:48,182] Trial 137 finished with value: 0.9825950252779321 and parameters: {'iterations': 1053, 'learning_rate': 0.07013427702853292, 'depth': 9, 'subsample': 0.5513906281058893, 'colsample_bylevel': 0.3779661428172039, 'min_data_in_leaf': 829, 'scale_pos_weight': 4.835644376734913}. Best is trial 112 with value: 0.9997497762512914.\n"
     ]
    },
    {
     "name": "stdout",
     "output_type": "stream",
     "text": [
      "1052:\tlearn: 0.9825201\ttotal: 17.5s\tremaining: 0us\n",
      "0:\tlearn: 0.7011950\ttotal: 27.7ms\tremaining: 28.9s\n",
      "100:\tlearn: 0.8598911\ttotal: 2.31s\tremaining: 21.6s\n",
      "200:\tlearn: 0.9115111\ttotal: 5.03s\tremaining: 21.1s\n",
      "300:\tlearn: 0.9407416\ttotal: 7.74s\tremaining: 19.2s\n",
      "400:\tlearn: 0.9625571\ttotal: 10.5s\tremaining: 16.9s\n",
      "500:\tlearn: 0.9770149\ttotal: 13.2s\tremaining: 14.4s\n",
      "600:\tlearn: 0.9857091\ttotal: 16s\tremaining: 11.9s\n",
      "700:\tlearn: 0.9915675\ttotal: 18.9s\tremaining: 9.31s\n",
      "800:\tlearn: 0.9960509\ttotal: 21.8s\tremaining: 6.66s\n",
      "900:\tlearn: 0.9976555\ttotal: 24.6s\tremaining: 3.95s\n",
      "1000:\tlearn: 0.9987927\ttotal: 27.3s\tremaining: 1.23s\n"
     ]
    },
    {
     "name": "stderr",
     "output_type": "stream",
     "text": [
      "[I 2025-01-01 21:46:16,967] Trial 138 finished with value: 0.9992304075776852 and parameters: {'iterations': 1046, 'learning_rate': 0.0927245521068813, 'depth': 10, 'subsample': 0.4981189927218694, 'colsample_bylevel': 0.4185693426846999, 'min_data_in_leaf': 845, 'scale_pos_weight': 4.363518304294889}. Best is trial 112 with value: 0.9997497762512914.\n"
     ]
    },
    {
     "name": "stdout",
     "output_type": "stream",
     "text": [
      "1045:\tlearn: 0.9992304\ttotal: 28.6s\tremaining: 0us\n",
      "0:\tlearn: 0.7114535\ttotal: 5.87ms\tremaining: 6.2s\n",
      "100:\tlearn: 0.8608386\ttotal: 1.6s\tremaining: 15.2s\n",
      "200:\tlearn: 0.8953648\ttotal: 3.33s\tremaining: 14.2s\n",
      "300:\tlearn: 0.9205394\ttotal: 5.07s\tremaining: 12.8s\n",
      "400:\tlearn: 0.9383572\ttotal: 6.91s\tremaining: 11.3s\n",
      "500:\tlearn: 0.9535984\ttotal: 8.72s\tremaining: 9.7s\n",
      "600:\tlearn: 0.9659278\ttotal: 10.5s\tremaining: 8s\n",
      "700:\tlearn: 0.9755997\ttotal: 12.3s\tremaining: 6.26s\n",
      "800:\tlearn: 0.9832530\ttotal: 14.1s\tremaining: 4.51s\n",
      "900:\tlearn: 0.9881851\ttotal: 15.8s\tremaining: 2.76s\n",
      "1000:\tlearn: 0.9916046\ttotal: 17.6s\tremaining: 1s\n"
     ]
    },
    {
     "name": "stderr",
     "output_type": "stream",
     "text": [
      "[I 2025-01-01 21:46:35,788] Trial 139 finished with value: 0.9935053031632541 and parameters: {'iterations': 1058, 'learning_rate': 0.09939178310124762, 'depth': 9, 'subsample': 0.4083500026375882, 'colsample_bylevel': 0.4754283033199571, 'min_data_in_leaf': 915, 'scale_pos_weight': 4.607897496312705}. Best is trial 112 with value: 0.9997497762512914.\n"
     ]
    },
    {
     "name": "stdout",
     "output_type": "stream",
     "text": [
      "1057:\tlearn: 0.9935053\ttotal: 18.6s\tremaining: 0us\n",
      "0:\tlearn: 0.7499911\ttotal: 28.6ms\tremaining: 29.3s\n",
      "100:\tlearn: 0.8649865\ttotal: 2.19s\tremaining: 20.1s\n",
      "200:\tlearn: 0.9061032\ttotal: 4.79s\tremaining: 19.7s\n",
      "300:\tlearn: 0.9342905\ttotal: 7.48s\tremaining: 18.1s\n",
      "400:\tlearn: 0.9553880\ttotal: 10.2s\tremaining: 15.9s\n",
      "500:\tlearn: 0.9717708\ttotal: 13s\tremaining: 13.6s\n",
      "600:\tlearn: 0.9831191\ttotal: 15.8s\tremaining: 11.2s\n",
      "700:\tlearn: 0.9890234\ttotal: 18.5s\tremaining: 8.63s\n",
      "800:\tlearn: 0.9929193\ttotal: 21.4s\tremaining: 6.05s\n",
      "900:\tlearn: 0.9955777\ttotal: 24.2s\tremaining: 3.38s\n",
      "1000:\tlearn: 0.9976967\ttotal: 27s\tremaining: 700ms\n"
     ]
    },
    {
     "name": "stderr",
     "output_type": "stream",
     "text": [
      "[I 2025-01-01 21:47:03,658] Trial 140 finished with value: 0.9982005289452017 and parameters: {'iterations': 1027, 'learning_rate': 0.08124880258404911, 'depth': 10, 'subsample': 0.44538621760278524, 'colsample_bylevel': 0.3968507668243466, 'min_data_in_leaf': 950, 'scale_pos_weight': 4.902295024815345}. Best is trial 112 with value: 0.9997497762512914.\n"
     ]
    },
    {
     "name": "stdout",
     "output_type": "stream",
     "text": [
      "1026:\tlearn: 0.9982005\ttotal: 27.7s\tremaining: 0us\n",
      "0:\tlearn: 0.7718445\ttotal: 12.1ms\tremaining: 12.6s\n",
      "100:\tlearn: 0.8214024\ttotal: 2.01s\tremaining: 18.6s\n",
      "200:\tlearn: 0.8268422\ttotal: 4.6s\tremaining: 19.1s\n",
      "300:\tlearn: 0.8282830\ttotal: 6.97s\tremaining: 17s\n",
      "400:\tlearn: 0.8310019\ttotal: 9.51s\tremaining: 15.1s\n",
      "500:\tlearn: 0.8335664\ttotal: 12.1s\tremaining: 13s\n",
      "600:\tlearn: 0.8361664\ttotal: 14.5s\tremaining: 10.5s\n",
      "700:\tlearn: 0.8375136\ttotal: 17s\tremaining: 8.14s\n",
      "800:\tlearn: 0.8386929\ttotal: 19.4s\tremaining: 5.72s\n",
      "900:\tlearn: 0.8407687\ttotal: 21.9s\tremaining: 3.31s\n",
      "1000:\tlearn: 0.8421573\ttotal: 24.7s\tremaining: 888ms\n"
     ]
    },
    {
     "name": "stderr",
     "output_type": "stream",
     "text": [
      "[I 2025-01-01 21:47:29,532] Trial 141 finished with value: 0.8425252271658935 and parameters: {'iterations': 1037, 'learning_rate': 0.0015618031169023468, 'depth': 10, 'subsample': 0.5212305945760078, 'colsample_bylevel': 0.4455436118788222, 'min_data_in_leaf': 849, 'scale_pos_weight': 5.3780227586552565}. Best is trial 112 with value: 0.9997497762512914.\n"
     ]
    },
    {
     "name": "stdout",
     "output_type": "stream",
     "text": [
      "1036:\tlearn: 0.8425252\ttotal: 25.7s\tremaining: 0us\n",
      "0:\tlearn: 0.7880367\ttotal: 35.5ms\tremaining: 36.2s\n",
      "100:\tlearn: 0.8577465\ttotal: 2.4s\tremaining: 21.9s\n",
      "200:\tlearn: 0.9056525\ttotal: 5.22s\tremaining: 21.3s\n",
      "300:\tlearn: 0.9369630\ttotal: 8.01s\tremaining: 19.2s\n",
      "400:\tlearn: 0.9581601\ttotal: 10.8s\tremaining: 16.7s\n",
      "500:\tlearn: 0.9743888\ttotal: 13.6s\tremaining: 14.1s\n",
      "600:\tlearn: 0.9839513\ttotal: 16.5s\tremaining: 11.6s\n",
      "700:\tlearn: 0.9907190\ttotal: 19.4s\tremaining: 8.9s\n",
      "800:\tlearn: 0.9955004\ttotal: 22.4s\tremaining: 6.17s\n",
      "900:\tlearn: 0.9977564\ttotal: 25.3s\tremaining: 3.39s\n",
      "1000:\tlearn: 0.9987862\ttotal: 28s\tremaining: 587ms\n"
     ]
    },
    {
     "name": "stderr",
     "output_type": "stream",
     "text": [
      "[I 2025-01-01 21:47:58,321] Trial 142 finished with value: 0.9988721227908108 and parameters: {'iterations': 1022, 'learning_rate': 0.08819999690917692, 'depth': 10, 'subsample': 0.5157656001189332, 'colsample_bylevel': 0.497986004891496, 'min_data_in_leaf': 814, 'scale_pos_weight': 4.33740619666303}. Best is trial 112 with value: 0.9997497762512914.\n"
     ]
    },
    {
     "name": "stdout",
     "output_type": "stream",
     "text": [
      "1021:\tlearn: 0.9988721\ttotal: 28.6s\tremaining: 0us\n",
      "0:\tlearn: 0.6954971\ttotal: 29.3ms\tremaining: 30.6s\n",
      "100:\tlearn: 0.8565434\ttotal: 2.23s\tremaining: 20.8s\n",
      "200:\tlearn: 0.9128598\ttotal: 4.96s\tremaining: 20.8s\n",
      "300:\tlearn: 0.9477882\ttotal: 7.71s\tremaining: 19s\n",
      "400:\tlearn: 0.9702436\ttotal: 10.5s\tremaining: 16.9s\n",
      "500:\tlearn: 0.9836502\ttotal: 13.6s\tremaining: 14.8s\n",
      "600:\tlearn: 0.9905113\ttotal: 16.6s\tremaining: 12.2s\n",
      "700:\tlearn: 0.9952855\ttotal: 19.5s\tremaining: 9.56s\n",
      "800:\tlearn: 0.9977610\ttotal: 22.5s\tremaining: 6.82s\n",
      "900:\tlearn: 0.9991429\ttotal: 25.3s\tremaining: 4.01s\n",
      "1000:\tlearn: 0.9996019\ttotal: 28.2s\tremaining: 1.21s\n"
     ]
    },
    {
     "name": "stderr",
     "output_type": "stream",
     "text": [
      "[I 2025-01-01 21:48:28,001] Trial 143 finished with value: 0.9996018631159521 and parameters: {'iterations': 1044, 'learning_rate': 0.09992526263991233, 'depth': 10, 'subsample': 0.5401712715477625, 'colsample_bylevel': 0.41702813038119735, 'min_data_in_leaf': 977, 'scale_pos_weight': 4.0626198001935006}. Best is trial 112 with value: 0.9997497762512914.\n"
     ]
    },
    {
     "name": "stdout",
     "output_type": "stream",
     "text": [
      "1043:\tlearn: 0.9996019\ttotal: 29.4s\tremaining: 0us\n",
      "0:\tlearn: 0.6894892\ttotal: 8.12ms\tremaining: 8.51s\n",
      "100:\tlearn: 0.8552166\ttotal: 2.17s\tremaining: 20.4s\n",
      "200:\tlearn: 0.9062673\ttotal: 4.96s\tremaining: 20.9s\n",
      "300:\tlearn: 0.9362895\ttotal: 7.62s\tremaining: 18.9s\n",
      "400:\tlearn: 0.9575409\ttotal: 10.4s\tremaining: 16.7s\n",
      "500:\tlearn: 0.9759737\ttotal: 13.2s\tremaining: 14.4s\n",
      "600:\tlearn: 0.9869732\ttotal: 16.2s\tremaining: 12.1s\n",
      "700:\tlearn: 0.9930862\ttotal: 19.1s\tremaining: 9.5s\n",
      "800:\tlearn: 0.9962947\ttotal: 22s\tremaining: 6.8s\n",
      "900:\tlearn: 0.9981460\ttotal: 24.7s\tremaining: 4.06s\n",
      "1000:\tlearn: 0.9993816\ttotal: 27.5s\tremaining: 1.32s\n"
     ]
    },
    {
     "name": "stderr",
     "output_type": "stream",
     "text": [
      "[I 2025-01-01 21:48:57,046] Trial 144 finished with value: 0.9995979752797224 and parameters: {'iterations': 1049, 'learning_rate': 0.09280048349140695, 'depth': 10, 'subsample': 0.5699002137916341, 'colsample_bylevel': 0.3597869739488109, 'min_data_in_leaf': 977, 'scale_pos_weight': 4.023315746732215}. Best is trial 112 with value: 0.9997497762512914.\n"
     ]
    },
    {
     "name": "stdout",
     "output_type": "stream",
     "text": [
      "1048:\tlearn: 0.9995671\ttotal: 28.8s\tremaining: 0us\n",
      "0:\tlearn: 0.7250046\ttotal: 28.2ms\tremaining: 29.5s\n",
      "100:\tlearn: 0.8539323\ttotal: 2.08s\tremaining: 19.6s\n",
      "200:\tlearn: 0.9070119\ttotal: 4.74s\tremaining: 20s\n",
      "300:\tlearn: 0.9409943\ttotal: 7.47s\tremaining: 18.6s\n",
      "400:\tlearn: 0.9632023\ttotal: 10.1s\tremaining: 16.4s\n",
      "500:\tlearn: 0.9781944\ttotal: 12.8s\tremaining: 14s\n",
      "600:\tlearn: 0.9891304\ttotal: 15.6s\tremaining: 11.6s\n",
      "700:\tlearn: 0.9945338\ttotal: 18.3s\tremaining: 9.06s\n",
      "800:\tlearn: 0.9975588\ttotal: 21s\tremaining: 6.5s\n",
      "900:\tlearn: 0.9990913\ttotal: 23.8s\tremaining: 3.91s\n",
      "1000:\tlearn: 0.9994352\ttotal: 26.5s\tremaining: 1.27s\n"
     ]
    },
    {
     "name": "stderr",
     "output_type": "stream",
     "text": [
      "[I 2025-01-01 21:49:25,180] Trial 145 finished with value: 0.9996234189987013 and parameters: {'iterations': 1049, 'learning_rate': 0.09877893273511251, 'depth': 10, 'subsample': 0.5748736744473781, 'colsample_bylevel': 0.3219406959993711, 'min_data_in_leaf': 969, 'scale_pos_weight': 3.964856091838377}. Best is trial 112 with value: 0.9997497762512914.\n"
     ]
    },
    {
     "name": "stdout",
     "output_type": "stream",
     "text": [
      "1048:\tlearn: 0.9996234\ttotal: 27.9s\tremaining: 0us\n",
      "0:\tlearn: 0.7231544\ttotal: 33.9ms\tremaining: 35.1s\n",
      "100:\tlearn: 0.8400022\ttotal: 2.06s\tremaining: 19.1s\n",
      "200:\tlearn: 0.8807953\ttotal: 4.54s\tremaining: 18.9s\n",
      "300:\tlearn: 0.9174998\ttotal: 7.17s\tremaining: 17.5s\n",
      "400:\tlearn: 0.9416298\ttotal: 9.79s\tremaining: 15.5s\n",
      "500:\tlearn: 0.9592658\ttotal: 12.5s\tremaining: 13.4s\n",
      "600:\tlearn: 0.9738436\ttotal: 15.2s\tremaining: 11s\n",
      "700:\tlearn: 0.9833700\ttotal: 17.9s\tremaining: 8.58s\n",
      "800:\tlearn: 0.9904243\ttotal: 20.7s\tremaining: 6.08s\n",
      "900:\tlearn: 0.9944250\ttotal: 23.5s\tremaining: 3.52s\n",
      "1000:\tlearn: 0.9971101\ttotal: 26.2s\tremaining: 915ms\n"
     ]
    },
    {
     "name": "stderr",
     "output_type": "stream",
     "text": [
      "[I 2025-01-01 21:49:52,604] Trial 146 finished with value: 0.9977786114748161 and parameters: {'iterations': 1036, 'learning_rate': 0.07506902662794539, 'depth': 10, 'subsample': 0.6002970399017982, 'colsample_bylevel': 0.3152610416779654, 'min_data_in_leaf': 998, 'scale_pos_weight': 3.8936999119166824}. Best is trial 112 with value: 0.9997497762512914.\n"
     ]
    },
    {
     "name": "stdout",
     "output_type": "stream",
     "text": [
      "1035:\tlearn: 0.9977149\ttotal: 27.2s\tremaining: 0us\n",
      "0:\tlearn: 0.7265312\ttotal: 11.7ms\tremaining: 12.2s\n",
      "100:\tlearn: 0.8493881\ttotal: 2.05s\tremaining: 19.1s\n",
      "200:\tlearn: 0.8978032\ttotal: 4.64s\tremaining: 19.5s\n",
      "300:\tlearn: 0.9318537\ttotal: 7.38s\tremaining: 18.2s\n",
      "400:\tlearn: 0.9535584\ttotal: 10s\tremaining: 16.1s\n",
      "500:\tlearn: 0.9676114\ttotal: 12.7s\tremaining: 13.8s\n",
      "600:\tlearn: 0.9805310\ttotal: 15.6s\tremaining: 11.4s\n",
      "700:\tlearn: 0.9886734\ttotal: 18.3s\tremaining: 8.94s\n",
      "800:\tlearn: 0.9941978\ttotal: 21.1s\tremaining: 6.38s\n",
      "900:\tlearn: 0.9969913\ttotal: 23.9s\tremaining: 3.76s\n",
      "1000:\tlearn: 0.9987261\ttotal: 26.6s\tremaining: 1.11s\n"
     ]
    },
    {
     "name": "stderr",
     "output_type": "stream",
     "text": [
      "[I 2025-01-01 21:50:20,545] Trial 147 finished with value: 0.9989685123805903 and parameters: {'iterations': 1043, 'learning_rate': 0.08363943425934282, 'depth': 10, 'subsample': 0.5685794924920818, 'colsample_bylevel': 0.3333444011423339, 'min_data_in_leaf': 973, 'scale_pos_weight': 4.098593725564532}. Best is trial 112 with value: 0.9997497762512914.\n"
     ]
    },
    {
     "name": "stdout",
     "output_type": "stream",
     "text": [
      "1042:\tlearn: 0.9989079\ttotal: 27.7s\tremaining: 0us\n",
      "0:\tlearn: 0.6898949\ttotal: 8.04ms\tremaining: 8.27s\n",
      "100:\tlearn: 0.8551304\ttotal: 2.19s\tremaining: 20.2s\n",
      "200:\tlearn: 0.9069373\ttotal: 4.93s\tremaining: 20.3s\n",
      "300:\tlearn: 0.9412109\ttotal: 7.61s\tremaining: 18.4s\n",
      "400:\tlearn: 0.9626615\ttotal: 10.3s\tremaining: 16.1s\n",
      "500:\tlearn: 0.9785009\ttotal: 13.1s\tremaining: 13.8s\n",
      "600:\tlearn: 0.9871799\ttotal: 15.9s\tremaining: 11.3s\n",
      "700:\tlearn: 0.9930549\ttotal: 18.6s\tremaining: 8.7s\n",
      "800:\tlearn: 0.9968929\ttotal: 21.6s\tremaining: 6.14s\n",
      "900:\tlearn: 0.9984301\ttotal: 24.3s\tremaining: 3.45s\n",
      "1000:\tlearn: 0.9990446\ttotal: 27s\tremaining: 756ms\n"
     ]
    },
    {
     "name": "stderr",
     "output_type": "stream",
     "text": [
      "[I 2025-01-01 21:50:48,609] Trial 148 finished with value: 0.9991984019102772 and parameters: {'iterations': 1029, 'learning_rate': 0.09112598063624049, 'depth': 10, 'subsample': 0.5515155861681642, 'colsample_bylevel': 0.3578030271030352, 'min_data_in_leaf': 982, 'scale_pos_weight': 4.041442439699397}. Best is trial 112 with value: 0.9997497762512914.\n"
     ]
    },
    {
     "name": "stdout",
     "output_type": "stream",
     "text": [
      "1028:\tlearn: 0.9991369\ttotal: 27.8s\tremaining: 0us\n",
      "0:\tlearn: 0.6994955\ttotal: 16.7ms\tremaining: 17.3s\n",
      "100:\tlearn: 0.8277398\ttotal: 1.45s\tremaining: 13.5s\n",
      "200:\tlearn: 0.8585268\ttotal: 3.04s\tremaining: 12.7s\n",
      "300:\tlearn: 0.8852033\ttotal: 4.74s\tremaining: 11.6s\n",
      "400:\tlearn: 0.9044845\ttotal: 6.42s\tremaining: 10.2s\n",
      "500:\tlearn: 0.9241489\ttotal: 8.18s\tremaining: 8.79s\n",
      "600:\tlearn: 0.9387799\ttotal: 9.83s\tremaining: 7.18s\n",
      "700:\tlearn: 0.9491161\ttotal: 11.8s\tremaining: 5.7s\n",
      "800:\tlearn: 0.9592156\ttotal: 13.7s\tremaining: 4.09s\n",
      "900:\tlearn: 0.9688530\ttotal: 15.9s\tremaining: 2.46s\n",
      "1000:\tlearn: 0.9756081\ttotal: 18.1s\tremaining: 707ms\n"
     ]
    },
    {
     "name": "stderr",
     "output_type": "stream",
     "text": [
      "[I 2025-01-01 21:51:07,729] Trial 149 finished with value: 0.9788645781110908 and parameters: {'iterations': 1040, 'learning_rate': 0.06868810590489298, 'depth': 9, 'subsample': 0.5829556261286799, 'colsample_bylevel': 0.37948862940847394, 'min_data_in_leaf': 1033, 'scale_pos_weight': 3.7288127553236063}. Best is trial 112 with value: 0.9997497762512914.\n"
     ]
    },
    {
     "name": "stdout",
     "output_type": "stream",
     "text": [
      "1039:\tlearn: 0.9788646\ttotal: 18.9s\tremaining: 0us\n",
      "Number of finished trials:  150\n",
      "Best trial:\n",
      "  Params: \n",
      "    iterations: 1032\n",
      "    learning_rate: 0.09990300859207805\n",
      "    depth: 10\n",
      "    subsample: 0.49751604974646696\n",
      "    colsample_bylevel: 0.4824351183630512\n",
      "    min_data_in_leaf: 575\n",
      "    scale_pos_weight: 3.481200297366359\n"
     ]
    }
   ],
   "source": [
    "# define the objective function with adjustments\n",
    "def objective(trial):\n",
    "    params = {\n",
    "        \"iterations\": trial.suggest_int(\"iterations\", 200, 800),\n",
    "        \"learning_rate\": trial.suggest_float(\"learning_rate\", 1e-3, 0.05, log=True),\n",
    "        \"depth\": trial.suggest_int(\"depth\", 3, 8),\n",
    "        \"subsample\": trial.suggest_float(\"subsample\", 0.5, 0.9),\n",
    "        \"colsample_bylevel\": trial.suggest_float(\"colsample_bylevel\", 0.5, 0.9),\n",
    "        \"min_data_in_leaf\": trial.suggest_int(\"min_data_in_leaf\", 10, 500),\n",
    "        \"scale_pos_weight\": trial.suggest_float(\"scale_pos_weight\", 1, 10),\n",
    "        \"l2_leaf_reg\": trial.suggest_float(\"l2_leaf_reg\", 1, 10),\n",
    "    }\n",
    "    \n",
    "    # Initialize CatBoostClassifier with modified parameters\n",
    "    model = CatBoostClassifier(**params, eval_metric=\"F1\", verbose=100)\n",
    "    \n",
    "    # Fit the model\n",
    "    model.fit(X_train, y_train, cat_features=category_cols, early_stopping_rounds=50, verbose=100)\n",
    "    \n",
    "    # Return the F1 score on the validation dataset\n",
    "    return model.best_score_[\"validation\"][\"F1\"]\n",
    "\n",
    "# Create an Optuna study\n",
    "study = optuna.create_study(direction=\"maximize\")\n",
    "study.optimize(objective, n_trials=100)\n",
    "\n",
    "# Output the best parameters\n",
    "print(\"Number of finished trials: \", len(study.trials))\n",
    "print(\"Best trial:\")\n",
    "trial = study.best_trial\n",
    "print(\"  Params: \")\n",
    "for key, value in trial.params.items():\n",
    "    print(f\"    {key}: {value}\")"
   ]
  },
  {
   "cell_type": "markdown",
   "id": "f8fc47eb-4b2f-4ac0-aa17-3b9ffb53b342",
   "metadata": {},
   "source": [
    "### Cross-Validation (10-Fold)"
   ]
  },
  {
   "cell_type": "code",
   "execution_count": 92,
   "id": "8b2cc488-6f0e-4ec5-8ded-c96319ca30b5",
   "metadata": {
    "scrolled": true
   },
   "outputs": [
    {
     "name": "stdout",
     "output_type": "stream",
     "text": [
      "Training on fold [0/10]\n",
      "0:\tlearn: 0.7650948\ttest: 0.7295946\tbest: 0.7295946 (0)\ttotal: 54.9ms\tremaining: 56.6s\n",
      "\n",
      "bestTest = 0.7696526317\n",
      "bestIteration = 28\n",
      "\n",
      "Training on fold [1/10]\n",
      "0:\tlearn: 0.7599157\ttest: 0.7448183\tbest: 0.7448183 (0)\ttotal: 31.8ms\tremaining: 32.8s\n",
      "100:\tlearn: 0.8545323\ttest: 0.7995790\tbest: 0.7995790 (66)\ttotal: 2.89s\tremaining: 26.6s\n",
      "\n",
      "bestTest = 0.7995789925\n",
      "bestIteration = 66\n",
      "\n",
      "Training on fold [2/10]\n",
      "0:\tlearn: 0.7617754\ttest: 0.7233953\tbest: 0.7233953 (0)\ttotal: 32ms\tremaining: 33s\n",
      "100:\tlearn: 0.8531464\ttest: 0.7854668\tbest: 0.7902236 (66)\ttotal: 2.85s\tremaining: 26.2s\n",
      "\n",
      "bestTest = 0.7902235611\n",
      "bestIteration = 66\n",
      "\n",
      "Training on fold [3/10]\n",
      "0:\tlearn: 0.7646070\ttest: 0.7506292\tbest: 0.7506292 (0)\ttotal: 33.3ms\tremaining: 34.3s\n",
      "100:\tlearn: 0.8544880\ttest: 0.7905007\tbest: 0.7942038 (68)\ttotal: 2.77s\tremaining: 25.6s\n",
      "\n",
      "bestTest = 0.7942037645\n",
      "bestIteration = 68\n",
      "\n",
      "Training on fold [4/10]\n",
      "0:\tlearn: 0.7622228\ttest: 0.7552667\tbest: 0.7552667 (0)\ttotal: 32ms\tremaining: 33s\n",
      "100:\tlearn: 0.8574036\ttest: 0.8039585\tbest: 0.8069890 (68)\ttotal: 2.6s\tremaining: 24s\n",
      "\n",
      "bestTest = 0.8072362362\n",
      "bestIteration = 101\n",
      "\n",
      "Training on fold [5/10]\n",
      "0:\tlearn: 0.6875204\ttest: 0.6631185\tbest: 0.6631185 (0)\ttotal: 14ms\tremaining: 14.4s\n",
      "100:\tlearn: 0.8529959\ttest: 0.7925798\tbest: 0.7960916 (62)\ttotal: 2.72s\tremaining: 25.1s\n",
      "\n",
      "bestTest = 0.7960915777\n",
      "bestIteration = 62\n",
      "\n",
      "Training on fold [6/10]\n",
      "0:\tlearn: 0.7630997\ttest: 0.7526206\tbest: 0.7526206 (0)\ttotal: 39.7ms\tremaining: 40.9s\n",
      "100:\tlearn: 0.8493154\ttest: 0.8002791\tbest: 0.8053078 (96)\ttotal: 2.61s\tremaining: 24.1s\n",
      "\n",
      "bestTest = 0.8053078234\n",
      "bestIteration = 96\n",
      "\n",
      "Training on fold [7/10]\n",
      "0:\tlearn: 0.6918847\ttest: 0.6746673\tbest: 0.6746673 (0)\ttotal: 30.9ms\tremaining: 31.9s\n",
      "100:\tlearn: 0.8473506\ttest: 0.7949627\tbest: 0.8020201 (67)\ttotal: 2.62s\tremaining: 24.2s\n",
      "\n",
      "bestTest = 0.8020201455\n",
      "bestIteration = 67\n",
      "\n",
      "Training on fold [8/10]\n",
      "0:\tlearn: 0.6821752\ttest: 0.7072721\tbest: 0.7072721 (0)\ttotal: 12.6ms\tremaining: 13s\n",
      "100:\tlearn: 0.8527758\ttest: 0.8035485\tbest: 0.8091157 (82)\ttotal: 2.74s\tremaining: 25.3s\n",
      "\n",
      "bestTest = 0.809115703\n",
      "bestIteration = 82\n",
      "\n",
      "Training on fold [9/10]\n",
      "0:\tlearn: 0.6823845\ttest: 0.6757988\tbest: 0.6757988 (0)\ttotal: 11.4ms\tremaining: 11.8s\n",
      "\n",
      "bestTest = 0.7868462842\n",
      "bestIteration = 19\n",
      "\n"
     ]
    }
   ],
   "source": [
    "best_params = study.best_trial.params\n",
    "\n",
    "best_params[\"loss_function\"] = \"Logloss\"  # optimize for Logloss\n",
    "best_params[\"eval_metric\"] = \"F1\"  # monitor F1 during evaluation\n",
    "\n",
    "# cv\n",
    "cv_results = cv(\n",
    "    Pool(X_train, y_train, cat_features=category_cols),\n",
    "    params=best_params,\n",
    "    fold_count=10,\n",
    "    verbose=100,\n",
    "    early_stopping_rounds=50\n",
    ")"
   ]
  },
  {
   "cell_type": "code",
   "execution_count": null,
   "id": "b3883065-60d4-4328-b292-d9631ab37e11",
   "metadata": {},
   "outputs": [],
   "source": []
  },
  {
   "cell_type": "code",
   "execution_count": 94,
   "id": "008644c5-aa97-431b-b261-f3b9727575e1",
   "metadata": {},
   "outputs": [
    {
     "name": "stdout",
     "output_type": "stream",
     "text": [
      "     iterations  test-F1-mean  test-F1-std  train-F1-mean  train-F1-std  \\\n",
      "0             0      0.717718     0.035465       0.732068      0.039773   \n",
      "1             1      0.740524     0.027621       0.749687      0.030204   \n",
      "2             2      0.755268     0.015110       0.762900      0.014231   \n",
      "3             3      0.762625     0.009377       0.769860      0.007716   \n",
      "4             4      0.761357     0.012216       0.769899      0.005848   \n",
      "..          ...           ...          ...            ...           ...   \n",
      "147         147      0.788957     0.011019       0.863623      0.013909   \n",
      "148         148      0.788957     0.011019       0.863634      0.013927   \n",
      "149         149      0.788899     0.010956       0.863601      0.013871   \n",
      "150         150      0.789173     0.011275       0.863702      0.014046   \n",
      "151         151      0.788812     0.010868       0.863728      0.014090   \n",
      "\n",
      "     test-Logloss-mean  test-Logloss-std  train-Logloss-mean  \\\n",
      "0             0.605501          0.013020            0.604267   \n",
      "1             0.539722          0.012781            0.538136   \n",
      "2             0.492941          0.011532            0.490891   \n",
      "3             0.456424          0.008872            0.453795   \n",
      "4             0.432857          0.007822            0.429770   \n",
      "..                 ...               ...                 ...   \n",
      "147           0.300429          0.014269            0.216851   \n",
      "148           0.300438          0.014258            0.216826   \n",
      "149           0.300433          0.014263            0.216763   \n",
      "150           0.300448          0.014246            0.216689   \n",
      "151           0.300472          0.014218            0.216631   \n",
      "\n",
      "     train-Logloss-std  \n",
      "0             0.013760  \n",
      "1             0.013660  \n",
      "2             0.013686  \n",
      "3             0.010854  \n",
      "4             0.011360  \n",
      "..                 ...  \n",
      "147           0.016147  \n",
      "148           0.016189  \n",
      "149           0.016295  \n",
      "150           0.016423  \n",
      "151           0.016525  \n",
      "\n",
      "[152 rows x 9 columns]\n"
     ]
    }
   ],
   "source": [
    "print(cv_results)"
   ]
  },
  {
   "cell_type": "markdown",
   "id": "00f8a03c-b9d5-4fec-9db7-473ceb1e77d7",
   "metadata": {},
   "source": [
    "The cross-validation results show that the CatBoost model performs consistently well across ten different data splits, with F1 scores ranging from about 0.77 to 0.81. This means the model is reliably identifying patterns and making accurate predictions on unseen data. The test F1 scores have very little variation, with a small standard deviation of around 0.01, which is a great sign of stability. The training F1 scores are slightly higher, indicating a very minor possibility of overfitting, but this is expected and well within acceptable limits. Overall, these results confirm that the hyperparameter tuning worked effectively, producing a robust model ready for real-world use."
   ]
  },
  {
   "cell_type": "code",
   "execution_count": 96,
   "id": "a1711bdf-478c-4f49-a188-299b98c935e2",
   "metadata": {},
   "outputs": [
    {
     "name": "stdout",
     "output_type": "stream",
     "text": [
      "0:\tlearn: 0.6770002\ttest: 0.6679869\tbest: 0.6679869 (0)\ttotal: 8.4ms\tremaining: 8.66s\n",
      "100:\tlearn: 0.8507986\ttest: 0.7820860\tbest: 0.7873629 (55)\ttotal: 2.51s\tremaining: 23.1s\n",
      "200:\tlearn: 0.9067075\ttest: 0.7788230\tbest: 0.7873629 (55)\ttotal: 5.5s\tremaining: 22.7s\n",
      "300:\tlearn: 0.9424107\ttest: 0.7627022\tbest: 0.7873629 (55)\ttotal: 8.32s\tremaining: 20.2s\n",
      "400:\tlearn: 0.9636845\ttest: 0.7545029\tbest: 0.7873629 (55)\ttotal: 11.2s\tremaining: 17.7s\n",
      "500:\tlearn: 0.9822942\ttest: 0.7450705\tbest: 0.7873629 (55)\ttotal: 14.4s\tremaining: 15.2s\n",
      "600:\tlearn: 0.9905738\ttest: 0.7361939\tbest: 0.7873629 (55)\ttotal: 17.4s\tremaining: 12.5s\n",
      "700:\tlearn: 0.9958493\ttest: 0.7241391\tbest: 0.7873629 (55)\ttotal: 20.4s\tremaining: 9.63s\n",
      "800:\tlearn: 0.9983053\ttest: 0.7173498\tbest: 0.7873629 (55)\ttotal: 23.4s\tremaining: 6.74s\n",
      "900:\tlearn: 0.9992680\ttest: 0.7179087\tbest: 0.7873629 (55)\ttotal: 26.3s\tremaining: 3.82s\n",
      "1000:\tlearn: 0.9997140\ttest: 0.7126406\tbest: 0.7873629 (55)\ttotal: 29.3s\tremaining: 907ms\n",
      "1031:\tlearn: 0.9997140\ttest: 0.7125237\tbest: 0.7873629 (55)\ttotal: 30.2s\tremaining: 0us\n",
      "\n",
      "bestTest = 0.78736294\n",
      "bestIteration = 55\n",
      "\n",
      "Shrink model to first 56 iterations.\n"
     ]
    }
   ],
   "source": [
    "# initialize the CatBoost model with the best parameters\n",
    "cat_model = CatBoostClassifier(**best_params, cat_features=category_cols, verbose=100)\n",
    "\n",
    "# fit the model\n",
    "cat_model.fit(X_train, y_train, eval_set=[(X_test, y_test)], verbose=100)\n",
    "\n",
    "# make predictions\n",
    "cat_preds = cat_model.predict(X_test)"
   ]
  },
  {
   "cell_type": "code",
   "execution_count": 104,
   "id": "e2969c24-2934-4fcc-ad70-c30c80c7e6fd",
   "metadata": {},
   "outputs": [
    {
     "data": {
      "image/png": "[encoded data removed]",
      "text/plain": [
       "<Figure size 1000x600 with 1 Axes>"
      ]
     },
     "metadata": {},
     "output_type": "display_data"
    }
   ],
   "source": [
    "plt.figure(figsize=(10, 6))\n",
    "\n",
    "# plot\n",
    "plt.plot(cat_model.evals_result_['learn']['F1'], label='Train F1')\n",
    "plt.plot(cat_model.evals_result_['validation']['F1'], label='Validation F1')\n",
    "\n",
    "# labels, title, and legend\n",
    "plt.xlabel('Iterations')\n",
    "plt.ylabel('F1 Score')\n",
    "plt.title('Learning Rate Curve')\n",
    "plt.legend()\n",
    "plt.grid()\n",
    "plt.show()"
   ]
  },
  {
   "cell_type": "markdown",
   "id": "c58dc3a9-6e22-489e-96a1-454448e7b58b",
   "metadata": {},
   "source": [
    "## Model Evaluation"
   ]
  },
  {
   "cell_type": "markdown",
   "id": "527446b4-d41d-4d1e-90aa-9c41b8c90b46",
   "metadata": {},
   "source": [
    "### Classification report:"
   ]
  },
  {
   "cell_type": "code",
   "execution_count": 108,
   "id": "e22baf42-989e-484c-bc05-2c42b8abf2d6",
   "metadata": {},
   "outputs": [
    {
     "name": "stdout",
     "output_type": "stream",
     "text": [
      "              precision    recall  f1-score   support\n",
      "\n",
      "          No       0.97      0.91      0.94      7635\n",
      "         Yes       0.52      0.78      0.63      1004\n",
      "\n",
      "    accuracy                           0.89      8639\n",
      "   macro avg       0.75      0.84      0.78      8639\n",
      "weighted avg       0.92      0.89      0.90      8639\n",
      "\n"
     ]
    }
   ],
   "source": [
    "report = classification_report(y_test, cat_preds, target_names=[\"No\", \"Yes\"])\n",
    "print(report)"
   ]
  },
  {
   "cell_type": "code",
   "execution_count": null,
   "id": "5078cf93-e8fa-4a80-8b2e-d73061e22d76",
   "metadata": {},
   "outputs": [],
   "source": []
  },
  {
   "cell_type": "markdown",
   "id": "4bf36990-c90a-4205-951e-069febf295be",
   "metadata": {},
   "source": [
    "The improvements in f1-score were modest, even after experimenting with various scale adjustments, and came at the expense of overall accuracy. However, the recall for true positives—our primary objective—improved significantly, showing better identification of potential subscribers."
   ]
  },
  {
   "cell_type": "markdown",
   "id": "9a7131ef-f2be-4349-856c-1ae7cbe98881",
   "metadata": {},
   "source": [
    "### ROC curve:"
   ]
  },
  {
   "cell_type": "code",
   "execution_count": 113,
   "id": "c7a37f50-a1a0-4e57-bf67-3eb9d3a645c2",
   "metadata": {},
   "outputs": [
    {
     "data": {
      "image/png": "[encoded data removed]",
      "text/plain": [
       "<Figure size 800x600 with 1 Axes>"
      ]
     },
     "metadata": {},
     "output_type": "display_data"
    }
   ],
   "source": [
    "# prediction probabilities\n",
    "cat_probs = cat_model.predict_proba(X_test)[:, 1]\n",
    "\n",
    "# ROC curve\n",
    "fpr, tpr, thresholds = roc_curve(y_test, cat_probs)\n",
    "\n",
    "# ROC AUC score\n",
    "auc_score = roc_auc_score(y_test, cat_probs)\n",
    "\n",
    "# Plot the ROC curve\n",
    "plt.figure(figsize=(8, 6))\n",
    "plt.plot(fpr, tpr, label=f'ROC Curve (AUC = {auc_score:.2f})', linewidth=2)\n",
    "plt.plot([0, 1], [0, 1], 'k--', label='Random Guess')\n",
    "plt.xlabel('False Positive Rate')\n",
    "plt.ylabel('True Positive Rate')\n",
    "plt.title('ROC Curve')\n",
    "plt.legend(loc='lower right')\n",
    "plt.grid()\n",
    "plt.show()"
   ]
  },
  {
   "cell_type": "markdown",
   "id": "a2a5cc22-8d48-40d1-9af7-142352d49de1",
   "metadata": {},
   "source": [
    "The AUC score slightly decreased, but it’s nothing to be concerned about. The trade-off is worth it as the recall for true positives—our primary objective—improved significantly."
   ]
  },
  {
   "cell_type": "markdown",
   "id": "0d02cf09-a968-401a-b2d2-a3dcb4c57520",
   "metadata": {},
   "source": [
    "### Confusion Matrix"
   ]
  },
  {
   "cell_type": "code",
   "execution_count": 117,
   "id": "753e1cf8-86b6-4de9-8b8c-16a6840246d1",
   "metadata": {},
   "outputs": [
    {
     "data": {
      "image/png": "[encoded data removed]",
      "text/plain": [
       "<Figure size 800x600 with 2 Axes>"
      ]
     },
     "metadata": {},
     "output_type": "display_data"
    }
   ],
   "source": [
    "# make predictions\n",
    "y_pred = cat_model.predict(X_test)\n",
    "\n",
    "cm = confusion_matrix(y_test, y_pred)\n",
    "\n",
    "# plot confusion matrix\n",
    "plt.figure(figsize=(8, 6))\n",
    "sns.heatmap(cm, annot=True, fmt='d', cmap='Blues', xticklabels=[\"0\", \"1\"], yticklabels=[\"0\", \"1\"])\n",
    "plt.xlabel('Predicted Labels')\n",
    "plt.ylabel('True Labels')\n",
    "plt.title('Confusion Matrix')\n",
    "plt.show()"
   ]
  },
  {
   "cell_type": "markdown",
   "id": "d3d3ffb1-e88d-4ef1-8765-5d2e86576fe2",
   "metadata": {},
   "source": [
    "After hyperparameter tuning, the matrix shows an increase in correctly identified subscribers, though some misclassifications remain."
   ]
  },
  {
   "cell_type": "markdown",
   "id": "e62a30d8-c6d2-4d9b-a02f-2fa97c99be62",
   "metadata": {},
   "source": [
    "## Feature selection:"
   ]
  },
  {
   "cell_type": "markdown",
   "id": "b4131039-9aca-4b99-8435-8cbc86cc0a14",
   "metadata": {},
   "source": [
    "Understanding what drives our model is key, and we’re using two simple yet powerful methods. Permutation Importance quickly shows which features are most important by measuring how performance drops when we shuffle them. SHAP Violin Plots go deeper, revealing not just which features matter but also how they influence predictions, whether positively or negatively. Together, these methods give us a clear, well-rounded view of our model’s decision-making process."
   ]
  },
  {
   "cell_type": "code",
   "execution_count": 213,
   "id": "198750d4-56f3-4bbb-a104-83eeae358a31",
   "metadata": {},
   "outputs": [
    {
     "data": {
      "image/png": "[encoded data removed]",
      "text/plain": [
       "<Figure size 1000x600 with 1 Axes>"
      ]
     },
     "metadata": {},
     "output_type": "display_data"
    }
   ],
   "source": [
    "# permutation importance\n",
    "perm_importance = permutation_importance(cat_model, X_test, y_test, scoring=\"f1\", \n",
    "                                         n_repeats=10, random_state=42)\n",
    "\n",
    "# to conver into df\n",
    "perm_feature_scores = pd.DataFrame({\n",
    "    \"Feature\": X_test.columns,\n",
    "    \"Importance\": perm_importance.importances_mean\n",
    "    }).sort_values(by=\"Importance\", ascending=False)\n",
    "\n",
    "# plot permutation importance\n",
    "plt.figure(figsize=(10, 6))\n",
    "sns.barplot(x=perm_feature_scores[\"Importance\"], y=perm_feature_scores[\"Feature\"])\n",
    "plt.title(\"Permutation Feature Importance\")\n",
    "plt.xlabel(\"Importance Score\")\n",
    "plt.ylabel(\"Features\")\n",
    "plt.grid(True)\n",
    "plt.tight_layout()\n",
    "plt.show()"
   ]
  },
  {
   "cell_type": "code",
   "execution_count": 164,
   "id": "ace98fe8-1527-484b-b2fd-bff180b11b12",
   "metadata": {},
   "outputs": [
    {
     "data": {
      "image/png": "[encoded data removed]",
      "text/plain": [
       "<Figure size 800x670 with 2 Axes>"
      ]
     },
     "metadata": {},
     "output_type": "display_data"
    }
   ],
   "source": [
    "# Ensure that categorical features are encoded\n",
    "X_test_encoded = X_test.copy()\n",
    "for col in category_cols:\n",
    "    X_test_encoded[col] = X_test_encoded[col].astype('category').cat.codes\n",
    "\n",
    "# initialize SHAP explainer\n",
    "explainer = shap.TreeExplainer(cat_model)\n",
    "\n",
    "# Calculate SHAP values\n",
    "shap_values = explainer.shap_values(X_test_encoded)\n",
    "\n",
    "# plot (violin plot)\n",
    "shap.summary_plot(shap_values, X_test_encoded, plot_type=\"violin\")"
   ]
  },
  {
   "cell_type": "markdown",
   "id": "90df4280-2b9b-49a1-956d-8d22c838124f",
   "metadata": {},
   "source": [
    "The analysis shows that \"Duration\" and \"Contact_date\" have the biggest impact on predictions, followed by \"Contact\" and \"Poutcome.\" SHAP explains how \"Duration\" strongly boosts predictions when it's high, while \"Contact_date\" has a mixed influence. Features like \"Previous\" and \"Age\" barely matter. We'll focus on the top features identified by SHAP and permutation importance, remove the rest, and retrain the model for better performance and efficiency."
   ]
  },
  {
   "cell_type": "markdown",
   "id": "b4b41afa-c960-4cba-878b-fb23a9016c2b",
   "metadata": {},
   "source": [
    "### Let's filter using a 2.5% threshold:"
   ]
  },
  {
   "cell_type": "code",
   "execution_count": 215,
   "id": "7a012da2-142d-45da-b27e-822c7143f258",
   "metadata": {},
   "outputs": [
    {
     "name": "stdout",
     "output_type": "stream",
     "text": [
      "Selected Features:\n",
      "['balance', 'housing', 'contact', 'duration', 'pdays', 'poutcome', 'contact_date']\n"
     ]
    }
   ],
   "source": [
    "# Assuming `perm_importance` is already calculated\n",
    "perm_importance = pd.DataFrame({'feature': X_test.columns, \n",
    "                                'perm_importance': perm_importance.importances_mean})\n",
    "\n",
    "perm_threshold = 0.01  # Set the importance threshold\n",
    "perm_features = perm_importance[perm_importance['perm_importance'] > perm_threshold]['feature'].tolist()\n",
    "\n",
    "# let's filter on important features\n",
    "X_train_filtered = X_train[perm_features]\n",
    "X_test_filtered = X_test[perm_features]\n",
    "\n",
    "print(\"Selected Features:\")\n",
    "print(perm_features)"
   ]
  },
  {
   "cell_type": "code",
   "execution_count": 217,
   "id": "6f62f570-37b7-414e-8799-b65dafc21b16",
   "metadata": {},
   "outputs": [
    {
     "name": "stdout",
     "output_type": "stream",
     "text": [
      "0:\tlearn: 0.6942310\ttotal: 29.2ms\tremaining: 30.1s\n",
      "1:\tlearn: 0.7450622\ttotal: 42.3ms\tremaining: 21.8s\n",
      "2:\tlearn: 0.7603945\ttotal: 69.6ms\tremaining: 23.9s\n",
      "3:\tlearn: 0.7673508\ttotal: 103ms\tremaining: 26.5s\n",
      "4:\tlearn: 0.7661754\ttotal: 131ms\tremaining: 27s\n",
      "5:\tlearn: 0.7677087\ttotal: 139ms\tremaining: 23.8s\n",
      "6:\tlearn: 0.7690440\ttotal: 162ms\tremaining: 23.8s\n",
      "7:\tlearn: 0.7698070\ttotal: 166ms\tremaining: 21.2s\n",
      "8:\tlearn: 0.7678858\ttotal: 173ms\tremaining: 19.6s\n",
      "9:\tlearn: 0.7693715\ttotal: 177ms\tremaining: 18.1s\n",
      "10:\tlearn: 0.7706859\ttotal: 200ms\tremaining: 18.6s\n",
      "11:\tlearn: 0.7711944\ttotal: 208ms\tremaining: 17.7s\n",
      "12:\tlearn: 0.7729536\ttotal: 234ms\tremaining: 18.4s\n",
      "13:\tlearn: 0.7759303\ttotal: 246ms\tremaining: 17.9s\n",
      "14:\tlearn: 0.7774040\ttotal: 273ms\tremaining: 18.5s\n",
      "15:\tlearn: 0.7795781\ttotal: 299ms\tremaining: 19s\n",
      "16:\tlearn: 0.7807798\ttotal: 322ms\tremaining: 19.2s\n",
      "17:\tlearn: 0.7829840\ttotal: 344ms\tremaining: 19.4s\n",
      "18:\tlearn: 0.7861336\ttotal: 369ms\tremaining: 19.7s\n",
      "19:\tlearn: 0.7878991\ttotal: 392ms\tremaining: 19.8s\n",
      "20:\tlearn: 0.7908426\ttotal: 416ms\tremaining: 20s\n",
      "21:\tlearn: 0.7922991\ttotal: 446ms\tremaining: 20.5s\n",
      "22:\tlearn: 0.7951083\ttotal: 471ms\tremaining: 20.7s\n",
      "23:\tlearn: 0.7958279\ttotal: 495ms\tremaining: 20.8s\n",
      "24:\tlearn: 0.7967681\ttotal: 520ms\tremaining: 20.9s\n",
      "25:\tlearn: 0.7965146\ttotal: 524ms\tremaining: 20.3s\n",
      "26:\tlearn: 0.7972687\ttotal: 547ms\tremaining: 20.4s\n",
      "27:\tlearn: 0.7979445\ttotal: 571ms\tremaining: 20.5s\n",
      "28:\tlearn: 0.7980921\ttotal: 575ms\tremaining: 19.9s\n",
      "29:\tlearn: 0.7984021\ttotal: 597ms\tremaining: 19.9s\n",
      "30:\tlearn: 0.8001406\ttotal: 622ms\tremaining: 20.1s\n",
      "31:\tlearn: 0.7996917\ttotal: 645ms\tremaining: 20.2s\n",
      "32:\tlearn: 0.8011991\ttotal: 674ms\tremaining: 20.4s\n",
      "33:\tlearn: 0.8012781\ttotal: 696ms\tremaining: 20.4s\n",
      "34:\tlearn: 0.8023158\ttotal: 722ms\tremaining: 20.6s\n",
      "35:\tlearn: 0.8036876\ttotal: 746ms\tremaining: 20.6s\n",
      "36:\tlearn: 0.8044701\ttotal: 769ms\tremaining: 20.7s\n",
      "37:\tlearn: 0.8050439\ttotal: 791ms\tremaining: 20.7s\n",
      "38:\tlearn: 0.8053427\ttotal: 814ms\tremaining: 20.7s\n",
      "39:\tlearn: 0.8059783\ttotal: 839ms\tremaining: 20.8s\n",
      "40:\tlearn: 0.8063774\ttotal: 862ms\tremaining: 20.8s\n",
      "41:\tlearn: 0.8071526\ttotal: 884ms\tremaining: 20.8s\n",
      "42:\tlearn: 0.8090843\ttotal: 908ms\tremaining: 20.9s\n",
      "43:\tlearn: 0.8080641\ttotal: 932ms\tremaining: 20.9s\n",
      "44:\tlearn: 0.8094839\ttotal: 957ms\tremaining: 21s\n",
      "45:\tlearn: 0.8095695\ttotal: 979ms\tremaining: 21s\n",
      "46:\tlearn: 0.8114099\ttotal: 1s\tremaining: 21s\n",
      "47:\tlearn: 0.8128272\ttotal: 1.03s\tremaining: 21.1s\n",
      "48:\tlearn: 0.8126530\ttotal: 1.03s\tremaining: 20.7s\n",
      "49:\tlearn: 0.8127961\ttotal: 1.04s\tremaining: 20.4s\n",
      "50:\tlearn: 0.8130562\ttotal: 1.06s\tremaining: 20.5s\n",
      "51:\tlearn: 0.8129441\ttotal: 1.09s\tremaining: 20.5s\n",
      "52:\tlearn: 0.8126244\ttotal: 1.11s\tremaining: 20.5s\n",
      "53:\tlearn: 0.8131182\ttotal: 1.14s\tremaining: 20.6s\n",
      "54:\tlearn: 0.8147680\ttotal: 1.16s\tremaining: 20.6s\n",
      "55:\tlearn: 0.8160103\ttotal: 1.18s\tremaining: 20.6s\n",
      "56:\tlearn: 0.8164413\ttotal: 1.21s\tremaining: 20.6s\n",
      "57:\tlearn: 0.8169052\ttotal: 1.23s\tremaining: 20.6s\n",
      "58:\tlearn: 0.8171365\ttotal: 1.26s\tremaining: 20.7s\n",
      "59:\tlearn: 0.8172217\ttotal: 1.26s\tremaining: 20.5s\n",
      "60:\tlearn: 0.8172217\ttotal: 1.27s\tremaining: 20.2s\n",
      "61:\tlearn: 0.8178283\ttotal: 1.29s\tremaining: 20.2s\n",
      "62:\tlearn: 0.8178283\ttotal: 1.3s\tremaining: 19.9s\n",
      "63:\tlearn: 0.8176834\ttotal: 1.32s\tremaining: 20s\n",
      "64:\tlearn: 0.8183768\ttotal: 1.35s\tremaining: 20.1s\n",
      "65:\tlearn: 0.8188384\ttotal: 1.38s\tremaining: 20.1s\n",
      "66:\tlearn: 0.8191560\ttotal: 1.4s\tremaining: 20.2s\n",
      "67:\tlearn: 0.8192721\ttotal: 1.4s\tremaining: 19.9s\n",
      "68:\tlearn: 0.8193299\ttotal: 1.41s\tremaining: 19.7s\n",
      "69:\tlearn: 0.8193010\ttotal: 1.41s\tremaining: 19.4s\n",
      "70:\tlearn: 0.8195615\ttotal: 1.44s\tremaining: 19.4s\n",
      "71:\tlearn: 0.8204016\ttotal: 1.46s\tremaining: 19.5s\n",
      "72:\tlearn: 0.8210667\ttotal: 1.49s\tremaining: 19.5s\n",
      "73:\tlearn: 0.8215002\ttotal: 1.51s\tremaining: 19.6s\n",
      "74:\tlearn: 0.8221935\ttotal: 1.54s\tremaining: 19.6s\n",
      "75:\tlearn: 0.8225984\ttotal: 1.56s\tremaining: 19.6s\n",
      "76:\tlearn: 0.8234071\ttotal: 1.58s\tremaining: 19.6s\n",
      "77:\tlearn: 0.8241275\ttotal: 1.61s\tremaining: 19.7s\n",
      "78:\tlearn: 0.8241555\ttotal: 1.63s\tremaining: 19.7s\n",
      "79:\tlearn: 0.8247356\ttotal: 1.66s\tremaining: 19.7s\n",
      "80:\tlearn: 0.8249074\ttotal: 1.68s\tremaining: 19.7s\n",
      "81:\tlearn: 0.8255117\ttotal: 1.7s\tremaining: 19.7s\n",
      "82:\tlearn: 0.8261736\ttotal: 1.73s\tremaining: 19.7s\n",
      "83:\tlearn: 0.8268949\ttotal: 1.75s\tremaining: 19.8s\n",
      "84:\tlearn: 0.8278427\ttotal: 1.78s\tremaining: 19.8s\n",
      "85:\tlearn: 0.8280733\ttotal: 1.8s\tremaining: 19.8s\n",
      "86:\tlearn: 0.8287358\ttotal: 1.82s\tremaining: 19.8s\n",
      "87:\tlearn: 0.8295122\ttotal: 1.85s\tremaining: 19.8s\n",
      "88:\tlearn: 0.8298010\ttotal: 1.87s\tremaining: 19.9s\n",
      "89:\tlearn: 0.8298010\ttotal: 1.88s\tremaining: 19.6s\n",
      "90:\tlearn: 0.8306324\ttotal: 1.9s\tremaining: 19.7s\n",
      "91:\tlearn: 0.8316609\ttotal: 1.92s\tremaining: 19.7s\n",
      "92:\tlearn: 0.8316609\ttotal: 1.93s\tremaining: 19.5s\n",
      "93:\tlearn: 0.8323255\ttotal: 1.95s\tremaining: 19.5s\n",
      "94:\tlearn: 0.8319785\ttotal: 1.98s\tremaining: 19.6s\n",
      "95:\tlearn: 0.8319559\ttotal: 2.01s\tremaining: 19.6s\n",
      "96:\tlearn: 0.8328770\ttotal: 2.03s\tremaining: 19.6s\n",
      "97:\tlearn: 0.8334289\ttotal: 2.06s\tremaining: 19.6s\n",
      "98:\tlearn: 0.8338896\ttotal: 2.08s\tremaining: 19.6s\n",
      "99:\tlearn: 0.8338095\ttotal: 2.11s\tremaining: 19.6s\n",
      "100:\tlearn: 0.8343289\ttotal: 2.13s\tremaining: 19.6s\n",
      "101:\tlearn: 0.8338973\ttotal: 2.15s\tremaining: 19.7s\n",
      "102:\tlearn: 0.8345260\ttotal: 2.18s\tremaining: 19.7s\n",
      "103:\tlearn: 0.8346725\ttotal: 2.2s\tremaining: 19.7s\n",
      "104:\tlearn: 0.8349238\ttotal: 2.23s\tremaining: 19.7s\n",
      "105:\tlearn: 0.8350997\ttotal: 2.25s\tremaining: 19.7s\n",
      "106:\tlearn: 0.8359666\ttotal: 2.28s\tremaining: 19.7s\n",
      "107:\tlearn: 0.8369124\ttotal: 2.3s\tremaining: 19.7s\n",
      "108:\tlearn: 0.8369711\ttotal: 2.32s\tremaining: 19.7s\n",
      "109:\tlearn: 0.8377794\ttotal: 2.35s\tremaining: 19.7s\n",
      "110:\tlearn: 0.8382693\ttotal: 2.37s\tremaining: 19.7s\n",
      "111:\tlearn: 0.8385532\ttotal: 2.4s\tremaining: 19.7s\n",
      "112:\tlearn: 0.8387003\ttotal: 2.42s\tremaining: 19.7s\n",
      "113:\tlearn: 0.8394094\ttotal: 2.44s\tremaining: 19.7s\n",
      "114:\tlearn: 0.8399873\ttotal: 2.47s\tremaining: 19.7s\n",
      "115:\tlearn: 0.8407955\ttotal: 2.5s\tremaining: 19.7s\n",
      "116:\tlearn: 0.8418106\ttotal: 2.52s\tremaining: 19.7s\n",
      "117:\tlearn: 0.8419816\ttotal: 2.54s\tremaining: 19.7s\n",
      "118:\tlearn: 0.8422708\ttotal: 2.56s\tremaining: 19.7s\n",
      "119:\tlearn: 0.8426849\ttotal: 2.59s\tremaining: 19.7s\n",
      "120:\tlearn: 0.8425859\ttotal: 2.62s\tremaining: 19.7s\n",
      "121:\tlearn: 0.8430237\ttotal: 2.64s\tremaining: 19.7s\n",
      "122:\tlearn: 0.8429117\ttotal: 2.66s\tremaining: 19.7s\n",
      "123:\tlearn: 0.8436099\ttotal: 2.69s\tremaining: 19.7s\n",
      "124:\tlearn: 0.8437218\ttotal: 2.72s\tremaining: 19.7s\n",
      "125:\tlearn: 0.8436396\ttotal: 2.74s\tremaining: 19.7s\n",
      "126:\tlearn: 0.8439591\ttotal: 2.76s\tremaining: 19.7s\n",
      "127:\tlearn: 0.8440482\ttotal: 2.79s\tremaining: 19.7s\n",
      "128:\tlearn: 0.8444499\ttotal: 2.81s\tremaining: 19.7s\n",
      "129:\tlearn: 0.8445461\ttotal: 2.84s\tremaining: 19.7s\n",
      "130:\tlearn: 0.8448290\ttotal: 2.87s\tremaining: 19.7s\n",
      "131:\tlearn: 0.8457140\ttotal: 2.89s\tremaining: 19.7s\n",
      "132:\tlearn: 0.8461234\ttotal: 2.91s\tremaining: 19.7s\n",
      "133:\tlearn: 0.8470748\ttotal: 2.94s\tremaining: 19.7s\n",
      "134:\tlearn: 0.8474464\ttotal: 2.96s\tremaining: 19.7s\n",
      "135:\tlearn: 0.8474981\ttotal: 2.99s\tremaining: 19.7s\n",
      "136:\tlearn: 0.8478936\ttotal: 3.01s\tremaining: 19.7s\n",
      "137:\tlearn: 0.8479073\ttotal: 3.04s\tremaining: 19.7s\n",
      "138:\tlearn: 0.8482570\ttotal: 3.06s\tremaining: 19.7s\n",
      "139:\tlearn: 0.8484062\ttotal: 3.09s\tremaining: 19.7s\n",
      "140:\tlearn: 0.8487345\ttotal: 3.11s\tremaining: 19.7s\n",
      "141:\tlearn: 0.8489567\ttotal: 3.13s\tremaining: 19.7s\n",
      "142:\tlearn: 0.8496780\ttotal: 3.16s\tremaining: 19.6s\n",
      "143:\tlearn: 0.8499895\ttotal: 3.18s\tremaining: 19.6s\n",
      "144:\tlearn: 0.8506719\ttotal: 3.2s\tremaining: 19.6s\n",
      "145:\tlearn: 0.8507616\ttotal: 3.23s\tremaining: 19.6s\n",
      "146:\tlearn: 0.8509112\ttotal: 3.25s\tremaining: 19.6s\n",
      "147:\tlearn: 0.8515217\ttotal: 3.28s\tremaining: 19.6s\n",
      "148:\tlearn: 0.8515516\ttotal: 3.3s\tremaining: 19.6s\n",
      "149:\tlearn: 0.8519732\ttotal: 3.33s\tremaining: 19.6s\n",
      "150:\tlearn: 0.8525649\ttotal: 3.35s\tremaining: 19.6s\n",
      "151:\tlearn: 0.8528850\ttotal: 3.38s\tremaining: 19.5s\n",
      "152:\tlearn: 0.8530349\ttotal: 3.4s\tremaining: 19.5s\n",
      "153:\tlearn: 0.8531848\ttotal: 3.42s\tremaining: 19.5s\n",
      "154:\tlearn: 0.8549467\ttotal: 3.44s\tremaining: 19.5s\n",
      "155:\tlearn: 0.8549666\ttotal: 3.47s\tremaining: 19.5s\n",
      "156:\tlearn: 0.8552068\ttotal: 3.5s\tremaining: 19.5s\n",
      "157:\tlearn: 0.8553570\ttotal: 3.52s\tremaining: 19.5s\n",
      "158:\tlearn: 0.8557976\ttotal: 3.54s\tremaining: 19.4s\n",
      "159:\tlearn: 0.8578771\ttotal: 3.56s\tremaining: 19.4s\n",
      "160:\tlearn: 0.8577484\ttotal: 3.59s\tremaining: 19.4s\n",
      "161:\tlearn: 0.8577977\ttotal: 3.61s\tremaining: 19.4s\n",
      "162:\tlearn: 0.8578579\ttotal: 3.64s\tremaining: 19.4s\n",
      "163:\tlearn: 0.8584576\ttotal: 3.66s\tremaining: 19.4s\n",
      "164:\tlearn: 0.8589666\ttotal: 3.68s\tremaining: 19.3s\n",
      "165:\tlearn: 0.8589364\ttotal: 3.71s\tremaining: 19.3s\n",
      "166:\tlearn: 0.8594910\ttotal: 3.73s\tremaining: 19.3s\n",
      "167:\tlearn: 0.8599699\ttotal: 3.76s\tremaining: 19.3s\n",
      "168:\tlearn: 0.8613562\ttotal: 3.78s\tremaining: 19.3s\n",
      "169:\tlearn: 0.8617676\ttotal: 3.8s\tremaining: 19.3s\n",
      "170:\tlearn: 0.8624146\ttotal: 3.83s\tremaining: 19.3s\n",
      "171:\tlearn: 0.8618886\ttotal: 3.85s\tremaining: 19.3s\n",
      "172:\tlearn: 0.8627353\ttotal: 3.87s\tremaining: 19.2s\n",
      "173:\tlearn: 0.8630079\ttotal: 3.9s\tremaining: 19.2s\n",
      "174:\tlearn: 0.8632024\ttotal: 3.92s\tremaining: 19.2s\n",
      "175:\tlearn: 0.8638493\ttotal: 3.95s\tremaining: 19.2s\n",
      "176:\tlearn: 0.8636497\ttotal: 3.97s\tremaining: 19.2s\n",
      "177:\tlearn: 0.8643523\ttotal: 4s\tremaining: 19.2s\n",
      "178:\tlearn: 0.8641656\ttotal: 4.02s\tremaining: 19.2s\n",
      "179:\tlearn: 0.8643175\ttotal: 4.04s\tremaining: 19.1s\n",
      "180:\tlearn: 0.8649946\ttotal: 4.07s\tremaining: 19.1s\n",
      "181:\tlearn: 0.8658537\ttotal: 4.09s\tremaining: 19.1s\n",
      "182:\tlearn: 0.8660836\ttotal: 4.12s\tremaining: 19.1s\n",
      "183:\tlearn: 0.8661749\ttotal: 4.14s\tremaining: 19.1s\n",
      "184:\tlearn: 0.8661749\ttotal: 4.15s\tremaining: 19s\n",
      "185:\tlearn: 0.8660667\ttotal: 4.15s\tremaining: 18.9s\n",
      "186:\tlearn: 0.8666044\ttotal: 4.18s\tremaining: 18.9s\n",
      "187:\tlearn: 0.8673690\ttotal: 4.2s\tremaining: 18.9s\n",
      "188:\tlearn: 0.8679065\ttotal: 4.22s\tremaining: 18.8s\n",
      "189:\tlearn: 0.8696541\ttotal: 4.25s\tremaining: 18.8s\n",
      "190:\tlearn: 0.8696847\ttotal: 4.28s\tremaining: 18.8s\n",
      "191:\tlearn: 0.8698986\ttotal: 4.3s\tremaining: 18.8s\n",
      "192:\tlearn: 0.8697763\ttotal: 4.32s\tremaining: 18.8s\n",
      "193:\tlearn: 0.8699757\ttotal: 4.35s\tremaining: 18.8s\n",
      "194:\tlearn: 0.8701591\ttotal: 4.37s\tremaining: 18.8s\n",
      "195:\tlearn: 0.8709406\ttotal: 4.39s\tremaining: 18.7s\n",
      "196:\tlearn: 0.8721209\ttotal: 4.42s\tremaining: 18.7s\n",
      "197:\tlearn: 0.8721821\ttotal: 4.44s\tremaining: 18.7s\n",
      "198:\tlearn: 0.8725497\ttotal: 4.47s\tremaining: 18.7s\n",
      "199:\tlearn: 0.8726417\ttotal: 4.49s\tremaining: 18.7s\n",
      "200:\tlearn: 0.8724885\ttotal: 4.51s\tremaining: 18.7s\n",
      "201:\tlearn: 0.8738667\ttotal: 4.54s\tremaining: 18.7s\n",
      "202:\tlearn: 0.8742032\ttotal: 4.57s\tremaining: 18.7s\n",
      "203:\tlearn: 0.8752429\ttotal: 4.59s\tremaining: 18.6s\n",
      "204:\tlearn: 0.8752591\ttotal: 4.62s\tremaining: 18.6s\n",
      "205:\tlearn: 0.8757038\ttotal: 4.64s\tremaining: 18.6s\n",
      "206:\tlearn: 0.8757345\ttotal: 4.66s\tremaining: 18.6s\n",
      "207:\tlearn: 0.8757672\ttotal: 4.68s\tremaining: 18.6s\n",
      "208:\tlearn: 0.8767619\ttotal: 4.71s\tremaining: 18.5s\n",
      "209:\tlearn: 0.8772997\ttotal: 4.73s\tremaining: 18.5s\n",
      "210:\tlearn: 0.8773445\ttotal: 4.76s\tremaining: 18.5s\n",
      "211:\tlearn: 0.8786436\ttotal: 4.78s\tremaining: 18.5s\n",
      "212:\tlearn: 0.8785066\ttotal: 4.81s\tremaining: 18.5s\n",
      "213:\tlearn: 0.8782941\ttotal: 4.83s\tremaining: 18.5s\n",
      "214:\tlearn: 0.8794383\ttotal: 4.85s\tremaining: 18.4s\n",
      "215:\tlearn: 0.8793806\ttotal: 4.88s\tremaining: 18.4s\n",
      "216:\tlearn: 0.8795484\ttotal: 4.9s\tremaining: 18.4s\n",
      "217:\tlearn: 0.8795484\ttotal: 4.9s\tremaining: 18.3s\n",
      "218:\tlearn: 0.8803608\ttotal: 4.93s\tremaining: 18.3s\n",
      "219:\tlearn: 0.8809698\ttotal: 4.95s\tremaining: 18.3s\n",
      "220:\tlearn: 0.8811065\ttotal: 4.97s\tremaining: 18.3s\n",
      "221:\tlearn: 0.8815835\ttotal: 5s\tremaining: 18.3s\n",
      "222:\tlearn: 0.8822410\ttotal: 5.03s\tremaining: 18.2s\n",
      "223:\tlearn: 0.8820425\ttotal: 5.05s\tremaining: 18.2s\n",
      "224:\tlearn: 0.8822410\ttotal: 5.08s\tremaining: 18.2s\n",
      "225:\tlearn: 0.8827871\ttotal: 5.11s\tremaining: 18.2s\n",
      "226:\tlearn: 0.8830474\ttotal: 5.13s\tremaining: 18.2s\n",
      "227:\tlearn: 0.8834132\ttotal: 5.15s\tremaining: 18.2s\n",
      "228:\tlearn: 0.8834318\ttotal: 5.18s\tremaining: 18.2s\n",
      "229:\tlearn: 0.8835124\ttotal: 5.2s\tremaining: 18.1s\n",
      "230:\tlearn: 0.8837296\ttotal: 5.23s\tremaining: 18.1s\n",
      "231:\tlearn: 0.8848461\ttotal: 5.25s\tremaining: 18.1s\n",
      "232:\tlearn: 0.8851998\ttotal: 5.28s\tremaining: 18.1s\n",
      "233:\tlearn: 0.8853553\ttotal: 5.3s\tremaining: 18.1s\n",
      "234:\tlearn: 0.8863900\ttotal: 5.33s\tremaining: 18.1s\n",
      "235:\tlearn: 0.8867243\ttotal: 5.35s\tremaining: 18s\n",
      "236:\tlearn: 0.8867439\ttotal: 5.38s\tremaining: 18s\n",
      "237:\tlearn: 0.8865145\ttotal: 5.4s\tremaining: 18s\n",
      "238:\tlearn: 0.8874124\ttotal: 5.43s\tremaining: 18s\n",
      "239:\tlearn: 0.8880581\ttotal: 5.46s\tremaining: 18s\n",
      "240:\tlearn: 0.8882251\ttotal: 5.49s\tremaining: 18s\n",
      "241:\tlearn: 0.8884967\ttotal: 5.51s\tremaining: 18s\n",
      "242:\tlearn: 0.8888819\ttotal: 5.54s\tremaining: 18s\n",
      "243:\tlearn: 0.8891315\ttotal: 5.57s\tremaining: 18s\n",
      "244:\tlearn: 0.8895170\ttotal: 5.6s\tremaining: 18s\n",
      "245:\tlearn: 0.8899446\ttotal: 5.64s\tremaining: 18s\n",
      "246:\tlearn: 0.8900803\ttotal: 5.67s\tremaining: 18s\n",
      "247:\tlearn: 0.8900803\ttotal: 5.67s\tremaining: 17.9s\n",
      "248:\tlearn: 0.8904452\ttotal: 5.7s\tremaining: 17.9s\n",
      "249:\tlearn: 0.8904034\ttotal: 5.73s\tremaining: 17.9s\n",
      "250:\tlearn: 0.8901634\ttotal: 5.77s\tremaining: 17.9s\n",
      "251:\tlearn: 0.8902990\ttotal: 5.8s\tremaining: 18s\n",
      "252:\tlearn: 0.8904448\ttotal: 5.83s\tremaining: 18s\n",
      "253:\tlearn: 0.8910081\ttotal: 5.87s\tremaining: 18s\n",
      "254:\tlearn: 0.8912062\ttotal: 5.9s\tremaining: 18s\n",
      "255:\tlearn: 0.8920825\ttotal: 5.93s\tremaining: 18s\n",
      "256:\tlearn: 0.8920825\ttotal: 5.96s\tremaining: 18s\n",
      "257:\tlearn: 0.8927295\ttotal: 5.99s\tremaining: 18s\n",
      "258:\tlearn: 0.8930316\ttotal: 6.02s\tremaining: 18s\n",
      "259:\tlearn: 0.8934277\ttotal: 6.05s\tremaining: 18s\n",
      "260:\tlearn: 0.8931159\ttotal: 6.08s\tremaining: 18s\n",
      "261:\tlearn: 0.8934807\ttotal: 6.11s\tremaining: 18s\n",
      "262:\tlearn: 0.8938044\ttotal: 6.15s\tremaining: 18s\n",
      "263:\tlearn: 0.8938455\ttotal: 6.18s\tremaining: 18s\n",
      "264:\tlearn: 0.8943262\ttotal: 6.21s\tremaining: 18s\n",
      "265:\tlearn: 0.8945682\ttotal: 6.24s\tremaining: 18s\n",
      "266:\tlearn: 0.8945996\ttotal: 6.27s\tremaining: 18s\n",
      "267:\tlearn: 0.8953199\ttotal: 6.3s\tremaining: 18s\n",
      "268:\tlearn: 0.8953514\ttotal: 6.33s\tremaining: 18s\n",
      "269:\tlearn: 0.8957700\ttotal: 6.37s\tremaining: 18s\n",
      "270:\tlearn: 0.8958330\ttotal: 6.39s\tremaining: 18s\n",
      "271:\tlearn: 0.8961978\ttotal: 6.42s\tremaining: 17.9s\n",
      "272:\tlearn: 0.8968462\ttotal: 6.45s\tremaining: 17.9s\n",
      "273:\tlearn: 0.8977246\ttotal: 6.48s\tremaining: 17.9s\n",
      "274:\tlearn: 0.8979227\ttotal: 6.5s\tremaining: 17.9s\n",
      "275:\tlearn: 0.8981208\ttotal: 6.53s\tremaining: 17.9s\n",
      "276:\tlearn: 0.8981438\ttotal: 6.56s\tremaining: 17.9s\n",
      "277:\tlearn: 0.8984452\ttotal: 6.58s\tremaining: 17.9s\n",
      "278:\tlearn: 0.8982787\ttotal: 6.61s\tremaining: 17.8s\n",
      "279:\tlearn: 0.8989361\ttotal: 6.63s\tremaining: 17.8s\n",
      "280:\tlearn: 0.8997200\ttotal: 6.66s\tremaining: 17.8s\n",
      "281:\tlearn: 0.8998149\ttotal: 6.68s\tremaining: 17.8s\n",
      "282:\tlearn: 0.9001633\ttotal: 6.71s\tremaining: 17.7s\n",
      "283:\tlearn: 0.9003217\ttotal: 6.73s\tremaining: 17.7s\n",
      "284:\tlearn: 0.9005832\ttotal: 6.76s\tremaining: 17.7s\n",
      "285:\tlearn: 0.9004247\ttotal: 6.78s\tremaining: 17.7s\n",
      "286:\tlearn: 0.9005832\ttotal: 6.81s\tremaining: 17.7s\n",
      "287:\tlearn: 0.9011140\ttotal: 6.84s\tremaining: 17.7s\n",
      "288:\tlearn: 0.9015100\ttotal: 6.86s\tremaining: 17.6s\n",
      "289:\tlearn: 0.9016052\ttotal: 6.89s\tremaining: 17.6s\n",
      "290:\tlearn: 0.9021114\ttotal: 6.91s\tremaining: 17.6s\n",
      "291:\tlearn: 0.9022775\ttotal: 6.94s\tremaining: 17.6s\n",
      "292:\tlearn: 0.9024362\ttotal: 6.96s\tremaining: 17.6s\n",
      "293:\tlearn: 0.9026658\ttotal: 6.99s\tremaining: 17.6s\n",
      "294:\tlearn: 0.9030225\ttotal: 7.02s\tremaining: 17.5s\n",
      "295:\tlearn: 0.9033085\ttotal: 7.05s\tremaining: 17.5s\n",
      "296:\tlearn: 0.9032869\ttotal: 7.08s\tremaining: 17.5s\n",
      "297:\tlearn: 0.9041884\ttotal: 7.1s\tremaining: 17.5s\n",
      "298:\tlearn: 0.9046797\ttotal: 7.13s\tremaining: 17.5s\n",
      "299:\tlearn: 0.9053051\ttotal: 7.16s\tremaining: 17.5s\n",
      "300:\tlearn: 0.9050368\ttotal: 7.19s\tremaining: 17.5s\n",
      "301:\tlearn: 0.9050368\ttotal: 7.21s\tremaining: 17.4s\n",
      "302:\tlearn: 0.9051257\ttotal: 7.24s\tremaining: 17.4s\n",
      "303:\tlearn: 0.9061600\ttotal: 7.27s\tremaining: 17.4s\n",
      "304:\tlearn: 0.9065873\ttotal: 7.3s\tremaining: 17.4s\n",
      "305:\tlearn: 0.9073142\ttotal: 7.33s\tremaining: 17.4s\n",
      "306:\tlearn: 0.9078112\ttotal: 7.35s\tremaining: 17.4s\n",
      "307:\tlearn: 0.9077732\ttotal: 7.38s\tremaining: 17.3s\n",
      "308:\tlearn: 0.9086709\ttotal: 7.41s\tremaining: 17.3s\n",
      "309:\tlearn: 0.9082701\ttotal: 7.44s\tremaining: 17.3s\n",
      "310:\tlearn: 0.9082121\ttotal: 7.46s\tremaining: 17.3s\n",
      "311:\tlearn: 0.9085054\ttotal: 7.49s\tremaining: 17.3s\n",
      "312:\tlearn: 0.9087347\ttotal: 7.52s\tremaining: 17.3s\n",
      "313:\tlearn: 0.9092311\ttotal: 7.55s\tremaining: 17.3s\n",
      "314:\tlearn: 0.9094923\ttotal: 7.57s\tremaining: 17.2s\n",
      "315:\tlearn: 0.9094604\ttotal: 7.6s\tremaining: 17.2s\n",
      "316:\tlearn: 0.9094923\ttotal: 7.63s\tremaining: 17.2s\n",
      "317:\tlearn: 0.9095827\ttotal: 7.66s\tremaining: 17.2s\n",
      "318:\tlearn: 0.9097106\ttotal: 7.68s\tremaining: 17.2s\n",
      "319:\tlearn: 0.9102975\ttotal: 7.71s\tremaining: 17.2s\n",
      "320:\tlearn: 0.9103241\ttotal: 7.73s\tremaining: 17.1s\n",
      "321:\tlearn: 0.9108256\ttotal: 7.76s\tremaining: 17.1s\n",
      "322:\tlearn: 0.9111241\ttotal: 7.78s\tremaining: 17.1s\n",
      "323:\tlearn: 0.9109268\ttotal: 7.81s\tremaining: 17.1s\n",
      "324:\tlearn: 0.9110177\ttotal: 7.83s\tremaining: 17s\n",
      "325:\tlearn: 0.9111139\ttotal: 7.86s\tremaining: 17s\n",
      "326:\tlearn: 0.9118071\ttotal: 7.88s\tremaining: 17s\n",
      "327:\tlearn: 0.9121968\ttotal: 7.91s\tremaining: 17s\n",
      "328:\tlearn: 0.9122289\ttotal: 7.93s\tremaining: 17s\n",
      "329:\tlearn: 0.9128207\ttotal: 7.96s\tremaining: 16.9s\n",
      "330:\tlearn: 0.9130087\ttotal: 7.98s\tremaining: 16.9s\n",
      "331:\tlearn: 0.9131968\ttotal: 8.01s\tremaining: 16.9s\n",
      "332:\tlearn: 0.9131968\ttotal: 8.03s\tremaining: 16.9s\n",
      "333:\tlearn: 0.9130958\ttotal: 8.06s\tremaining: 16.8s\n",
      "334:\tlearn: 0.9131279\ttotal: 8.08s\tremaining: 16.8s\n",
      "335:\tlearn: 0.9132290\ttotal: 8.11s\tremaining: 16.8s\n",
      "336:\tlearn: 0.9136649\ttotal: 8.13s\tremaining: 16.8s\n",
      "337:\tlearn: 0.9136649\ttotal: 8.16s\tremaining: 16.8s\n",
      "338:\tlearn: 0.9141559\ttotal: 8.19s\tremaining: 16.8s\n",
      "339:\tlearn: 0.9144131\ttotal: 8.22s\tremaining: 16.7s\n",
      "340:\tlearn: 0.9146664\ttotal: 8.26s\tremaining: 16.7s\n",
      "341:\tlearn: 0.9146664\ttotal: 8.29s\tremaining: 16.7s\n",
      "342:\tlearn: 0.9145978\ttotal: 8.33s\tremaining: 16.7s\n",
      "343:\tlearn: 0.9149604\ttotal: 8.36s\tremaining: 16.7s\n",
      "344:\tlearn: 0.9154800\ttotal: 8.39s\tremaining: 16.7s\n",
      "345:\tlearn: 0.9154196\ttotal: 8.42s\tremaining: 16.7s\n",
      "346:\tlearn: 0.9156209\ttotal: 8.45s\tremaining: 16.7s\n",
      "347:\tlearn: 0.9159755\ttotal: 8.47s\tremaining: 16.7s\n",
      "348:\tlearn: 0.9160761\ttotal: 8.5s\tremaining: 16.6s\n",
      "349:\tlearn: 0.9165351\ttotal: 8.53s\tremaining: 16.6s\n",
      "350:\tlearn: 0.9167324\ttotal: 8.56s\tremaining: 16.6s\n",
      "351:\tlearn: 0.9166642\ttotal: 8.59s\tremaining: 16.6s\n",
      "352:\tlearn: 0.9174532\ttotal: 8.61s\tremaining: 16.6s\n",
      "353:\tlearn: 0.9174498\ttotal: 8.64s\tremaining: 16.6s\n",
      "354:\tlearn: 0.9173852\ttotal: 8.67s\tremaining: 16.5s\n",
      "355:\tlearn: 0.9175467\ttotal: 8.7s\tremaining: 16.5s\n",
      "356:\tlearn: 0.9178086\ttotal: 8.72s\tremaining: 16.5s\n",
      "357:\tlearn: 0.9180092\ttotal: 8.75s\tremaining: 16.5s\n",
      "358:\tlearn: 0.9180092\ttotal: 8.78s\tremaining: 16.5s\n",
      "359:\tlearn: 0.9181708\ttotal: 8.81s\tremaining: 16.4s\n",
      "360:\tlearn: 0.9180058\ttotal: 8.83s\tremaining: 16.4s\n",
      "361:\tlearn: 0.9180348\ttotal: 8.86s\tremaining: 16.4s\n",
      "362:\tlearn: 0.9182968\ttotal: 8.89s\tremaining: 16.4s\n",
      "363:\tlearn: 0.9184262\ttotal: 8.91s\tremaining: 16.4s\n",
      "364:\tlearn: 0.9188208\ttotal: 8.94s\tremaining: 16.3s\n",
      "365:\tlearn: 0.9189826\ttotal: 8.96s\tremaining: 16.3s\n",
      "366:\tlearn: 0.9191152\ttotal: 8.99s\tremaining: 16.3s\n",
      "367:\tlearn: 0.9192771\ttotal: 9.02s\tremaining: 16.3s\n",
      "368:\tlearn: 0.9195068\ttotal: 9.05s\tremaining: 16.3s\n",
      "369:\tlearn: 0.9195392\ttotal: 9.07s\tremaining: 16.2s\n",
      "370:\tlearn: 0.9195392\ttotal: 9.1s\tremaining: 16.2s\n",
      "371:\tlearn: 0.9199633\ttotal: 9.12s\tremaining: 16.2s\n",
      "372:\tlearn: 0.9198632\ttotal: 9.15s\tremaining: 16.2s\n",
      "373:\tlearn: 0.9206551\ttotal: 9.17s\tremaining: 16.1s\n",
      "374:\tlearn: 0.9208847\ttotal: 9.2s\tremaining: 16.1s\n",
      "375:\tlearn: 0.9209496\ttotal: 9.23s\tremaining: 16.1s\n",
      "376:\tlearn: 0.9210794\ttotal: 9.25s\tremaining: 16.1s\n",
      "377:\tlearn: 0.9211443\ttotal: 9.28s\tremaining: 16.1s\n",
      "378:\tlearn: 0.9213066\ttotal: 9.31s\tremaining: 16s\n",
      "379:\tlearn: 0.9211093\ttotal: 9.34s\tremaining: 16s\n",
      "380:\tlearn: 0.9211767\ttotal: 9.36s\tremaining: 16s\n",
      "381:\tlearn: 0.9217684\ttotal: 9.39s\tremaining: 16s\n",
      "382:\tlearn: 0.9219980\ttotal: 9.41s\tremaining: 15.9s\n",
      "383:\tlearn: 0.9221649\ttotal: 9.44s\tremaining: 15.9s\n",
      "384:\tlearn: 0.9221974\ttotal: 9.45s\tremaining: 15.9s\n",
      "385:\tlearn: 0.9224941\ttotal: 9.47s\tremaining: 15.9s\n",
      "386:\tlearn: 0.9227215\ttotal: 9.5s\tremaining: 15.8s\n",
      "387:\tlearn: 0.9226240\ttotal: 9.53s\tremaining: 15.8s\n",
      "388:\tlearn: 0.9227215\ttotal: 9.55s\tremaining: 15.8s\n",
      "389:\tlearn: 0.9228170\ttotal: 9.58s\tremaining: 15.8s\n",
      "390:\tlearn: 0.9229796\ttotal: 9.61s\tremaining: 15.8s\n",
      "391:\tlearn: 0.9229796\ttotal: 9.64s\tremaining: 15.7s\n",
      "392:\tlearn: 0.9232418\ttotal: 9.67s\tremaining: 15.7s\n",
      "393:\tlearn: 0.9235347\ttotal: 9.7s\tremaining: 15.7s\n",
      "394:\tlearn: 0.9239959\ttotal: 9.73s\tremaining: 15.7s\n",
      "395:\tlearn: 0.9239616\ttotal: 9.76s\tremaining: 15.7s\n",
      "396:\tlearn: 0.9246849\ttotal: 9.79s\tremaining: 15.7s\n",
      "397:\tlearn: 0.9248479\ttotal: 9.81s\tremaining: 15.6s\n",
      "398:\tlearn: 0.9252406\ttotal: 9.84s\tremaining: 15.6s\n",
      "399:\tlearn: 0.9252732\ttotal: 9.87s\tremaining: 15.6s\n",
      "400:\tlearn: 0.9253385\ttotal: 9.9s\tremaining: 15.6s\n",
      "401:\tlearn: 0.9254364\ttotal: 9.93s\tremaining: 15.6s\n",
      "402:\tlearn: 0.9254023\ttotal: 9.96s\tremaining: 15.5s\n",
      "403:\tlearn: 0.9256975\ttotal: 9.98s\tremaining: 15.5s\n",
      "404:\tlearn: 0.9257967\ttotal: 10s\tremaining: 15.5s\n",
      "405:\tlearn: 0.9260591\ttotal: 10s\tremaining: 15.5s\n",
      "406:\tlearn: 0.9260253\ttotal: 10.1s\tremaining: 15.5s\n",
      "407:\tlearn: 0.9261898\ttotal: 10.1s\tremaining: 15.5s\n",
      "408:\tlearn: 0.9262889\ttotal: 10.1s\tremaining: 15.4s\n",
      "409:\tlearn: 0.9262224\ttotal: 10.2s\tremaining: 15.4s\n",
      "410:\tlearn: 0.9261571\ttotal: 10.2s\tremaining: 15.4s\n",
      "411:\tlearn: 0.9262551\ttotal: 10.2s\tremaining: 15.4s\n",
      "412:\tlearn: 0.9262224\ttotal: 10.3s\tremaining: 15.4s\n",
      "413:\tlearn: 0.9262878\ttotal: 10.3s\tremaining: 15.3s\n",
      "414:\tlearn: 0.9266810\ttotal: 10.3s\tremaining: 15.3s\n",
      "415:\tlearn: 0.9269109\ttotal: 10.3s\tremaining: 15.3s\n",
      "416:\tlearn: 0.9269763\ttotal: 10.4s\tremaining: 15.3s\n",
      "417:\tlearn: 0.9270744\ttotal: 10.4s\tremaining: 15.2s\n",
      "418:\tlearn: 0.9271071\ttotal: 10.4s\tremaining: 15.2s\n",
      "419:\tlearn: 0.9275989\ttotal: 10.4s\tremaining: 15.2s\n",
      "420:\tlearn: 0.9275007\ttotal: 10.5s\tremaining: 15.2s\n",
      "421:\tlearn: 0.9275670\ttotal: 10.5s\tremaining: 15.2s\n",
      "422:\tlearn: 0.9274025\ttotal: 10.5s\tremaining: 15.1s\n",
      "423:\tlearn: 0.9279278\ttotal: 10.5s\tremaining: 15.1s\n",
      "424:\tlearn: 0.9281250\ttotal: 10.6s\tremaining: 15.1s\n",
      "425:\tlearn: 0.9280588\ttotal: 10.6s\tremaining: 15.1s\n",
      "426:\tlearn: 0.9283870\ttotal: 10.6s\tremaining: 15s\n",
      "427:\tlearn: 0.9285193\ttotal: 10.6s\tremaining: 15s\n",
      "428:\tlearn: 0.9287491\ttotal: 10.7s\tremaining: 15s\n",
      "429:\tlearn: 0.9287486\ttotal: 10.7s\tremaining: 15s\n",
      "430:\tlearn: 0.9286503\ttotal: 10.7s\tremaining: 15s\n",
      "431:\tlearn: 0.9287486\ttotal: 10.8s\tremaining: 14.9s\n",
      "432:\tlearn: 0.9290769\ttotal: 10.8s\tremaining: 14.9s\n",
      "433:\tlearn: 0.9291425\ttotal: 10.8s\tremaining: 14.9s\n",
      "434:\tlearn: 0.9291753\ttotal: 10.8s\tremaining: 14.9s\n",
      "435:\tlearn: 0.9294381\ttotal: 10.9s\tremaining: 14.9s\n",
      "436:\tlearn: 0.9296021\ttotal: 10.9s\tremaining: 14.8s\n",
      "437:\tlearn: 0.9296678\ttotal: 10.9s\tremaining: 14.8s\n",
      "438:\tlearn: 0.9299634\ttotal: 10.9s\tremaining: 14.8s\n",
      "439:\tlearn: 0.9297991\ttotal: 11s\tremaining: 14.8s\n",
      "440:\tlearn: 0.9299633\ttotal: 11s\tremaining: 14.7s\n",
      "441:\tlearn: 0.9298319\ttotal: 11s\tremaining: 14.7s\n",
      "442:\tlearn: 0.9303906\ttotal: 11.1s\tremaining: 14.7s\n",
      "443:\tlearn: 0.9304234\ttotal: 11.1s\tremaining: 14.7s\n",
      "444:\tlearn: 0.9305878\ttotal: 11.1s\tremaining: 14.7s\n",
      "445:\tlearn: 0.9308507\ttotal: 11.1s\tremaining: 14.6s\n",
      "446:\tlearn: 0.9309493\ttotal: 11.2s\tremaining: 14.6s\n",
      "447:\tlearn: 0.9308835\ttotal: 11.2s\tremaining: 14.6s\n",
      "448:\tlearn: 0.9309493\ttotal: 11.2s\tremaining: 14.6s\n",
      "449:\tlearn: 0.9309493\ttotal: 11.2s\tremaining: 14.5s\n",
      "450:\tlearn: 0.9309822\ttotal: 11.3s\tremaining: 14.5s\n",
      "451:\tlearn: 0.9309822\ttotal: 11.3s\tremaining: 14.5s\n",
      "452:\tlearn: 0.9308835\ttotal: 11.3s\tremaining: 14.5s\n",
      "453:\tlearn: 0.9311465\ttotal: 11.3s\tremaining: 14.4s\n",
      "454:\tlearn: 0.9312123\ttotal: 11.4s\tremaining: 14.4s\n",
      "455:\tlearn: 0.9311466\ttotal: 11.4s\tremaining: 14.4s\n",
      "456:\tlearn: 0.9310480\ttotal: 11.4s\tremaining: 14.4s\n",
      "457:\tlearn: 0.9317382\ttotal: 11.4s\tremaining: 14.3s\n",
      "458:\tlearn: 0.9318372\ttotal: 11.5s\tremaining: 14.3s\n",
      "459:\tlearn: 0.9321987\ttotal: 11.5s\tremaining: 14.3s\n",
      "460:\tlearn: 0.9322646\ttotal: 11.5s\tremaining: 14.3s\n",
      "461:\tlearn: 0.9325272\ttotal: 11.5s\tremaining: 14.2s\n",
      "462:\tlearn: 0.9325601\ttotal: 11.6s\tremaining: 14.2s\n",
      "463:\tlearn: 0.9325272\ttotal: 11.6s\tremaining: 14.2s\n",
      "464:\tlearn: 0.9327237\ttotal: 11.6s\tremaining: 14.2s\n",
      "465:\tlearn: 0.9328879\ttotal: 11.6s\tremaining: 14.1s\n",
      "466:\tlearn: 0.9335126\ttotal: 11.7s\tremaining: 14.1s\n",
      "467:\tlearn: 0.9335455\ttotal: 11.7s\tremaining: 14.1s\n",
      "468:\tlearn: 0.9335785\ttotal: 11.7s\tremaining: 14.1s\n",
      "469:\tlearn: 0.9336774\ttotal: 11.7s\tremaining: 14s\n",
      "470:\tlearn: 0.9338423\ttotal: 11.7s\tremaining: 14s\n",
      "471:\tlearn: 0.9340715\ttotal: 11.8s\tremaining: 14s\n",
      "472:\tlearn: 0.9340055\ttotal: 11.8s\tremaining: 13.9s\n",
      "473:\tlearn: 0.9339743\ttotal: 11.8s\tremaining: 13.9s\n",
      "474:\tlearn: 0.9346336\ttotal: 11.8s\tremaining: 13.9s\n",
      "475:\tlearn: 0.9347977\ttotal: 11.9s\tremaining: 13.9s\n",
      "476:\tlearn: 0.9350928\ttotal: 11.9s\tremaining: 13.8s\n",
      "477:\tlearn: 0.9351589\ttotal: 11.9s\tremaining: 13.8s\n",
      "478:\tlearn: 0.9351920\ttotal: 11.9s\tremaining: 13.8s\n",
      "479:\tlearn: 0.9353242\ttotal: 12s\tremaining: 13.8s\n",
      "480:\tlearn: 0.9352274\ttotal: 12s\tremaining: 13.8s\n",
      "481:\tlearn: 0.9354246\ttotal: 12s\tremaining: 13.7s\n",
      "482:\tlearn: 0.9357859\ttotal: 12.1s\tremaining: 13.7s\n",
      "483:\tlearn: 0.9357528\ttotal: 12.1s\tremaining: 13.7s\n",
      "484:\tlearn: 0.9359182\ttotal: 12.1s\tremaining: 13.7s\n",
      "485:\tlearn: 0.9359499\ttotal: 12.1s\tremaining: 13.6s\n",
      "486:\tlearn: 0.9362132\ttotal: 12.2s\tremaining: 13.6s\n",
      "487:\tlearn: 0.9362463\ttotal: 12.2s\tremaining: 13.6s\n",
      "488:\tlearn: 0.9360822\ttotal: 12.2s\tremaining: 13.6s\n",
      "489:\tlearn: 0.9363456\ttotal: 12.2s\tremaining: 13.5s\n",
      "490:\tlearn: 0.9370328\ttotal: 12.3s\tremaining: 13.5s\n",
      "491:\tlearn: 0.9371635\ttotal: 12.3s\tremaining: 13.5s\n",
      "492:\tlearn: 0.9370659\ttotal: 12.3s\tremaining: 13.5s\n",
      "493:\tlearn: 0.9370014\ttotal: 12.3s\tremaining: 13.4s\n",
      "494:\tlearn: 0.9368044\ttotal: 12.4s\tremaining: 13.4s\n",
      "495:\tlearn: 0.9373954\ttotal: 12.4s\tremaining: 13.4s\n",
      "496:\tlearn: 0.9373954\ttotal: 12.4s\tremaining: 13.4s\n",
      "497:\tlearn: 0.9374285\ttotal: 12.4s\tremaining: 13.3s\n",
      "498:\tlearn: 0.9375261\ttotal: 12.5s\tremaining: 13.3s\n",
      "499:\tlearn: 0.9374929\ttotal: 12.5s\tremaining: 13.3s\n",
      "500:\tlearn: 0.9375261\ttotal: 12.5s\tremaining: 13.3s\n",
      "501:\tlearn: 0.9375923\ttotal: 12.5s\tremaining: 13.2s\n",
      "502:\tlearn: 0.9377561\ttotal: 12.6s\tremaining: 13.2s\n",
      "503:\tlearn: 0.9380525\ttotal: 12.6s\tremaining: 13.2s\n",
      "504:\tlearn: 0.9381519\ttotal: 12.6s\tremaining: 13.2s\n",
      "505:\tlearn: 0.9386452\ttotal: 12.6s\tremaining: 13.1s\n",
      "506:\tlearn: 0.9390058\ttotal: 12.7s\tremaining: 13.1s\n",
      "507:\tlearn: 0.9390722\ttotal: 12.7s\tremaining: 13.1s\n",
      "508:\tlearn: 0.9391054\ttotal: 12.7s\tremaining: 13.1s\n",
      "509:\tlearn: 0.9392049\ttotal: 12.7s\tremaining: 13s\n",
      "510:\tlearn: 0.9391386\ttotal: 12.8s\tremaining: 13s\n",
      "511:\tlearn: 0.9392049\ttotal: 12.8s\tremaining: 13s\n",
      "512:\tlearn: 0.9393045\ttotal: 12.8s\tremaining: 13s\n",
      "513:\tlearn: 0.9393377\ttotal: 12.8s\tremaining: 12.9s\n",
      "514:\tlearn: 0.9393709\ttotal: 12.9s\tremaining: 12.9s\n",
      "515:\tlearn: 0.9394706\ttotal: 12.9s\tremaining: 12.9s\n",
      "516:\tlearn: 0.9401559\ttotal: 12.9s\tremaining: 12.9s\n",
      "517:\tlearn: 0.9404882\ttotal: 12.9s\tremaining: 12.8s\n",
      "518:\tlearn: 0.9404217\ttotal: 13s\tremaining: 12.8s\n",
      "519:\tlearn: 0.9407489\ttotal: 13s\tremaining: 12.8s\n",
      "520:\tlearn: 0.9408154\ttotal: 13s\tremaining: 12.8s\n",
      "521:\tlearn: 0.9407515\ttotal: 13s\tremaining: 12.7s\n",
      "522:\tlearn: 0.9406544\ttotal: 13.1s\tremaining: 12.7s\n",
      "523:\tlearn: 0.9415691\ttotal: 13.1s\tremaining: 12.7s\n",
      "524:\tlearn: 0.9415691\ttotal: 13.1s\tremaining: 12.7s\n",
      "525:\tlearn: 0.9411784\ttotal: 13.1s\tremaining: 12.6s\n",
      "526:\tlearn: 0.9412782\ttotal: 13.2s\tremaining: 12.6s\n",
      "527:\tlearn: 0.9419624\ttotal: 13.2s\tremaining: 12.6s\n",
      "528:\tlearn: 0.9422287\ttotal: 13.2s\tremaining: 12.6s\n",
      "529:\tlearn: 0.9422953\ttotal: 13.3s\tremaining: 12.6s\n",
      "530:\tlearn: 0.9425919\ttotal: 13.3s\tremaining: 12.5s\n",
      "531:\tlearn: 0.9425919\ttotal: 13.3s\tremaining: 12.5s\n",
      "532:\tlearn: 0.9428853\ttotal: 13.3s\tremaining: 12.5s\n",
      "533:\tlearn: 0.9430820\ttotal: 13.4s\tremaining: 12.5s\n",
      "534:\tlearn: 0.9431519\ttotal: 13.4s\tremaining: 12.4s\n",
      "535:\tlearn: 0.9432819\ttotal: 13.4s\tremaining: 12.4s\n",
      "536:\tlearn: 0.9436154\ttotal: 13.5s\tremaining: 12.4s\n",
      "537:\tlearn: 0.9437154\ttotal: 13.5s\tremaining: 12.4s\n",
      "538:\tlearn: 0.9438823\ttotal: 13.5s\tremaining: 12.4s\n",
      "539:\tlearn: 0.9439157\ttotal: 13.5s\tremaining: 12.3s\n",
      "540:\tlearn: 0.9437856\ttotal: 13.6s\tremaining: 12.3s\n",
      "541:\tlearn: 0.9436855\ttotal: 13.6s\tremaining: 12.3s\n",
      "542:\tlearn: 0.9437189\ttotal: 13.6s\tremaining: 12.3s\n",
      "543:\tlearn: 0.9437189\ttotal: 13.7s\tremaining: 12.2s\n",
      "544:\tlearn: 0.9438524\ttotal: 13.7s\tremaining: 12.2s\n",
      "545:\tlearn: 0.9440826\ttotal: 13.7s\tremaining: 12.2s\n",
      "546:\tlearn: 0.9440492\ttotal: 13.7s\tremaining: 12.2s\n",
      "547:\tlearn: 0.9443461\ttotal: 13.8s\tremaining: 12.1s\n",
      "548:\tlearn: 0.9444129\ttotal: 13.8s\tremaining: 12.1s\n",
      "549:\tlearn: 0.9444129\ttotal: 13.8s\tremaining: 12.1s\n",
      "550:\tlearn: 0.9446431\ttotal: 13.8s\tremaining: 12.1s\n",
      "551:\tlearn: 0.9446097\ttotal: 13.9s\tremaining: 12s\n",
      "552:\tlearn: 0.9445466\ttotal: 13.9s\tremaining: 12s\n",
      "553:\tlearn: 0.9445132\ttotal: 13.9s\tremaining: 12s\n",
      "554:\tlearn: 0.9447471\ttotal: 13.9s\tremaining: 12s\n",
      "555:\tlearn: 0.9448140\ttotal: 14s\tremaining: 12s\n",
      "556:\tlearn: 0.9448102\ttotal: 14s\tremaining: 11.9s\n",
      "557:\tlearn: 0.9452706\ttotal: 14s\tremaining: 11.9s\n",
      "558:\tlearn: 0.9454379\ttotal: 14.1s\tremaining: 11.9s\n",
      "559:\tlearn: 0.9454713\ttotal: 14.1s\tremaining: 11.9s\n",
      "560:\tlearn: 0.9452745\ttotal: 14.1s\tremaining: 11.9s\n",
      "561:\tlearn: 0.9452411\ttotal: 14.2s\tremaining: 11.9s\n",
      "562:\tlearn: 0.9454083\ttotal: 14.2s\tremaining: 11.8s\n",
      "563:\tlearn: 0.9454418\ttotal: 14.2s\tremaining: 11.8s\n",
      "564:\tlearn: 0.9453453\ttotal: 14.3s\tremaining: 11.8s\n",
      "565:\tlearn: 0.9453453\ttotal: 14.3s\tremaining: 11.8s\n",
      "566:\tlearn: 0.9456051\ttotal: 14.3s\tremaining: 11.8s\n",
      "567:\tlearn: 0.9455756\ttotal: 14.4s\tremaining: 11.7s\n",
      "568:\tlearn: 0.9458394\ttotal: 14.4s\tremaining: 11.7s\n",
      "569:\tlearn: 0.9458729\ttotal: 14.4s\tremaining: 11.7s\n",
      "570:\tlearn: 0.9463671\ttotal: 14.4s\tremaining: 11.7s\n",
      "571:\tlearn: 0.9465011\ttotal: 14.5s\tremaining: 11.6s\n",
      "572:\tlearn: 0.9464676\ttotal: 14.5s\tremaining: 11.6s\n",
      "573:\tlearn: 0.9462707\ttotal: 14.5s\tremaining: 11.6s\n",
      "574:\tlearn: 0.9466351\ttotal: 14.6s\tremaining: 11.6s\n",
      "575:\tlearn: 0.9467357\ttotal: 14.6s\tremaining: 11.6s\n",
      "576:\tlearn: 0.9468363\ttotal: 14.6s\tremaining: 11.5s\n",
      "577:\tlearn: 0.9468070\ttotal: 14.6s\tremaining: 11.5s\n",
      "578:\tlearn: 0.9467735\ttotal: 14.7s\tremaining: 11.5s\n",
      "579:\tlearn: 0.9473598\ttotal: 14.7s\tremaining: 11.5s\n",
      "580:\tlearn: 0.9474896\ttotal: 14.7s\tremaining: 11.4s\n",
      "581:\tlearn: 0.9475566\ttotal: 14.8s\tremaining: 11.4s\n",
      "582:\tlearn: 0.9475566\ttotal: 14.8s\tremaining: 11.4s\n",
      "583:\tlearn: 0.9474605\ttotal: 14.8s\tremaining: 11.4s\n",
      "584:\tlearn: 0.9475611\ttotal: 14.8s\tremaining: 11.3s\n",
      "585:\tlearn: 0.9475947\ttotal: 14.8s\tremaining: 11.3s\n",
      "586:\tlearn: 0.9475320\ttotal: 14.9s\tremaining: 11.3s\n",
      "587:\tlearn: 0.9475320\ttotal: 14.9s\tremaining: 11.2s\n",
      "588:\tlearn: 0.9475992\ttotal: 14.9s\tremaining: 11.2s\n",
      "589:\tlearn: 0.9479212\ttotal: 14.9s\tremaining: 11.2s\n",
      "590:\tlearn: 0.9479212\ttotal: 15s\tremaining: 11.2s\n",
      "591:\tlearn: 0.9480555\ttotal: 15s\tremaining: 11.1s\n",
      "592:\tlearn: 0.9480555\ttotal: 15s\tremaining: 11.1s\n",
      "593:\tlearn: 0.9481609\ttotal: 15s\tremaining: 11.1s\n",
      "594:\tlearn: 0.9482281\ttotal: 15.1s\tremaining: 11.1s\n",
      "595:\tlearn: 0.9484250\ttotal: 15.1s\tremaining: 11s\n",
      "596:\tlearn: 0.9484250\ttotal: 15.1s\tremaining: 11s\n",
      "597:\tlearn: 0.9488811\ttotal: 15.2s\tremaining: 11s\n",
      "598:\tlearn: 0.9489820\ttotal: 15.2s\tremaining: 11s\n",
      "599:\tlearn: 0.9492460\ttotal: 15.2s\tremaining: 10.9s\n",
      "600:\tlearn: 0.9495437\ttotal: 15.2s\tremaining: 10.9s\n",
      "601:\tlearn: 0.9496446\ttotal: 15.3s\tremaining: 10.9s\n",
      "602:\tlearn: 0.9499373\ttotal: 15.3s\tremaining: 10.9s\n",
      "603:\tlearn: 0.9500668\ttotal: 15.3s\tremaining: 10.8s\n",
      "604:\tlearn: 0.9502299\ttotal: 15.3s\tremaining: 10.8s\n",
      "605:\tlearn: 0.9500616\ttotal: 15.4s\tremaining: 10.8s\n",
      "606:\tlearn: 0.9502635\ttotal: 15.4s\tremaining: 10.8s\n",
      "607:\tlearn: 0.9504266\ttotal: 15.4s\tremaining: 10.7s\n",
      "608:\tlearn: 0.9504939\ttotal: 15.4s\tremaining: 10.7s\n",
      "609:\tlearn: 0.9507632\ttotal: 15.5s\tremaining: 10.7s\n",
      "610:\tlearn: 0.9507296\ttotal: 15.5s\tremaining: 10.7s\n",
      "611:\tlearn: 0.9506675\ttotal: 15.5s\tremaining: 10.7s\n",
      "612:\tlearn: 0.9509263\ttotal: 15.6s\tremaining: 10.6s\n",
      "613:\tlearn: 0.9513534\ttotal: 15.6s\tremaining: 10.6s\n",
      "614:\tlearn: 0.9512915\ttotal: 15.6s\tremaining: 10.6s\n",
      "615:\tlearn: 0.9512915\ttotal: 15.7s\tremaining: 10.6s\n",
      "616:\tlearn: 0.9513926\ttotal: 15.7s\tremaining: 10.5s\n",
      "617:\tlearn: 0.9514600\ttotal: 15.7s\tremaining: 10.5s\n",
      "618:\tlearn: 0.9517916\ttotal: 15.7s\tremaining: 10.5s\n",
      "619:\tlearn: 0.9520501\ttotal: 15.8s\tremaining: 10.5s\n",
      "620:\tlearn: 0.9521513\ttotal: 15.8s\tremaining: 10.5s\n",
      "621:\tlearn: 0.9521233\ttotal: 15.8s\tremaining: 10.4s\n",
      "622:\tlearn: 0.9522525\ttotal: 15.9s\tremaining: 10.4s\n",
      "623:\tlearn: 0.9523875\ttotal: 15.9s\tremaining: 10.4s\n",
      "624:\tlearn: 0.9524888\ttotal: 15.9s\tremaining: 10.4s\n",
      "625:\tlearn: 0.9524888\ttotal: 15.9s\tremaining: 10.3s\n",
      "626:\tlearn: 0.9527810\ttotal: 16s\tremaining: 10.3s\n",
      "627:\tlearn: 0.9529160\ttotal: 16s\tremaining: 10.3s\n",
      "628:\tlearn: 0.9528206\ttotal: 16s\tremaining: 10.3s\n",
      "629:\tlearn: 0.9531127\ttotal: 16s\tremaining: 10.2s\n",
      "630:\tlearn: 0.9532479\ttotal: 16.1s\tremaining: 10.2s\n",
      "631:\tlearn: 0.9528544\ttotal: 16.1s\tremaining: 10.2s\n",
      "632:\tlearn: 0.9531127\ttotal: 16.1s\tremaining: 10.2s\n",
      "633:\tlearn: 0.9531803\ttotal: 16.1s\tremaining: 10.1s\n",
      "634:\tlearn: 0.9531803\ttotal: 16.2s\tremaining: 10.1s\n",
      "635:\tlearn: 0.9532141\ttotal: 16.2s\tremaining: 10.1s\n",
      "636:\tlearn: 0.9533154\ttotal: 16.2s\tremaining: 10.1s\n",
      "637:\tlearn: 0.9532817\ttotal: 16.3s\tremaining: 10s\n",
      "638:\tlearn: 0.9534108\ttotal: 16.3s\tremaining: 10s\n",
      "639:\tlearn: 0.9536690\ttotal: 16.3s\tremaining: 9.98s\n",
      "640:\tlearn: 0.9542187\ttotal: 16.3s\tremaining: 9.96s\n",
      "641:\tlearn: 0.9543539\ttotal: 16.4s\tremaining: 9.93s\n",
      "642:\tlearn: 0.9543539\ttotal: 16.4s\tremaining: 9.91s\n",
      "643:\tlearn: 0.9543877\ttotal: 16.4s\tremaining: 9.88s\n",
      "644:\tlearn: 0.9543877\ttotal: 16.4s\tremaining: 9.86s\n",
      "645:\tlearn: 0.9546582\ttotal: 16.5s\tremaining: 9.83s\n",
      "646:\tlearn: 0.9544003\ttotal: 16.5s\tremaining: 9.8s\n",
      "647:\tlearn: 0.9543051\ttotal: 16.5s\tremaining: 9.78s\n",
      "648:\tlearn: 0.9544404\ttotal: 16.5s\tremaining: 9.75s\n",
      "649:\tlearn: 0.9544404\ttotal: 16.6s\tremaining: 9.73s\n",
      "650:\tlearn: 0.9547387\ttotal: 16.6s\tremaining: 9.71s\n",
      "651:\tlearn: 0.9550304\ttotal: 16.6s\tremaining: 9.68s\n",
      "652:\tlearn: 0.9550981\ttotal: 16.6s\tremaining: 9.65s\n",
      "653:\tlearn: 0.9549353\ttotal: 16.7s\tremaining: 9.63s\n",
      "654:\tlearn: 0.9549692\ttotal: 16.7s\tremaining: 9.6s\n",
      "655:\tlearn: 0.9550708\ttotal: 16.7s\tremaining: 9.58s\n",
      "656:\tlearn: 0.9550708\ttotal: 16.7s\tremaining: 9.55s\n",
      "657:\tlearn: 0.9551385\ttotal: 16.8s\tremaining: 9.53s\n",
      "658:\tlearn: 0.9551450\ttotal: 16.8s\tremaining: 9.5s\n",
      "659:\tlearn: 0.9551789\ttotal: 16.8s\tremaining: 9.48s\n",
      "660:\tlearn: 0.9552805\ttotal: 16.8s\tremaining: 9.45s\n",
      "661:\tlearn: 0.9552127\ttotal: 16.9s\tremaining: 9.43s\n",
      "662:\tlearn: 0.9552466\ttotal: 16.9s\tremaining: 9.4s\n",
      "663:\tlearn: 0.9552466\ttotal: 16.9s\tremaining: 9.38s\n",
      "664:\tlearn: 0.9552466\ttotal: 16.9s\tremaining: 9.35s\n",
      "665:\tlearn: 0.9551789\ttotal: 17s\tremaining: 9.33s\n",
      "666:\tlearn: 0.9550837\ttotal: 17s\tremaining: 9.3s\n",
      "667:\tlearn: 0.9552193\ttotal: 17s\tremaining: 9.28s\n",
      "668:\tlearn: 0.9552532\ttotal: 17.1s\tremaining: 9.25s\n",
      "669:\tlearn: 0.9552532\ttotal: 17.1s\tremaining: 9.23s\n",
      "670:\tlearn: 0.9552532\ttotal: 17.1s\tremaining: 9.2s\n",
      "671:\tlearn: 0.9557418\ttotal: 17.1s\tremaining: 9.18s\n",
      "672:\tlearn: 0.9561081\ttotal: 17.2s\tremaining: 9.15s\n",
      "673:\tlearn: 0.9561081\ttotal: 17.2s\tremaining: 9.12s\n",
      "674:\tlearn: 0.9567592\ttotal: 17.2s\tremaining: 9.1s\n",
      "675:\tlearn: 0.9567253\ttotal: 17.2s\tremaining: 9.07s\n",
      "676:\tlearn: 0.9568271\ttotal: 17.3s\tremaining: 9.04s\n",
      "677:\tlearn: 0.9566644\ttotal: 17.3s\tremaining: 9.02s\n",
      "678:\tlearn: 0.9569968\ttotal: 17.3s\tremaining: 8.99s\n",
      "679:\tlearn: 0.9571935\ttotal: 17.3s\tremaining: 8.97s\n",
      "680:\tlearn: 0.9574920\ttotal: 17.4s\tremaining: 8.94s\n",
      "681:\tlearn: 0.9575599\ttotal: 17.4s\tremaining: 8.92s\n",
      "682:\tlearn: 0.9575260\ttotal: 17.4s\tremaining: 8.89s\n",
      "683:\tlearn: 0.9574312\ttotal: 17.4s\tremaining: 8.87s\n",
      "684:\tlearn: 0.9575260\ttotal: 17.5s\tremaining: 8.84s\n",
      "685:\tlearn: 0.9575671\ttotal: 17.5s\tremaining: 8.81s\n",
      "686:\tlearn: 0.9576619\ttotal: 17.5s\tremaining: 8.79s\n",
      "687:\tlearn: 0.9576011\ttotal: 17.5s\tremaining: 8.76s\n",
      "688:\tlearn: 0.9578730\ttotal: 17.6s\tremaining: 8.74s\n",
      "689:\tlearn: 0.9579750\ttotal: 17.6s\tremaining: 8.71s\n",
      "690:\tlearn: 0.9581110\ttotal: 17.6s\tremaining: 8.69s\n",
      "691:\tlearn: 0.9581524\ttotal: 17.6s\tremaining: 8.67s\n",
      "692:\tlearn: 0.9583152\ttotal: 17.7s\tremaining: 8.64s\n",
      "693:\tlearn: 0.9584854\ttotal: 17.7s\tremaining: 8.62s\n",
      "694:\tlearn: 0.9584513\ttotal: 17.7s\tremaining: 8.59s\n",
      "695:\tlearn: 0.9586141\ttotal: 17.7s\tremaining: 8.57s\n",
      "696:\tlearn: 0.9587769\ttotal: 17.8s\tremaining: 8.54s\n",
      "697:\tlearn: 0.9588109\ttotal: 17.8s\tremaining: 8.52s\n",
      "698:\tlearn: 0.9587769\ttotal: 17.8s\tremaining: 8.49s\n",
      "699:\tlearn: 0.9589737\ttotal: 17.8s\tremaining: 8.46s\n",
      "700:\tlearn: 0.9592045\ttotal: 17.9s\tremaining: 8.44s\n",
      "701:\tlearn: 0.9591705\ttotal: 17.9s\tremaining: 8.41s\n",
      "702:\tlearn: 0.9591705\ttotal: 17.9s\tremaining: 8.39s\n",
      "703:\tlearn: 0.9591705\ttotal: 17.9s\tremaining: 8.36s\n",
      "704:\tlearn: 0.9592386\ttotal: 18s\tremaining: 8.34s\n",
      "705:\tlearn: 0.9593332\ttotal: 18s\tremaining: 8.31s\n",
      "706:\tlearn: 0.9592386\ttotal: 18s\tremaining: 8.28s\n",
      "707:\tlearn: 0.9591780\ttotal: 18s\tremaining: 8.26s\n",
      "708:\tlearn: 0.9591780\ttotal: 18.1s\tremaining: 8.23s\n",
      "709:\tlearn: 0.9592803\ttotal: 18.1s\tremaining: 8.21s\n",
      "710:\tlearn: 0.9593825\ttotal: 18.1s\tremaining: 8.18s\n",
      "711:\tlearn: 0.9593143\ttotal: 18.1s\tremaining: 8.15s\n",
      "712:\tlearn: 0.9593484\ttotal: 18.2s\tremaining: 8.13s\n",
      "713:\tlearn: 0.9594507\ttotal: 18.2s\tremaining: 8.1s\n",
      "714:\tlearn: 0.9594166\ttotal: 18.2s\tremaining: 8.08s\n",
      "715:\tlearn: 0.9594507\ttotal: 18.2s\tremaining: 8.05s\n",
      "716:\tlearn: 0.9597421\ttotal: 18.3s\tremaining: 8.03s\n",
      "717:\tlearn: 0.9602038\ttotal: 18.3s\tremaining: 8s\n",
      "718:\tlearn: 0.9601434\ttotal: 18.3s\tremaining: 7.97s\n",
      "719:\tlearn: 0.9603665\ttotal: 18.3s\tremaining: 7.95s\n",
      "720:\tlearn: 0.9605370\ttotal: 18.4s\tremaining: 7.93s\n",
      "721:\tlearn: 0.9605711\ttotal: 18.4s\tremaining: 7.9s\n",
      "722:\tlearn: 0.9607338\ttotal: 18.4s\tremaining: 7.88s\n",
      "723:\tlearn: 0.9609305\ttotal: 18.5s\tremaining: 7.85s\n",
      "724:\tlearn: 0.9613499\ttotal: 18.5s\tremaining: 7.83s\n",
      "725:\tlearn: 0.9613239\ttotal: 18.5s\tremaining: 7.81s\n",
      "726:\tlearn: 0.9613581\ttotal: 18.6s\tremaining: 7.79s\n",
      "727:\tlearn: 0.9615630\ttotal: 18.6s\tremaining: 7.77s\n",
      "728:\tlearn: 0.9617338\ttotal: 18.6s\tremaining: 7.74s\n",
      "729:\tlearn: 0.9620247\ttotal: 18.7s\tremaining: 7.72s\n",
      "730:\tlearn: 0.9622214\ttotal: 18.7s\tremaining: 7.7s\n",
      "731:\tlearn: 0.9622214\ttotal: 18.7s\tremaining: 7.67s\n",
      "732:\tlearn: 0.9626574\ttotal: 18.8s\tremaining: 7.65s\n",
      "733:\tlearn: 0.9623923\ttotal: 18.8s\tremaining: 7.63s\n",
      "734:\tlearn: 0.9628626\ttotal: 18.8s\tremaining: 7.61s\n",
      "735:\tlearn: 0.9627942\ttotal: 18.9s\tremaining: 7.58s\n",
      "736:\tlearn: 0.9629311\ttotal: 18.9s\tremaining: 7.56s\n",
      "737:\tlearn: 0.9629653\ttotal: 18.9s\tremaining: 7.53s\n",
      "738:\tlearn: 0.9632647\ttotal: 18.9s\tremaining: 7.51s\n",
      "739:\tlearn: 0.9631364\ttotal: 19s\tremaining: 7.48s\n",
      "740:\tlearn: 0.9631364\ttotal: 19s\tremaining: 7.46s\n",
      "741:\tlearn: 0.9631707\ttotal: 19s\tremaining: 7.43s\n",
      "742:\tlearn: 0.9631707\ttotal: 19.1s\tremaining: 7.41s\n",
      "743:\tlearn: 0.9632989\ttotal: 19.1s\tremaining: 7.39s\n",
      "744:\tlearn: 0.9634016\ttotal: 19.1s\tremaining: 7.36s\n",
      "745:\tlearn: 0.9635299\ttotal: 19.1s\tremaining: 7.34s\n",
      "746:\tlearn: 0.9633761\ttotal: 19.2s\tremaining: 7.32s\n",
      "747:\tlearn: 0.9633419\ttotal: 19.2s\tremaining: 7.29s\n",
      "748:\tlearn: 0.9634359\ttotal: 19.2s\tremaining: 7.27s\n",
      "749:\tlearn: 0.9634359\ttotal: 19.3s\tremaining: 7.24s\n",
      "750:\tlearn: 0.9633076\ttotal: 19.3s\tremaining: 7.21s\n",
      "751:\tlearn: 0.9636924\ttotal: 19.3s\tremaining: 7.19s\n",
      "752:\tlearn: 0.9637951\ttotal: 19.3s\tremaining: 7.17s\n",
      "753:\tlearn: 0.9638636\ttotal: 19.4s\tremaining: 7.14s\n",
      "754:\tlearn: 0.9638636\ttotal: 19.4s\tremaining: 7.12s\n",
      "755:\tlearn: 0.9637354\ttotal: 19.4s\tremaining: 7.09s\n",
      "756:\tlearn: 0.9638979\ttotal: 19.5s\tremaining: 7.07s\n",
      "757:\tlearn: 0.9639321\ttotal: 19.5s\tremaining: 7.04s\n",
      "758:\tlearn: 0.9640261\ttotal: 19.5s\tremaining: 7.02s\n",
      "759:\tlearn: 0.9642481\ttotal: 19.5s\tremaining: 6.99s\n",
      "760:\tlearn: 0.9644447\ttotal: 19.6s\tremaining: 6.96s\n",
      "761:\tlearn: 0.9645132\ttotal: 19.6s\tremaining: 6.94s\n",
      "762:\tlearn: 0.9644790\ttotal: 19.6s\tremaining: 6.91s\n",
      "763:\tlearn: 0.9645475\ttotal: 19.6s\tremaining: 6.89s\n",
      "764:\tlearn: 0.9644537\ttotal: 19.7s\tremaining: 6.86s\n",
      "765:\tlearn: 0.9649407\ttotal: 19.7s\tremaining: 6.84s\n",
      "766:\tlearn: 0.9649750\ttotal: 19.7s\tremaining: 6.81s\n",
      "767:\tlearn: 0.9648469\ttotal: 19.7s\tremaining: 6.79s\n",
      "768:\tlearn: 0.9648127\ttotal: 19.8s\tremaining: 6.76s\n",
      "769:\tlearn: 0.9651373\ttotal: 19.8s\tremaining: 6.73s\n",
      "770:\tlearn: 0.9651373\ttotal: 19.8s\tremaining: 6.71s\n",
      "771:\tlearn: 0.9653773\ttotal: 19.9s\tremaining: 6.68s\n",
      "772:\tlearn: 0.9652493\ttotal: 19.9s\tremaining: 6.66s\n",
      "773:\tlearn: 0.9652836\ttotal: 19.9s\tremaining: 6.64s\n",
      "774:\tlearn: 0.9654552\ttotal: 19.9s\tremaining: 6.61s\n",
      "775:\tlearn: 0.9654209\ttotal: 20s\tremaining: 6.59s\n",
      "776:\tlearn: 0.9657798\ttotal: 20s\tremaining: 6.56s\n",
      "777:\tlearn: 0.9657798\ttotal: 20s\tremaining: 6.54s\n",
      "778:\tlearn: 0.9657798\ttotal: 20.1s\tremaining: 6.51s\n",
      "779:\tlearn: 0.9658828\ttotal: 20.1s\tremaining: 6.49s\n",
      "780:\tlearn: 0.9660451\ttotal: 20.1s\tremaining: 6.47s\n",
      "781:\tlearn: 0.9660451\ttotal: 20.2s\tremaining: 6.44s\n",
      "782:\tlearn: 0.9660451\ttotal: 20.2s\tremaining: 6.42s\n",
      "783:\tlearn: 0.9661138\ttotal: 20.2s\tremaining: 6.39s\n",
      "784:\tlearn: 0.9661824\ttotal: 20.2s\tremaining: 6.37s\n",
      "785:\tlearn: 0.9662511\ttotal: 20.3s\tremaining: 6.34s\n",
      "786:\tlearn: 0.9662168\ttotal: 20.3s\tremaining: 6.32s\n",
      "787:\tlearn: 0.9664229\ttotal: 20.3s\tremaining: 6.29s\n",
      "788:\tlearn: 0.9664229\ttotal: 20.4s\tremaining: 6.27s\n",
      "789:\tlearn: 0.9664229\ttotal: 20.4s\tremaining: 6.24s\n",
      "790:\tlearn: 0.9664229\ttotal: 20.4s\tremaining: 6.22s\n",
      "791:\tlearn: 0.9666883\ttotal: 20.4s\tremaining: 6.2s\n",
      "792:\tlearn: 0.9666883\ttotal: 20.5s\tremaining: 6.17s\n",
      "793:\tlearn: 0.9666539\ttotal: 20.5s\tremaining: 6.15s\n",
      "794:\tlearn: 0.9666635\ttotal: 20.5s\tremaining: 6.12s\n",
      "795:\tlearn: 0.9665947\ttotal: 20.6s\tremaining: 6.1s\n",
      "796:\tlearn: 0.9668849\ttotal: 20.6s\tremaining: 6.07s\n",
      "797:\tlearn: 0.9669537\ttotal: 20.6s\tremaining: 6.05s\n",
      "798:\tlearn: 0.9669537\ttotal: 20.6s\tremaining: 6.02s\n",
      "799:\tlearn: 0.9670568\ttotal: 20.7s\tremaining: 5.99s\n",
      "800:\tlearn: 0.9670815\ttotal: 20.7s\tremaining: 5.97s\n",
      "801:\tlearn: 0.9673469\ttotal: 20.7s\tremaining: 5.94s\n",
      "802:\tlearn: 0.9673125\ttotal: 20.7s\tremaining: 5.92s\n",
      "803:\tlearn: 0.9674501\ttotal: 20.8s\tremaining: 5.89s\n",
      "804:\tlearn: 0.9675189\ttotal: 20.8s\tremaining: 5.87s\n",
      "805:\tlearn: 0.9674845\ttotal: 20.8s\tremaining: 5.84s\n",
      "806:\tlearn: 0.9675533\ttotal: 20.9s\tremaining: 5.82s\n",
      "807:\tlearn: 0.9674845\ttotal: 20.9s\tremaining: 5.79s\n",
      "808:\tlearn: 0.9677155\ttotal: 20.9s\tremaining: 5.77s\n",
      "809:\tlearn: 0.9679465\ttotal: 20.9s\tremaining: 5.74s\n",
      "810:\tlearn: 0.9680842\ttotal: 21s\tremaining: 5.71s\n",
      "811:\tlearn: 0.9679564\ttotal: 21s\tremaining: 5.69s\n",
      "812:\tlearn: 0.9681186\ttotal: 21s\tremaining: 5.67s\n",
      "813:\tlearn: 0.9679564\ttotal: 21.1s\tremaining: 5.64s\n",
      "814:\tlearn: 0.9678876\ttotal: 21.1s\tremaining: 5.61s\n",
      "815:\tlearn: 0.9681530\ttotal: 21.1s\tremaining: 5.59s\n",
      "816:\tlearn: 0.9681530\ttotal: 21.1s\tremaining: 5.56s\n",
      "817:\tlearn: 0.9681530\ttotal: 21.2s\tremaining: 5.54s\n",
      "818:\tlearn: 0.9682219\ttotal: 21.2s\tremaining: 5.51s\n",
      "819:\tlearn: 0.9681385\ttotal: 21.2s\tremaining: 5.49s\n",
      "820:\tlearn: 0.9683008\ttotal: 21.2s\tremaining: 5.46s\n",
      "821:\tlearn: 0.9685907\ttotal: 21.3s\tremaining: 5.43s\n",
      "822:\tlearn: 0.9686941\ttotal: 21.3s\tremaining: 5.41s\n",
      "823:\tlearn: 0.9685907\ttotal: 21.3s\tremaining: 5.38s\n",
      "824:\tlearn: 0.9684286\ttotal: 21.3s\tremaining: 5.36s\n",
      "825:\tlearn: 0.9684286\ttotal: 21.4s\tremaining: 5.33s\n",
      "826:\tlearn: 0.9685319\ttotal: 21.4s\tremaining: 5.3s\n",
      "827:\tlearn: 0.9686008\ttotal: 21.4s\tremaining: 5.28s\n",
      "828:\tlearn: 0.9687387\ttotal: 21.5s\tremaining: 5.25s\n",
      "829:\tlearn: 0.9687387\ttotal: 21.5s\tremaining: 5.23s\n",
      "830:\tlearn: 0.9688421\ttotal: 21.5s\tremaining: 5.2s\n",
      "831:\tlearn: 0.9690044\ttotal: 21.5s\tremaining: 5.18s\n",
      "832:\tlearn: 0.9692010\ttotal: 21.6s\tremaining: 5.15s\n",
      "833:\tlearn: 0.9693045\ttotal: 21.6s\tremaining: 5.13s\n",
      "834:\tlearn: 0.9692803\ttotal: 21.6s\tremaining: 5.1s\n",
      "835:\tlearn: 0.9695564\ttotal: 21.6s\tremaining: 5.08s\n",
      "836:\tlearn: 0.9696151\ttotal: 21.7s\tremaining: 5.05s\n",
      "837:\tlearn: 0.9698808\ttotal: 21.7s\tremaining: 5.03s\n",
      "838:\tlearn: 0.9699154\ttotal: 21.7s\tremaining: 5s\n",
      "839:\tlearn: 0.9697877\ttotal: 21.8s\tremaining: 4.97s\n",
      "840:\tlearn: 0.9697532\ttotal: 21.8s\tremaining: 4.95s\n",
      "841:\tlearn: 0.9697877\ttotal: 21.8s\tremaining: 4.92s\n",
      "842:\tlearn: 0.9698913\ttotal: 21.9s\tremaining: 4.9s\n",
      "843:\tlearn: 0.9697290\ttotal: 21.9s\tremaining: 4.87s\n",
      "844:\tlearn: 0.9697636\ttotal: 21.9s\tremaining: 4.85s\n",
      "845:\tlearn: 0.9697981\ttotal: 22s\tremaining: 4.83s\n",
      "846:\tlearn: 0.9698327\ttotal: 22s\tremaining: 4.8s\n",
      "847:\tlearn: 0.9697981\ttotal: 22s\tremaining: 4.78s\n",
      "848:\tlearn: 0.9698672\ttotal: 22.1s\tremaining: 4.75s\n",
      "849:\tlearn: 0.9698672\ttotal: 22.1s\tremaining: 4.73s\n",
      "850:\tlearn: 0.9700295\ttotal: 22.1s\tremaining: 4.71s\n",
      "851:\tlearn: 0.9700295\ttotal: 22.2s\tremaining: 4.68s\n",
      "852:\tlearn: 0.9700640\ttotal: 22.2s\tremaining: 4.66s\n",
      "853:\tlearn: 0.9701677\ttotal: 22.2s\tremaining: 4.63s\n",
      "854:\tlearn: 0.9702608\ttotal: 22.3s\tremaining: 4.61s\n",
      "855:\tlearn: 0.9703645\ttotal: 22.3s\tremaining: 4.58s\n",
      "856:\tlearn: 0.9702368\ttotal: 22.3s\tremaining: 4.55s\n",
      "857:\tlearn: 0.9703645\ttotal: 22.3s\tremaining: 4.53s\n",
      "858:\tlearn: 0.9703645\ttotal: 22.4s\tremaining: 4.5s\n",
      "859:\tlearn: 0.9704336\ttotal: 22.4s\tremaining: 4.48s\n",
      "860:\tlearn: 0.9705267\ttotal: 22.4s\tremaining: 4.45s\n",
      "861:\tlearn: 0.9708165\ttotal: 22.5s\tremaining: 4.43s\n",
      "862:\tlearn: 0.9708856\ttotal: 22.5s\tremaining: 4.4s\n",
      "863:\tlearn: 0.9707234\ttotal: 22.5s\tremaining: 4.38s\n",
      "864:\tlearn: 0.9707234\ttotal: 22.5s\tremaining: 4.35s\n",
      "865:\tlearn: 0.9709202\ttotal: 22.5s\tremaining: 4.32s\n",
      "866:\tlearn: 0.9709893\ttotal: 22.6s\tremaining: 4.3s\n",
      "867:\tlearn: 0.9708617\ttotal: 22.6s\tremaining: 4.27s\n",
      "868:\tlearn: 0.9710585\ttotal: 22.6s\tremaining: 4.25s\n",
      "869:\tlearn: 0.9712790\ttotal: 22.7s\tremaining: 4.22s\n",
      "870:\tlearn: 0.9713136\ttotal: 22.7s\tremaining: 4.2s\n",
      "871:\tlearn: 0.9714757\ttotal: 22.7s\tremaining: 4.17s\n",
      "872:\tlearn: 0.9715448\ttotal: 22.8s\tremaining: 4.14s\n",
      "873:\tlearn: 0.9716486\ttotal: 22.8s\tremaining: 4.12s\n",
      "874:\tlearn: 0.9715794\ttotal: 22.8s\tremaining: 4.09s\n",
      "875:\tlearn: 0.9718343\ttotal: 22.8s\tremaining: 4.07s\n",
      "876:\tlearn: 0.9718689\ttotal: 22.9s\tremaining: 4.04s\n",
      "877:\tlearn: 0.9719727\ttotal: 22.9s\tremaining: 4.02s\n",
      "878:\tlearn: 0.9720766\ttotal: 22.9s\tremaining: 3.99s\n",
      "879:\tlearn: 0.9719727\ttotal: 23s\tremaining: 3.96s\n",
      "880:\tlearn: 0.9718799\ttotal: 23s\tremaining: 3.94s\n",
      "881:\tlearn: 0.9720184\ttotal: 23s\tremaining: 3.91s\n",
      "882:\tlearn: 0.9721804\ttotal: 23s\tremaining: 3.89s\n",
      "883:\tlearn: 0.9722150\ttotal: 23.1s\tremaining: 3.86s\n",
      "884:\tlearn: 0.9722843\ttotal: 23.1s\tremaining: 3.84s\n",
      "885:\tlearn: 0.9723189\ttotal: 23.1s\tremaining: 3.81s\n",
      "886:\tlearn: 0.9726083\ttotal: 23.1s\tremaining: 3.78s\n",
      "887:\tlearn: 0.9726083\ttotal: 23.2s\tremaining: 3.76s\n",
      "888:\tlearn: 0.9725737\ttotal: 23.2s\tremaining: 3.73s\n",
      "889:\tlearn: 0.9727469\ttotal: 23.2s\tremaining: 3.71s\n",
      "890:\tlearn: 0.9727469\ttotal: 23.3s\tremaining: 3.68s\n",
      "891:\tlearn: 0.9729089\ttotal: 23.3s\tremaining: 3.65s\n",
      "892:\tlearn: 0.9729089\ttotal: 23.3s\tremaining: 3.63s\n",
      "893:\tlearn: 0.9728742\ttotal: 23.3s\tremaining: 3.6s\n",
      "894:\tlearn: 0.9728742\ttotal: 23.3s\tremaining: 3.57s\n",
      "895:\tlearn: 0.9731055\ttotal: 23.4s\tremaining: 3.54s\n",
      "896:\tlearn: 0.9730362\ttotal: 23.4s\tremaining: 3.52s\n",
      "897:\tlearn: 0.9731168\ttotal: 23.4s\tremaining: 3.49s\n",
      "898:\tlearn: 0.9730821\ttotal: 23.4s\tremaining: 3.47s\n",
      "899:\tlearn: 0.9730475\ttotal: 23.4s\tremaining: 3.44s\n",
      "900:\tlearn: 0.9729089\ttotal: 23.5s\tremaining: 3.41s\n",
      "901:\tlearn: 0.9731055\ttotal: 23.5s\tremaining: 3.38s\n",
      "902:\tlearn: 0.9736259\ttotal: 23.5s\tremaining: 3.36s\n",
      "903:\tlearn: 0.9735565\ttotal: 23.5s\tremaining: 3.33s\n",
      "904:\tlearn: 0.9736259\ttotal: 23.6s\tremaining: 3.31s\n",
      "905:\tlearn: 0.9737645\ttotal: 23.6s\tremaining: 3.28s\n",
      "906:\tlearn: 0.9737992\ttotal: 23.6s\tremaining: 3.25s\n",
      "907:\tlearn: 0.9739379\ttotal: 23.6s\tremaining: 3.23s\n",
      "908:\tlearn: 0.9740073\ttotal: 23.7s\tremaining: 3.2s\n",
      "909:\tlearn: 0.9740420\ttotal: 23.7s\tremaining: 3.17s\n",
      "910:\tlearn: 0.9740767\ttotal: 23.7s\tremaining: 3.15s\n",
      "911:\tlearn: 0.9741808\ttotal: 23.7s\tremaining: 3.12s\n",
      "912:\tlearn: 0.9742849\ttotal: 23.8s\tremaining: 3.1s\n",
      "913:\tlearn: 0.9741808\ttotal: 23.8s\tremaining: 3.07s\n",
      "914:\tlearn: 0.9743196\ttotal: 23.8s\tremaining: 3.04s\n",
      "915:\tlearn: 0.9744468\ttotal: 23.8s\tremaining: 3.02s\n",
      "916:\tlearn: 0.9744468\ttotal: 23.9s\tremaining: 2.99s\n",
      "917:\tlearn: 0.9747705\ttotal: 23.9s\tremaining: 2.97s\n",
      "918:\tlearn: 0.9748052\ttotal: 23.9s\tremaining: 2.94s\n",
      "919:\tlearn: 0.9748399\ttotal: 23.9s\tremaining: 2.91s\n",
      "920:\tlearn: 0.9748399\ttotal: 24s\tremaining: 2.89s\n",
      "921:\tlearn: 0.9748747\ttotal: 24s\tremaining: 2.86s\n",
      "922:\tlearn: 0.9749094\ttotal: 24s\tremaining: 2.84s\n",
      "923:\tlearn: 0.9748747\ttotal: 24.1s\tremaining: 2.81s\n",
      "924:\tlearn: 0.9748747\ttotal: 24.1s\tremaining: 2.79s\n",
      "925:\tlearn: 0.9749441\ttotal: 24.1s\tremaining: 2.76s\n",
      "926:\tlearn: 0.9749907\ttotal: 24.1s\tremaining: 2.73s\n",
      "927:\tlearn: 0.9749559\ttotal: 24.2s\tremaining: 2.71s\n",
      "928:\tlearn: 0.9750254\ttotal: 24.2s\tremaining: 2.68s\n",
      "929:\tlearn: 0.9749559\ttotal: 24.2s\tremaining: 2.66s\n",
      "930:\tlearn: 0.9752102\ttotal: 24.2s\tremaining: 2.63s\n",
      "931:\tlearn: 0.9752102\ttotal: 24.3s\tremaining: 2.6s\n",
      "932:\tlearn: 0.9752102\ttotal: 24.3s\tremaining: 2.58s\n",
      "933:\tlearn: 0.9753839\ttotal: 24.3s\tremaining: 2.55s\n",
      "934:\tlearn: 0.9753491\ttotal: 24.4s\tremaining: 2.53s\n",
      "935:\tlearn: 0.9752102\ttotal: 24.4s\tremaining: 2.5s\n",
      "936:\tlearn: 0.9752102\ttotal: 24.4s\tremaining: 2.48s\n",
      "937:\tlearn: 0.9752449\ttotal: 24.5s\tremaining: 2.45s\n",
      "938:\tlearn: 0.9754415\ttotal: 24.5s\tremaining: 2.42s\n",
      "939:\tlearn: 0.9756032\ttotal: 24.5s\tremaining: 2.4s\n",
      "940:\tlearn: 0.9754762\ttotal: 24.5s\tremaining: 2.37s\n",
      "941:\tlearn: 0.9756380\ttotal: 24.6s\tremaining: 2.35s\n",
      "942:\tlearn: 0.9757075\ttotal: 24.6s\tremaining: 2.32s\n",
      "943:\tlearn: 0.9757075\ttotal: 24.6s\tremaining: 2.3s\n",
      "944:\tlearn: 0.9758465\ttotal: 24.7s\tremaining: 2.27s\n",
      "945:\tlearn: 0.9758813\ttotal: 24.7s\tremaining: 2.25s\n",
      "946:\tlearn: 0.9759388\ttotal: 24.7s\tremaining: 2.22s\n",
      "947:\tlearn: 0.9760779\ttotal: 24.8s\tremaining: 2.19s\n",
      "948:\tlearn: 0.9762396\ttotal: 24.8s\tremaining: 2.17s\n",
      "949:\tlearn: 0.9761126\ttotal: 24.8s\tremaining: 2.14s\n",
      "950:\tlearn: 0.9762866\ttotal: 24.9s\tremaining: 2.12s\n",
      "951:\tlearn: 0.9763561\ttotal: 24.9s\tremaining: 2.09s\n",
      "952:\tlearn: 0.9763561\ttotal: 24.9s\tremaining: 2.06s\n",
      "953:\tlearn: 0.9763909\ttotal: 24.9s\tremaining: 2.04s\n",
      "954:\tlearn: 0.9762987\ttotal: 25s\tremaining: 2.01s\n",
      "955:\tlearn: 0.9763335\ttotal: 25s\tremaining: 1.99s\n",
      "956:\tlearn: 0.9763909\ttotal: 25s\tremaining: 1.96s\n",
      "957:\tlearn: 0.9766449\ttotal: 25s\tremaining: 1.93s\n",
      "958:\tlearn: 0.9767145\ttotal: 25.1s\tremaining: 1.91s\n",
      "959:\tlearn: 0.9767145\ttotal: 25.1s\tremaining: 1.88s\n",
      "960:\tlearn: 0.9769233\ttotal: 25.1s\tremaining: 1.85s\n",
      "961:\tlearn: 0.9768885\ttotal: 25.1s\tremaining: 1.83s\n",
      "962:\tlearn: 0.9768885\ttotal: 25.2s\tremaining: 1.8s\n",
      "963:\tlearn: 0.9768762\ttotal: 25.2s\tremaining: 1.78s\n",
      "964:\tlearn: 0.9769110\ttotal: 25.2s\tremaining: 1.75s\n",
      "965:\tlearn: 0.9771547\ttotal: 25.3s\tremaining: 1.73s\n",
      "966:\tlearn: 0.9771199\ttotal: 25.3s\tremaining: 1.7s\n",
      "967:\tlearn: 0.9772244\ttotal: 25.3s\tremaining: 1.67s\n",
      "968:\tlearn: 0.9770851\ttotal: 25.3s\tremaining: 1.65s\n",
      "969:\tlearn: 0.9773388\ttotal: 25.4s\tremaining: 1.62s\n",
      "970:\tlearn: 0.9772816\ttotal: 25.4s\tremaining: 1.59s\n",
      "971:\tlearn: 0.9770154\ttotal: 25.4s\tremaining: 1.57s\n",
      "972:\tlearn: 0.9772244\ttotal: 25.4s\tremaining: 1.54s\n",
      "973:\tlearn: 0.9773861\ttotal: 25.5s\tremaining: 1.52s\n",
      "974:\tlearn: 0.9776398\ttotal: 25.5s\tremaining: 1.49s\n",
      "975:\tlearn: 0.9775129\ttotal: 25.5s\tremaining: 1.46s\n",
      "976:\tlearn: 0.9775129\ttotal: 25.5s\tremaining: 1.44s\n",
      "977:\tlearn: 0.9775826\ttotal: 25.6s\tremaining: 1.41s\n",
      "978:\tlearn: 0.9776871\ttotal: 25.6s\tremaining: 1.39s\n",
      "979:\tlearn: 0.9777220\ttotal: 25.6s\tremaining: 1.36s\n",
      "980:\tlearn: 0.9775603\ttotal: 25.7s\tremaining: 1.33s\n",
      "981:\tlearn: 0.9778140\ttotal: 25.7s\tremaining: 1.31s\n",
      "982:\tlearn: 0.9778140\ttotal: 25.7s\tremaining: 1.28s\n",
      "983:\tlearn: 0.9777220\ttotal: 25.8s\tremaining: 1.26s\n",
      "984:\tlearn: 0.9776300\ttotal: 25.8s\tremaining: 1.23s\n",
      "985:\tlearn: 0.9777568\ttotal: 25.8s\tremaining: 1.2s\n",
      "986:\tlearn: 0.9782069\ttotal: 25.8s\tremaining: 1.18s\n",
      "987:\tlearn: 0.9782988\ttotal: 25.9s\tremaining: 1.15s\n",
      "988:\tlearn: 0.9787137\ttotal: 25.9s\tremaining: 1.13s\n",
      "989:\tlearn: 0.9787485\ttotal: 25.9s\tremaining: 1.1s\n",
      "990:\tlearn: 0.9787485\ttotal: 26s\tremaining: 1.07s\n",
      "991:\tlearn: 0.9787485\ttotal: 26s\tremaining: 1.05s\n",
      "992:\tlearn: 0.9787485\ttotal: 26s\tremaining: 1.02s\n",
      "993:\tlearn: 0.9787485\ttotal: 26s\tremaining: 994ms\n",
      "994:\tlearn: 0.9787137\ttotal: 26s\tremaining: 968ms\n",
      "995:\tlearn: 0.9787137\ttotal: 26.1s\tremaining: 942ms\n",
      "996:\tlearn: 0.9788751\ttotal: 26.1s\tremaining: 916ms\n",
      "997:\tlearn: 0.9788403\ttotal: 26.1s\tremaining: 890ms\n",
      "998:\tlearn: 0.9788054\ttotal: 26.1s\tremaining: 864ms\n",
      "999:\tlearn: 0.9791063\ttotal: 26.2s\tremaining: 838ms\n",
      "1000:\tlearn: 0.9791541\ttotal: 26.2s\tremaining: 812ms\n",
      "1001:\tlearn: 0.9791541\ttotal: 26.2s\tremaining: 785ms\n",
      "1002:\tlearn: 0.9794072\ttotal: 26.3s\tremaining: 759ms\n",
      "1003:\tlearn: 0.9794770\ttotal: 26.3s\tremaining: 733ms\n",
      "1004:\tlearn: 0.9794770\ttotal: 26.3s\tremaining: 707ms\n",
      "1005:\tlearn: 0.9793504\ttotal: 26.3s\tremaining: 681ms\n",
      "1006:\tlearn: 0.9795118\ttotal: 26.4s\tremaining: 654ms\n",
      "1007:\tlearn: 0.9794421\ttotal: 26.4s\tremaining: 628ms\n",
      "1008:\tlearn: 0.9794770\ttotal: 26.4s\tremaining: 602ms\n",
      "1009:\tlearn: 0.9795249\ttotal: 26.4s\tremaining: 576ms\n",
      "1010:\tlearn: 0.9798826\ttotal: 26.5s\tremaining: 550ms\n",
      "1011:\tlearn: 0.9798826\ttotal: 26.5s\tremaining: 524ms\n",
      "1012:\tlearn: 0.9798826\ttotal: 26.5s\tremaining: 498ms\n",
      "1013:\tlearn: 0.9799524\ttotal: 26.6s\tremaining: 471ms\n",
      "1014:\tlearn: 0.9800440\ttotal: 26.6s\tremaining: 445ms\n",
      "1015:\tlearn: 0.9800789\ttotal: 26.6s\tremaining: 419ms\n",
      "1016:\tlearn: 0.9800789\ttotal: 26.6s\tremaining: 393ms\n",
      "1017:\tlearn: 0.9800789\ttotal: 26.7s\tremaining: 367ms\n",
      "1018:\tlearn: 0.9800789\ttotal: 26.7s\tremaining: 341ms\n",
      "1019:\tlearn: 0.9801138\ttotal: 26.7s\tremaining: 314ms\n",
      "1020:\tlearn: 0.9802054\ttotal: 26.7s\tremaining: 288ms\n",
      "1021:\tlearn: 0.9804016\ttotal: 26.8s\tremaining: 262ms\n",
      "1022:\tlearn: 0.9803318\ttotal: 26.8s\tremaining: 236ms\n",
      "1023:\tlearn: 0.9801487\ttotal: 26.8s\tremaining: 210ms\n",
      "1024:\tlearn: 0.9803101\ttotal: 26.9s\tremaining: 183ms\n",
      "1025:\tlearn: 0.9803450\ttotal: 26.9s\tremaining: 157ms\n",
      "1026:\tlearn: 0.9802752\ttotal: 26.9s\tremaining: 131ms\n",
      "1027:\tlearn: 0.9802752\ttotal: 26.9s\tremaining: 105ms\n",
      "1028:\tlearn: 0.9805978\ttotal: 27s\tremaining: 78.6ms\n",
      "1029:\tlearn: 0.9806677\ttotal: 27s\tremaining: 52.4ms\n",
      "1030:\tlearn: 0.9806328\ttotal: 27s\tremaining: 26.2ms\n",
      "1031:\tlearn: 0.9806677\ttotal: 27s\tremaining: 0us\n"
     ]
    }
   ],
   "source": [
    "category_cols = ['contact', 'contact_date', 'poutcome']\n",
    "\n",
    "# initialize the tunned model\n",
    "cat_model_filtered = CatBoostClassifier(**best_params, cat_features=category_cols)\n",
    "\n",
    "# and retrain the model on the filtered dataset\n",
    "cat_model_filtered.fit(X_train_filtered, y_train)\n",
    "\n",
    "# lets make predictions\n",
    "y_pred_filtered = cat_model_filtered.predict(X_test_filtered)"
   ]
  },
  {
   "cell_type": "markdown",
   "id": "3213126b-2445-409b-af33-1c79347bc6af",
   "metadata": {},
   "source": [
    "## Model Evaluation"
   ]
  },
  {
   "cell_type": "markdown",
   "id": "c84724bf-cfc6-4c72-aaf9-8681e9ebb9e2",
   "metadata": {},
   "source": [
    "### Classification report:"
   ]
  },
  {
   "cell_type": "code",
   "execution_count": 221,
   "id": "ff9125c9-d863-4c1b-b267-e627c62b9954",
   "metadata": {},
   "outputs": [
    {
     "name": "stdout",
     "output_type": "stream",
     "text": [
      "              precision    recall  f1-score   support\n",
      "\n",
      "          No       0.95      0.94      0.94      7635\n",
      "         Yes       0.57      0.64      0.60      1004\n",
      "\n",
      "    accuracy                           0.90      8639\n",
      "   macro avg       0.76      0.79      0.77      8639\n",
      "weighted avg       0.91      0.90      0.90      8639\n",
      "\n"
     ]
    }
   ],
   "source": [
    "filtered_report = classification_report(y_test, y_pred_filtered, target_names=[\"No\", \"Yes\"])\n",
    "print(filtered_report)"
   ]
  },
  {
   "cell_type": "markdown",
   "id": "53be8e09-398a-463e-8336-1df36f84abfc",
   "metadata": {},
   "source": [
    "Significant improvement in Recall, meaning we’re catching more of the true positives!"
   ]
  },
  {
   "cell_type": "markdown",
   "id": "bcc21b23-df30-4ea1-a165-0e45ded87273",
   "metadata": {},
   "source": [
    "### ROC curve:"
   ]
  },
  {
   "cell_type": "code",
   "execution_count": 225,
   "id": "d72d43be-6e95-4b6c-9120-941dabdce6ac",
   "metadata": {},
   "outputs": [
    {
     "data": {
      "image/png": "[encoded data removed]",
      "text/plain": [
       "<Figure size 800x600 with 1 Axes>"
      ]
     },
     "metadata": {},
     "output_type": "display_data"
    }
   ],
   "source": [
    "# get predicted probabilities for the filtered model\n",
    "y_test_proba_filtered = cat_model_filtered.predict_proba(X_test_filtered)[:, 1]\n",
    "\n",
    "# ROC AUC score\n",
    "auc_score_filtered = roc_auc_score(y_test, y_test_proba_filtered)\n",
    "\n",
    "# ROC curve\n",
    "fpr_filtered, tpr_filtered, _ = roc_curve(y_test, y_test_proba_filtered)\n",
    "\n",
    "# plot\n",
    "plt.figure(figsize=(8, 6))\n",
    "plt.plot(fpr_filtered, tpr_filtered, color='blue', lw=2, label=f'ROC curve (AUC = {auc_score_filtered:.4f})')\n",
    "plt.plot([0, 1], [0, 1], color='grey', lw=2, linestyle='--')\n",
    "plt.xlim([0.0, 1.0])\n",
    "plt.ylim([0.0, 1.05])\n",
    "plt.xlabel('False Positive Rate')\n",
    "plt.ylabel('True Positive Rate')\n",
    "plt.title('Receiver Operating Characteristic (Filtered Model)')\n",
    "plt.legend(loc=\"lower right\")\n",
    "plt.show()"
   ]
  },
  {
   "cell_type": "markdown",
   "id": "1576e736-0b55-46b5-aa59-93e722b7f4e8",
   "metadata": {},
   "source": [
    "Basically the same!"
   ]
  },
  {
   "cell_type": "code",
   "execution_count": null,
   "id": "4780aceb-744c-488e-a629-bbf26150e641",
   "metadata": {},
   "outputs": [],
   "source": []
  },
  {
   "cell_type": "markdown",
   "id": "f5263166-8d7f-45b9-8849-674499d08aed",
   "metadata": {},
   "source": [
    "### Confusion matrix:"
   ]
  },
  {
   "cell_type": "code",
   "execution_count": 230,
   "id": "c52dee6b-a8c5-4c6b-a0d3-32d4689f7222",
   "metadata": {},
   "outputs": [
    {
     "data": {
      "image/png": "[encoded data removed]",
      "text/plain": [
       "<Figure size 800x600 with 2 Axes>"
      ]
     },
     "metadata": {},
     "output_type": "display_data"
    }
   ],
   "source": [
    "# make predictions\n",
    "y_pred_filtered = cat_model_filtered.predict(X_test_filtered)\n",
    "\n",
    "# confusion matrix (filtered)\n",
    "cm_filtered = confusion_matrix(y_test, y_pred_filtered)\n",
    "\n",
    "# Plot the confusion matrix\n",
    "plt.figure(figsize=(8, 6))\n",
    "sns.heatmap(cm_filtered, annot=True, fmt='d', cmap='Blues', xticklabels=[\"0\", \"1\"], yticklabels=[\"0\", \"1\"])\n",
    "plt.xlabel('Predicted Labels')\n",
    "plt.ylabel('True Labels')\n",
    "plt.title('Confusion Matrix (Filtered Model)')\n",
    "plt.show()"
   ]
  },
  {
   "cell_type": "markdown",
   "id": "d5cdaa3b-07f9-4fd5-b610-621b0068a5ab",
   "metadata": {},
   "source": [
    "The filtered model shows a clear improvement in identifying the \"Yes\" class, with more true positives successfully captured. However, there is a trade-off, as some true negatives are now misclassified."
   ]
  },
  {
   "cell_type": "markdown",
   "id": "08a1dc60-5037-4b47-868c-fe84f5553717",
   "metadata": {},
   "source": [
    "# Summary"
   ]
  },
  {
   "cell_type": "markdown",
   "id": "65a8acf1-e947-457d-be8b-f55c717629e7",
   "metadata": {},
   "source": [
    "After filtering and parameter tuning, our model shows a balance between precision and recall, especially for subscribers (\"Yes\"). The **accuracy decreased to 85%**, reflecting the trade-off for better handling of imbalanced classes. Precision for \"Yes\" is **42%**, meaning the model's predictions for subscribers often include false positives. However, the recall improved significantly to **76%**, showing that the model captures more true subscribers, which is crucial for identifying valuable leads. For non-subscribers (\"No\"), the model maintains high precision (**96%**) and a decent recall (**86%**). The AUC score of **0.9022** confirms the model's overall ability to separate the classes effectively. While true negatives dominate, reducing false negatives remains a priority to increase campaign efficiency and maximize potential conversions."
   ]
  }
 ],
 "metadata": {
  "kernelspec": {
   "display_name": "Python (catboost_env)",
   "language": "python",
   "name": "catboost_env"
  },
  "language_info": {
   "codemirror_mode": {
    "name": "ipython",
    "version": 3
   },
   "file_extension": ".py",
   "mimetype": "text/x-python",
   "name": "python",
   "nbconvert_exporter": "python",
   "pygments_lexer": "ipython3",
   "version": "3.11.5"
  }
 },
 "nbformat": 4,
 "nbformat_minor": 5
}
