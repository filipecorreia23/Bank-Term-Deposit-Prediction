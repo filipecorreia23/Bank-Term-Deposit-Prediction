{
 "cells": [
  {
   "cell_type": "code",
   "execution_count": 3,
   "metadata": {},
   "outputs": [],
   "source": [
    "import pandas as pd\n",
    "import numpy as np\n",
    "import matplotlib.pyplot as plt\n",
    "import seaborn as sns\n",
    "\n",
    "import warnings\n",
    "warnings.filterwarnings('ignore')"
   ]
  },
  {
   "cell_type": "markdown",
   "metadata": {},
   "source": [
    "# Data Loading"
   ]
  },
  {
   "cell_type": "code",
   "execution_count": 6,
   "metadata": {},
   "outputs": [
    {
     "name": "stdout",
     "output_type": "stream",
     "text": [
      "(34554, 13) (8639, 13)\n",
      "(34554, 1) (8639, 1)\n"
     ]
    }
   ],
   "source": [
    "base_url = \"https://raw.githubusercontent.com/filipecorreia23/Bank-Term-Deposit-Prediction/main/output\"\n",
    "\n",
    "# importing datasets\n",
    "X_train = pd.read_csv(f\"{base_url}/X_train.csv\")\n",
    "X_test = pd.read_csv(f\"{base_url}/X_test.csv\")\n",
    "y_train = pd.read_csv(f\"{base_url}/y_train.csv\")\n",
    "y_test = pd.read_csv(f\"{base_url}/y_test.csv\")\n",
    "\n",
    "print(X_train.shape, X_test.shape)\n",
    "print(y_train.shape,y_test.shape)"
   ]
  },
  {
   "cell_type": "markdown",
   "metadata": {},
   "source": [
    "During the dataset adjustment and EDA phases, we made significant preparations to simplify the data. This included dropping irrelevant features, combining others for simplification (day + month), and addressing missing values. As a result, our feature engineering process will focus on refining and finalizing the dataset rather than making major changes. While addressing imbalanced data, we experimented with SMOTE-based techniques to enhance minority class representation this feature engineering part. However, this approach led to overfitting (boosting models are sensitive to this), so we decided to handle the class imbalance directly within the model using strategies like class weighting/tunning. As a result, our feature engineering will focus on refining the dataset while relying on the model to address the imbalance effectively."
   ]
  },
  {
   "cell_type": "markdown",
   "metadata": {},
   "source": [
    "# Feature Engineering"
   ]
  },
  {
   "cell_type": "markdown",
   "metadata": {},
   "source": [
    "## Additional Features\n",
    "1. `customer_value_score`:"
   ]
  },
  {
   "cell_type": "markdown",
   "metadata": {},
   "source": [
    "First, let’s create a column named `customer_value_score` based on balance, previous campaign contacts, and penalties for active loans. This acts like a credit score, giving the model a clear perspective on customer value and helping it do a better job at predicting subscribers. It’s a simple way to give the model a smarter starting point!"
   ]
  },
  {
   "cell_type": "code",
   "execution_count": 12,
   "metadata": {},
   "outputs": [],
   "source": [
    "# Calculation of customer value score \n",
    "total_loans = X_train.apply(lambda x: int(x['housing'] == 'yes') + int(x['loan'] == 'yes'), axis=1)\n",
    "X_train['customer_value_score'] = X_train['balance'] * (1 + X_train['previous']) - (total_loans * 1000)\n",
    "\n",
    "total_loans = X_test.apply(lambda x: int(x['housing'] == 'yes') + int(x['loan'] == 'yes'), axis=1)\n",
    "X_test['customer_value_score'] = X_test['balance'] * (1 + X_test['previous']) - (total_loans * 1000)"
   ]
  },
  {
   "cell_type": "markdown",
   "metadata": {},
   "source": [
    "**`balance * (1 + X_train['previous'])`**:\n",
    "\n",
    "- This amplifies the effect of a client's balance by factoring in their past engagement (`previous contacts`). The idea is that clients with higher balances and a history of interactions are more likely to be valuable. This matches real life—customers with more money and more engagement are usually more valuable.\n",
    "\n",
    "**`total_loans * 1000`**:  \n",
    "-  Subtracting 1000 for each loan reflects the assumption that customers with active loans may have less disposable income, lowering their overall value. This penalty adjusts the score to account for financial commitments.\n",
    "\n",
    "### Overall Purpose\n",
    "The formula balances **wealth** (balance and past interactions) with **financial constraints** (active loans), creating a dynamic `customer_value_score`. This score provides a nuanced measure of customer value to help the model prioritize patterns and improve predictions."
   ]
  },
  {
   "cell_type": "markdown",
   "metadata": {},
   "source": [
    "### Lets check the distribution of `customer_value_score` column:"
   ]
  },
  {
   "cell_type": "code",
   "execution_count": 16,
   "metadata": {},
   "outputs": [
    {
     "data": {
      "image/png": "[encoded data removed]",
      "text/plain": [
       "<Figure size 640x480 with 1 Axes>"
      ]
     },
     "metadata": {},
     "output_type": "display_data"
    }
   ],
   "source": [
    "sns.histplot(X_train['customer_value_score'], kde=True)\n",
    "plt.xlim(0, X_train['customer_value_score'].quantile(0.98))\n",
    "plt.show()"
   ]
  },
  {
   "cell_type": "markdown",
   "metadata": {},
   "source": [
    "To deal with skewness, lets apply log transformation and check whether it helped compress the skewness."
   ]
  },
  {
   "cell_type": "markdown",
   "metadata": {},
   "source": [
    "Looks better now!"
   ]
  },
  {
   "cell_type": "markdown",
   "metadata": {},
   "source": [
    "2. `estimated_income`:\n",
    "\n",
    "It also seems reasonable to create an `estimated_income` variable since it shows a customers financial situation.\n",
    "\n",
    "The feature will be based on their job, education, balance and loans because:\n",
    "\n",
    "- `balance`: A higher balance likely indicates higher financial stability or disposable income, so using it as a base is logical.\n",
    "- `job`: Assigning weights based on job ranking reflects the assumption that certain jobs are typically associated with higher income levels (e.g., management, blue-collar work, etc).\n",
    "- `education`: Higher education levels often correlate with higher earning potential, making this a valid inclusion as well.\n",
    "- Loans (`housing` and `personal`): Penalizing for loans acknowledges that clients with loans may have less disposable income, which could affect their financial health."
   ]
  },
  {
   "cell_type": "code",
   "execution_count": 21,
   "metadata": {},
   "outputs": [],
   "source": [
    "# Job ranking\n",
    "job_ranking = {\n",
    "    'management': 5, 'admin.': 4, 'technician': 4, 'entrepreneur': 4, \n",
    "    'blue-collar': 3, 'services': 3, 'self-employed': 4, 'retired': 2, \n",
    "    'student': 1, 'unemployed': 1, 'housemaid': 2, 'unknown': 1\n",
    "}\n",
    "\n",
    "# Education ranking\n",
    "education_ranking = {\n",
    "    'tertiary': 3,  # University level\n",
    "    'secondary': 2,  # High school level\n",
    "    'primary': 1,  # Primary school level\n",
    "    'unknown': 1  # Unknown education level\n",
    "}\n",
    "\n",
    "# proxy feature for loans (both housing and personal loan)\n",
    "total_loans = X_train.apply(lambda x: int(x['housing'] == 'yes') + int(x['loan'] == 'yes'), axis=1)\n",
    "\n",
    "# Calculating estimated income using balance, job, education, and loans\n",
    "X_train['estimated_income'] = (\n",
    "    X_train['balance'] * 1 +  # Balance weight\n",
    "    X_train['job'].map(job_ranking) * 5000 +  # Job weight\n",
    "    X_train['education'].map(education_ranking) * 1000  # Education weight\n",
    "    - total_loans * 1000  # Loan penalty\n",
    ")"
   ]
  },
  {
   "cell_type": "code",
   "execution_count": 23,
   "metadata": {},
   "outputs": [],
   "source": [
    "# lets repeat the same for the test set\n",
    "total_loans = X_test.apply(lambda x: int(x['housing'] == 'yes') + int(x['loan'] == 'yes'), axis=1)\n",
    "\n",
    "# Calculating estimated income using balance, job, education, and loans\n",
    "X_test['estimated_income'] = (\n",
    "    X_test['balance'] * 1 +  # Balance weight\n",
    "    X_test['job'].map(job_ranking) * 5000 +  # Job weight\n",
    "    X_test['education'].map(education_ranking) * 1000 # Education weight\n",
    "    - total_loans * 1000  # Loan penalty\n",
    ")"
   ]
  },
  {
   "cell_type": "markdown",
   "metadata": {},
   "source": [
    "The weights (`1000`, `1000`, and `5000`) reflect logical assumptions about income factors:\n",
    "\n",
    "- **`Job Ranking`**: Jobs strongly influence income, so they get the highest weight.  \n",
    "- **`Education`**: Education affects earning potential but less directly, so it has a smaller weight.  \n",
    "- **`Loans`**: A penalty of 1000 per loan accounts for reduced disposable income.\n",
    "\n",
    "These weights are intuitive and provide a simple, interpretable starting point. They balance practicality with reasonable assumptions and can be refined later if needed.  "
   ]
  },
  {
   "cell_type": "markdown",
   "metadata": {},
   "source": [
    "### Lets check the distribution of `estimated_income` column:"
   ]
  },
  {
   "cell_type": "code",
   "execution_count": 27,
   "metadata": {},
   "outputs": [
    {
     "data": {
      "image/png": "[encoded data removed]",
      "text/plain": [
       "<Figure size 640x480 with 1 Axes>"
      ]
     },
     "metadata": {},
     "output_type": "display_data"
    }
   ],
   "source": [
    "# Lets examine the distribution of 'estimated_income' column\n",
    "sns.histplot(X_train['estimated_income'], kde=True)\n",
    "plt.xlim(0, X_train['estimated_income'].quantile(0.998))\n",
    "plt.show()"
   ]
  },
  {
   "cell_type": "markdown",
   "metadata": {},
   "source": [
    "The chart shows multiple peaks, meaning there are distinct groups in the data, like different income levels. There’s a slight right skew (higher incomes are less common), but it’s not extreme. A log transform isn’t needed right now since the data looks manageable and the group patterns are clear."
   ]
  },
  {
   "cell_type": "markdown",
   "metadata": {},
   "source": [
    "### 3. Let’s create some more features:"
   ]
  },
  {
   "cell_type": "code",
   "execution_count": 31,
   "metadata": {},
   "outputs": [],
   "source": [
    "# Balance per contact\n",
    "# This feature looks at how much balance a customer has compared \n",
    "# to how often they’ve been contacted in previous campaigns.\n",
    "X_train['balance_per_contact'] = X_train['balance'] / (1 + X_train['previous'])\n",
    "\n",
    "# Age-to-balance ratio\n",
    "# This feature compares balance to age, highlighting \n",
    "# financial behavior at different life stages.\n",
    "X_train['age_balance_ratio'] = X_train['balance'] / (1 + X_train['age'])\n",
    "\n",
    "# same for test\n",
    "X_test['balance_per_contact'] = X_test['balance'] / (1 + X_test['previous'])\n",
    "X_test['age_balance_ratio'] = X_test['balance'] / (1 + X_test['age'])"
   ]
  },
  {
   "cell_type": "code",
   "execution_count": 33,
   "metadata": {},
   "outputs": [
    {
     "data": {
      "image/png": "[encoded data removed]",
      "text/plain": [
       "<Figure size 1200x600 with 2 Axes>"
      ]
     },
     "metadata": {},
     "output_type": "display_data"
    }
   ],
   "source": [
    "fig, axes = plt.subplots(1, 2, figsize=(12, 6))\n",
    "\n",
    "# age-balance ratio\n",
    "sns.histplot(X_train['age_balance_ratio'], kde=True, ax=axes[0]).set(\n",
    "    xlim=(0, X_train['age_balance_ratio'].quantile(0.998)),\n",
    "    title=\"Age-Balance Ratio\", xlabel=\"Ratio\", ylabel=\"Frequency\"\n",
    ")\n",
    "\n",
    "# balance per contact\n",
    "sns.histplot(X_train['balance_per_contact'], kde=True, ax=axes[1]).set(\n",
    "    xlim=(0, X_train['balance_per_contact'].quantile(0.998)),\n",
    "    title=\"Balance per Contact\", xlabel=\"Balance/Contact\", ylabel=\"Frequency\"\n",
    ")\n",
    "\n",
    "plt.tight_layout()\n",
    "plt.show()"
   ]
  },
  {
   "cell_type": "markdown",
   "metadata": {},
   "source": [
    "## Log-tranformation"
   ]
  },
  {
   "cell_type": "code",
   "execution_count": 36,
   "metadata": {},
   "outputs": [
    {
     "data": {
      "image/png": "[encoded data removed]",
      "text/plain": [
       "<Figure size 1000x800 with 1 Axes>"
      ]
     },
     "metadata": {},
     "output_type": "display_data"
    }
   ],
   "source": [
    "# log transformation\n",
    "X_train['duration'] = np.log(X_train['duration']+1)\n",
    "X_test['duration'] = np.log(X_test['duration']+1)\n",
    "\n",
    "# plot histogram\n",
    "X_train['duration'].hist(bins=30, figsize=(10, 8))\n",
    "plt.suptitle(\"Distribution of Duration After Log Transformation\")\n",
    "plt.show()"
   ]
  },
  {
   "cell_type": "markdown",
   "metadata": {},
   "source": [
    "## Binning to create additional features\n",
    "\n",
    "We’re grouping continuous variables like `age` and `previous` into categories (or \"bins\") to better capture patterns that might not be linear. Here’s why:\n",
    "\n",
    "- **For `age`**: We’re dividing ages into groups (e.g., Young, Middle-aged, Senior, Elderly) based on the same idea we explored in the EDA—different age groups may have different financial situations or behaviors, like disposable income. Younger clients might behave very differently from older ones, and these bins help the model pick up on those patterns.\n",
    "\n",
    "- **For `previous`**: We’re creating bins (e.g., none, low, medium, high) to reflect client engagement in past campaigns. For example, someone with no previous contacts (`none`) might behave very differently from someone with high engagement (`high`). This distinction helps the model understand how past behavior impacts the likelihood of subscribing.\n",
    "\n",
    "By binning, we make these variables more interpretable and easier for the model to use, while also capturing important group-specific trends!"
   ]
  },
  {
   "cell_type": "code",
   "execution_count": 39,
   "metadata": {},
   "outputs": [],
   "source": [
    "# Binning \n",
    "X_train['age_bin'] = pd.cut(X_train['age'], bins=[18, 30, 50, 70,X_train['age'].max()], labels=['Young', 'Middle-aged', 'Senior', 'Elderly'])\n",
    "X_train['previous_bin'] = pd.cut(X_train['previous'], bins=[-1, 0, 2, 5, np.inf], labels=['none', 'low', 'medium', 'high'])\n",
    "\n",
    "X_test['age_bin'] = pd.cut(X_test['age'], bins=[18, 30, 50, 70,X_test['age'].max()], labels=['Young', 'Middle-aged', 'Senior', 'Elderly'])\n",
    "X_test['previous_bin'] = pd.cut(X_test['previous'], bins=[-1, 0, 2, 5, np.inf], labels=['none', 'low', 'medium', 'high'])"
   ]
  },
  {
   "cell_type": "markdown",
   "metadata": {},
   "source": [
    "Lets add another one for days since last contact:"
   ]
  },
  {
   "cell_type": "code",
   "execution_count": 42,
   "metadata": {},
   "outputs": [
    {
     "data": {
      "text/plain": [
       "last_contact_days_bin\n",
       "no contact       28181\n",
       "long ago          5343\n",
       "very long ago      491\n",
       "moderate           401\n",
       "recent             138\n",
       "Name: count, dtype: int64"
      ]
     },
     "execution_count": 42,
     "metadata": {},
     "output_type": "execute_result"
    }
   ],
   "source": [
    "# Binning 'pdays' into categories:\n",
    "# - 'no contact': No prior contact (-1).\n",
    "# - 'recent': Contacted within the last month.\n",
    "# - 'moderate': Contacted between 1 to 3 months.\n",
    "# - 'long ago': Contacted between 3 to 6 months.\n",
    "# - 'very long ago': Contacted over a year ago.\n",
    "\n",
    "X_train['adjusted_pdays'] = X_train['pdays'].replace(-1, -999)\n",
    "X_test['adjusted_pdays'] = X_test['pdays'].replace(-1, -999)\n",
    "\n",
    "bins = [-1000, 0, 30, 90, 365, X_train['pdays'].max()]\n",
    "labels = ['no contact', 'recent', 'moderate', 'long ago', 'very long ago']\n",
    "\n",
    "X_train['last_contact_days_bin'] = pd.cut(X_train['adjusted_pdays'], bins=bins, labels=labels)\n",
    "X_test['last_contact_days_bin'] = pd.cut(X_test['adjusted_pdays'], bins=bins, labels=labels)\n",
    "\n",
    "X_train.drop(columns=['adjusted_pdays'], inplace=True)\n",
    "X_test.drop(columns=['adjusted_pdays'], inplace=True)\n",
    "\n",
    "X_train['last_contact_days_bin'].value_counts()"
   ]
  },
  {
   "cell_type": "markdown",
   "metadata": {},
   "source": [
    "# Let's review the transformed data and export it."
   ]
  },
  {
   "cell_type": "code",
   "execution_count": 44,
   "metadata": {},
   "outputs": [
    {
     "data": {
      "text/html": [
       "<div>\n",
       "<style scoped>\n",
       "    .dataframe tbody tr th:only-of-type {\n",
       "        vertical-align: middle;\n",
       "    }\n",
       "\n",
       "    .dataframe tbody tr th {\n",
       "        vertical-align: top;\n",
       "    }\n",
       "\n",
       "    .dataframe thead th {\n",
       "        text-align: right;\n",
       "    }\n",
       "</style>\n",
       "<table border=\"1\" class=\"dataframe\">\n",
       "  <thead>\n",
       "    <tr style=\"text-align: right;\">\n",
       "      <th></th>\n",
       "      <th>age</th>\n",
       "      <th>job</th>\n",
       "      <th>marital</th>\n",
       "      <th>education</th>\n",
       "      <th>balance</th>\n",
       "      <th>housing</th>\n",
       "      <th>loan</th>\n",
       "      <th>contact</th>\n",
       "      <th>duration</th>\n",
       "      <th>pdays</th>\n",
       "      <th>previous</th>\n",
       "      <th>poutcome</th>\n",
       "      <th>contact_date</th>\n",
       "      <th>customer_value_score</th>\n",
       "      <th>estimated_income</th>\n",
       "      <th>balance_per_contact</th>\n",
       "      <th>age_balance_ratio</th>\n",
       "      <th>age_bin</th>\n",
       "      <th>previous_bin</th>\n",
       "      <th>last_contact_days_bin</th>\n",
       "    </tr>\n",
       "  </thead>\n",
       "  <tbody>\n",
       "    <tr>\n",
       "      <th>0</th>\n",
       "      <td>55</td>\n",
       "      <td>blue-collar</td>\n",
       "      <td>married</td>\n",
       "      <td>secondary</td>\n",
       "      <td>16873</td>\n",
       "      <td>0</td>\n",
       "      <td>0</td>\n",
       "      <td>cellular</td>\n",
       "      <td>4.369448</td>\n",
       "      <td>-1</td>\n",
       "      <td>0</td>\n",
       "      <td>other</td>\n",
       "      <td>1-jun</td>\n",
       "      <td>16873</td>\n",
       "      <td>33873</td>\n",
       "      <td>16873.0</td>\n",
       "      <td>301.303571</td>\n",
       "      <td>Senior</td>\n",
       "      <td>none</td>\n",
       "      <td>no contact</td>\n",
       "    </tr>\n",
       "    <tr>\n",
       "      <th>1</th>\n",
       "      <td>34</td>\n",
       "      <td>technician</td>\n",
       "      <td>married</td>\n",
       "      <td>secondary</td>\n",
       "      <td>4</td>\n",
       "      <td>1</td>\n",
       "      <td>0</td>\n",
       "      <td>cellular</td>\n",
       "      <td>4.663439</td>\n",
       "      <td>263</td>\n",
       "      <td>1</td>\n",
       "      <td>failure</td>\n",
       "      <td>2-feb</td>\n",
       "      <td>8</td>\n",
       "      <td>22004</td>\n",
       "      <td>2.0</td>\n",
       "      <td>0.114286</td>\n",
       "      <td>Middle-aged</td>\n",
       "      <td>low</td>\n",
       "      <td>long ago</td>\n",
       "    </tr>\n",
       "    <tr>\n",
       "      <th>2</th>\n",
       "      <td>40</td>\n",
       "      <td>admin.</td>\n",
       "      <td>married</td>\n",
       "      <td>secondary</td>\n",
       "      <td>451</td>\n",
       "      <td>1</td>\n",
       "      <td>1</td>\n",
       "      <td>unknown</td>\n",
       "      <td>5.552960</td>\n",
       "      <td>-1</td>\n",
       "      <td>0</td>\n",
       "      <td>other</td>\n",
       "      <td>29-may</td>\n",
       "      <td>451</td>\n",
       "      <td>22451</td>\n",
       "      <td>451.0</td>\n",
       "      <td>11.000000</td>\n",
       "      <td>Middle-aged</td>\n",
       "      <td>none</td>\n",
       "      <td>no contact</td>\n",
       "    </tr>\n",
       "    <tr>\n",
       "      <th>3</th>\n",
       "      <td>29</td>\n",
       "      <td>services</td>\n",
       "      <td>single</td>\n",
       "      <td>secondary</td>\n",
       "      <td>-142</td>\n",
       "      <td>1</td>\n",
       "      <td>0</td>\n",
       "      <td>unknown</td>\n",
       "      <td>4.948760</td>\n",
       "      <td>-1</td>\n",
       "      <td>0</td>\n",
       "      <td>other</td>\n",
       "      <td>16-may</td>\n",
       "      <td>-142</td>\n",
       "      <td>16858</td>\n",
       "      <td>-142.0</td>\n",
       "      <td>-4.733333</td>\n",
       "      <td>Young</td>\n",
       "      <td>none</td>\n",
       "      <td>no contact</td>\n",
       "    </tr>\n",
       "    <tr>\n",
       "      <th>4</th>\n",
       "      <td>51</td>\n",
       "      <td>technician</td>\n",
       "      <td>divorced</td>\n",
       "      <td>secondary</td>\n",
       "      <td>131</td>\n",
       "      <td>1</td>\n",
       "      <td>0</td>\n",
       "      <td>cellular</td>\n",
       "      <td>5.267858</td>\n",
       "      <td>-1</td>\n",
       "      <td>0</td>\n",
       "      <td>other</td>\n",
       "      <td>18-nov</td>\n",
       "      <td>131</td>\n",
       "      <td>22131</td>\n",
       "      <td>131.0</td>\n",
       "      <td>2.519231</td>\n",
       "      <td>Senior</td>\n",
       "      <td>none</td>\n",
       "      <td>no contact</td>\n",
       "    </tr>\n",
       "  </tbody>\n",
       "</table>\n",
       "</div>"
      ],
      "text/plain": [
       "   age          job   marital  education  balance  housing  loan   contact  \\\n",
       "0   55  blue-collar   married  secondary    16873        0     0  cellular   \n",
       "1   34   technician   married  secondary        4        1     0  cellular   \n",
       "2   40       admin.   married  secondary      451        1     1   unknown   \n",
       "3   29     services    single  secondary     -142        1     0   unknown   \n",
       "4   51   technician  divorced  secondary      131        1     0  cellular   \n",
       "\n",
       "   duration  pdays  previous poutcome contact_date  customer_value_score  \\\n",
       "0  4.369448     -1         0    other        1-jun                 16873   \n",
       "1  4.663439    263         1  failure        2-feb                     8   \n",
       "2  5.552960     -1         0    other       29-may                   451   \n",
       "3  4.948760     -1         0    other       16-may                  -142   \n",
       "4  5.267858     -1         0    other       18-nov                   131   \n",
       "\n",
       "   estimated_income  balance_per_contact  age_balance_ratio      age_bin  \\\n",
       "0             33873              16873.0         301.303571       Senior   \n",
       "1             22004                  2.0           0.114286  Middle-aged   \n",
       "2             22451                451.0          11.000000  Middle-aged   \n",
       "3             16858               -142.0          -4.733333        Young   \n",
       "4             22131                131.0           2.519231       Senior   \n",
       "\n",
       "  previous_bin last_contact_days_bin  \n",
       "0         none            no contact  \n",
       "1          low              long ago  \n",
       "2         none            no contact  \n",
       "3         none            no contact  \n",
       "4         none            no contact  "
      ]
     },
     "execution_count": 44,
     "metadata": {},
     "output_type": "execute_result"
    }
   ],
   "source": [
    "X_train.head()"
   ]
  },
  {
   "cell_type": "code",
   "execution_count": 46,
   "metadata": {},
   "outputs": [
    {
     "data": {
      "text/html": [
       "<div>\n",
       "<style scoped>\n",
       "    .dataframe tbody tr th:only-of-type {\n",
       "        vertical-align: middle;\n",
       "    }\n",
       "\n",
       "    .dataframe tbody tr th {\n",
       "        vertical-align: top;\n",
       "    }\n",
       "\n",
       "    .dataframe thead th {\n",
       "        text-align: right;\n",
       "    }\n",
       "</style>\n",
       "<table border=\"1\" class=\"dataframe\">\n",
       "  <thead>\n",
       "    <tr style=\"text-align: right;\">\n",
       "      <th></th>\n",
       "      <th>age</th>\n",
       "      <th>job</th>\n",
       "      <th>marital</th>\n",
       "      <th>education</th>\n",
       "      <th>balance</th>\n",
       "      <th>housing</th>\n",
       "      <th>loan</th>\n",
       "      <th>contact</th>\n",
       "      <th>duration</th>\n",
       "      <th>pdays</th>\n",
       "      <th>previous</th>\n",
       "      <th>poutcome</th>\n",
       "      <th>contact_date</th>\n",
       "      <th>customer_value_score</th>\n",
       "      <th>estimated_income</th>\n",
       "      <th>balance_per_contact</th>\n",
       "      <th>age_balance_ratio</th>\n",
       "      <th>age_bin</th>\n",
       "      <th>previous_bin</th>\n",
       "      <th>last_contact_days_bin</th>\n",
       "    </tr>\n",
       "  </thead>\n",
       "  <tbody>\n",
       "    <tr>\n",
       "      <th>0</th>\n",
       "      <td>23</td>\n",
       "      <td>student</td>\n",
       "      <td>single</td>\n",
       "      <td>secondary</td>\n",
       "      <td>0</td>\n",
       "      <td>0</td>\n",
       "      <td>0</td>\n",
       "      <td>cellular</td>\n",
       "      <td>5.384495</td>\n",
       "      <td>99</td>\n",
       "      <td>7</td>\n",
       "      <td>success</td>\n",
       "      <td>7-aug</td>\n",
       "      <td>0</td>\n",
       "      <td>7000</td>\n",
       "      <td>0.0</td>\n",
       "      <td>0.000000</td>\n",
       "      <td>Young</td>\n",
       "      <td>high</td>\n",
       "      <td>long ago</td>\n",
       "    </tr>\n",
       "    <tr>\n",
       "      <th>1</th>\n",
       "      <td>28</td>\n",
       "      <td>admin.</td>\n",
       "      <td>single</td>\n",
       "      <td>secondary</td>\n",
       "      <td>1842</td>\n",
       "      <td>1</td>\n",
       "      <td>0</td>\n",
       "      <td>cellular</td>\n",
       "      <td>4.532599</td>\n",
       "      <td>-1</td>\n",
       "      <td>0</td>\n",
       "      <td>other</td>\n",
       "      <td>4-may</td>\n",
       "      <td>1842</td>\n",
       "      <td>23842</td>\n",
       "      <td>1842.0</td>\n",
       "      <td>63.517241</td>\n",
       "      <td>Young</td>\n",
       "      <td>none</td>\n",
       "      <td>no contact</td>\n",
       "    </tr>\n",
       "    <tr>\n",
       "      <th>2</th>\n",
       "      <td>32</td>\n",
       "      <td>admin.</td>\n",
       "      <td>single</td>\n",
       "      <td>secondary</td>\n",
       "      <td>1291</td>\n",
       "      <td>1</td>\n",
       "      <td>0</td>\n",
       "      <td>cellular</td>\n",
       "      <td>4.709530</td>\n",
       "      <td>-1</td>\n",
       "      <td>0</td>\n",
       "      <td>other</td>\n",
       "      <td>23-jul</td>\n",
       "      <td>1291</td>\n",
       "      <td>23291</td>\n",
       "      <td>1291.0</td>\n",
       "      <td>39.121212</td>\n",
       "      <td>Middle-aged</td>\n",
       "      <td>none</td>\n",
       "      <td>no contact</td>\n",
       "    </tr>\n",
       "    <tr>\n",
       "      <th>3</th>\n",
       "      <td>45</td>\n",
       "      <td>blue-collar</td>\n",
       "      <td>married</td>\n",
       "      <td>secondary</td>\n",
       "      <td>2603</td>\n",
       "      <td>1</td>\n",
       "      <td>1</td>\n",
       "      <td>cellular</td>\n",
       "      <td>5.463832</td>\n",
       "      <td>-1</td>\n",
       "      <td>0</td>\n",
       "      <td>other</td>\n",
       "      <td>7-aug</td>\n",
       "      <td>2603</td>\n",
       "      <td>19603</td>\n",
       "      <td>2603.0</td>\n",
       "      <td>56.586957</td>\n",
       "      <td>Middle-aged</td>\n",
       "      <td>none</td>\n",
       "      <td>no contact</td>\n",
       "    </tr>\n",
       "    <tr>\n",
       "      <th>4</th>\n",
       "      <td>53</td>\n",
       "      <td>management</td>\n",
       "      <td>married</td>\n",
       "      <td>tertiary</td>\n",
       "      <td>241</td>\n",
       "      <td>1</td>\n",
       "      <td>0</td>\n",
       "      <td>cellular</td>\n",
       "      <td>4.927254</td>\n",
       "      <td>-1</td>\n",
       "      <td>0</td>\n",
       "      <td>other</td>\n",
       "      <td>19-nov</td>\n",
       "      <td>241</td>\n",
       "      <td>28241</td>\n",
       "      <td>241.0</td>\n",
       "      <td>4.462963</td>\n",
       "      <td>Senior</td>\n",
       "      <td>none</td>\n",
       "      <td>no contact</td>\n",
       "    </tr>\n",
       "  </tbody>\n",
       "</table>\n",
       "</div>"
      ],
      "text/plain": [
       "   age          job  marital  education  balance  housing  loan   contact  \\\n",
       "0   23      student   single  secondary        0        0     0  cellular   \n",
       "1   28       admin.   single  secondary     1842        1     0  cellular   \n",
       "2   32       admin.   single  secondary     1291        1     0  cellular   \n",
       "3   45  blue-collar  married  secondary     2603        1     1  cellular   \n",
       "4   53   management  married   tertiary      241        1     0  cellular   \n",
       "\n",
       "   duration  pdays  previous poutcome contact_date  customer_value_score  \\\n",
       "0  5.384495     99         7  success        7-aug                     0   \n",
       "1  4.532599     -1         0    other        4-may                  1842   \n",
       "2  4.709530     -1         0    other       23-jul                  1291   \n",
       "3  5.463832     -1         0    other        7-aug                  2603   \n",
       "4  4.927254     -1         0    other       19-nov                   241   \n",
       "\n",
       "   estimated_income  balance_per_contact  age_balance_ratio      age_bin  \\\n",
       "0              7000                  0.0           0.000000        Young   \n",
       "1             23842               1842.0          63.517241        Young   \n",
       "2             23291               1291.0          39.121212  Middle-aged   \n",
       "3             19603               2603.0          56.586957  Middle-aged   \n",
       "4             28241                241.0           4.462963       Senior   \n",
       "\n",
       "  previous_bin last_contact_days_bin  \n",
       "0         high              long ago  \n",
       "1         none            no contact  \n",
       "2         none            no contact  \n",
       "3         none            no contact  \n",
       "4         none            no contact  "
      ]
     },
     "execution_count": 46,
     "metadata": {},
     "output_type": "execute_result"
    }
   ],
   "source": [
    "X_test.head()"
   ]
  },
  {
   "cell_type": "code",
   "execution_count": 48,
   "metadata": {},
   "outputs": [
    {
     "name": "stdout",
     "output_type": "stream",
     "text": [
      "(34554, 20) (8639, 20)\n"
     ]
    }
   ],
   "source": [
    "print(X_train.shape, X_test.shape)"
   ]
  },
  {
   "cell_type": "code",
   "execution_count": 50,
   "metadata": {},
   "outputs": [
    {
     "name": "stdout",
     "output_type": "stream",
     "text": [
      "Datasets successfully exported as CSV files.\n"
     ]
    }
   ],
   "source": [
    "X_train.to_csv(\"X_train_fe.csv\", index=False)\n",
    "X_test.to_csv(\"X_test_fe.csv\", index=False)\n",
    "\n",
    "print(\"Datasets successfully exported as CSV files.\")"
   ]
  }
 ],
 "metadata": {
  "kernelspec": {
   "display_name": "Python 3 (ipykernel)",
   "language": "python",
   "name": "python3"
  },
  "language_info": {
   "codemirror_mode": {
    "name": "ipython",
    "version": 3
   },
   "file_extension": ".py",
   "mimetype": "text/x-python",
   "name": "python",
   "nbconvert_exporter": "python",
   "pygments_lexer": "ipython3",
   "version": "3.12.7"
  }
 },
 "nbformat": 4,
 "nbformat_minor": 4
}
